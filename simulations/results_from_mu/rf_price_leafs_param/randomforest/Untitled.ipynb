{
 "cells": [
  {
   "cell_type": "code",
   "execution_count": 2,
   "metadata": {
    "collapsed": true
   },
   "outputs": [],
   "source": [
    "import pandas as pd\n",
    "import bokeh\n",
    "from bokeh.charts import BoxPlot"
   ]
  },
  {
   "cell_type": "code",
   "execution_count": 8,
   "metadata": {
    "collapsed": true
   },
   "outputs": [],
   "source": [
    "matrix = pd.read_csv(\"price_againt_leafs.csv\")"
   ]
  },
  {
   "cell_type": "code",
   "execution_count": 9,
   "metadata": {
    "collapsed": false
   },
   "outputs": [
    {
     "data": {
      "text/html": [
       "<div>\n",
       "<table border=\"1\" class=\"dataframe\">\n",
       "  <thead>\n",
       "    <tr style=\"text-align: right;\">\n",
       "      <th></th>\n",
       "      <th>Unnamed: 0</th>\n",
       "      <th>run 1</th>\n",
       "      <th>run 2</th>\n",
       "      <th>run 3</th>\n",
       "      <th>run 4</th>\n",
       "      <th>run 5</th>\n",
       "      <th>run 6</th>\n",
       "      <th>run 7</th>\n",
       "      <th>run 8</th>\n",
       "      <th>run 9</th>\n",
       "      <th>run 10</th>\n",
       "      <th>mean</th>\n",
       "      <th>std</th>\n",
       "      <th>95% confidence interval</th>\n",
       "    </tr>\n",
       "  </thead>\n",
       "  <tbody>\n",
       "    <tr>\n",
       "      <th>0</th>\n",
       "      <td>max_leaf_nodes = 50</td>\n",
       "      <td>7.375</td>\n",
       "      <td>7.218</td>\n",
       "      <td>7.126</td>\n",
       "      <td>7.236</td>\n",
       "      <td>7.294</td>\n",
       "      <td>7.349</td>\n",
       "      <td>7.267</td>\n",
       "      <td>7.317</td>\n",
       "      <td>7.207</td>\n",
       "      <td>7.291</td>\n",
       "      <td>7.2680</td>\n",
       "      <td>0.070019</td>\n",
       "      <td>[7.254,7.282 ]</td>\n",
       "    </tr>\n",
       "    <tr>\n",
       "      <th>1</th>\n",
       "      <td>max_leaf_nodes = 100</td>\n",
       "      <td>7.104</td>\n",
       "      <td>7.087</td>\n",
       "      <td>7.222</td>\n",
       "      <td>7.172</td>\n",
       "      <td>7.211</td>\n",
       "      <td>7.207</td>\n",
       "      <td>7.172</td>\n",
       "      <td>7.329</td>\n",
       "      <td>7.153</td>\n",
       "      <td>7.181</td>\n",
       "      <td>7.1838</td>\n",
       "      <td>0.063870</td>\n",
       "      <td>[7.171,7.196 ]</td>\n",
       "    </tr>\n",
       "    <tr>\n",
       "      <th>2</th>\n",
       "      <td>max_leaf_nodes = 150</td>\n",
       "      <td>7.108</td>\n",
       "      <td>7.211</td>\n",
       "      <td>7.278</td>\n",
       "      <td>7.109</td>\n",
       "      <td>7.326</td>\n",
       "      <td>6.889</td>\n",
       "      <td>7.124</td>\n",
       "      <td>7.092</td>\n",
       "      <td>7.172</td>\n",
       "      <td>7.167</td>\n",
       "      <td>7.1476</td>\n",
       "      <td>0.112873</td>\n",
       "      <td>[7.125,7.17 ]</td>\n",
       "    </tr>\n",
       "    <tr>\n",
       "      <th>3</th>\n",
       "      <td>max_leaf_nodes = 200</td>\n",
       "      <td>7.254</td>\n",
       "      <td>7.223</td>\n",
       "      <td>7.183</td>\n",
       "      <td>7.176</td>\n",
       "      <td>7.162</td>\n",
       "      <td>7.265</td>\n",
       "      <td>7.198</td>\n",
       "      <td>7.231</td>\n",
       "      <td>7.145</td>\n",
       "      <td>7.256</td>\n",
       "      <td>7.2093</td>\n",
       "      <td>0.040299</td>\n",
       "      <td>[7.201,7.217 ]</td>\n",
       "    </tr>\n",
       "    <tr>\n",
       "      <th>4</th>\n",
       "      <td>max_leaf_nodes = 250</td>\n",
       "      <td>7.259</td>\n",
       "      <td>7.154</td>\n",
       "      <td>7.045</td>\n",
       "      <td>7.369</td>\n",
       "      <td>7.114</td>\n",
       "      <td>7.372</td>\n",
       "      <td>7.280</td>\n",
       "      <td>7.269</td>\n",
       "      <td>7.175</td>\n",
       "      <td>7.182</td>\n",
       "      <td>7.2219</td>\n",
       "      <td>0.101231</td>\n",
       "      <td>[7.202,7.242 ]</td>\n",
       "    </tr>\n",
       "  </tbody>\n",
       "</table>\n",
       "</div>"
      ],
      "text/plain": [
       "             Unnamed: 0  run 1  run 2  run 3  run 4  run 5  run 6  run 7  \\\n",
       "0   max_leaf_nodes = 50  7.375  7.218  7.126  7.236  7.294  7.349  7.267   \n",
       "1  max_leaf_nodes = 100  7.104  7.087  7.222  7.172  7.211  7.207  7.172   \n",
       "2  max_leaf_nodes = 150  7.108  7.211  7.278  7.109  7.326  6.889  7.124   \n",
       "3  max_leaf_nodes = 200  7.254  7.223  7.183  7.176  7.162  7.265  7.198   \n",
       "4  max_leaf_nodes = 250  7.259  7.154  7.045  7.369  7.114  7.372  7.280   \n",
       "\n",
       "   run 8  run 9  run 10    mean       std 95% confidence interval  \n",
       "0  7.317  7.207   7.291  7.2680  0.070019          [7.254,7.282 ]  \n",
       "1  7.329  7.153   7.181  7.1838  0.063870          [7.171,7.196 ]  \n",
       "2  7.092  7.172   7.167  7.1476  0.112873           [7.125,7.17 ]  \n",
       "3  7.231  7.145   7.256  7.2093  0.040299          [7.201,7.217 ]  \n",
       "4  7.269  7.175   7.182  7.2219  0.101231          [7.202,7.242 ]  "
      ]
     },
     "execution_count": 9,
     "metadata": {},
     "output_type": "execute_result"
    }
   ],
   "source": [
    "matrix.head(5)"
   ]
  },
  {
   "cell_type": "code",
   "execution_count": 10,
   "metadata": {
    "collapsed": false
   },
   "outputs": [],
   "source": [
    "col = matrix.columns[1:-3]"
   ]
  },
  {
   "cell_type": "code",
   "execution_count": 11,
   "metadata": {
    "collapsed": false
   },
   "outputs": [
    {
     "data": {
      "text/plain": [
       "Index(['run 1', 'run 2', 'run 3', 'run 4', 'run 5', 'run 6', 'run 7', 'run 8',\n",
       "       'run 9', 'run 10'],\n",
       "      dtype='object')"
      ]
     },
     "execution_count": 11,
     "metadata": {},
     "output_type": "execute_result"
    }
   ],
   "source": [
    "col"
   ]
  },
  {
   "cell_type": "code",
   "execution_count": 56,
   "metadata": {
    "collapsed": false
   },
   "outputs": [],
   "source": [
    "transposed = matrix[col].transpose()\n",
    "indices = transposed.columns\n",
    "t = (transposed - 7.15) ** 2"
   ]
  },
  {
   "cell_type": "code",
   "execution_count": 97,
   "metadata": {
    "collapsed": false,
    "scrolled": true
   },
   "outputs": [
    {
     "data": {
      "image/png": "[encoded data removed]",
      "text/plain": [
       "<matplotlib.figure.Figure at 0x273dd60588>"
      ]
     },
     "metadata": {},
     "output_type": "display_data"
    }
   ],
   "source": []
  },
  {
   "cell_type": "code",
   "execution_count": 100,
   "metadata": {
    "collapsed": false
   },
   "outputs": [
    {
     "data": {
      "text/plain": [
       "RangeIndex(start=0, stop=20, step=1)"
      ]
     },
     "execution_count": 100,
     "metadata": {},
     "output_type": "execute_result"
    }
   ],
   "source": [
    "t.columns[0:20]"
   ]
  },
  {
   "cell_type": "code",
   "execution_count": 103,
   "metadata": {
    "collapsed": true
   },
   "outputs": [],
   "source": [
    "x_axis = [i for i in range(50, 1000, 50)]"
   ]
  },
  {
   "cell_type": "code",
   "execution_count": 5,
   "metadata": {
    "collapsed": false
   },
   "outputs": [],
   "source": [
    "import plotly.graph_objs as go\n",
    "from plotly.plotly import iplot\n",
    "import plotly.plotly as py\n",
    "import plotly"
   ]
  },
  {
   "cell_type": "code",
   "execution_count": 132,
   "metadata": {
    "collapsed": false
   },
   "outputs": [],
   "source": [
    "data = [go.Box(y=t[i], name = '{}'.format( (50 * (i + 1)) / 10000)) for i in t.columns[0:50]]"
   ]
  },
  {
   "cell_type": "code",
   "execution_count": 6,
   "metadata": {
    "collapsed": false
   },
   "outputs": [],
   "source": [
    "plotly.tools.set_credentials_file(username='MajdiRabia', api_key='2aDlg90iKqS8ffNRzMuW')\n",
    "py.sign_in('MajdiRabia', '2aDlg90iKqS8ffNRzMuW')"
   ]
  },
  {
   "cell_type": "code",
   "execution_count": 129,
   "metadata": {
    "collapsed": false
   },
   "outputs": [
    {
     "data": {
      "text/plain": [
       "RangeIndex(start=0, stop=199, step=1)"
      ]
     },
     "execution_count": 129,
     "metadata": {},
     "output_type": "execute_result"
    }
   ],
   "source": [
    "t.columns"
   ]
  },
  {
   "cell_type": "code",
   "execution_count": 134,
   "metadata": {
    "collapsed": false
   },
   "outputs": [
    {
     "data": {
      "text/html": [
       "<iframe id=\"igraph\" scrolling=\"no\" style=\"border:none;\" seamless=\"seamless\" src=\"https://plot.ly/~MajdiRabia/8.embed\" height=\"525px\" width=\"100%\"></iframe>"
      ],
      "text/plain": [
       "<plotly.tools.PlotlyDisplay object>"
      ]
     },
     "execution_count": 134,
     "metadata": {},
     "output_type": "execute_result"
    }
   ],
   "source": [
    "iplot(data, title='MSE against N_sim/RF_max_leaf_nodes')"
   ]
  },
  {
   "cell_type": "code",
   "execution_count": null,
   "metadata": {
    "collapsed": false
   },
   "outputs": [],
   "source": [
    "\n",
    "import numpy as np\n",
    "y0 = np.random.randn(50)-1\n",
    "y1 = np.random.randn(50)+1\n",
    "\n",
    "trace0 = go.Box(\n",
    "    y=y0\n",
    ")\n",
    "trace1 = go.Box(\n",
    "    y=y1\n",
    ")\n",
    "data = [trace0, trace1]\n",
    "iplot(data)"
   ]
  },
  {
   "cell_type": "code",
   "execution_count": 72,
   "metadata": {
    "collapsed": false
   },
   "outputs": [
    {
     "data": {
      "text/html": [
       "<div>\n",
       "<table border=\"1\" class=\"dataframe\">\n",
       "  <thead>\n",
       "    <tr style=\"text-align: right;\">\n",
       "      <th></th>\n",
       "      <th>0</th>\n",
       "      <th>1</th>\n",
       "      <th>2</th>\n",
       "      <th>3</th>\n",
       "      <th>4</th>\n",
       "      <th>5</th>\n",
       "      <th>6</th>\n",
       "      <th>7</th>\n",
       "      <th>8</th>\n",
       "      <th>9</th>\n",
       "      <th>...</th>\n",
       "      <th>189</th>\n",
       "      <th>190</th>\n",
       "      <th>191</th>\n",
       "      <th>192</th>\n",
       "      <th>193</th>\n",
       "      <th>194</th>\n",
       "      <th>195</th>\n",
       "      <th>196</th>\n",
       "      <th>197</th>\n",
       "      <th>198</th>\n",
       "    </tr>\n",
       "  </thead>\n",
       "  <tbody>\n",
       "    <tr>\n",
       "      <th>run 1</th>\n",
       "      <td>7.375</td>\n",
       "      <td>7.104</td>\n",
       "      <td>7.108</td>\n",
       "      <td>7.254</td>\n",
       "      <td>7.259</td>\n",
       "      <td>7.239</td>\n",
       "      <td>7.347</td>\n",
       "      <td>7.220</td>\n",
       "      <td>7.232</td>\n",
       "      <td>7.068</td>\n",
       "      <td>...</td>\n",
       "      <td>7.515</td>\n",
       "      <td>7.238</td>\n",
       "      <td>7.646</td>\n",
       "      <td>7.567</td>\n",
       "      <td>7.562</td>\n",
       "      <td>7.359</td>\n",
       "      <td>7.431</td>\n",
       "      <td>7.280</td>\n",
       "      <td>7.269</td>\n",
       "      <td>7.400</td>\n",
       "    </tr>\n",
       "    <tr>\n",
       "      <th>run 2</th>\n",
       "      <td>7.218</td>\n",
       "      <td>7.087</td>\n",
       "      <td>7.211</td>\n",
       "      <td>7.223</td>\n",
       "      <td>7.154</td>\n",
       "      <td>7.194</td>\n",
       "      <td>7.185</td>\n",
       "      <td>7.089</td>\n",
       "      <td>7.000</td>\n",
       "      <td>7.231</td>\n",
       "      <td>...</td>\n",
       "      <td>7.177</td>\n",
       "      <td>7.408</td>\n",
       "      <td>7.326</td>\n",
       "      <td>7.371</td>\n",
       "      <td>7.333</td>\n",
       "      <td>7.129</td>\n",
       "      <td>7.318</td>\n",
       "      <td>7.492</td>\n",
       "      <td>7.179</td>\n",
       "      <td>7.397</td>\n",
       "    </tr>\n",
       "    <tr>\n",
       "      <th>run 3</th>\n",
       "      <td>7.126</td>\n",
       "      <td>7.222</td>\n",
       "      <td>7.278</td>\n",
       "      <td>7.183</td>\n",
       "      <td>7.045</td>\n",
       "      <td>7.088</td>\n",
       "      <td>7.152</td>\n",
       "      <td>7.260</td>\n",
       "      <td>7.094</td>\n",
       "      <td>7.223</td>\n",
       "      <td>...</td>\n",
       "      <td>7.526</td>\n",
       "      <td>7.521</td>\n",
       "      <td>7.321</td>\n",
       "      <td>7.555</td>\n",
       "      <td>7.422</td>\n",
       "      <td>7.387</td>\n",
       "      <td>7.397</td>\n",
       "      <td>7.534</td>\n",
       "      <td>7.352</td>\n",
       "      <td>7.315</td>\n",
       "    </tr>\n",
       "    <tr>\n",
       "      <th>run 4</th>\n",
       "      <td>7.236</td>\n",
       "      <td>7.172</td>\n",
       "      <td>7.109</td>\n",
       "      <td>7.176</td>\n",
       "      <td>7.369</td>\n",
       "      <td>7.017</td>\n",
       "      <td>7.241</td>\n",
       "      <td>7.054</td>\n",
       "      <td>7.226</td>\n",
       "      <td>7.124</td>\n",
       "      <td>...</td>\n",
       "      <td>7.605</td>\n",
       "      <td>7.438</td>\n",
       "      <td>7.249</td>\n",
       "      <td>7.371</td>\n",
       "      <td>7.311</td>\n",
       "      <td>7.410</td>\n",
       "      <td>7.349</td>\n",
       "      <td>7.484</td>\n",
       "      <td>7.617</td>\n",
       "      <td>7.415</td>\n",
       "    </tr>\n",
       "    <tr>\n",
       "      <th>run 5</th>\n",
       "      <td>7.294</td>\n",
       "      <td>7.211</td>\n",
       "      <td>7.326</td>\n",
       "      <td>7.162</td>\n",
       "      <td>7.114</td>\n",
       "      <td>7.128</td>\n",
       "      <td>7.227</td>\n",
       "      <td>7.111</td>\n",
       "      <td>7.173</td>\n",
       "      <td>7.103</td>\n",
       "      <td>...</td>\n",
       "      <td>7.455</td>\n",
       "      <td>7.264</td>\n",
       "      <td>7.328</td>\n",
       "      <td>7.285</td>\n",
       "      <td>7.200</td>\n",
       "      <td>7.489</td>\n",
       "      <td>7.485</td>\n",
       "      <td>7.381</td>\n",
       "      <td>7.376</td>\n",
       "      <td>7.365</td>\n",
       "    </tr>\n",
       "  </tbody>\n",
       "</table>\n",
       "<p>5 rows × 199 columns</p>\n",
       "</div>"
      ],
      "text/plain": [
       "         0      1      2      3      4      5      6      7      8      9    \\\n",
       "run 1  7.375  7.104  7.108  7.254  7.259  7.239  7.347  7.220  7.232  7.068   \n",
       "run 2  7.218  7.087  7.211  7.223  7.154  7.194  7.185  7.089  7.000  7.231   \n",
       "run 3  7.126  7.222  7.278  7.183  7.045  7.088  7.152  7.260  7.094  7.223   \n",
       "run 4  7.236  7.172  7.109  7.176  7.369  7.017  7.241  7.054  7.226  7.124   \n",
       "run 5  7.294  7.211  7.326  7.162  7.114  7.128  7.227  7.111  7.173  7.103   \n",
       "\n",
       "       ...      189    190    191    192    193    194    195    196    197  \\\n",
       "run 1  ...    7.515  7.238  7.646  7.567  7.562  7.359  7.431  7.280  7.269   \n",
       "run 2  ...    7.177  7.408  7.326  7.371  7.333  7.129  7.318  7.492  7.179   \n",
       "run 3  ...    7.526  7.521  7.321  7.555  7.422  7.387  7.397  7.534  7.352   \n",
       "run 4  ...    7.605  7.438  7.249  7.371  7.311  7.410  7.349  7.484  7.617   \n",
       "run 5  ...    7.455  7.264  7.328  7.285  7.200  7.489  7.485  7.381  7.376   \n",
       "\n",
       "         198  \n",
       "run 1  7.400  \n",
       "run 2  7.397  \n",
       "run 3  7.315  \n",
       "run 4  7.415  \n",
       "run 5  7.365  \n",
       "\n",
       "[5 rows x 199 columns]"
      ]
     },
     "execution_count": 72,
     "metadata": {},
     "output_type": "execute_result"
    }
   ],
   "source": [
    "transposed.head(5)"
   ]
  },
  {
   "cell_type": "code",
   "execution_count": 25,
   "metadata": {
    "collapsed": false
   },
   "outputs": [
    {
     "data": {
      "text/plain": [
       "-1"
      ]
     },
     "execution_count": 25,
     "metadata": {},
     "output_type": "execute_result"
    }
   ],
   "source": []
  },
  {
   "cell_type": "code",
   "execution_count": 139,
   "metadata": {
    "collapsed": false
   },
   "outputs": [],
   "source": [
    "import os\n",
    "import sys\n",
    "module_path = os.path.abspath(os.path.join('../../../Main'))\n",
    "if module_path not in sys.path:\n",
    "    sys.path.append(module_path)\n",
    "from BSDE import *\n",
    "import warnings \n",
    "import bokeh\n",
    "from bokeh.layouts import gridplot\n",
    "from bokeh.plotting import figure, output_notebook, show, output_file\n",
    "import time\n",
    "warnings.filterwarnings(\"ignore\")"
   ]
  },
  {
   "cell_type": "code",
   "execution_count": 140,
   "metadata": {
    "collapsed": true
   },
   "outputs": [],
   "source": [
    "T = 0.5\n",
    "K = 100.\n",
    "r = 0.04\n",
    "R = 0.06\n",
    "p = 7\n",
    "M = np.eye(p)\n",
    "S_init = 100.\n",
    "mu = 0.06\n",
    "sigma = 0.2\n",
    "Q = 0"
   ]
  },
  {
   "cell_type": "code",
   "execution_count": 141,
   "metadata": {
    "collapsed": true
   },
   "outputs": [],
   "source": [
    "N = 10\n",
    "m = 6\n",
    "RF_n_trees = 10\n",
    "RF_max_leaf_nodes = 4\n",
    "M_run = 20\n",
    "n_picard = 3"
   ]
  },
  {
   "cell_type": "code",
   "execution_count": 143,
   "metadata": {
    "collapsed": false
   },
   "outputs": [
    {
     "data": {
      "text/plain": [
       "1.7196674562591623"
      ]
     },
     "execution_count": 143,
     "metadata": {},
     "output_type": "execute_result"
    }
   ],
   "source": [
    "test = BsdeHD(T, K, M, mu, Q, sigma, S_init, r, R)\n",
    "test.get_price(N, m, option_type='call', option_payoff='geometric',\n",
    "               oType='European',n_picard=n_picard, RF_n_estimators = RF_n_trees, RF_max_leaf_nodes=RF_max_leaf_nodes)"
   ]
  },
  {
   "cell_type": "code",
   "execution_count": 144,
   "metadata": {
    "collapsed": true
   },
   "outputs": [],
   "source": [
    "matrix_b = pd.read_csv(\"price_against_leafs_1000.csv\")"
   ]
  },
  {
   "cell_type": "code",
   "execution_count": 3,
   "metadata": {
    "collapsed": false
   },
   "outputs": [],
   "source": [
    "matrix_c = pd.read_csv(\"price_against_leafs_100000.csv\")"
   ]
  },
  {
   "cell_type": "code",
   "execution_count": 146,
   "metadata": {
    "collapsed": false
   },
   "outputs": [
    {
     "data": {
      "text/html": [
       "<div>\n",
       "<table border=\"1\" class=\"dataframe\">\n",
       "  <thead>\n",
       "    <tr style=\"text-align: right;\">\n",
       "      <th></th>\n",
       "      <th>Unnamed: 0</th>\n",
       "      <th>run 1</th>\n",
       "      <th>run 2</th>\n",
       "      <th>run 3</th>\n",
       "      <th>run 4</th>\n",
       "      <th>run 5</th>\n",
       "      <th>run 6</th>\n",
       "      <th>run 7</th>\n",
       "      <th>run 8</th>\n",
       "      <th>run 9</th>\n",
       "      <th>run 10</th>\n",
       "    </tr>\n",
       "  </thead>\n",
       "  <tbody>\n",
       "    <tr>\n",
       "      <th>0</th>\n",
       "      <td>max_leaf_nodes = 50</td>\n",
       "      <td>7.2335</td>\n",
       "      <td>6.9957</td>\n",
       "      <td>7.1447</td>\n",
       "      <td>7.2455</td>\n",
       "      <td>7.3545</td>\n",
       "      <td>6.9703</td>\n",
       "      <td>7.3776</td>\n",
       "      <td>7.1871</td>\n",
       "      <td>7.2942</td>\n",
       "      <td>7.2261</td>\n",
       "    </tr>\n",
       "    <tr>\n",
       "      <th>1</th>\n",
       "      <td>max_leaf_nodes = 100</td>\n",
       "      <td>7.2660</td>\n",
       "      <td>7.0850</td>\n",
       "      <td>7.0801</td>\n",
       "      <td>7.2638</td>\n",
       "      <td>7.2713</td>\n",
       "      <td>7.2112</td>\n",
       "      <td>7.1262</td>\n",
       "      <td>7.2811</td>\n",
       "      <td>7.1605</td>\n",
       "      <td>7.1499</td>\n",
       "    </tr>\n",
       "    <tr>\n",
       "      <th>2</th>\n",
       "      <td>max_leaf_nodes = 150</td>\n",
       "      <td>7.3051</td>\n",
       "      <td>7.3380</td>\n",
       "      <td>6.9833</td>\n",
       "      <td>7.3790</td>\n",
       "      <td>7.1251</td>\n",
       "      <td>7.2276</td>\n",
       "      <td>7.1376</td>\n",
       "      <td>7.1604</td>\n",
       "      <td>7.1757</td>\n",
       "      <td>7.2547</td>\n",
       "    </tr>\n",
       "  </tbody>\n",
       "</table>\n",
       "</div>"
      ],
      "text/plain": [
       "             Unnamed: 0   run 1   run 2   run 3   run 4   run 5   run 6  \\\n",
       "0   max_leaf_nodes = 50  7.2335  6.9957  7.1447  7.2455  7.3545  6.9703   \n",
       "1  max_leaf_nodes = 100  7.2660  7.0850  7.0801  7.2638  7.2713  7.2112   \n",
       "2  max_leaf_nodes = 150  7.3051  7.3380  6.9833  7.3790  7.1251  7.2276   \n",
       "\n",
       "    run 7   run 8   run 9  run 10  \n",
       "0  7.3776  7.1871  7.2942  7.2261  \n",
       "1  7.1262  7.2811  7.1605  7.1499  \n",
       "2  7.1376  7.1604  7.1757  7.2547  "
      ]
     },
     "execution_count": 146,
     "metadata": {},
     "output_type": "execute_result"
    }
   ],
   "source": [
    "matrix_b.head(3)"
   ]
  },
  {
   "cell_type": "code",
   "execution_count": 12,
   "metadata": {
    "collapsed": false
   },
   "outputs": [],
   "source": [
    "col = matrix.columns[1:-3]"
   ]
  },
  {
   "cell_type": "code",
   "execution_count": 150,
   "metadata": {
    "collapsed": false
   },
   "outputs": [],
   "source": [
    "transposed_b = matrix_b[col].transpose()"
   ]
  },
  {
   "cell_type": "code",
   "execution_count": 13,
   "metadata": {
    "collapsed": false
   },
   "outputs": [],
   "source": [
    "transposed_c = matrix_c[col].transpose()"
   ]
  },
  {
   "cell_type": "code",
   "execution_count": 153,
   "metadata": {
    "collapsed": true
   },
   "outputs": [],
   "source": [
    "transposed_b = (transposed_b - 7.15) ** 2"
   ]
  },
  {
   "cell_type": "code",
   "execution_count": 14,
   "metadata": {
    "collapsed": true
   },
   "outputs": [],
   "source": [
    "transposed_c = (transposed_c - 7.15) ** 2"
   ]
  },
  {
   "cell_type": "code",
   "execution_count": 162,
   "metadata": {
    "collapsed": true
   },
   "outputs": [],
   "source": [
    "data_b = [go.Box(y=transposed_b[i], name = '{}'.format( (50 * (i + 1)) / 1000)) for i in transposed_b.columns[0:20]]"
   ]
  },
  {
   "cell_type": "code",
   "execution_count": 163,
   "metadata": {
    "collapsed": false
   },
   "outputs": [
    {
     "data": {
      "text/html": [
       "<iframe id=\"igraph\" scrolling=\"no\" style=\"border:none;\" seamless=\"seamless\" src=\"https://plot.ly/~MajdiRabia/18.embed\" height=\"525px\" width=\"100%\"></iframe>"
      ],
      "text/plain": [
       "<plotly.tools.PlotlyDisplay object>"
      ]
     },
     "execution_count": 163,
     "metadata": {},
     "output_type": "execute_result"
    }
   ],
   "source": [
    "iplot(data_b, title='MSE against N_sim/RF_max_leaf_nodes with N = 1000')"
   ]
  },
  {
   "cell_type": "code",
   "execution_count": 17,
   "metadata": {
    "collapsed": true
   },
   "outputs": [],
   "source": [
    "data_c = [go.Box(y=transposed_c[i], name = '{}'.format( (1000 * (i + 1)) / 100000)) for i in transposed_c.columns]"
   ]
  },
  {
   "cell_type": "code",
   "execution_count": 18,
   "metadata": {
    "collapsed": false
   },
   "outputs": [
    {
     "data": {
      "text/html": [
       "<iframe id=\"igraph\" scrolling=\"no\" style=\"border:none;\" seamless=\"seamless\" src=\"https://plot.ly/~MajdiRabia/28.embed\" height=\"525px\" width=\"100%\"></iframe>"
      ],
      "text/plain": [
       "<plotly.tools.PlotlyDisplay object>"
      ]
     },
     "execution_count": 18,
     "metadata": {},
     "output_type": "execute_result"
    }
   ],
   "source": [
    "iplot(data_c, title='MSE against N_sim/RF_max_leaf_nodes with N = 100000')"
   ]
  },
  {
   "cell_type": "code",
   "execution_count": null,
   "metadata": {
    "collapsed": true
   },
   "outputs": [],
   "source": []
  }
 ],
 "metadata": {
  "kernelspec": {
   "display_name": "Python 3",
   "language": "python",
   "name": "python3"
  },
  "language_info": {
   "codemirror_mode": {
    "name": "ipython",
    "version": 3
   },
   "file_extension": ".py",
   "mimetype": "text/x-python",
   "name": "python",
   "nbconvert_exporter": "python",
   "pygments_lexer": "ipython3",
   "version": "3.5.2"
  }
 },
 "nbformat": 4,
 "nbformat_minor": 0
}
