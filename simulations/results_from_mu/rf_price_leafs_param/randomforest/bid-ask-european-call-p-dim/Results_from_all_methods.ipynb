{
 "cells": [
  {
   "cell_type": "code",
   "execution_count": 1,
   "metadata": {
    "collapsed": true
   },
   "outputs": [],
   "source": [
    "import os\n",
    "import sys\n",
    "module_path = os.path.abspath(os.path.join('../'))\n",
    "if module_path not in sys.path:\n",
    "    sys.path.append(module_path)"
   ]
  },
  {
   "cell_type": "code",
   "execution_count": 1,
   "metadata": {
    "collapsed": true
   },
   "outputs": [],
   "source": [
    "import pandas as pd"
   ]
  },
  {
   "cell_type": "code",
   "execution_count": 2,
   "metadata": {
    "collapsed": true
   },
   "outputs": [],
   "source": [
    "import os"
   ]
  },
  {
   "cell_type": "code",
   "execution_count": 3,
   "metadata": {
    "collapsed": false
   },
   "outputs": [],
   "source": [
    "folders = os.listdir()"
   ]
  },
  {
   "cell_type": "code",
   "execution_count": 9,
   "metadata": {
    "collapsed": false
   },
   "outputs": [],
   "source": [
    "folders.remove('.ipynb_checkpoints')\n",
    "folders.remove('Results_from_all_methods.ipynb')"
   ]
  },
  {
   "cell_type": "code",
   "execution_count": 5,
   "metadata": {
    "collapsed": false
   },
   "outputs": [],
   "source": [
    "import glob\n",
    "path = os.getcwd()"
   ]
  },
  {
   "cell_type": "code",
   "execution_count": 6,
   "metadata": {
    "collapsed": false
   },
   "outputs": [
    {
     "data": {
      "text/plain": [
       "'C:\\\\Users\\\\Majdi\\\\Dropbox\\\\MSc thesis\\\\Simulations\\\\Results_from_mu\\\\RF_price_leafs_param\\\\RandomForest\\\\bid-ask-european-call-p-dim'"
      ]
     },
     "execution_count": 6,
     "metadata": {},
     "output_type": "execute_result"
    }
   ],
   "source": [
    "path"
   ]
  },
  {
   "cell_type": "code",
   "execution_count": 7,
   "metadata": {
    "collapsed": false
   },
   "outputs": [],
   "source": [
    "SEP = os.sep.join('/')"
   ]
  },
  {
   "cell_type": "code",
   "execution_count": 14,
   "metadata": {
    "collapsed": false
   },
   "outputs": [
    {
     "data": {
      "text/plain": [
       "['output_derivative.csv',\n",
       " 'output_GradBoost.csv',\n",
       " 'output_mesh.csv',\n",
       " 'output_rf.csv']"
      ]
     },
     "execution_count": 14,
     "metadata": {},
     "output_type": "execute_result"
    }
   ],
   "source": [
    "files = folders"
   ]
  },
  {
   "cell_type": "code",
   "execution_count": 22,
   "metadata": {
    "collapsed": false
   },
   "outputs": [],
   "source": [
    "dfs = {}\n",
    "dfs['derivative'] = pd.read_csv(files[0], index_col=False)\n",
    "dfs['GradBoost'] = pd.read_csv(files[1], index_col=False)\n",
    "dfs['mesh'] = pd.read_csv(files[2], index_col=False)\n",
    "dfs['RF'] = pd.read_csv(files[3], index_col=False)"
   ]
  },
  {
   "cell_type": "code",
   "execution_count": 16,
   "metadata": {
    "collapsed": false
   },
   "outputs": [
    {
     "data": {
      "text/html": [
       "<div>\n",
       "<table border=\"1\" class=\"dataframe\">\n",
       "  <thead>\n",
       "    <tr style=\"text-align: right;\">\n",
       "      <th></th>\n",
       "      <th>expected</th>\n",
       "      <th>mean</th>\n",
       "      <th>std</th>\n",
       "      <th>95% confidence interval</th>\n",
       "    </tr>\n",
       "  </thead>\n",
       "  <tbody>\n",
       "  </tbody>\n",
       "</table>\n",
       "</div>"
      ],
      "text/plain": [
       "Empty DataFrame\n",
       "Columns: [expected, mean, std, 95% confidence interval]\n",
       "Index: []"
      ]
     },
     "execution_count": 16,
     "metadata": {},
     "output_type": "execute_result"
    }
   ],
   "source": [
    "result_df = pd.DataFrame(columns=['expected', 'mean', 'std', '95% confidence interval'])\n",
    "result_df"
   ]
  },
  {
   "cell_type": "code",
   "execution_count": 17,
   "metadata": {
    "collapsed": false
   },
   "outputs": [
    {
     "data": {
      "text/html": [
       "<div>\n",
       "<table border=\"1\" class=\"dataframe\">\n",
       "  <thead>\n",
       "    <tr style=\"text-align: right;\">\n",
       "      <th></th>\n",
       "      <th>Unnamed: 0</th>\n",
       "      <th>Parameters</th>\n",
       "      <th>Specific Parameters</th>\n",
       "      <th>run</th>\n",
       "      <th>stat parameter</th>\n",
       "      <th>time</th>\n",
       "      <th>values</th>\n",
       "    </tr>\n",
       "  </thead>\n",
       "  <tbody>\n",
       "    <tr>\n",
       "      <th>0</th>\n",
       "      <td>0</td>\n",
       "      <td>q</td>\n",
       "      <td>NaN</td>\n",
       "      <td>NaN</td>\n",
       "      <td>NaN</td>\n",
       "      <td>NaN</td>\n",
       "      <td>0.0</td>\n",
       "    </tr>\n",
       "    <tr>\n",
       "      <th>1</th>\n",
       "      <td>1</td>\n",
       "      <td>mu</td>\n",
       "      <td>NaN</td>\n",
       "      <td>NaN</td>\n",
       "      <td>NaN</td>\n",
       "      <td>NaN</td>\n",
       "      <td>0.06</td>\n",
       "    </tr>\n",
       "    <tr>\n",
       "      <th>2</th>\n",
       "      <td>2</td>\n",
       "      <td>R</td>\n",
       "      <td>NaN</td>\n",
       "      <td>NaN</td>\n",
       "      <td>NaN</td>\n",
       "      <td>NaN</td>\n",
       "      <td>0.06</td>\n",
       "    </tr>\n",
       "    <tr>\n",
       "      <th>3</th>\n",
       "      <td>3</td>\n",
       "      <td>r</td>\n",
       "      <td>NaN</td>\n",
       "      <td>NaN</td>\n",
       "      <td>NaN</td>\n",
       "      <td>NaN</td>\n",
       "      <td>0.04</td>\n",
       "    </tr>\n",
       "    <tr>\n",
       "      <th>4</th>\n",
       "      <td>4</td>\n",
       "      <td>sigma</td>\n",
       "      <td>NaN</td>\n",
       "      <td>NaN</td>\n",
       "      <td>NaN</td>\n",
       "      <td>NaN</td>\n",
       "      <td>0.2</td>\n",
       "    </tr>\n",
       "    <tr>\n",
       "      <th>5</th>\n",
       "      <td>5</td>\n",
       "      <td>T</td>\n",
       "      <td>NaN</td>\n",
       "      <td>NaN</td>\n",
       "      <td>NaN</td>\n",
       "      <td>NaN</td>\n",
       "      <td>0.5</td>\n",
       "    </tr>\n",
       "    <tr>\n",
       "      <th>6</th>\n",
       "      <td>6</td>\n",
       "      <td>K</td>\n",
       "      <td>NaN</td>\n",
       "      <td>NaN</td>\n",
       "      <td>NaN</td>\n",
       "      <td>NaN</td>\n",
       "      <td>100.0</td>\n",
       "    </tr>\n",
       "    <tr>\n",
       "      <th>7</th>\n",
       "      <td>7</td>\n",
       "      <td>S0</td>\n",
       "      <td>NaN</td>\n",
       "      <td>NaN</td>\n",
       "      <td>NaN</td>\n",
       "      <td>NaN</td>\n",
       "      <td>100.0</td>\n",
       "    </tr>\n",
       "    <tr>\n",
       "      <th>8</th>\n",
       "      <td>0</td>\n",
       "      <td>NaN</td>\n",
       "      <td>N_particles</td>\n",
       "      <td>NaN</td>\n",
       "      <td>NaN</td>\n",
       "      <td>NaN</td>\n",
       "      <td>10000</td>\n",
       "    </tr>\n",
       "    <tr>\n",
       "      <th>9</th>\n",
       "      <td>1</td>\n",
       "      <td>NaN</td>\n",
       "      <td>m_discretization</td>\n",
       "      <td>NaN</td>\n",
       "      <td>NaN</td>\n",
       "      <td>NaN</td>\n",
       "      <td>6</td>\n",
       "    </tr>\n",
       "    <tr>\n",
       "      <th>10</th>\n",
       "      <td>2</td>\n",
       "      <td>NaN</td>\n",
       "      <td>N_run</td>\n",
       "      <td>NaN</td>\n",
       "      <td>NaN</td>\n",
       "      <td>NaN</td>\n",
       "      <td>20</td>\n",
       "    </tr>\n",
       "    <tr>\n",
       "      <th>11</th>\n",
       "      <td>3</td>\n",
       "      <td>NaN</td>\n",
       "      <td>n_picard</td>\n",
       "      <td>NaN</td>\n",
       "      <td>NaN</td>\n",
       "      <td>NaN</td>\n",
       "      <td>3</td>\n",
       "    </tr>\n",
       "    <tr>\n",
       "      <th>12</th>\n",
       "      <td>4</td>\n",
       "      <td>NaN</td>\n",
       "      <td>Number of trees</td>\n",
       "      <td>NaN</td>\n",
       "      <td>NaN</td>\n",
       "      <td>NaN</td>\n",
       "      <td>200</td>\n",
       "    </tr>\n",
       "    <tr>\n",
       "      <th>13</th>\n",
       "      <td>5</td>\n",
       "      <td>NaN</td>\n",
       "      <td>Max Leaf nodes</td>\n",
       "      <td>NaN</td>\n",
       "      <td>NaN</td>\n",
       "      <td>NaN</td>\n",
       "      <td>1000</td>\n",
       "    </tr>\n",
       "    <tr>\n",
       "      <th>14</th>\n",
       "      <td>0</td>\n",
       "      <td>NaN</td>\n",
       "      <td>NaN</td>\n",
       "      <td>run 1</td>\n",
       "      <td>NaN</td>\n",
       "      <td>323.392</td>\n",
       "      <td>3.435484216183879</td>\n",
       "    </tr>\n",
       "    <tr>\n",
       "      <th>15</th>\n",
       "      <td>1</td>\n",
       "      <td>NaN</td>\n",
       "      <td>NaN</td>\n",
       "      <td>run 2</td>\n",
       "      <td>NaN</td>\n",
       "      <td>325.656</td>\n",
       "      <td>3.4332491859002574</td>\n",
       "    </tr>\n",
       "    <tr>\n",
       "      <th>16</th>\n",
       "      <td>2</td>\n",
       "      <td>NaN</td>\n",
       "      <td>NaN</td>\n",
       "      <td>run 3</td>\n",
       "      <td>NaN</td>\n",
       "      <td>315.613</td>\n",
       "      <td>3.5245058881303937</td>\n",
       "    </tr>\n",
       "    <tr>\n",
       "      <th>17</th>\n",
       "      <td>3</td>\n",
       "      <td>NaN</td>\n",
       "      <td>NaN</td>\n",
       "      <td>run 4</td>\n",
       "      <td>NaN</td>\n",
       "      <td>320.123</td>\n",
       "      <td>3.461503677509741</td>\n",
       "    </tr>\n",
       "    <tr>\n",
       "      <th>18</th>\n",
       "      <td>4</td>\n",
       "      <td>NaN</td>\n",
       "      <td>NaN</td>\n",
       "      <td>run 5</td>\n",
       "      <td>NaN</td>\n",
       "      <td>311.015</td>\n",
       "      <td>3.4135400703130316</td>\n",
       "    </tr>\n",
       "    <tr>\n",
       "      <th>19</th>\n",
       "      <td>5</td>\n",
       "      <td>NaN</td>\n",
       "      <td>NaN</td>\n",
       "      <td>run 6</td>\n",
       "      <td>NaN</td>\n",
       "      <td>311.459</td>\n",
       "      <td>3.4451054129759693</td>\n",
       "    </tr>\n",
       "    <tr>\n",
       "      <th>20</th>\n",
       "      <td>6</td>\n",
       "      <td>NaN</td>\n",
       "      <td>NaN</td>\n",
       "      <td>run 7</td>\n",
       "      <td>NaN</td>\n",
       "      <td>310.445</td>\n",
       "      <td>3.4464852787766853</td>\n",
       "    </tr>\n",
       "    <tr>\n",
       "      <th>21</th>\n",
       "      <td>7</td>\n",
       "      <td>NaN</td>\n",
       "      <td>NaN</td>\n",
       "      <td>run 8</td>\n",
       "      <td>NaN</td>\n",
       "      <td>309.963</td>\n",
       "      <td>3.484710664638103</td>\n",
       "    </tr>\n",
       "    <tr>\n",
       "      <th>22</th>\n",
       "      <td>8</td>\n",
       "      <td>NaN</td>\n",
       "      <td>NaN</td>\n",
       "      <td>run 9</td>\n",
       "      <td>NaN</td>\n",
       "      <td>310.030</td>\n",
       "      <td>3.4859200550155895</td>\n",
       "    </tr>\n",
       "    <tr>\n",
       "      <th>23</th>\n",
       "      <td>9</td>\n",
       "      <td>NaN</td>\n",
       "      <td>NaN</td>\n",
       "      <td>run 10</td>\n",
       "      <td>NaN</td>\n",
       "      <td>308.560</td>\n",
       "      <td>3.46402558190334</td>\n",
       "    </tr>\n",
       "    <tr>\n",
       "      <th>24</th>\n",
       "      <td>10</td>\n",
       "      <td>NaN</td>\n",
       "      <td>NaN</td>\n",
       "      <td>run 11</td>\n",
       "      <td>NaN</td>\n",
       "      <td>316.291</td>\n",
       "      <td>3.424757241346968</td>\n",
       "    </tr>\n",
       "    <tr>\n",
       "      <th>25</th>\n",
       "      <td>11</td>\n",
       "      <td>NaN</td>\n",
       "      <td>NaN</td>\n",
       "      <td>run 12</td>\n",
       "      <td>NaN</td>\n",
       "      <td>310.123</td>\n",
       "      <td>3.4874838655936835</td>\n",
       "    </tr>\n",
       "    <tr>\n",
       "      <th>26</th>\n",
       "      <td>12</td>\n",
       "      <td>NaN</td>\n",
       "      <td>NaN</td>\n",
       "      <td>run 13</td>\n",
       "      <td>NaN</td>\n",
       "      <td>310.450</td>\n",
       "      <td>3.475510548799488</td>\n",
       "    </tr>\n",
       "    <tr>\n",
       "      <th>27</th>\n",
       "      <td>13</td>\n",
       "      <td>NaN</td>\n",
       "      <td>NaN</td>\n",
       "      <td>run 14</td>\n",
       "      <td>NaN</td>\n",
       "      <td>320.598</td>\n",
       "      <td>3.449704872472865</td>\n",
       "    </tr>\n",
       "    <tr>\n",
       "      <th>28</th>\n",
       "      <td>14</td>\n",
       "      <td>NaN</td>\n",
       "      <td>NaN</td>\n",
       "      <td>run 15</td>\n",
       "      <td>NaN</td>\n",
       "      <td>317.613</td>\n",
       "      <td>3.4705202550806935</td>\n",
       "    </tr>\n",
       "    <tr>\n",
       "      <th>29</th>\n",
       "      <td>15</td>\n",
       "      <td>NaN</td>\n",
       "      <td>NaN</td>\n",
       "      <td>run 16</td>\n",
       "      <td>NaN</td>\n",
       "      <td>316.985</td>\n",
       "      <td>3.5265982971336407</td>\n",
       "    </tr>\n",
       "    <tr>\n",
       "      <th>30</th>\n",
       "      <td>16</td>\n",
       "      <td>NaN</td>\n",
       "      <td>NaN</td>\n",
       "      <td>run 17</td>\n",
       "      <td>NaN</td>\n",
       "      <td>310.779</td>\n",
       "      <td>3.490119668857181</td>\n",
       "    </tr>\n",
       "    <tr>\n",
       "      <th>31</th>\n",
       "      <td>17</td>\n",
       "      <td>NaN</td>\n",
       "      <td>NaN</td>\n",
       "      <td>run 18</td>\n",
       "      <td>NaN</td>\n",
       "      <td>310.347</td>\n",
       "      <td>3.405440465139078</td>\n",
       "    </tr>\n",
       "    <tr>\n",
       "      <th>32</th>\n",
       "      <td>18</td>\n",
       "      <td>NaN</td>\n",
       "      <td>NaN</td>\n",
       "      <td>run 19</td>\n",
       "      <td>NaN</td>\n",
       "      <td>309.322</td>\n",
       "      <td>3.5667630364657015</td>\n",
       "    </tr>\n",
       "    <tr>\n",
       "      <th>33</th>\n",
       "      <td>19</td>\n",
       "      <td>NaN</td>\n",
       "      <td>NaN</td>\n",
       "      <td>run 20</td>\n",
       "      <td>NaN</td>\n",
       "      <td>307.833</td>\n",
       "      <td>3.5201493232335768</td>\n",
       "    </tr>\n",
       "    <tr>\n",
       "      <th>34</th>\n",
       "      <td>0</td>\n",
       "      <td>NaN</td>\n",
       "      <td>NaN</td>\n",
       "      <td>NaN</td>\n",
       "      <td>mean</td>\n",
       "      <td>NaN</td>\n",
       "      <td>3.4706</td>\n",
       "    </tr>\n",
       "    <tr>\n",
       "      <th>35</th>\n",
       "      <td>1</td>\n",
       "      <td>NaN</td>\n",
       "      <td>NaN</td>\n",
       "      <td>NaN</td>\n",
       "      <td>std</td>\n",
       "      <td>NaN</td>\n",
       "      <td>0.0416</td>\n",
       "    </tr>\n",
       "    <tr>\n",
       "      <th>36</th>\n",
       "      <td>2</td>\n",
       "      <td>NaN</td>\n",
       "      <td>NaN</td>\n",
       "      <td>NaN</td>\n",
       "      <td>95% confidence interval</td>\n",
       "      <td>NaN</td>\n",
       "      <td>[3.4665, 3.4747]</td>\n",
       "    </tr>\n",
       "    <tr>\n",
       "      <th>37</th>\n",
       "      <td>3</td>\n",
       "      <td>NaN</td>\n",
       "      <td>NaN</td>\n",
       "      <td>NaN</td>\n",
       "      <td>min</td>\n",
       "      <td>NaN</td>\n",
       "      <td>3.4054</td>\n",
       "    </tr>\n",
       "    <tr>\n",
       "      <th>38</th>\n",
       "      <td>4</td>\n",
       "      <td>NaN</td>\n",
       "      <td>NaN</td>\n",
       "      <td>NaN</td>\n",
       "      <td>max</td>\n",
       "      <td>NaN</td>\n",
       "      <td>3.5668</td>\n",
       "    </tr>\n",
       "  </tbody>\n",
       "</table>\n",
       "</div>"
      ],
      "text/plain": [
       "    Unnamed: 0 Parameters Specific Parameters     run  \\\n",
       "0            0          q                 NaN     NaN   \n",
       "1            1         mu                 NaN     NaN   \n",
       "2            2         R                  NaN     NaN   \n",
       "3            3         r                  NaN     NaN   \n",
       "4            4      sigma                 NaN     NaN   \n",
       "5            5          T                 NaN     NaN   \n",
       "6            6          K                 NaN     NaN   \n",
       "7            7         S0                 NaN     NaN   \n",
       "8            0        NaN         N_particles     NaN   \n",
       "9            1        NaN    m_discretization     NaN   \n",
       "10           2        NaN               N_run     NaN   \n",
       "11           3        NaN            n_picard     NaN   \n",
       "12           4        NaN     Number of trees     NaN   \n",
       "13           5        NaN      Max Leaf nodes     NaN   \n",
       "14           0        NaN                 NaN   run 1   \n",
       "15           1        NaN                 NaN   run 2   \n",
       "16           2        NaN                 NaN   run 3   \n",
       "17           3        NaN                 NaN   run 4   \n",
       "18           4        NaN                 NaN   run 5   \n",
       "19           5        NaN                 NaN   run 6   \n",
       "20           6        NaN                 NaN   run 7   \n",
       "21           7        NaN                 NaN   run 8   \n",
       "22           8        NaN                 NaN   run 9   \n",
       "23           9        NaN                 NaN  run 10   \n",
       "24          10        NaN                 NaN  run 11   \n",
       "25          11        NaN                 NaN  run 12   \n",
       "26          12        NaN                 NaN  run 13   \n",
       "27          13        NaN                 NaN  run 14   \n",
       "28          14        NaN                 NaN  run 15   \n",
       "29          15        NaN                 NaN  run 16   \n",
       "30          16        NaN                 NaN  run 17   \n",
       "31          17        NaN                 NaN  run 18   \n",
       "32          18        NaN                 NaN  run 19   \n",
       "33          19        NaN                 NaN  run 20   \n",
       "34           0        NaN                 NaN     NaN   \n",
       "35           1        NaN                 NaN     NaN   \n",
       "36           2        NaN                 NaN     NaN   \n",
       "37           3        NaN                 NaN     NaN   \n",
       "38           4        NaN                 NaN     NaN   \n",
       "\n",
       "             stat parameter     time              values  \n",
       "0                       NaN      NaN                 0.0  \n",
       "1                       NaN      NaN                0.06  \n",
       "2                       NaN      NaN                0.06  \n",
       "3                       NaN      NaN                0.04  \n",
       "4                       NaN      NaN                 0.2  \n",
       "5                       NaN      NaN                 0.5  \n",
       "6                       NaN      NaN               100.0  \n",
       "7                       NaN      NaN               100.0  \n",
       "8                       NaN      NaN               10000  \n",
       "9                       NaN      NaN                   6  \n",
       "10                      NaN      NaN                  20  \n",
       "11                      NaN      NaN                   3  \n",
       "12                      NaN      NaN                 200  \n",
       "13                      NaN      NaN                1000  \n",
       "14                      NaN  323.392   3.435484216183879  \n",
       "15                      NaN  325.656  3.4332491859002574  \n",
       "16                      NaN  315.613  3.5245058881303937  \n",
       "17                      NaN  320.123   3.461503677509741  \n",
       "18                      NaN  311.015  3.4135400703130316  \n",
       "19                      NaN  311.459  3.4451054129759693  \n",
       "20                      NaN  310.445  3.4464852787766853  \n",
       "21                      NaN  309.963   3.484710664638103  \n",
       "22                      NaN  310.030  3.4859200550155895  \n",
       "23                      NaN  308.560    3.46402558190334  \n",
       "24                      NaN  316.291   3.424757241346968  \n",
       "25                      NaN  310.123  3.4874838655936835  \n",
       "26                      NaN  310.450   3.475510548799488  \n",
       "27                      NaN  320.598   3.449704872472865  \n",
       "28                      NaN  317.613  3.4705202550806935  \n",
       "29                      NaN  316.985  3.5265982971336407  \n",
       "30                      NaN  310.779   3.490119668857181  \n",
       "31                      NaN  310.347   3.405440465139078  \n",
       "32                      NaN  309.322  3.5667630364657015  \n",
       "33                      NaN  307.833  3.5201493232335768  \n",
       "34                     mean      NaN              3.4706  \n",
       "35                      std      NaN              0.0416  \n",
       "36  95% confidence interval      NaN    [3.4665, 3.4747]  \n",
       "37                      min      NaN              3.4054  \n",
       "38                      max      NaN              3.5668  "
      ]
     },
     "execution_count": 17,
     "metadata": {},
     "output_type": "execute_result"
    }
   ],
   "source": [
    "test = dfs['RF']\n",
    "test"
   ]
  },
  {
   "cell_type": "code",
   "execution_count": 62,
   "metadata": {
    "collapsed": false
   },
   "outputs": [
    {
     "ename": "SyntaxError",
     "evalue": "invalid syntax (<ipython-input-62-87aab24fbe67>, line 1)",
     "output_type": "error",
     "traceback": [
      "\u001b[1;36m  File \u001b[1;32m\"<ipython-input-62-87aab24fbe67>\"\u001b[1;36m, line \u001b[1;32m1\u001b[0m\n\u001b[1;33m    link = lamba x: df[-1]\u001b[0m\n\u001b[1;37m                 ^\u001b[0m\n\u001b[1;31mSyntaxError\u001b[0m\u001b[1;31m:\u001b[0m invalid syntax\n"
     ]
    }
   ],
   "source": [
    "link = lamba x: df[-1]"
   ]
  },
  {
   "cell_type": "code",
   "execution_count": 18,
   "metadata": {
    "collapsed": false
   },
   "outputs": [],
   "source": [
    "params = test['Parameters'].dropna()"
   ]
  },
  {
   "cell_type": "code",
   "execution_count": 19,
   "metadata": {
    "collapsed": false
   },
   "outputs": [],
   "source": [
    "params = test[['Parameters', 'values']].dropna()"
   ]
  },
  {
   "cell_type": "code",
   "execution_count": 23,
   "metadata": {
    "collapsed": false
   },
   "outputs": [],
   "source": [
    "dfs_stats=[]\n",
    "for key, df in dfs.items(): \n",
    "    df = df[['stat parameter', 'values']].dropna()\n",
    "    dfs_stats.append(pd.DataFrame(data = df))\n",
    "dfs_stats.append(params)\n",
    "dfs_stats = pd.concat(dfs_stats, keys = dfs.keys())"
   ]
  },
  {
   "cell_type": "code",
   "execution_count": 24,
   "metadata": {
    "collapsed": false
   },
   "outputs": [
    {
     "data": {
      "text/html": [
       "<div>\n",
       "<table border=\"1\" class=\"dataframe\">\n",
       "  <thead>\n",
       "    <tr style=\"text-align: right;\">\n",
       "      <th></th>\n",
       "      <th></th>\n",
       "      <th>stat parameter</th>\n",
       "      <th>values</th>\n",
       "    </tr>\n",
       "  </thead>\n",
       "  <tbody>\n",
       "    <tr>\n",
       "      <th rowspan=\"5\" valign=\"top\">GradBoost</th>\n",
       "      <th>35</th>\n",
       "      <td>mean</td>\n",
       "      <td>3.6126</td>\n",
       "    </tr>\n",
       "    <tr>\n",
       "      <th>36</th>\n",
       "      <td>std</td>\n",
       "      <td>0.0403</td>\n",
       "    </tr>\n",
       "    <tr>\n",
       "      <th>37</th>\n",
       "      <td>95% confidence interval</td>\n",
       "      <td>[3.6087, 3.6165]</td>\n",
       "    </tr>\n",
       "    <tr>\n",
       "      <th>38</th>\n",
       "      <td>min</td>\n",
       "      <td>3.5353</td>\n",
       "    </tr>\n",
       "    <tr>\n",
       "      <th>39</th>\n",
       "      <td>max</td>\n",
       "      <td>3.6843</td>\n",
       "    </tr>\n",
       "    <tr>\n",
       "      <th rowspan=\"5\" valign=\"top\">RF</th>\n",
       "      <th>34</th>\n",
       "      <td>mean</td>\n",
       "      <td>3.4706</td>\n",
       "    </tr>\n",
       "    <tr>\n",
       "      <th>35</th>\n",
       "      <td>std</td>\n",
       "      <td>0.0416</td>\n",
       "    </tr>\n",
       "    <tr>\n",
       "      <th>36</th>\n",
       "      <td>95% confidence interval</td>\n",
       "      <td>[3.4665, 3.4747]</td>\n",
       "    </tr>\n",
       "    <tr>\n",
       "      <th>37</th>\n",
       "      <td>min</td>\n",
       "      <td>3.4054</td>\n",
       "    </tr>\n",
       "    <tr>\n",
       "      <th>38</th>\n",
       "      <td>max</td>\n",
       "      <td>3.5668</td>\n",
       "    </tr>\n",
       "    <tr>\n",
       "      <th rowspan=\"5\" valign=\"top\">derivative</th>\n",
       "      <th>19</th>\n",
       "      <td>mean</td>\n",
       "      <td>3.3306</td>\n",
       "    </tr>\n",
       "    <tr>\n",
       "      <th>20</th>\n",
       "      <td>std</td>\n",
       "      <td>0.1796</td>\n",
       "    </tr>\n",
       "    <tr>\n",
       "      <th>21</th>\n",
       "      <td>95% confidence interval</td>\n",
       "      <td>[3.2602, 3.401]</td>\n",
       "    </tr>\n",
       "    <tr>\n",
       "      <th>22</th>\n",
       "      <td>min</td>\n",
       "      <td>3.0466</td>\n",
       "    </tr>\n",
       "    <tr>\n",
       "      <th>23</th>\n",
       "      <td>max</td>\n",
       "      <td>3.5348</td>\n",
       "    </tr>\n",
       "    <tr>\n",
       "      <th rowspan=\"5\" valign=\"top\">mesh</th>\n",
       "      <th>32</th>\n",
       "      <td>mean</td>\n",
       "      <td>3.4356</td>\n",
       "    </tr>\n",
       "    <tr>\n",
       "      <th>33</th>\n",
       "      <td>std</td>\n",
       "      <td>0.0752</td>\n",
       "    </tr>\n",
       "    <tr>\n",
       "      <th>34</th>\n",
       "      <td>95% confidence interval</td>\n",
       "      <td>[3.4282, 3.443]</td>\n",
       "    </tr>\n",
       "    <tr>\n",
       "      <th>35</th>\n",
       "      <td>min</td>\n",
       "      <td>3.2461</td>\n",
       "    </tr>\n",
       "    <tr>\n",
       "      <th>36</th>\n",
       "      <td>max</td>\n",
       "      <td>3.5529</td>\n",
       "    </tr>\n",
       "  </tbody>\n",
       "</table>\n",
       "</div>"
      ],
      "text/plain": [
       "                        stat parameter            values\n",
       "GradBoost  35                     mean            3.6126\n",
       "           36                      std            0.0403\n",
       "           37  95% confidence interval  [3.6087, 3.6165]\n",
       "           38                      min            3.5353\n",
       "           39                      max            3.6843\n",
       "RF         34                     mean            3.4706\n",
       "           35                      std            0.0416\n",
       "           36  95% confidence interval  [3.4665, 3.4747]\n",
       "           37                      min            3.4054\n",
       "           38                      max            3.5668\n",
       "derivative 19                     mean            3.3306\n",
       "           20                      std            0.1796\n",
       "           21  95% confidence interval   [3.2602, 3.401]\n",
       "           22                      min            3.0466\n",
       "           23                      max            3.5348\n",
       "mesh       32                     mean            3.4356\n",
       "           33                      std            0.0752\n",
       "           34  95% confidence interval   [3.4282, 3.443]\n",
       "           35                      min            3.2461\n",
       "           36                      max            3.5529"
      ]
     },
     "execution_count": 24,
     "metadata": {},
     "output_type": "execute_result"
    }
   ],
   "source": [
    "dfs_stats"
   ]
  },
  {
   "cell_type": "code",
   "execution_count": 25,
   "metadata": {
    "collapsed": false
   },
   "outputs": [],
   "source": [
    "with open('results_comparison.csv', 'w') as handle: \n",
    "    dfs_stats.to_csv(handle)\n",
    "    params.to_csv(handle)"
   ]
  },
  {
   "cell_type": "code",
   "execution_count": 26,
   "metadata": {
    "collapsed": false
   },
   "outputs": [
    {
     "ename": "SyntaxError",
     "evalue": "unexpected EOF while parsing (<ipython-input-26-9ac3dbcc8ba6>, line 3)",
     "output_type": "error",
     "traceback": [
      "\u001b[1;36m  File \u001b[1;32m\"<ipython-input-26-9ac3dbcc8ba6>\"\u001b[1;36m, line \u001b[1;32m3\u001b[0m\n\u001b[1;33m    \u001b[0m\n\u001b[1;37m    ^\u001b[0m\n\u001b[1;31mSyntaxError\u001b[0m\u001b[1;31m:\u001b[0m unexpected EOF while parsing\n"
     ]
    }
   ],
   "source": [
    "result_df = pd.DataFrame(['expected', 'mean', 'std', '95% confidence interval'])\n",
    "for key, df in dfs.items(): \n",
    "    "
   ]
  },
  {
   "cell_type": "code",
   "execution_count": 4,
   "metadata": {
    "collapsed": true
   },
   "outputs": [],
   "source": [
    "N = 100000\n",
    "m = 6\n",
    "RF_n_trees = 20\n",
    "RF_max_leaf_nodes = 10\n",
    "M_run = 20\n",
    "n_picard = 10"
   ]
  },
  {
   "cell_type": "code",
   "execution_count": 5,
   "metadata": {
    "collapsed": false
   },
   "outputs": [
    {
     "name": "stdout",
     "output_type": "stream",
     "text": [
      "7.23915042094\n"
     ]
    }
   ],
   "source": [
    "start = time.time()\n",
    "a = np.zeros(M_run)\n",
    "for i in range(M_run):\n",
    "    start = time.time()\n",
    "    test = BSDE(S0, K, T, mu, sigma, q)\n",
    "    a[i] = test.get_price_lsm(R, r, N, m, n_picard=n_picard)\n",
    "    elapsed = time.time() - start\n",
    "print(a.mean())"
   ]
  },
  {
   "cell_type": "code",
   "execution_count": null,
   "metadata": {
    "collapsed": true
   },
   "outputs": [],
   "source": []
  }
 ],
 "metadata": {
  "kernelspec": {
   "display_name": "Python 3",
   "language": "python",
   "name": "python3"
  },
  "language_info": {
   "codemirror_mode": {
    "name": "ipython",
    "version": 3
   },
   "file_extension": ".py",
   "mimetype": "text/x-python",
   "name": "python",
   "nbconvert_exporter": "python",
   "pygments_lexer": "ipython3",
   "version": "3.5.2"
  }
 },
 "nbformat": 4,
 "nbformat_minor": 0
}
