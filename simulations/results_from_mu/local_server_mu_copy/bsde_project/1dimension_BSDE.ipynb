{
 "cells": [
  {
   "cell_type": "code",
   "execution_count": 1,
   "metadata": {
    "collapsed": false
   },
   "outputs": [],
   "source": [
    "from BSDE import *\n",
    "import warnings \n",
    "warnings.filterwarnings(\"ignore\")"
   ]
  },
  {
   "cell_type": "markdown",
   "metadata": {},
   "source": [
    "## 1D european call option with different interest rates\n",
    "\n",
    "Reference Price : 7.15 (Black-Scholes)\n",
    "_____"
   ]
  },
  {
   "cell_type": "markdown",
   "metadata": {},
   "source": [
    "### Using LSM "
   ]
  },
  {
   "cell_type": "code",
   "execution_count": 2,
   "metadata": {
    "collapsed": true
   },
   "outputs": [],
   "source": [
    "T = 0.5\n",
    "m = 6\n",
    "K = 100\n",
    "S0 = 100\n",
    "sigma = 0.2\n",
    "r = 0.04\n",
    "N = 50000\n",
    "mu = 0.06\n",
    "R = 0.06\n",
    "q = 0.\n",
    "RF_n_trees = 100\n",
    "RF_max_leaf_nodes = 50"
   ]
  },
  {
   "cell_type": "code",
   "execution_count": 3,
   "metadata": {
    "collapsed": false
   },
   "outputs": [
    {
     "name": "stdout",
     "output_type": "stream",
     "text": [
      "mean = 7.23520407404\n",
      "std = 0.0478790753926\n",
      "min = 7.14965479813\n",
      "max = 7.32868140619\n"
     ]
    }
   ],
   "source": [
    "M_run = 20\n",
    "\n",
    "a = np.zeros(M_run)\n",
    "for i in range (M_run): \n",
    "    test = BSDE (S0, K, T, mu, sigma, q)\n",
    "    a[i] = test.get_price_lsm(R, r, N, m, oType = \"European\", n_picard=20)\n",
    "min_a = min(a)\n",
    "max_a = max(a)\n",
    "mean_a = np.mean(a)\n",
    "std_a = np.std(a)\n",
    "print (\"mean = \" + str(mean_a)) \n",
    "print (\"std = \" + str(std_a)) \n",
    "print (\"min = \" + str(min_a)) \n",
    "print (\"max = \" + str(max_a)) "
   ]
  },
  {
   "cell_type": "markdown",
   "metadata": {},
   "source": [
    "### Using RandomForest"
   ]
  },
  {
   "cell_type": "code",
   "execution_count": 4,
   "metadata": {
    "collapsed": false
   },
   "outputs": [
    {
     "name": "stdout",
     "output_type": "stream",
     "text": [
      "mean = 7.22462425187\n",
      "std = 0.0314460453639\n",
      "min = 7.14930856747\n",
      "max = 7.28351680533\n"
     ]
    }
   ],
   "source": [
    "M_run = 20\n",
    "\n",
    "b = np.zeros(M_run)\n",
    "for i in range (M_run): \n",
    "    test = BSDE (S0, K, T, mu, sigma, q)\n",
    "    b[i] = test.get_price_RF(R, r, N, m, oType = 'European',n_picard=20)\n",
    "min_b = min(b)\n",
    "max_b = max(b)\n",
    "mean_b = np.mean(b)\n",
    "std_b = np.std(b)\n",
    "print (\"mean = \" + str(mean_b)) \n",
    "print (\"std = \" + str(std_b)) \n",
    "print (\"min = \" + str(min_b)) \n",
    "print (\"max = \" + str(max_b)) "
   ]
  },
  {
   "cell_type": "markdown",
   "metadata": {},
   "source": [
    "__________\n",
    "\n",
    "## 1D european combined call option with different interest rates\n",
    "\n",
    "Reference Price : 2.95 (Gobet)\n",
    "\n",
    "_____\n"
   ]
  },
  {
   "cell_type": "code",
   "execution_count": 5,
   "metadata": {
    "collapsed": false
   },
   "outputs": [],
   "source": [
    "T = 0.25\n",
    "m = 6\n",
    "K = 100\n",
    "S0 = 100\n",
    "sigma = 0.2\n",
    "r = 0.01\n",
    "N = 10000\n",
    "mu = 0.05\n",
    "R = 0.06\n",
    "q = 0.\n",
    "RF_n_trees = 200\n",
    "RF_max_leaf_nodes = 100"
   ]
  },
  {
   "cell_type": "markdown",
   "metadata": {},
   "source": [
    "### Using LSM "
   ]
  },
  {
   "cell_type": "code",
   "execution_count": 6,
   "metadata": {
    "collapsed": false
   },
   "outputs": [
    {
     "name": "stdout",
     "output_type": "stream",
     "text": [
      "mean = 2.79156671057\n",
      "std = 0.0394982378547\n",
      "min = 2.71416917422\n",
      "max = 2.85696425885\n"
     ]
    }
   ],
   "source": [
    "M_run = 20\n",
    "\n",
    "c = np.zeros(M_run)\n",
    "for i in range (M_run): \n",
    "    test = BSDE (S0, K, T, mu, sigma, q)\n",
    "    c[i] = test.get_price_lsm(R, r, N, m, oPayoff = \"call combination\", oType = \"European\", n_picard=20)\n",
    "min_c = min(c)\n",
    "max_c = max(c)\n",
    "mean_c = np.mean(c)\n",
    "std_c = np.std(c)\n",
    "print (\"mean = \" + str(mean_c)) \n",
    "print (\"std = \" + str(std_c)) \n",
    "print (\"min = \" + str(min_c)) \n",
    "print (\"max = \" + str(max_c)) "
   ]
  },
  {
   "cell_type": "markdown",
   "metadata": {},
   "source": [
    "### Using RF "
   ]
  },
  {
   "cell_type": "code",
   "execution_count": 7,
   "metadata": {
    "collapsed": false
   },
   "outputs": [
    {
     "name": "stdout",
     "output_type": "stream",
     "text": [
      "mean = 2.79575519439\n",
      "std = 0.0347848496573\n",
      "min = 2.73477991005\n",
      "max = 2.8607828378\n"
     ]
    }
   ],
   "source": [
    "M_run = 20\n",
    "\n",
    "d = np.zeros(M_run)\n",
    "for i in range (M_run): \n",
    "    test = BSDE (S0, K, T, mu, sigma, q)\n",
    "    d[i] = test.get_price_RF(R, r, N, m,oPayoff = \"call combination\", oType = 'European', n_picard=20)\n",
    "min_d = min(d)\n",
    "max_d = max(d)\n",
    "mean_d = np.mean(d)\n",
    "std_d = np.std(d)\n",
    "print (\"mean = \" + str(mean_d)) \n",
    "print (\"std = \" + str(std_d)) \n",
    "print (\"min = \" + str(min_d)) \n",
    "print (\"max = \" + str(max_d)) "
   ]
  },
  {
   "cell_type": "markdown",
   "metadata": {},
   "source": [
    "## p Dimensions max call option \n",
    "\n",
    "Reference Price : 23.052 (Glasserman)"
   ]
  },
  {
   "cell_type": "code",
   "execution_count": 8,
   "metadata": {
    "collapsed": true
   },
   "outputs": [],
   "source": [
    "\n",
    "\n",
    "T = 3.\n",
    "m = 8\n",
    "p = 5\n",
    "K = 100.\n",
    "r = 0.05\n",
    "R = 0.05\n",
    "M = np.eye(p)\n",
    "S_init = 100.\n",
    "mu = 0.05\n",
    "sigma = 0.2 \n",
    "N = 4000\n",
    "Q = 0.1\n",
    "RF_n_trees = 200\n",
    "RF_max_leaf_nodes = 100"
   ]
  },
  {
   "cell_type": "code",
   "execution_count": 9,
   "metadata": {
    "collapsed": false
   },
   "outputs": [
    {
     "name": "stdout",
     "output_type": "stream",
     "text": [
      "mean = 22.7611005153\n",
      "std = 0.33047353826\n",
      "min = 22.0194231374\n",
      "max = 23.3200031127\n"
     ]
    }
   ],
   "source": [
    "M_run = 20\n",
    "\n",
    "e = np.zeros(M_run)\n",
    "for i in range (M_run): \n",
    "    test_hd = BsdeHD(T, K, M, mu, Q, sigma, S_init, r, R)\n",
    "    e[i] = test_hd.get_price(N,m, RF_n_trees,RF_max_leaf_nodes,\n",
    "                  option_type = 'call', option_payoff = 'max', oType= 'European', n_picard= 0)\n",
    "    \n",
    "min_e = min(e)\n",
    "max_e = max(e)\n",
    "mean_e = np.mean(e)\n",
    "std_e = np.std(e)\n",
    "print (\"mean = \" + str(mean_e)) \n",
    "print (\"std = \" + str(std_e)) \n",
    "print (\"min = \" + str(min_e)) \n",
    "print (\"max = \" + str(max_e)) "
   ]
  }
 ],
 "metadata": {
  "kernelspec": {
   "display_name": "Python 2",
   "language": "python",
   "name": "python2"
  },
  "language_info": {
   "codemirror_mode": {
    "name": "ipython",
    "version": 2
   },
   "file_extension": ".py",
   "mimetype": "text/x-python",
   "name": "python",
   "nbconvert_exporter": "python",
   "pygments_lexer": "ipython2",
   "version": "2.7.5"
  }
 },
 "nbformat": 4,
 "nbformat_minor": 0
}
