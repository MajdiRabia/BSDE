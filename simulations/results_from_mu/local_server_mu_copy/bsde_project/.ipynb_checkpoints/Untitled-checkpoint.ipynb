{
 "cells": [
  {
   "cell_type": "code",
   "execution_count": null,
   "metadata": {
    "collapsed": true
   },
   "outputs": [],
   "source": [
    "from BSDE import *\n",
    "import warnings \n",
    "warnings.filterwarnings(\"ignore\")\n",
    "T = 0.5\n",
    "m = 6\n",
    "K = 100\n",
    "S0 = 100\n",
    "sigma = 0.2\n",
    "r = 0.04\n",
    "N = 50000\n",
    "mu = 0.06\n",
    "R = 0.06\n",
    "q = 0.\n",
    "RF_n_trees = 100\n",
    "RF_max_leaf_nodes = 50\n",
    "M_run = 20\n",
    "\n",
    "a = np.zeros(M_run)\n",
    "for i in range (M_run): \n",
    "    test = BSDE (S0, K, T, mu, sigma, q)\n",
    "    a[i] = test.get_price_lsm(R, r, N, m, oType = \"European\", n_picard=20)\n",
    "min_a = min(a)\n",
    "max_a = max(a)\n",
    "mean_a = np.mean(a)\n",
    "std_a = np.std(a)\n",
    "print (\"mean = \" + str(mean_a)) \n",
    "print (\"std = \" + str(std_a)) \n",
    "print (\"min = \" + str(min_a)) \n",
    "print (\"max = \" + str(max_a)) "
   ]
  }
 ],
 "metadata": {
  "kernelspec": {
   "display_name": "Python 2",
   "language": "python",
   "name": "python2"
  },
  "language_info": {
   "codemirror_mode": {
    "name": "ipython",
    "version": 2
   },
   "file_extension": ".py",
   "mimetype": "text/x-python",
   "name": "python",
   "nbconvert_exporter": "python",
   "pygments_lexer": "ipython2",
   "version": "2.7.5"
  }
 },
 "nbformat": 4,
 "nbformat_minor": 1
}
