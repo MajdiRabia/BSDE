{
 "cells": [
  {
   "cell_type": "code",
   "execution_count": 1,
   "metadata": {
    "collapsed": true
   },
   "outputs": [],
   "source": [
    "import os\n",
    "import sys\n",
    "module_path = os.path.abspath(os.path.join('../'))\n",
    "if module_path not in sys.path:\n",
    "    sys.path.append(module_path)"
   ]
  },
  {
   "cell_type": "code",
   "execution_count": 1,
   "metadata": {
    "collapsed": true
   },
   "outputs": [],
   "source": [
    "import pandas as pd"
   ]
  },
  {
   "cell_type": "code",
   "execution_count": 2,
   "metadata": {
    "collapsed": true
   },
   "outputs": [],
   "source": [
    "import os"
   ]
  },
  {
   "cell_type": "code",
   "execution_count": 7,
   "metadata": {
    "collapsed": false
   },
   "outputs": [],
   "source": [
    "folders = os.listdir()"
   ]
  },
  {
   "cell_type": "code",
   "execution_count": 14,
   "metadata": {
    "collapsed": false
   },
   "outputs": [
    {
     "data": {
      "text/plain": [
       "['Derivative', 'GradBoosting', 'LSM', 'Mesh', 'RandomForest']"
      ]
     },
     "execution_count": 14,
     "metadata": {},
     "output_type": "execute_result"
    }
   ],
   "source": [
    "folders"
   ]
  },
  {
   "cell_type": "code",
   "execution_count": 23,
   "metadata": {
    "collapsed": false
   },
   "outputs": [],
   "source": [
    "import glob\n",
    "path = os.getcwd()"
   ]
  },
  {
   "cell_type": "code",
   "execution_count": 24,
   "metadata": {
    "collapsed": false
   },
   "outputs": [
    {
     "data": {
      "text/plain": [
       "'C:\\\\Users\\\\Majdi\\\\Dropbox\\\\MSc thesis\\\\Simulations\\\\Main\\\\Bid_ask_european_call_1_dim'"
      ]
     },
     "execution_count": 24,
     "metadata": {},
     "output_type": "execute_result"
    }
   ],
   "source": [
    "path"
   ]
  },
  {
   "cell_type": "code",
   "execution_count": 37,
   "metadata": {
    "collapsed": false
   },
   "outputs": [],
   "source": [
    "SEP = os.sep.join('/')"
   ]
  },
  {
   "cell_type": "code",
   "execution_count": 47,
   "metadata": {
    "collapsed": false
   },
   "outputs": [
    {
     "name": "stdout",
     "output_type": "stream",
     "text": [
      "C:\\Users\\Majdi\\Dropbox\\MSc thesis\\Simulations\\Main\\Bid_ask_european_call_1_dim/Derivative\\output_derivative.csv\n"
     ]
    },
    {
     "ename": "IndexError",
     "evalue": "list index out of range",
     "output_type": "error",
     "traceback": [
      "\u001b[1;31m---------------------------------------------------------------------------\u001b[0m",
      "\u001b[1;31mIndexError\u001b[0m                                Traceback (most recent call last)",
      "\u001b[1;32m<ipython-input-47-2547f061a052>\u001b[0m in \u001b[0;36m<module>\u001b[1;34m()\u001b[0m\n\u001b[0;32m      1\u001b[0m \u001b[1;32mfor\u001b[0m \u001b[0mfolder\u001b[0m \u001b[1;32min\u001b[0m \u001b[0mfolders\u001b[0m\u001b[1;33m:\u001b[0m\u001b[1;33m\u001b[0m\u001b[0m\n\u001b[0;32m      2\u001b[0m     \u001b[0mfilename\u001b[0m \u001b[1;33m=\u001b[0m \u001b[0mglob\u001b[0m\u001b[1;33m.\u001b[0m\u001b[0mglob\u001b[0m\u001b[1;33m(\u001b[0m\u001b[0mpath\u001b[0m \u001b[1;33m+\u001b[0m \u001b[0mSEP\u001b[0m \u001b[1;33m+\u001b[0m \u001b[0mfolder\u001b[0m \u001b[1;33m+\u001b[0m \u001b[1;34m'/*.csv'\u001b[0m\u001b[1;33m)\u001b[0m\u001b[1;33m\u001b[0m\u001b[0m\n\u001b[1;32m----> 3\u001b[1;33m     \u001b[0mprint\u001b[0m \u001b[1;33m(\u001b[0m\u001b[0mfilename\u001b[0m\u001b[1;33m[\u001b[0m\u001b[1;33m-\u001b[0m\u001b[1;36m1\u001b[0m\u001b[1;33m]\u001b[0m\u001b[1;33m)\u001b[0m\u001b[1;33m\u001b[0m\u001b[0m\n\u001b[0m",
      "\u001b[1;31mIndexError\u001b[0m: list index out of range"
     ]
    }
   ],
   "source": [
    "for folder in folders:\n",
    "    filename = glob.glob(path + SEP + folder + '/*.csv')\n",
    "    print (filename[-1])"
   ]
  },
  {
   "cell_type": "code",
   "execution_count": 117,
   "metadata": {
    "collapsed": false
   },
   "outputs": [
    {
     "name": "stdout",
     "output_type": "stream",
     "text": [
      "['C:\\\\Users\\\\Majdi\\\\Dropbox\\\\MSc thesis\\\\Simulations\\\\Main\\\\Bid_ask_european_call_1_dim/Derivative\\\\output_derivative.csv']\n",
      "[]\n",
      "['C:\\\\Users\\\\Majdi\\\\Dropbox\\\\MSc thesis\\\\Simulations\\\\Main\\\\Bid_ask_european_call_1_dim/LSM\\\\output_lsm.csv']\n",
      "['C:\\\\Users\\\\Majdi\\\\Dropbox\\\\MSc thesis\\\\Simulations\\\\Main\\\\Bid_ask_european_call_1_dim/Mesh\\\\output_mesh.csv']\n",
      "['C:\\\\Users\\\\Majdi\\\\Dropbox\\\\MSc thesis\\\\Simulations\\\\Main\\\\Bid_ask_european_call_1_dim/RandomForest\\\\output_rf.csv']\n"
     ]
    }
   ],
   "source": [
    "dfs = {}\n",
    "\n",
    "for folder in folders:\n",
    "    filename = glob.glob(path + SEP + folder + '\\*.csv')\n",
    "    print (filename)\n",
    "    if len (filename) > 0 : \n",
    "        dfs[folder] = pd.read_csv(filename[0], index_col=False)"
   ]
  },
  {
   "cell_type": "code",
   "execution_count": 118,
   "metadata": {
    "collapsed": false
   },
   "outputs": [
    {
     "data": {
      "text/html": [
       "<div>\n",
       "<table border=\"1\" class=\"dataframe\">\n",
       "  <thead>\n",
       "    <tr style=\"text-align: right;\">\n",
       "      <th></th>\n",
       "      <th>expected</th>\n",
       "      <th>mean</th>\n",
       "      <th>std</th>\n",
       "      <th>95% confidence interval</th>\n",
       "    </tr>\n",
       "  </thead>\n",
       "  <tbody>\n",
       "  </tbody>\n",
       "</table>\n",
       "</div>"
      ],
      "text/plain": [
       "Empty DataFrame\n",
       "Columns: [expected, mean, std, 95% confidence interval]\n",
       "Index: []"
      ]
     },
     "execution_count": 118,
     "metadata": {},
     "output_type": "execute_result"
    }
   ],
   "source": [
    "result_df = pd.DataFrame(columns=['expected', 'mean', 'std', '95% confidence interval'])\n",
    "result_df"
   ]
  },
  {
   "cell_type": "code",
   "execution_count": 121,
   "metadata": {
    "collapsed": false
   },
   "outputs": [
    {
     "data": {
      "text/html": [
       "<div>\n",
       "<table border=\"1\" class=\"dataframe\">\n",
       "  <thead>\n",
       "    <tr style=\"text-align: right;\">\n",
       "      <th></th>\n",
       "      <th>Unnamed: 0</th>\n",
       "      <th>Parameters</th>\n",
       "      <th>Specific Parameters</th>\n",
       "      <th>run</th>\n",
       "      <th>stat parameter</th>\n",
       "      <th>time</th>\n",
       "      <th>values</th>\n",
       "    </tr>\n",
       "  </thead>\n",
       "  <tbody>\n",
       "    <tr>\n",
       "      <th>0</th>\n",
       "      <td>0</td>\n",
       "      <td>q</td>\n",
       "      <td>NaN</td>\n",
       "      <td>NaN</td>\n",
       "      <td>NaN</td>\n",
       "      <td>NaN</td>\n",
       "      <td>0.0</td>\n",
       "    </tr>\n",
       "    <tr>\n",
       "      <th>1</th>\n",
       "      <td>1</td>\n",
       "      <td>mu</td>\n",
       "      <td>NaN</td>\n",
       "      <td>NaN</td>\n",
       "      <td>NaN</td>\n",
       "      <td>NaN</td>\n",
       "      <td>0.06</td>\n",
       "    </tr>\n",
       "    <tr>\n",
       "      <th>2</th>\n",
       "      <td>2</td>\n",
       "      <td>R</td>\n",
       "      <td>NaN</td>\n",
       "      <td>NaN</td>\n",
       "      <td>NaN</td>\n",
       "      <td>NaN</td>\n",
       "      <td>0.06</td>\n",
       "    </tr>\n",
       "    <tr>\n",
       "      <th>3</th>\n",
       "      <td>3</td>\n",
       "      <td>r</td>\n",
       "      <td>NaN</td>\n",
       "      <td>NaN</td>\n",
       "      <td>NaN</td>\n",
       "      <td>NaN</td>\n",
       "      <td>0.04</td>\n",
       "    </tr>\n",
       "    <tr>\n",
       "      <th>4</th>\n",
       "      <td>4</td>\n",
       "      <td>sigma</td>\n",
       "      <td>NaN</td>\n",
       "      <td>NaN</td>\n",
       "      <td>NaN</td>\n",
       "      <td>NaN</td>\n",
       "      <td>0.2</td>\n",
       "    </tr>\n",
       "    <tr>\n",
       "      <th>5</th>\n",
       "      <td>5</td>\n",
       "      <td>T</td>\n",
       "      <td>NaN</td>\n",
       "      <td>NaN</td>\n",
       "      <td>NaN</td>\n",
       "      <td>NaN</td>\n",
       "      <td>0.5</td>\n",
       "    </tr>\n",
       "    <tr>\n",
       "      <th>6</th>\n",
       "      <td>6</td>\n",
       "      <td>K</td>\n",
       "      <td>NaN</td>\n",
       "      <td>NaN</td>\n",
       "      <td>NaN</td>\n",
       "      <td>NaN</td>\n",
       "      <td>100.0</td>\n",
       "    </tr>\n",
       "    <tr>\n",
       "      <th>7</th>\n",
       "      <td>7</td>\n",
       "      <td>S0</td>\n",
       "      <td>NaN</td>\n",
       "      <td>NaN</td>\n",
       "      <td>NaN</td>\n",
       "      <td>NaN</td>\n",
       "      <td>100.0</td>\n",
       "    </tr>\n",
       "    <tr>\n",
       "      <th>8</th>\n",
       "      <td>0</td>\n",
       "      <td>NaN</td>\n",
       "      <td>N_particles</td>\n",
       "      <td>NaN</td>\n",
       "      <td>NaN</td>\n",
       "      <td>NaN</td>\n",
       "      <td>100000</td>\n",
       "    </tr>\n",
       "    <tr>\n",
       "      <th>9</th>\n",
       "      <td>1</td>\n",
       "      <td>NaN</td>\n",
       "      <td>m_discretization</td>\n",
       "      <td>NaN</td>\n",
       "      <td>NaN</td>\n",
       "      <td>NaN</td>\n",
       "      <td>12</td>\n",
       "    </tr>\n",
       "    <tr>\n",
       "      <th>10</th>\n",
       "      <td>2</td>\n",
       "      <td>NaN</td>\n",
       "      <td>N_run</td>\n",
       "      <td>NaN</td>\n",
       "      <td>NaN</td>\n",
       "      <td>NaN</td>\n",
       "      <td>20</td>\n",
       "    </tr>\n",
       "    <tr>\n",
       "      <th>11</th>\n",
       "      <td>3</td>\n",
       "      <td>NaN</td>\n",
       "      <td>n_picard</td>\n",
       "      <td>NaN</td>\n",
       "      <td>NaN</td>\n",
       "      <td>NaN</td>\n",
       "      <td>20</td>\n",
       "    </tr>\n",
       "    <tr>\n",
       "      <th>12</th>\n",
       "      <td>4</td>\n",
       "      <td>NaN</td>\n",
       "      <td>polynomial degree</td>\n",
       "      <td>NaN</td>\n",
       "      <td>NaN</td>\n",
       "      <td>NaN</td>\n",
       "      <td>8</td>\n",
       "    </tr>\n",
       "    <tr>\n",
       "      <th>13</th>\n",
       "      <td>0</td>\n",
       "      <td>NaN</td>\n",
       "      <td>NaN</td>\n",
       "      <td>run 1</td>\n",
       "      <td>NaN</td>\n",
       "      <td>18.079</td>\n",
       "      <td>7.151199992593997</td>\n",
       "    </tr>\n",
       "    <tr>\n",
       "      <th>14</th>\n",
       "      <td>1</td>\n",
       "      <td>NaN</td>\n",
       "      <td>NaN</td>\n",
       "      <td>run 2</td>\n",
       "      <td>NaN</td>\n",
       "      <td>14.922</td>\n",
       "      <td>7.188828857501222</td>\n",
       "    </tr>\n",
       "    <tr>\n",
       "      <th>15</th>\n",
       "      <td>2</td>\n",
       "      <td>NaN</td>\n",
       "      <td>NaN</td>\n",
       "      <td>run 3</td>\n",
       "      <td>NaN</td>\n",
       "      <td>14.487</td>\n",
       "      <td>7.142290549795476</td>\n",
       "    </tr>\n",
       "    <tr>\n",
       "      <th>16</th>\n",
       "      <td>3</td>\n",
       "      <td>NaN</td>\n",
       "      <td>NaN</td>\n",
       "      <td>run 4</td>\n",
       "      <td>NaN</td>\n",
       "      <td>14.350</td>\n",
       "      <td>7.120731997644238</td>\n",
       "    </tr>\n",
       "    <tr>\n",
       "      <th>17</th>\n",
       "      <td>4</td>\n",
       "      <td>NaN</td>\n",
       "      <td>NaN</td>\n",
       "      <td>run 5</td>\n",
       "      <td>NaN</td>\n",
       "      <td>13.214</td>\n",
       "      <td>7.209340663927478</td>\n",
       "    </tr>\n",
       "    <tr>\n",
       "      <th>18</th>\n",
       "      <td>5</td>\n",
       "      <td>NaN</td>\n",
       "      <td>NaN</td>\n",
       "      <td>run 6</td>\n",
       "      <td>NaN</td>\n",
       "      <td>12.927</td>\n",
       "      <td>7.224226432927438</td>\n",
       "    </tr>\n",
       "    <tr>\n",
       "      <th>19</th>\n",
       "      <td>6</td>\n",
       "      <td>NaN</td>\n",
       "      <td>NaN</td>\n",
       "      <td>run 7</td>\n",
       "      <td>NaN</td>\n",
       "      <td>13.418</td>\n",
       "      <td>7.188252171465339</td>\n",
       "    </tr>\n",
       "    <tr>\n",
       "      <th>20</th>\n",
       "      <td>7</td>\n",
       "      <td>NaN</td>\n",
       "      <td>NaN</td>\n",
       "      <td>run 8</td>\n",
       "      <td>NaN</td>\n",
       "      <td>12.880</td>\n",
       "      <td>7.179185018468533</td>\n",
       "    </tr>\n",
       "    <tr>\n",
       "      <th>21</th>\n",
       "      <td>8</td>\n",
       "      <td>NaN</td>\n",
       "      <td>NaN</td>\n",
       "      <td>run 9</td>\n",
       "      <td>NaN</td>\n",
       "      <td>17.001</td>\n",
       "      <td>7.158042146583618</td>\n",
       "    </tr>\n",
       "    <tr>\n",
       "      <th>22</th>\n",
       "      <td>9</td>\n",
       "      <td>NaN</td>\n",
       "      <td>NaN</td>\n",
       "      <td>run 10</td>\n",
       "      <td>NaN</td>\n",
       "      <td>21.086</td>\n",
       "      <td>7.200084326315738</td>\n",
       "    </tr>\n",
       "    <tr>\n",
       "      <th>23</th>\n",
       "      <td>10</td>\n",
       "      <td>NaN</td>\n",
       "      <td>NaN</td>\n",
       "      <td>run 11</td>\n",
       "      <td>NaN</td>\n",
       "      <td>12.950</td>\n",
       "      <td>7.130206054661128</td>\n",
       "    </tr>\n",
       "    <tr>\n",
       "      <th>24</th>\n",
       "      <td>11</td>\n",
       "      <td>NaN</td>\n",
       "      <td>NaN</td>\n",
       "      <td>run 12</td>\n",
       "      <td>NaN</td>\n",
       "      <td>12.923</td>\n",
       "      <td>7.104888014980865</td>\n",
       "    </tr>\n",
       "    <tr>\n",
       "      <th>25</th>\n",
       "      <td>12</td>\n",
       "      <td>NaN</td>\n",
       "      <td>NaN</td>\n",
       "      <td>run 13</td>\n",
       "      <td>NaN</td>\n",
       "      <td>13.128</td>\n",
       "      <td>7.090721092033565</td>\n",
       "    </tr>\n",
       "    <tr>\n",
       "      <th>26</th>\n",
       "      <td>13</td>\n",
       "      <td>NaN</td>\n",
       "      <td>NaN</td>\n",
       "      <td>run 14</td>\n",
       "      <td>NaN</td>\n",
       "      <td>21.236</td>\n",
       "      <td>7.132794679452121</td>\n",
       "    </tr>\n",
       "    <tr>\n",
       "      <th>27</th>\n",
       "      <td>14</td>\n",
       "      <td>NaN</td>\n",
       "      <td>NaN</td>\n",
       "      <td>run 15</td>\n",
       "      <td>NaN</td>\n",
       "      <td>18.226</td>\n",
       "      <td>7.178722140712304</td>\n",
       "    </tr>\n",
       "    <tr>\n",
       "      <th>28</th>\n",
       "      <td>15</td>\n",
       "      <td>NaN</td>\n",
       "      <td>NaN</td>\n",
       "      <td>run 16</td>\n",
       "      <td>NaN</td>\n",
       "      <td>13.165</td>\n",
       "      <td>7.137118108643595</td>\n",
       "    </tr>\n",
       "    <tr>\n",
       "      <th>29</th>\n",
       "      <td>16</td>\n",
       "      <td>NaN</td>\n",
       "      <td>NaN</td>\n",
       "      <td>run 17</td>\n",
       "      <td>NaN</td>\n",
       "      <td>13.108</td>\n",
       "      <td>7.106844865334408</td>\n",
       "    </tr>\n",
       "    <tr>\n",
       "      <th>30</th>\n",
       "      <td>17</td>\n",
       "      <td>NaN</td>\n",
       "      <td>NaN</td>\n",
       "      <td>run 18</td>\n",
       "      <td>NaN</td>\n",
       "      <td>24.199</td>\n",
       "      <td>7.133945895924115</td>\n",
       "    </tr>\n",
       "    <tr>\n",
       "      <th>31</th>\n",
       "      <td>18</td>\n",
       "      <td>NaN</td>\n",
       "      <td>NaN</td>\n",
       "      <td>run 19</td>\n",
       "      <td>NaN</td>\n",
       "      <td>14.514</td>\n",
       "      <td>7.13937385569633</td>\n",
       "    </tr>\n",
       "    <tr>\n",
       "      <th>32</th>\n",
       "      <td>19</td>\n",
       "      <td>NaN</td>\n",
       "      <td>NaN</td>\n",
       "      <td>run 20</td>\n",
       "      <td>NaN</td>\n",
       "      <td>21.677</td>\n",
       "      <td>7.188944850313048</td>\n",
       "    </tr>\n",
       "    <tr>\n",
       "      <th>33</th>\n",
       "      <td>0</td>\n",
       "      <td>NaN</td>\n",
       "      <td>NaN</td>\n",
       "      <td>NaN</td>\n",
       "      <td>mean</td>\n",
       "      <td>NaN</td>\n",
       "      <td>7.1553</td>\n",
       "    </tr>\n",
       "    <tr>\n",
       "      <th>34</th>\n",
       "      <td>1</td>\n",
       "      <td>NaN</td>\n",
       "      <td>NaN</td>\n",
       "      <td>NaN</td>\n",
       "      <td>std</td>\n",
       "      <td>NaN</td>\n",
       "      <td>0.0375</td>\n",
       "    </tr>\n",
       "    <tr>\n",
       "      <th>35</th>\n",
       "      <td>2</td>\n",
       "      <td>NaN</td>\n",
       "      <td>NaN</td>\n",
       "      <td>NaN</td>\n",
       "      <td>95% confidence interval</td>\n",
       "      <td>NaN</td>\n",
       "      <td>[7.1516, 7.159]</td>\n",
       "    </tr>\n",
       "    <tr>\n",
       "      <th>36</th>\n",
       "      <td>3</td>\n",
       "      <td>NaN</td>\n",
       "      <td>NaN</td>\n",
       "      <td>NaN</td>\n",
       "      <td>min</td>\n",
       "      <td>NaN</td>\n",
       "      <td>7.0907</td>\n",
       "    </tr>\n",
       "    <tr>\n",
       "      <th>37</th>\n",
       "      <td>4</td>\n",
       "      <td>NaN</td>\n",
       "      <td>NaN</td>\n",
       "      <td>NaN</td>\n",
       "      <td>max</td>\n",
       "      <td>NaN</td>\n",
       "      <td>7.2242</td>\n",
       "    </tr>\n",
       "  </tbody>\n",
       "</table>\n",
       "</div>"
      ],
      "text/plain": [
       "    Unnamed: 0 Parameters Specific Parameters     run  \\\n",
       "0            0          q                 NaN     NaN   \n",
       "1            1         mu                 NaN     NaN   \n",
       "2            2         R                  NaN     NaN   \n",
       "3            3         r                  NaN     NaN   \n",
       "4            4      sigma                 NaN     NaN   \n",
       "5            5          T                 NaN     NaN   \n",
       "6            6          K                 NaN     NaN   \n",
       "7            7         S0                 NaN     NaN   \n",
       "8            0        NaN         N_particles     NaN   \n",
       "9            1        NaN    m_discretization     NaN   \n",
       "10           2        NaN               N_run     NaN   \n",
       "11           3        NaN            n_picard     NaN   \n",
       "12           4        NaN   polynomial degree     NaN   \n",
       "13           0        NaN                 NaN   run 1   \n",
       "14           1        NaN                 NaN   run 2   \n",
       "15           2        NaN                 NaN   run 3   \n",
       "16           3        NaN                 NaN   run 4   \n",
       "17           4        NaN                 NaN   run 5   \n",
       "18           5        NaN                 NaN   run 6   \n",
       "19           6        NaN                 NaN   run 7   \n",
       "20           7        NaN                 NaN   run 8   \n",
       "21           8        NaN                 NaN   run 9   \n",
       "22           9        NaN                 NaN  run 10   \n",
       "23          10        NaN                 NaN  run 11   \n",
       "24          11        NaN                 NaN  run 12   \n",
       "25          12        NaN                 NaN  run 13   \n",
       "26          13        NaN                 NaN  run 14   \n",
       "27          14        NaN                 NaN  run 15   \n",
       "28          15        NaN                 NaN  run 16   \n",
       "29          16        NaN                 NaN  run 17   \n",
       "30          17        NaN                 NaN  run 18   \n",
       "31          18        NaN                 NaN  run 19   \n",
       "32          19        NaN                 NaN  run 20   \n",
       "33           0        NaN                 NaN     NaN   \n",
       "34           1        NaN                 NaN     NaN   \n",
       "35           2        NaN                 NaN     NaN   \n",
       "36           3        NaN                 NaN     NaN   \n",
       "37           4        NaN                 NaN     NaN   \n",
       "\n",
       "             stat parameter    time             values  \n",
       "0                       NaN     NaN                0.0  \n",
       "1                       NaN     NaN               0.06  \n",
       "2                       NaN     NaN               0.06  \n",
       "3                       NaN     NaN               0.04  \n",
       "4                       NaN     NaN                0.2  \n",
       "5                       NaN     NaN                0.5  \n",
       "6                       NaN     NaN              100.0  \n",
       "7                       NaN     NaN              100.0  \n",
       "8                       NaN     NaN             100000  \n",
       "9                       NaN     NaN                 12  \n",
       "10                      NaN     NaN                 20  \n",
       "11                      NaN     NaN                 20  \n",
       "12                      NaN     NaN                  8  \n",
       "13                      NaN  18.079  7.151199992593997  \n",
       "14                      NaN  14.922  7.188828857501222  \n",
       "15                      NaN  14.487  7.142290549795476  \n",
       "16                      NaN  14.350  7.120731997644238  \n",
       "17                      NaN  13.214  7.209340663927478  \n",
       "18                      NaN  12.927  7.224226432927438  \n",
       "19                      NaN  13.418  7.188252171465339  \n",
       "20                      NaN  12.880  7.179185018468533  \n",
       "21                      NaN  17.001  7.158042146583618  \n",
       "22                      NaN  21.086  7.200084326315738  \n",
       "23                      NaN  12.950  7.130206054661128  \n",
       "24                      NaN  12.923  7.104888014980865  \n",
       "25                      NaN  13.128  7.090721092033565  \n",
       "26                      NaN  21.236  7.132794679452121  \n",
       "27                      NaN  18.226  7.178722140712304  \n",
       "28                      NaN  13.165  7.137118108643595  \n",
       "29                      NaN  13.108  7.106844865334408  \n",
       "30                      NaN  24.199  7.133945895924115  \n",
       "31                      NaN  14.514   7.13937385569633  \n",
       "32                      NaN  21.677  7.188944850313048  \n",
       "33                     mean     NaN             7.1553  \n",
       "34                      std     NaN             0.0375  \n",
       "35  95% confidence interval     NaN    [7.1516, 7.159]  \n",
       "36                      min     NaN             7.0907  \n",
       "37                      max     NaN             7.2242  "
      ]
     },
     "execution_count": 121,
     "metadata": {},
     "output_type": "execute_result"
    }
   ],
   "source": [
    "test = dfs['LSM']\n",
    "test"
   ]
  },
  {
   "cell_type": "code",
   "execution_count": 62,
   "metadata": {
    "collapsed": false
   },
   "outputs": [
    {
     "ename": "SyntaxError",
     "evalue": "invalid syntax (<ipython-input-62-87aab24fbe67>, line 1)",
     "output_type": "error",
     "traceback": [
      "\u001b[1;36m  File \u001b[1;32m\"<ipython-input-62-87aab24fbe67>\"\u001b[1;36m, line \u001b[1;32m1\u001b[0m\n\u001b[1;33m    link = lamba x: df[-1]\u001b[0m\n\u001b[1;37m                 ^\u001b[0m\n\u001b[1;31mSyntaxError\u001b[0m\u001b[1;31m:\u001b[0m invalid syntax\n"
     ]
    }
   ],
   "source": [
    "link = lamba x: df[-1]"
   ]
  },
  {
   "cell_type": "code",
   "execution_count": 84,
   "metadata": {
    "collapsed": false
   },
   "outputs": [],
   "source": [
    "params = test['Parameters'].dropna()"
   ]
  },
  {
   "cell_type": "code",
   "execution_count": 134,
   "metadata": {
    "collapsed": false
   },
   "outputs": [],
   "source": [
    "params = test[['Parameters', 'values']].dropna()"
   ]
  },
  {
   "cell_type": "code",
   "execution_count": 128,
   "metadata": {
    "collapsed": false
   },
   "outputs": [],
   "source": [
    "dfs_stats=[]\n",
    "for key, df in dfs.items(): \n",
    "    df = df[['stat parameter', 'values']].dropna()\n",
    "    dfs_stats.append(pd.DataFrame(data = df))\n",
    "dfs_stats.append(params)\n",
    "dfs_stats = pd.concat(dfs_stats, keys = dfs.keys())"
   ]
  },
  {
   "cell_type": "code",
   "execution_count": 129,
   "metadata": {
    "collapsed": false
   },
   "outputs": [
    {
     "data": {
      "text/html": [
       "<div>\n",
       "<table border=\"1\" class=\"dataframe\">\n",
       "  <thead>\n",
       "    <tr style=\"text-align: right;\">\n",
       "      <th></th>\n",
       "      <th></th>\n",
       "      <th>stat parameter</th>\n",
       "      <th>values</th>\n",
       "    </tr>\n",
       "  </thead>\n",
       "  <tbody>\n",
       "    <tr>\n",
       "      <th rowspan=\"5\" valign=\"top\">LSM</th>\n",
       "      <th>33</th>\n",
       "      <td>mean</td>\n",
       "      <td>7.1553</td>\n",
       "    </tr>\n",
       "    <tr>\n",
       "      <th>34</th>\n",
       "      <td>std</td>\n",
       "      <td>0.0375</td>\n",
       "    </tr>\n",
       "    <tr>\n",
       "      <th>35</th>\n",
       "      <td>95% confidence interval</td>\n",
       "      <td>[7.1516, 7.159]</td>\n",
       "    </tr>\n",
       "    <tr>\n",
       "      <th>36</th>\n",
       "      <td>min</td>\n",
       "      <td>7.0907</td>\n",
       "    </tr>\n",
       "    <tr>\n",
       "      <th>37</th>\n",
       "      <td>max</td>\n",
       "      <td>7.2242</td>\n",
       "    </tr>\n",
       "    <tr>\n",
       "      <th rowspan=\"5\" valign=\"top\">Mesh</th>\n",
       "      <th>32</th>\n",
       "      <td>mean</td>\n",
       "      <td>7.1875</td>\n",
       "    </tr>\n",
       "    <tr>\n",
       "      <th>33</th>\n",
       "      <td>std</td>\n",
       "      <td>0.1387</td>\n",
       "    </tr>\n",
       "    <tr>\n",
       "      <th>34</th>\n",
       "      <td>95% confidence interval</td>\n",
       "      <td>[7.1739, 7.2011]</td>\n",
       "    </tr>\n",
       "    <tr>\n",
       "      <th>35</th>\n",
       "      <td>min</td>\n",
       "      <td>6.9085</td>\n",
       "    </tr>\n",
       "    <tr>\n",
       "      <th>36</th>\n",
       "      <td>max</td>\n",
       "      <td>7.4492</td>\n",
       "    </tr>\n",
       "    <tr>\n",
       "      <th rowspan=\"5\" valign=\"top\">Derivative</th>\n",
       "      <th>35</th>\n",
       "      <td>mean</td>\n",
       "      <td>7.1779</td>\n",
       "    </tr>\n",
       "    <tr>\n",
       "      <th>36</th>\n",
       "      <td>std</td>\n",
       "      <td>0.3088</td>\n",
       "    </tr>\n",
       "    <tr>\n",
       "      <th>37</th>\n",
       "      <td>95% confidence interval</td>\n",
       "      <td>[7.1476, 7.2082]</td>\n",
       "    </tr>\n",
       "    <tr>\n",
       "      <th>38</th>\n",
       "      <td>min</td>\n",
       "      <td>6.7418</td>\n",
       "    </tr>\n",
       "    <tr>\n",
       "      <th>39</th>\n",
       "      <td>max</td>\n",
       "      <td>7.7752</td>\n",
       "    </tr>\n",
       "    <tr>\n",
       "      <th rowspan=\"5\" valign=\"top\">RandomForest</th>\n",
       "      <th>34</th>\n",
       "      <td>mean</td>\n",
       "      <td>7.2331</td>\n",
       "    </tr>\n",
       "    <tr>\n",
       "      <th>35</th>\n",
       "      <td>std</td>\n",
       "      <td>0.0979</td>\n",
       "    </tr>\n",
       "    <tr>\n",
       "      <th>36</th>\n",
       "      <td>95% confidence interval</td>\n",
       "      <td>[7.2235, 7.2427]</td>\n",
       "    </tr>\n",
       "    <tr>\n",
       "      <th>37</th>\n",
       "      <td>min</td>\n",
       "      <td>7.0684</td>\n",
       "    </tr>\n",
       "    <tr>\n",
       "      <th>38</th>\n",
       "      <td>max</td>\n",
       "      <td>7.4308</td>\n",
       "    </tr>\n",
       "  </tbody>\n",
       "</table>\n",
       "</div>"
      ],
      "text/plain": [
       "                          stat parameter            values\n",
       "LSM          33                     mean            7.1553\n",
       "             34                      std            0.0375\n",
       "             35  95% confidence interval   [7.1516, 7.159]\n",
       "             36                      min            7.0907\n",
       "             37                      max            7.2242\n",
       "Mesh         32                     mean            7.1875\n",
       "             33                      std            0.1387\n",
       "             34  95% confidence interval  [7.1739, 7.2011]\n",
       "             35                      min            6.9085\n",
       "             36                      max            7.4492\n",
       "Derivative   35                     mean            7.1779\n",
       "             36                      std            0.3088\n",
       "             37  95% confidence interval  [7.1476, 7.2082]\n",
       "             38                      min            6.7418\n",
       "             39                      max            7.7752\n",
       "RandomForest 34                     mean            7.2331\n",
       "             35                      std            0.0979\n",
       "             36  95% confidence interval  [7.2235, 7.2427]\n",
       "             37                      min            7.0684\n",
       "             38                      max            7.4308"
      ]
     },
     "execution_count": 129,
     "metadata": {},
     "output_type": "execute_result"
    }
   ],
   "source": [
    "dfs_stats"
   ]
  },
  {
   "cell_type": "code",
   "execution_count": 130,
   "metadata": {
    "collapsed": false
   },
   "outputs": [],
   "source": [
    "with open('results_comparison.csv', 'w') as handle: \n",
    "    dfs_stats.to_csv(handle)\n",
    "    params.to_csv(handle)"
   ]
  },
  {
   "cell_type": "code",
   "execution_count": 56,
   "metadata": {
    "collapsed": false
   },
   "outputs": [
    {
     "name": "stdout",
     "output_type": "stream",
     "text": [
      "LSM\n",
      "Mesh\n",
      "Derivative\n",
      "RandomForest\n"
     ]
    }
   ],
   "source": [
    "result_df = pd.DataFrame(['expected', 'mean', 'std', '95% confidence interval'])\n",
    "for key, df in dfs.items(): \n",
    "    "
   ]
  },
  {
   "cell_type": "code",
   "execution_count": 4,
   "metadata": {
    "collapsed": true
   },
   "outputs": [],
   "source": [
    "N = 100000\n",
    "m = 6\n",
    "RF_n_trees = 20\n",
    "RF_max_leaf_nodes = 10\n",
    "M_run = 20\n",
    "n_picard = 10"
   ]
  },
  {
   "cell_type": "code",
   "execution_count": 5,
   "metadata": {
    "collapsed": false
   },
   "outputs": [
    {
     "name": "stdout",
     "output_type": "stream",
     "text": [
      "7.23915042094\n"
     ]
    }
   ],
   "source": [
    "start = time.time()\n",
    "a = np.zeros(M_run)\n",
    "for i in range(M_run):\n",
    "    start = time.time()\n",
    "    test = BSDE(S0, K, T, mu, sigma, q)\n",
    "    a[i] = test.get_price_lsm(R, r, N, m, n_picard=n_picard)\n",
    "    elapsed = time.time() - start\n",
    "print(a.mean())"
   ]
  },
  {
   "cell_type": "code",
   "execution_count": null,
   "metadata": {
    "collapsed": true
   },
   "outputs": [],
   "source": []
  }
 ],
 "metadata": {
  "kernelspec": {
   "display_name": "Python 3",
   "language": "python",
   "name": "python3"
  },
  "language_info": {
   "codemirror_mode": {
    "name": "ipython",
    "version": 3
   },
   "file_extension": ".py",
   "mimetype": "text/x-python",
   "name": "python",
   "nbconvert_exporter": "python",
   "pygments_lexer": "ipython3",
   "version": "3.5.2"
  }
 },
 "nbformat": 4,
 "nbformat_minor": 0
}
