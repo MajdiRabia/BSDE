{
 "cells": [
  {
   "cell_type": "code",
   "execution_count": 3,
   "metadata": {
    "collapsed": true
   },
   "outputs": [],
   "source": [
    "import os\n",
    "import sys\n",
    "module_path = os.path.abspath(os.path.join('../..'))\n",
    "if module_path not in sys.path:\n",
    "    sys.path.append(module_path)"
   ]
  },
  {
   "cell_type": "code",
   "execution_count": 4,
   "metadata": {
    "collapsed": false
   },
   "outputs": [],
   "source": [
    "from BSDE import *\n",
    "import warnings \n",
    "import bokeh\n",
    "from bokeh.layouts import gridplot\n",
    "from bokeh.plotting import figure, output_notebook, show, output_file\n",
    "import time\n",
    "warnings.filterwarnings(\"ignore\")"
   ]
  },
  {
   "cell_type": "code",
   "execution_count": 6,
   "metadata": {
    "collapsed": false
   },
   "outputs": [],
   "source": [
    "T = 0.25\n",
    "K = 100.\n",
    "S0 = 100.\n",
    "sigma = 0.2\n",
    "p = 1\n",
    "M = np.eye(p)\n",
    "r = 0.01\n",
    "mu = 0.05\n",
    "R = 0.06\n",
    "Q = 0."
   ]
  },
  {
   "cell_type": "code",
   "execution_count": 31,
   "metadata": {
    "collapsed": false
   },
   "outputs": [],
   "source": [
    "M_run = 20\n",
    "m = 12\n",
    "N = 10000\n",
    "n_picard = 3\n",
    "n_estimators=100\n",
    "learning_rate=0.1\n",
    "max_depth=1\n",
    "random_state=0\n",
    "loss=\"ls\""
   ]
  },
  {
   "cell_type": "code",
   "execution_count": 18,
   "metadata": {
    "collapsed": false
   },
   "outputs": [],
   "source": [
    "a = np.zeros(M_run)\n",
    "timing = np.zeros_like(a)\n",
    "for i in range (M_run): \n",
    "    start = time.time()\n",
    "    test_hd = BsdeHD(T, K, M, mu, Q, sigma, S0, r, R)\n",
    "    a[i] = test_hd.get_price(N, m, option_type='call combination', option_payoff='geometric',\n",
    "                             oType='European',n_picard=n_picard, regression='gbr')\n",
    "    timing[i] = round(time.time() - start, 3)"
   ]
  },
  {
   "cell_type": "code",
   "execution_count": 21,
   "metadata": {
    "collapsed": false
   },
   "outputs": [
    {
     "data": {
      "text/plain": [
       "(2.9687040004205318, 9.5627000000000013)"
      ]
     },
     "execution_count": 21,
     "metadata": {},
     "output_type": "execute_result"
    }
   ],
   "source": [
    "a.mean(), timing.mean()"
   ]
  },
  {
   "cell_type": "code",
   "execution_count": 22,
   "metadata": {
    "collapsed": true
   },
   "outputs": [],
   "source": [
    "import pandas as pd"
   ]
  },
  {
   "cell_type": "code",
   "execution_count": 25,
   "metadata": {
    "collapsed": false
   },
   "outputs": [],
   "source": [
    "param = ['q', 'mu', 'R ', 'r ','sigma', 'T', 'K', 'S0']\n",
    "values = [Q, mu, R, r, sigma, T, K, S0]\n",
    "dataset = list(zip(param,values))\n",
    "df_param = pd.DataFrame(data = dataset, columns=['Parameters', 'values'])"
   ]
  },
  {
   "cell_type": "code",
   "execution_count": 35,
   "metadata": {
    "collapsed": false
   },
   "outputs": [
    {
     "data": {
      "text/html": [
       "<div>\n",
       "<table border=\"1\" class=\"dataframe\">\n",
       "  <thead>\n",
       "    <tr style=\"text-align: right;\">\n",
       "      <th></th>\n",
       "      <th>Specific Parameters</th>\n",
       "      <th>values</th>\n",
       "    </tr>\n",
       "  </thead>\n",
       "  <tbody>\n",
       "    <tr>\n",
       "      <th>0</th>\n",
       "      <td>N_particles</td>\n",
       "      <td>10000.0</td>\n",
       "    </tr>\n",
       "    <tr>\n",
       "      <th>1</th>\n",
       "      <td>m_discretization</td>\n",
       "      <td>12.0</td>\n",
       "    </tr>\n",
       "    <tr>\n",
       "      <th>2</th>\n",
       "      <td>N_run</td>\n",
       "      <td>20.0</td>\n",
       "    </tr>\n",
       "    <tr>\n",
       "      <th>3</th>\n",
       "      <td>n_picard</td>\n",
       "      <td>3.0</td>\n",
       "    </tr>\n",
       "    <tr>\n",
       "      <th>4</th>\n",
       "      <td>Number of trees</td>\n",
       "      <td>100.0</td>\n",
       "    </tr>\n",
       "    <tr>\n",
       "      <th>5</th>\n",
       "      <td>Learning rate</td>\n",
       "      <td>0.1</td>\n",
       "    </tr>\n",
       "    <tr>\n",
       "      <th>6</th>\n",
       "      <td>max_depth</td>\n",
       "      <td>1.0</td>\n",
       "    </tr>\n",
       "  </tbody>\n",
       "</table>\n",
       "</div>"
      ],
      "text/plain": [
       "  Specific Parameters   values\n",
       "0         N_particles  10000.0\n",
       "1    m_discretization     12.0\n",
       "2               N_run     20.0\n",
       "3            n_picard      3.0\n",
       "4     Number of trees    100.0\n",
       "5       Learning rate      0.1\n",
       "6           max_depth      1.0"
      ]
     },
     "execution_count": 35,
     "metadata": {},
     "output_type": "execute_result"
    }
   ],
   "source": [
    "sparam = ['N_particles', 'm_discretization', 'N_run', 'n_picard', 'Number of trees', 'Learning rate', 'max_depth']\n",
    "\n",
    "svalues = [N, m, M_run, n_picard, n_estimators, learning_rate, max_depth, random_state]\n",
    "sp_dataset = list(zip(sparam,svalues))\n",
    "df_sparam = pd.DataFrame(sp_dataset, columns=['Specific Parameters', 'values'])\n",
    "df_sparam"
   ]
  },
  {
   "cell_type": "code",
   "execution_count": 36,
   "metadata": {
    "collapsed": true
   },
   "outputs": [],
   "source": [
    "run_id = [\"run {}\".format(i) for i in range(1, M_run+1)]\n",
    "df = pd.DataFrame(list(zip(run_id, a, timing)), columns = ['run','values', 'time'])"
   ]
  },
  {
   "cell_type": "code",
   "execution_count": 37,
   "metadata": {
    "collapsed": true
   },
   "outputs": [],
   "source": [
    "min_a = round(df['values'].min(), 4)\n",
    "max_a = round(df['values'].max(), 4)\n",
    "mean_a = round(df['values'].mean(), 4)\n",
    "std_a = round(df['values'].std(), 4)\n",
    "left = round(mean_a - 1.96 * std_a / M_run, 4)\n",
    "right = round(mean_a + 1.96 * std_a / M_run, 4)"
   ]
  },
  {
   "cell_type": "code",
   "execution_count": 38,
   "metadata": {
    "collapsed": false
   },
   "outputs": [
    {
     "data": {
      "text/html": [
       "<div>\n",
       "<table border=\"1\" class=\"dataframe\">\n",
       "  <thead>\n",
       "    <tr style=\"text-align: right;\">\n",
       "      <th></th>\n",
       "      <th>stat parameter</th>\n",
       "      <th>values</th>\n",
       "    </tr>\n",
       "  </thead>\n",
       "  <tbody>\n",
       "    <tr>\n",
       "      <th>0</th>\n",
       "      <td>mean</td>\n",
       "      <td>2.9687</td>\n",
       "    </tr>\n",
       "    <tr>\n",
       "      <th>1</th>\n",
       "      <td>std</td>\n",
       "      <td>0.0465</td>\n",
       "    </tr>\n",
       "    <tr>\n",
       "      <th>2</th>\n",
       "      <td>95% confidence interval</td>\n",
       "      <td>[2.9641, 2.9733]</td>\n",
       "    </tr>\n",
       "    <tr>\n",
       "      <th>3</th>\n",
       "      <td>min</td>\n",
       "      <td>2.886</td>\n",
       "    </tr>\n",
       "    <tr>\n",
       "      <th>4</th>\n",
       "      <td>max</td>\n",
       "      <td>3.0544</td>\n",
       "    </tr>\n",
       "  </tbody>\n",
       "</table>\n",
       "</div>"
      ],
      "text/plain": [
       "            stat parameter            values\n",
       "0                     mean            2.9687\n",
       "1                      std            0.0465\n",
       "2  95% confidence interval  [2.9641, 2.9733]\n",
       "3                      min             2.886\n",
       "4                      max            3.0544"
      ]
     },
     "execution_count": 38,
     "metadata": {},
     "output_type": "execute_result"
    }
   ],
   "source": [
    "stat_param = ['mean', 'std', '95% confidence interval', 'min', 'max']\n",
    "stat_values = [mean_a, std_a, [left, right], min_a, max_a]\n",
    "stat_data = list(zip(stat_param, stat_values))\n",
    "stat_df = pd.DataFrame(stat_data, columns = ['stat parameter', 'values'])\n",
    "stat_df"
   ]
  },
  {
   "cell_type": "code",
   "execution_count": 39,
   "metadata": {
    "collapsed": true
   },
   "outputs": [],
   "source": [
    "df_join = pd.concat([df_param, df_sparam, df, stat_df], axis = 0)\n",
    "df_join.to_csv('output_GradBoost.csv')"
   ]
  },
  {
   "cell_type": "code",
   "execution_count": null,
   "metadata": {
    "collapsed": true
   },
   "outputs": [],
   "source": []
  }
 ],
 "metadata": {
  "kernelspec": {
   "display_name": "Python 2",
   "language": "python",
   "name": "python2"
  },
  "language_info": {
   "codemirror_mode": {
    "name": "ipython",
    "version": 2
   },
   "file_extension": ".py",
   "mimetype": "text/x-python",
   "name": "python",
   "nbconvert_exporter": "python",
   "pygments_lexer": "ipython2",
   "version": "2.7.5"
  }
 },
 "nbformat": 4,
 "nbformat_minor": 0
}
