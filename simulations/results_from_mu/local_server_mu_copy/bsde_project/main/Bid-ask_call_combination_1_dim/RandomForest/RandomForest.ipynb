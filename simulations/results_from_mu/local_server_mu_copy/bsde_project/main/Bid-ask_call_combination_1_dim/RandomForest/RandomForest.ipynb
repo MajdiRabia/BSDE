{
 "cells": [
  {
   "cell_type": "code",
   "execution_count": 2,
   "metadata": {
    "collapsed": true
   },
   "outputs": [],
   "source": [
    "import os\n",
    "import sys\n",
    "module_path = os.path.abspath(os.path.join('../..'))\n",
    "if module_path not in sys.path:\n",
    "    sys.path.append(module_path)"
   ]
  },
  {
   "cell_type": "code",
   "execution_count": 3,
   "metadata": {
    "collapsed": false
   },
   "outputs": [],
   "source": [
    "from BSDE import *\n",
    "import warnings \n",
    "import bokeh\n",
    "from bokeh.layouts import gridplot\n",
    "from bokeh.plotting import figure, output_notebook, show, output_file\n",
    "import time\n",
    "warnings.filterwarnings(\"ignore\")"
   ]
  },
  {
   "cell_type": "code",
   "execution_count": 43,
   "metadata": {
    "collapsed": false
   },
   "outputs": [],
   "source": [
    "T = 0.25\n",
    "K = 100.\n",
    "S0 = 100.\n",
    "sigma = 0.2\n",
    "p = 1\n",
    "M = np.eye(p)\n",
    "r = 0.01\n",
    "mu = 0.05\n",
    "R = 0.06\n",
    "Q = 0."
   ]
  },
  {
   "cell_type": "code",
   "execution_count": 49,
   "metadata": {
    "collapsed": true
   },
   "outputs": [],
   "source": [
    "N = 10000\n",
    "m = 6\n",
    "RF_n_trees = 200\n",
    "RF_max_leaf_nodes = 700\n",
    "M_run = 20\n",
    "n_picard = 3"
   ]
  },
  {
   "cell_type": "markdown",
   "metadata": {},
   "source": [
    "# Param tuning"
   ]
  },
  {
   "cell_type": "code",
   "execution_count": null,
   "metadata": {
    "collapsed": false
   },
   "outputs": [],
   "source": [
    "range_leaf = len(list(range(50, 10000, 50)))\n",
    "b = np.zeros([range_leaf, 10])\n",
    "timing = np.zeros_like(b)\n",
    "for i, leaf in enumerate(list(range(50, 10000, 50))): \n",
    "    for j in range(10): \n",
    "        start=time.time()\n",
    "        test = BSDE(S0, K, T, mu, sigma, q)\n",
    "        b[i, j] = round(test.get_price_RF(R, r, N, m, n_picard=n_picard, RF_max_leaf_nodes=leaf, RF_n_tree=200, \n",
    "                                          oPayoff='call combination'), 4)\n",
    "        timing[i, j] = round(time.time()- start, 3)\n",
    "    print (b[i])   "
   ]
  },
  {
   "cell_type": "code",
   "execution_count": 50,
   "metadata": {
    "collapsed": false
   },
   "outputs": [],
   "source": [
    "a = np.zeros(M_run)\n",
    "timing = np.zeros_like(a)\n",
    "for i in range (M_run): \n",
    "    start = time.time()\n",
    "    test_hd = BsdeHD(T, K, M, mu, Q, sigma, S0, r, R)\n",
    "    a[i] = test_hd.get_price(N, m, option_type='call combination', option_payoff='geometric',\n",
    "                             oType='European',n_picard=n_picard)\n",
    "    elapsed = time.time() - start\n",
    "    timing[i] = round(elapsed, 3)"
   ]
  },
  {
   "cell_type": "code",
   "execution_count": 56,
   "metadata": {
    "collapsed": false
   },
   "outputs": [
    {
     "data": {
      "text/plain": [
       "2.9652729697269673"
      ]
     },
     "execution_count": 56,
     "metadata": {},
     "output_type": "execute_result"
    }
   ],
   "source": [
    "a.mean() - 1.96 * a.std() / 20"
   ]
  },
  {
   "cell_type": "code",
   "execution_count": null,
   "metadata": {
    "collapsed": true
   },
   "outputs": [],
   "source": [
    "import pandas as pd"
   ]
  },
  {
   "cell_type": "code",
   "execution_count": null,
   "metadata": {
    "collapsed": true
   },
   "outputs": [],
   "source": [
    "param = ['q', 'mu', 'R ', 'r ','sigma', 'T', 'K', 'S0']\n",
    "values = [q, mu, R, r, sigma, T, K, S0]\n",
    "dataset = list(zip(param,values))\n",
    "df_param = pd.DataFrame(data = dataset, columns=['Parameters', 'values'])"
   ]
  },
  {
   "cell_type": "code",
   "execution_count": null,
   "metadata": {
    "collapsed": false
   },
   "outputs": [],
   "source": [
    "sparam = ['N_particles', 'm_discretization', 'N_run', 'n_picard','Number of trees', 'Max Leaf nodes']\n",
    "svalues = [N, m, M_run, n_picard, RF_n_trees, RF_max_leaf_nodes]\n",
    "sp_dataset = list(zip(sparam,svalues))\n",
    "df_sparam = pd.DataFrame(sp_dataset, columns=['Specific Parameters', 'values'])\n",
    "df_sparam"
   ]
  },
  {
   "cell_type": "code",
   "execution_count": null,
   "metadata": {
    "collapsed": true
   },
   "outputs": [],
   "source": [
    "run_id = [\"run {}\".format(i) for i in range(1, M_run+1)]\n",
    "df = pd.DataFrame(list(zip(run_id, a, timing)), columns = ['run','values', 'time'])"
   ]
  },
  {
   "cell_type": "code",
   "execution_count": null,
   "metadata": {
    "collapsed": true
   },
   "outputs": [],
   "source": [
    "min_a = round(df['values'].min(), 4)\n",
    "max_a = round(df['values'].max(), 4)\n",
    "mean_a = round(df['values'].mean(), 4)\n",
    "std_a = round(df['values'].std(), 4)\n",
    "left = round(mean_a - 1.96 * std_a / M_run, 4)\n",
    "right = round(mean_a + 1.96 * std_a / M_run, 4)"
   ]
  },
  {
   "cell_type": "code",
   "execution_count": null,
   "metadata": {
    "collapsed": false
   },
   "outputs": [],
   "source": [
    "stat_param = ['mean', 'std', '95% confidence interval', 'min', 'max']\n",
    "stat_values = [mean_a, std_a, [left, right], min_a, max_a]\n",
    "stat_data = list(zip(stat_param, stat_values))\n",
    "stat_df = pd.DataFrame(stat_data, columns = ['stat parameter', 'values'])\n",
    "stat_df"
   ]
  },
  {
   "cell_type": "code",
   "execution_count": null,
   "metadata": {
    "collapsed": false
   },
   "outputs": [],
   "source": [
    "df_join = pd.concat([df_param, df_sparam, df, stat_df], axis = 0)\n",
    "df_join.to_csv('output_rf.csv')"
   ]
  },
  {
   "cell_type": "code",
   "execution_count": null,
   "metadata": {
    "collapsed": true
   },
   "outputs": [],
   "source": []
  }
 ],
 "metadata": {
  "kernelspec": {
   "display_name": "Python 2",
   "language": "python",
   "name": "python2"
  },
  "language_info": {
   "codemirror_mode": {
    "name": "ipython",
    "version": 2
   },
   "file_extension": ".py",
   "mimetype": "text/x-python",
   "name": "python",
   "nbconvert_exporter": "python",
   "pygments_lexer": "ipython2",
   "version": "2.7.5"
  }
 },
 "nbformat": 4,
 "nbformat_minor": 0
}
