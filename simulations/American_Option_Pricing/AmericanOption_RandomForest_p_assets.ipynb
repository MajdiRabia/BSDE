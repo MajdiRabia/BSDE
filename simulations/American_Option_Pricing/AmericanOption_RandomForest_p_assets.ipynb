{
 "cells": [
  {
   "cell_type": "markdown",
   "metadata": {},
   "source": [
    "#  American Option Pricing for Multiple Underlying assets using Random Forest\n"
   ]
  },
  {
   "cell_type": "markdown",
   "metadata": {
    "collapsed": true
   },
   "source": [
    "let us first import all the packages "
   ]
  },
  {
   "cell_type": "code",
   "execution_count": 2,
   "metadata": {
    "collapsed": false
   },
   "outputs": [
    {
     "name": "stdout",
     "output_type": "stream",
     "text": [
      "Populating the interactive namespace from numpy and matplotlib\n"
     ]
    }
   ],
   "source": [
    "%pylab inline --no-import-all\n",
    "import numpy as np\n",
    "import scipy as sp\n",
    "import pylab as pl\n",
    "import warnings \n",
    "import matplotlib.pyplot as plt\n",
    "import statistics as st\n",
    "from scipy.optimize import leastsq\n",
    "import pandas as pd\n",
    "from scipy.stats import norm\n",
    "\n",
    "from sklearn.ensemble import RandomForestClassifier\n",
    "from sklearn.ensemble import RandomForestRegressor"
   ]
  },
  {
   "cell_type": "code",
   "execution_count": 3,
   "metadata": {
    "collapsed": false
   },
   "outputs": [],
   "source": [
    "def generate_paths(S0, dt , sigma, r, N, m,q):\n",
    "    S = np.zeros((m + 1,N))\n",
    "    S[0] = S0\n",
    "    for t in range(1, m + 1):\n",
    "        rand = np.random.standard_normal(N)\n",
    "        S[t] = S[t - 1] * np.exp((r -q- sigma ** 2 / 2) * dt + sigma * dt ** 0.5 * rand)\n",
    "    return S "
   ]
  },
  {
   "cell_type": "code",
   "execution_count": 4,
   "metadata": {
    "collapsed": true
   },
   "outputs": [],
   "source": [
    "def generate_multiple_asset(p, S0, dt , sigma, r, N, m,q):\n",
    "    S = []\n",
    "    #Generate p assets\n",
    "    for __ in range (N): \n",
    "        S_asset=generate_paths(S0, dt , sigma, r, p, m,q)\n",
    "        S.append(S_asset)\n",
    "    return (S)"
   ]
  },
  {
   "cell_type": "code",
   "execution_count": 5,
   "metadata": {
    "collapsed": true
   },
   "outputs": [],
   "source": [
    "def exercise_matrix(S,p,N,K,m): \n",
    "    payoff=np.zeros((m + 1, N))\n",
    "    for j in range (N): \n",
    "        for i in range (m + 1):\n",
    "            pay_int = np.prod(S[j][i,:])**(1/p)\n",
    "            pay=max(pay_int-K,0)\n",
    "            payoff[i,j]=pay\n",
    "    return (payoff)"
   ]
  },
  {
   "cell_type": "code",
   "execution_count": 6,
   "metadata": {
    "collapsed": false
   },
   "outputs": [],
   "source": [
    "def pricing_option(K,r,sigma,N,m,S_0,T, RF_n_estimators,RF_max_leaf_nodes,p,q):\n",
    "  \n",
    "    \"Time-step\"\n",
    "    dt=T/m\n",
    "    \n",
    "    \"Discount factor\"\n",
    "    df=np.exp(-r*dt)\n",
    "    \"N simulations of p underlying assets \"\n",
    "    S = generate_multiple_asset(p, S_0, dt , sigma, r, N, m,q)\n",
    "    \n",
    "    \"Matrix of exercise prices\"\n",
    "    h = exercise_matrix(S,p,N,K,m) \n",
    "    \n",
    "    \n",
    "    \"price of the option at time T = Initialization \"\n",
    "    V=h[-1]\n",
    "    \n",
    "    \"Iteration over the paths\"\n",
    "    for t in range (m-2,0,-1): \n",
    "        \n",
    "        \"Creation of the matrix N*p to regress\"\n",
    "        X=np.zeros([N,p])\n",
    "        for i in range (N):\n",
    "            for j in range (p): \n",
    "                X[i,j]=S[i][t , j - 1]\n",
    "        \n",
    "       \n",
    "        \"Random Forest algorithm uses the j'th time of the Stock and the (j+1)'th time of Option Price to fit \"\n",
    "        rf=RandomForestRegressor(n_estimators=RF_n_estimators,\n",
    "                                max_leaf_nodes=RF_max_leaf_nodes,oob_score=False, n_jobs=-1)\n",
    "        rf.fit(X,V)\n",
    "        B=rf.predict(X)\n",
    "        V=np.where(h[t] > B, h[t],df*V)\n",
    "    \n",
    "      \n",
    "    \"Monte-Carlo for the option pricing\"\n",
    "    V_opt= df*np.sum(V)/N\n",
    "    \n",
    "    \n",
    "    return (V_opt)"
   ]
  },
  {
   "cell_type": "markdown",
   "metadata": {
    "slideshow": {
     "slide_type": "subslide"
    }
   },
   "source": [
    "Example of pricing with 7 assets"
   ]
  },
  {
   "cell_type": "code",
   "execution_count": 7,
   "metadata": {
    "collapsed": true
   },
   "outputs": [],
   "source": [
    "def black_scholes(K,r,sigma, S_0,T,p,q): \n",
    "    d=sigma**2*(1-1/p)/2+q\n",
    "    d1=1/(sigma*np.sqrt(T/p))*(np.log(S_0/K)+(r+0.5*sigma*sigma/p-d)*T)\n",
    "    d2=d1-sigma*np.sqrt(T/p)\n",
    "    dscnt=np.exp(-r*T)\n",
    "    call=-norm.cdf(d2)*K*dscnt+norm.cdf(d1)*S_0*np.exp(-d*T)\n",
    "    return (call)"
   ]
  },
  {
   "cell_type": "code",
   "execution_count": 8,
   "metadata": {
    "collapsed": false
   },
   "outputs": [
    {
     "name": "stdout",
     "output_type": "stream",
     "text": [
      "price 3.17905715186\n",
      "price Black-Scholes  2.41878440914\n",
      "Expected value from binomial tree :  3.27\n"
     ]
    }
   ],
   "source": [
    "\n",
    "\"Parameters\"\n",
    "T=1\n",
    "m=10\n",
    "K=100\n",
    "S_0=100\n",
    "r=0.03\n",
    "q=0.05\n",
    "sigma=0.4\n",
    "N=10000\n",
    "RF_n_estimators=150\n",
    "RF_max_leaf_nodes=20\n",
    "p=7\n",
    "\n",
    "price = pricing_option(K,r,sigma,N,m,S_0,T,RF_n_estimators,RF_max_leaf_nodes,p,q)\n",
    "print (\"price\", price)\n",
    "\n",
    "price_BS=black_scholes(K,r,sigma, S_0,T,p,q)\n",
    "print (\"price Black-Scholes \", price_BS) \n",
    "\n",
    "print (\"Expected value from binomial tree : \", 3.27)"
   ]
  },
  {
   "cell_type": "code",
   "execution_count": null,
   "metadata": {
    "collapsed": true
   },
   "outputs": [],
   "source": []
  }
 ],
 "metadata": {
  "celltoolbar": "Slideshow",
  "kernelspec": {
   "display_name": "Python 3",
   "language": "python",
   "name": "python3"
  },
  "language_info": {
   "codemirror_mode": {
    "name": "ipython",
    "version": 3
   },
   "file_extension": ".py",
   "mimetype": "text/x-python",
   "name": "python",
   "nbconvert_exporter": "python",
   "pygments_lexer": "ipython3",
   "version": "3.5.1"
  }
 },
 "nbformat": 4,
 "nbformat_minor": 0
}
