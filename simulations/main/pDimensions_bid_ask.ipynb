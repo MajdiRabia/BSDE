{
 "cells": [
  {
   "cell_type": "markdown",
   "metadata": {},
   "source": [
    "# BSDE"
   ]
  },
  {
   "cell_type": "code",
   "execution_count": 1,
   "metadata": {
    "collapsed": true
   },
   "outputs": [],
   "source": [
    "from BSDE import *\n",
    "from AmericanOption import *"
   ]
  },
  {
   "cell_type": "markdown",
   "metadata": {},
   "source": [
    "## Let's try with the following example from Xia's Msc\n",
    "\n",
    "Payoff : geometric average \n",
    "Option type : European call\n",
    "Bid-Ask, ie different interest rates\n",
    "He gets a price of 2.70, whereas the following gives us 3.35 in average \n",
    "\n",
    "Actually, I think this is what we should get, as the tenant of the option uses R to borrow and hedge his risk. \n",
    "Using R in B-S model (the 7 assets are independant so we have a closed formula), we get a price of 3.30 . \n",
    "\n",
    "I can implement other example from articles for p Dimensions for bid-ask problem, but I have not find any . "
   ]
  },
  {
   "cell_type": "code",
   "execution_count": 6,
   "metadata": {
    "collapsed": false
   },
   "outputs": [
    {
     "name": "stdout",
     "output_type": "stream",
     "text": [
      "3.42521438924\n",
      "3.39490947424\n",
      "3.35757310854\n",
      "3.30787570573\n",
      "1 loop, best of 3: 7min 39s per loop\n"
     ]
    }
   ],
   "source": [
    "%%timeit\n",
    "\n",
    "T = 0.5\n",
    "m = 4\n",
    "p = 7\n",
    "K = 100.\n",
    "r = 0.04\n",
    "R = 0.06\n",
    "M = np.eye(p)\n",
    "S_init = 100.\n",
    "mu = 0.06\n",
    "sigma = 0.2 \n",
    "N = 10000\n",
    "Q = 0.\n",
    "RF_n_estimators = 100\n",
    "RF_max_leaf_nodes = 10\n",
    "\n",
    "test_hd = BsdeHD(T, K, M, mu, Q, sigma, S_init, r, R)\n",
    "\n",
    "print(test_hd.get_price(N,m, RF_n_estimators,RF_max_leaf_nodes,\n",
    "                  option_type = 'call', option_payoff='geometric', oType= 'European', n_picard=5))"
   ]
  },
  {
   "cell_type": "code",
   "execution_count": 7,
   "metadata": {
    "collapsed": false
   },
   "outputs": [
    {
     "name": "stdout",
     "output_type": "stream",
     "text": [
      "mean = 3.38468405454\n",
      "std = 0.0346809009399\n",
      "min = 3.31806309153\n",
      "max = 3.45577767316\n"
     ]
    }
   ],
   "source": [
    "M_run = 20\n",
    "\n",
    "T = 0.5\n",
    "m = 4\n",
    "p = 7\n",
    "K = 100.\n",
    "r = 0.04\n",
    "R = 0.06\n",
    "M = np.eye(p)\n",
    "S_init = 100.\n",
    "mu = 0.06\n",
    "sigma = 0.2 \n",
    "N = 10000\n",
    "Q = 0.\n",
    "RF_n_estimators = 100\n",
    "RF_max_leaf_nodes = 10\n",
    "\n",
    "a = np.zeros(M_run)\n",
    "for i in range (M_run): \n",
    "    test_hd = BsdeHD(T, K, M, mu, Q, sigma, S_init, r, R)\n",
    "    a[i] = test_hd.get_price(N,m, RF_n_estimators,RF_max_leaf_nodes,\n",
    "                  option_type = 'call', option_payoff = 'geometric', oType= 'European', n_picard=5)\n",
    "min_a = min(a)\n",
    "max_a = max(a)\n",
    "mean_a = np.mean(a)\n",
    "std_a = np.std(a)\n",
    "print (\"mean = \" + str(mean_a)) \n",
    "print (\"std = \" + str(std_a)) \n",
    "print (\"min = \" + str(min_a)) \n",
    "print (\"max = \" + str(max_a)) "
   ]
  },
  {
   "cell_type": "markdown",
   "metadata": {},
   "source": [
    "## Conclusion \n",
    "\n",
    "The Method seems good, both in bid-ask model, and one interest rate model, even if more statistics are needed to get a rigorous conclusion. However, the next steps could be the following : \n",
    "\n",
    "* Variance reduction \n",
    "* performance enhancement, timing is high, even if picard_iteration is demanding"
   ]
  }
 ],
 "metadata": {
  "kernelspec": {
   "display_name": "Python 3",
   "language": "python",
   "name": "python3"
  },
  "language_info": {
   "codemirror_mode": {
    "name": "ipython",
    "version": 3
   },
   "file_extension": ".py",
   "mimetype": "text/x-python",
   "name": "python",
   "nbconvert_exporter": "python",
   "pygments_lexer": "ipython3",
   "version": "3.5.1"
  }
 },
 "nbformat": 4,
 "nbformat_minor": 0
}
