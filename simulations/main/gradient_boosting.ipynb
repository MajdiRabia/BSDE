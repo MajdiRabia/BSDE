{
 "cells": [
  {
   "cell_type": "markdown",
   "metadata": {},
   "source": [
    "# BSDE with gradient boosting "
   ]
  },
  {
   "cell_type": "code",
   "execution_count": 1,
   "metadata": {
    "collapsed": true
   },
   "outputs": [],
   "source": [
    "from BSDE import *\n",
    "from AmericanOption import *\n",
    "import warnings \n",
    "warnings.filterwarnings(\"ignore\")"
   ]
  },
  {
   "cell_type": "markdown",
   "metadata": {},
   "source": [
    "## 1D european call option with different interest rates\n",
    "\n",
    "Reference Price : 7.15 (Black-Scholes)\n",
    "_____"
   ]
  },
  {
   "cell_type": "code",
   "execution_count": 7,
   "metadata": {
    "collapsed": true
   },
   "outputs": [],
   "source": [
    "T = 0.5\n",
    "m = 12\n",
    "K = 100\n",
    "S0 = 100\n",
    "sigma = 0.2\n",
    "r = 0.04\n",
    "N = 10000\n",
    "mu = 0.06\n",
    "R = 0.06\n",
    "q = 0."
   ]
  },
  {
   "cell_type": "markdown",
   "metadata": {},
   "source": [
    "### With n_picard = 0 "
   ]
  },
  {
   "cell_type": "code",
   "execution_count": 4,
   "metadata": {
    "collapsed": false
   },
   "outputs": [
    {
     "name": "stdout",
     "output_type": "stream",
     "text": [
      "mean = 7.28577497521\n",
      "std = 0.0880341040937\n",
      "min = 7.13179221253\n",
      "max = 7.50815741175\n"
     ]
    }
   ],
   "source": [
    "M_run = 20\n",
    "\n",
    "a = np.zeros(M_run)\n",
    "for i in range (M_run): \n",
    "    test = BSDE(S0, K, T, mu, sigma, q)\n",
    "    a[i] = test.get_price_RF(R, r, N, m, n_picard=0, regression='gbr')\n",
    "min_a = min(a)\n",
    "max_a = max(a)\n",
    "mean_a = np.mean(a)\n",
    "std_a = np.std(a)\n",
    "print (\"mean = \" + str(mean_a)) \n",
    "print (\"std = \" + str(std_a)) \n",
    "print (\"min = \" + str(min_a)) \n",
    "print (\"max = \" + str(max_a)) "
   ]
  },
  {
   "cell_type": "markdown",
   "metadata": {},
   "source": [
    "### With n_picard = 10"
   ]
  },
  {
   "cell_type": "code",
   "execution_count": 8,
   "metadata": {
    "collapsed": false
   },
   "outputs": [
    {
     "name": "stdout",
     "output_type": "stream",
     "text": [
      "mean = 7.19814841843\n",
      "std = 0.0941103073958\n",
      "min = 7.03273083874\n",
      "max = 7.45596954796\n"
     ]
    }
   ],
   "source": [
    "M_run = 20\n",
    "\n",
    "a = np.zeros(M_run)\n",
    "for i in range (M_run): \n",
    "    test = BSDE(S0, K, T, mu, sigma, q)\n",
    "    a[i] = test.get_price_RF(R, r, N, m, n_picard=10, regression='gbr')\n",
    "min_a = min(a)\n",
    "max_a = max(a)\n",
    "mean_a = np.mean(a)\n",
    "std_a = np.std(a)\n",
    "print (\"mean = \" + str(mean_a)) \n",
    "print (\"std = \" + str(std_a)) \n",
    "print (\"min = \" + str(min_a)) \n",
    "print (\"max = \" + str(max_a)) "
   ]
  },
  {
   "cell_type": "markdown",
   "metadata": {},
   "source": [
    "__________\n",
    "\n",
    "## 1D european combined call option with different interest rates\n",
    "\n",
    "Reference Price : 2.95 (Gobet)\n",
    "\n",
    "_____\n"
   ]
  },
  {
   "cell_type": "code",
   "execution_count": 2,
   "metadata": {
    "collapsed": true
   },
   "outputs": [],
   "source": [
    "T = 0.25\n",
    "m = 6\n",
    "K = 100\n",
    "S0 = 100\n",
    "sigma = 0.2\n",
    "r = 0.01\n",
    "N = 10000\n",
    "mu = 0.05\n",
    "R = 0.06\n",
    "q = 0."
   ]
  },
  {
   "cell_type": "markdown",
   "metadata": {},
   "source": [
    "### n_picard = 0 \n"
   ]
  },
  {
   "cell_type": "code",
   "execution_count": 3,
   "metadata": {
    "collapsed": false
   },
   "outputs": [
    {
     "name": "stdout",
     "output_type": "stream",
     "text": [
      "mean = 2.77531502561\n",
      "std = 0.0422671648342\n",
      "min = 2.69941132593\n",
      "max = 2.84419067285\n"
     ]
    }
   ],
   "source": [
    "M_run = 20\n",
    "\n",
    "a = np.zeros(M_run)\n",
    "for i in range (M_run): \n",
    "    test = BSDE(S0, K, T, mu, sigma, q)\n",
    "    a[i] = test.get_price_RF(R, r, N, m,oPayoff = \"call combination\", regression='gbr')\n",
    "min_a = min(a)\n",
    "max_a = max(a)\n",
    "mean_a = np.mean(a)\n",
    "std_a = np.std(a)\n",
    "print (\"mean = \" + str(mean_a)) \n",
    "print (\"std = \" + str(std_a)) \n",
    "print (\"min = \" + str(min_a)) \n",
    "print (\"max = \" + str(max_a)) "
   ]
  },
  {
   "cell_type": "markdown",
   "metadata": {},
   "source": [
    "### n_picard = 10 "
   ]
  },
  {
   "cell_type": "code",
   "execution_count": 10,
   "metadata": {
    "collapsed": false
   },
   "outputs": [
    {
     "name": "stdout",
     "output_type": "stream",
     "text": [
      "mean = 2.79253408429\n",
      "std = 0.052509116144\n",
      "min = 2.68231408849\n",
      "max = 2.88864808114\n"
     ]
    }
   ],
   "source": [
    "M_run = 20\n",
    "\n",
    "a = np.zeros(M_run)\n",
    "for i in range (M_run): \n",
    "    test = BSDE(S0, K, T, mu, sigma, q)\n",
    "    a[i] = test.get_price_RF(R, r, N, m, n_picard=10, oPayoff = \"call combination\", regression='gbr')\n",
    "min_a = min(a)\n",
    "max_a = max(a)\n",
    "mean_a = np.mean(a)\n",
    "std_a = np.std(a)\n",
    "print (\"mean = \" + str(mean_a)) \n",
    "print (\"std = \" + str(std_a)) \n",
    "print (\"min = \" + str(min_a)) \n",
    "print (\"max = \" + str(max_a)) "
   ]
  },
  {
   "cell_type": "markdown",
   "metadata": {},
   "source": [
    "## 5 Dimensional max call option \n",
    "\n",
    "Reference Price : 23.052 (Glasserman)"
   ]
  },
  {
   "cell_type": "code",
   "execution_count": 15,
   "metadata": {
    "collapsed": true
   },
   "outputs": [],
   "source": [
    "T = 3\n",
    "m = 8\n",
    "p = 5\n",
    "K = 100.\n",
    "r = 0.05\n",
    "R = 0.05\n",
    "M = np.eye(p)\n",
    "S_init = 100.\n",
    "mu = 0.05\n",
    "sigma = 0.2 \n",
    "N = 100000  # 100 000 particles\n",
    "Q = 0.1\n",
    "RF_n_trees = 200\n",
    "RF_max_leaf_nodes = 100"
   ]
  },
  {
   "cell_type": "code",
   "execution_count": 16,
   "metadata": {
    "collapsed": false
   },
   "outputs": [
    {
     "name": "stdout",
     "output_type": "stream",
     "text": [
      "mean = 23.0823150356\n",
      "std = 0.0651440228186\n",
      "min = 22.9337728322\n",
      "max = 23.1806873076\n"
     ]
    }
   ],
   "source": [
    "M_run = 20\n",
    "\n",
    "a = np.zeros(M_run)\n",
    "for i in range (M_run): \n",
    "    test_hd = BsdeHD(T, K, M, mu, Q, sigma, S_init, r, R)\n",
    "    a[i] = test_hd.get_price(N,m,option_type = 'call', option_payoff = 'max',n_picard=0, \n",
    "                             regression='gbr')\n",
    "    \n",
    "min_a = min(a)\n",
    "max_a = max(a)\n",
    "mean_a = np.mean(a)\n",
    "std_a = np.std(a)\n",
    "print (\"mean = \" + str(mean_a)) \n",
    "print (\"std = \" + str(std_a)) \n",
    "print (\"min = \" + str(min_a)) \n",
    "print (\"max = \" + str(max_a)) "
   ]
  },
  {
   "cell_type": "markdown",
   "metadata": {},
   "source": [
    "## 20 dimensionnal geometric option "
   ]
  },
  {
   "cell_type": "code",
   "execution_count": 8,
   "metadata": {
    "collapsed": true
   },
   "outputs": [],
   "source": [
    "T = 0.25\n",
    "m = 6\n",
    "p = 20\n",
    "K = 95.\n",
    "r = 0.06\n",
    "R = 0.06 \n",
    "M = np.eye(p)\n",
    "S_init = 100.\n",
    "mu = 0.06\n",
    "sigma = 0.2\n",
    "N = 100000\n",
    "Q = 0"
   ]
  },
  {
   "cell_type": "markdown",
   "metadata": {},
   "source": [
    "# Black-Scholes \n"
   ]
  },
  {
   "cell_type": "code",
   "execution_count": 9,
   "metadata": {
    "collapsed": false
   },
   "outputs": [
    {
     "name": "stdout",
     "output_type": "stream",
     "text": [
      "BS-comparison = 5.942417772333471\n"
     ]
    }
   ],
   "source": [
    "test_hd = BsdeHD(T, K, M, mu, Q, sigma, S_init, r, R)\n",
    "print(\"BS-comparison = {}\".format(test_hd.get_comparison_bs(95., p)))"
   ]
  },
  {
   "cell_type": "code",
   "execution_count": 10,
   "metadata": {
    "collapsed": false
   },
   "outputs": [
    {
     "name": "stdout",
     "output_type": "stream",
     "text": [
      "mean = 5.94072771301\n",
      "std = 0.00665883132744\n",
      "min = 5.92989300097\n",
      "max = 5.95332982669\n"
     ]
    }
   ],
   "source": [
    "M_run = 20\n",
    "\n",
    "a = np.zeros(M_run)\n",
    "for i in range (M_run): \n",
    "    test_hd = BsdeHD(T, K, M, mu, Q, sigma, S_init, r, R)\n",
    "    a[i] = test_hd.get_price(N, m, option_type = 'call', option_payoff = 'geometric',regression='gbr')\n",
    "    \n",
    "min_a = min(a)\n",
    "max_a = max(a)\n",
    "mean_a = np.mean(a)\n",
    "std_a = np.std(a)\n",
    "print (\"mean = \" + str(mean_a)) \n",
    "print (\"std = \" + str(std_a)) \n",
    "print (\"min = \" + str(min_a)) \n",
    "print (\"max = \" + str(max_a)) "
   ]
  },
  {
   "cell_type": "markdown",
   "metadata": {},
   "source": [
    "## Time analysis with 10^5 particles simulated in dimension 7 "
   ]
  },
  {
   "cell_type": "code",
   "execution_count": 13,
   "metadata": {
    "collapsed": true
   },
   "outputs": [],
   "source": [
    "T = 0.5\n",
    "m = 8\n",
    "p = 7\n",
    "K = 100.\n",
    "r = 0.06\n",
    "R = 0.06\n",
    "M = np.eye(p)\n",
    "S_init = 100.\n",
    "mu = 0.06\n",
    "sigma = 0.2\n",
    "N = 100000\n",
    "Q = 0"
   ]
  },
  {
   "cell_type": "code",
   "execution_count": 14,
   "metadata": {
    "collapsed": false
   },
   "outputs": [
    {
     "name": "stdout",
     "output_type": "stream",
     "text": [
      "gradient boosting gives 3.3036 within 60.9s compared to B-S price of 3.3084, for 100000 particles\n"
     ]
    }
   ],
   "source": [
    "import time\n",
    "start = time.time()\n",
    "\n",
    "test_hd = BsdeHD(T, K, M, mu, Q, sigma, S_init, r, R)\n",
    "price_gbr = test_hd.get_price(N, m,\n",
    "                              option_type='call', option_payoff='geometric',n_picard=0, \n",
    "                              regression='gbr')\n",
    "price_gbr = round(price_gbr, 4)\n",
    "elapsed = round(time.time() - start, 2)\n",
    "price_bs = test_hd.get_comparison_bs(K, p)\n",
    "price_bs = round(price_bs, 4)\n",
    "\n",
    "print ('gradient boosting gives {} within {}s compared to B-S price of {}, for {} particles'.format(price_gbr,elapsed, price_bs, N))\n"
   ]
  },
  {
   "cell_type": "code",
   "execution_count": null,
   "metadata": {
    "collapsed": true
   },
   "outputs": [],
   "source": [
    "from lightning import Lightning"
   ]
  }
 ],
 "metadata": {
  "kernelspec": {
   "display_name": "Python 3",
   "language": "python",
   "name": "python3"
  },
  "language_info": {
   "codemirror_mode": {
    "name": "ipython",
    "version": 3
   },
   "file_extension": ".py",
   "mimetype": "text/x-python",
   "name": "python",
   "nbconvert_exporter": "python",
   "pygments_lexer": "ipython3",
   "version": "3.5.2"
  }
 },
 "nbformat": 4,
 "nbformat_minor": 0
}
