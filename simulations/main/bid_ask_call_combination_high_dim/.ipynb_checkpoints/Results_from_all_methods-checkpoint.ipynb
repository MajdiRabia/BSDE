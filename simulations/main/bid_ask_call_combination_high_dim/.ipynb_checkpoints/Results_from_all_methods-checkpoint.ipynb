{
 "cells": [
  {
   "cell_type": "code",
   "execution_count": 1,
   "metadata": {
    "collapsed": true
   },
   "outputs": [],
   "source": [
    "import os\n",
    "import sys\n",
    "module_path = os.path.abspath(os.path.join('../'))\n",
    "if module_path not in sys.path:\n",
    "    sys.path.append(module_path)"
   ]
  },
  {
   "cell_type": "code",
   "execution_count": 2,
   "metadata": {
    "collapsed": true
   },
   "outputs": [],
   "source": [
    "import pandas as pd"
   ]
  },
  {
   "cell_type": "code",
   "execution_count": 3,
   "metadata": {
    "collapsed": true
   },
   "outputs": [],
   "source": [
    "import os"
   ]
  },
  {
   "cell_type": "code",
   "execution_count": 4,
   "metadata": {
    "collapsed": false
   },
   "outputs": [
    {
     "data": {
      "text/plain": [
       "'C:\\\\Users\\\\Majdi\\\\Dropbox\\\\MSc thesis\\\\Simulations\\\\Main'"
      ]
     },
     "execution_count": 4,
     "metadata": {},
     "output_type": "execute_result"
    }
   ],
   "source": [
    "module_path"
   ]
  },
  {
   "cell_type": "code",
   "execution_count": 5,
   "metadata": {
    "collapsed": false
   },
   "outputs": [],
   "source": [
    "folders = os.listdir(os.getcwd())"
   ]
  },
  {
   "cell_type": "code",
   "execution_count": 6,
   "metadata": {
    "collapsed": false
   },
   "outputs": [
    {
     "data": {
      "text/plain": [
       "['.ipynb_checkpoints',\n",
       " 'Derivative',\n",
       " 'GradBoosting',\n",
       " 'Mesh',\n",
       " 'RandomForest',\n",
       " 'Results_from_all_methods.ipynb',\n",
       " 'Untitled.ipynb']"
      ]
     },
     "execution_count": 6,
     "metadata": {},
     "output_type": "execute_result"
    }
   ],
   "source": [
    "folders"
   ]
  },
  {
   "cell_type": "code",
   "execution_count": 7,
   "metadata": {
    "collapsed": false
   },
   "outputs": [],
   "source": [
    "folders.remove('Results_from_all_methods.ipynb')\n",
    "folders.remove('Untitled.ipynb')\n",
    "folders.remove('.ipynb_checkpoints')"
   ]
  },
  {
   "cell_type": "code",
   "execution_count": 8,
   "metadata": {
    "collapsed": false
   },
   "outputs": [],
   "source": [
    "import glob\n",
    "path = os.getcwd()"
   ]
  },
  {
   "cell_type": "code",
   "execution_count": 9,
   "metadata": {
    "collapsed": false
   },
   "outputs": [
    {
     "data": {
      "text/plain": [
       "'C:\\\\Users\\\\Majdi\\\\Dropbox\\\\MSc thesis\\\\Simulations\\\\Main\\\\bid_ask_call_combination_high_dim'"
      ]
     },
     "execution_count": 9,
     "metadata": {},
     "output_type": "execute_result"
    }
   ],
   "source": [
    "path"
   ]
  },
  {
   "cell_type": "code",
   "execution_count": 21,
   "metadata": {
    "collapsed": false
   },
   "outputs": [
    {
     "name": "stdout",
     "output_type": "stream",
     "text": [
      "['/home/e0002182/Untitled Folder/Main/Bid-ask_call_combination_1_dim/Derivative/output_derivative.csv']\n",
      "['/home/e0002182/Untitled Folder/Main/Bid-ask_call_combination_1_dim/Mesh/output_mesh.csv']\n",
      "['/home/e0002182/Untitled Folder/Main/Bid-ask_call_combination_1_dim/GradBoosting/output_GradBoost.csv']\n",
      "['/home/e0002182/Untitled Folder/Main/Bid-ask_call_combination_1_dim/LSM/output_lsm.csv']\n",
      "['/home/e0002182/Untitled Folder/Main/Bid-ask_call_combination_1_dim/RandomForest/output_rf.csv']\n"
     ]
    }
   ],
   "source": [
    "dfs = {}\n",
    "\n",
    "for folder in folders:\n",
    "    filename = glob.glob(path + SEP + folder + '/*.csv')\n",
    "    print (filename)\n",
    "    if len (filename) > 0 : \n",
    "        dfs[folder] = pd.read_csv(filename[0], index_col=False)"
   ]
  },
  {
   "cell_type": "code",
   "execution_count": 22,
   "metadata": {
    "collapsed": false
   },
   "outputs": [],
   "source": [
    "test = dfs['LSM']\n",
    "params = test['Parameters'].dropna()"
   ]
  },
  {
   "cell_type": "code",
   "execution_count": 23,
   "metadata": {
    "collapsed": false
   },
   "outputs": [],
   "source": [
    "params = test[['Parameters', 'values']].dropna()"
   ]
  },
  {
   "cell_type": "code",
   "execution_count": 24,
   "metadata": {
    "collapsed": false
   },
   "outputs": [],
   "source": [
    "dfs_stats=[]\n",
    "for key, df in dfs.items(): \n",
    "    df = df[['stat parameter', 'values']].dropna()\n",
    "    dfs_stats.append(pd.DataFrame(data = df))\n",
    "dfs_stats = pd.concat(dfs_stats, keys = dfs.keys())"
   ]
  },
  {
   "cell_type": "code",
   "execution_count": 25,
   "metadata": {
    "collapsed": false
   },
   "outputs": [
    {
     "data": {
      "text/html": [
       "<div>\n",
       "<table border=\"1\" class=\"dataframe\">\n",
       "  <thead>\n",
       "    <tr style=\"text-align: right;\">\n",
       "      <th></th>\n",
       "      <th></th>\n",
       "      <th>stat parameter</th>\n",
       "      <th>values</th>\n",
       "    </tr>\n",
       "  </thead>\n",
       "  <tbody>\n",
       "    <tr>\n",
       "      <th rowspan=\"5\" valign=\"top\">RandomForest</th>\n",
       "      <th>34</th>\n",
       "      <td>mean</td>\n",
       "      <td>2.9694</td>\n",
       "    </tr>\n",
       "    <tr>\n",
       "      <th>35</th>\n",
       "      <td>std</td>\n",
       "      <td>0.0436</td>\n",
       "    </tr>\n",
       "    <tr>\n",
       "      <th>36</th>\n",
       "      <td>95% confidence interval</td>\n",
       "      <td>[2.9651, 2.9737]</td>\n",
       "    </tr>\n",
       "    <tr>\n",
       "      <th>37</th>\n",
       "      <td>min</td>\n",
       "      <td>2.8896</td>\n",
       "    </tr>\n",
       "    <tr>\n",
       "      <th>38</th>\n",
       "      <td>max</td>\n",
       "      <td>3.0422</td>\n",
       "    </tr>\n",
       "    <tr>\n",
       "      <th rowspan=\"5\" valign=\"top\">Derivative</th>\n",
       "      <th>25</th>\n",
       "      <td>mean</td>\n",
       "      <td>2.9403</td>\n",
       "    </tr>\n",
       "    <tr>\n",
       "      <th>26</th>\n",
       "      <td>std</td>\n",
       "      <td>0.1441</td>\n",
       "    </tr>\n",
       "    <tr>\n",
       "      <th>27</th>\n",
       "      <td>95% confidence interval</td>\n",
       "      <td>[2.9121, 2.9685]</td>\n",
       "    </tr>\n",
       "    <tr>\n",
       "      <th>28</th>\n",
       "      <td>min</td>\n",
       "      <td>2.7534</td>\n",
       "    </tr>\n",
       "    <tr>\n",
       "      <th>29</th>\n",
       "      <td>max</td>\n",
       "      <td>3.2832</td>\n",
       "    </tr>\n",
       "    <tr>\n",
       "      <th rowspan=\"5\" valign=\"top\">LSM</th>\n",
       "      <th>33</th>\n",
       "      <td>mean</td>\n",
       "      <td>2.9381</td>\n",
       "    </tr>\n",
       "    <tr>\n",
       "      <th>34</th>\n",
       "      <td>std</td>\n",
       "      <td>0.0154</td>\n",
       "    </tr>\n",
       "    <tr>\n",
       "      <th>35</th>\n",
       "      <td>95% confidence interval</td>\n",
       "      <td>[2.9366, 2.9396]</td>\n",
       "    </tr>\n",
       "    <tr>\n",
       "      <th>36</th>\n",
       "      <td>min</td>\n",
       "      <td>2.9159</td>\n",
       "    </tr>\n",
       "    <tr>\n",
       "      <th>37</th>\n",
       "      <td>max</td>\n",
       "      <td>2.9787</td>\n",
       "    </tr>\n",
       "    <tr>\n",
       "      <th rowspan=\"5\" valign=\"top\">Mesh</th>\n",
       "      <th>32</th>\n",
       "      <td>mean</td>\n",
       "      <td>2.841</td>\n",
       "    </tr>\n",
       "    <tr>\n",
       "      <th>33</th>\n",
       "      <td>std</td>\n",
       "      <td>0.0711</td>\n",
       "    </tr>\n",
       "    <tr>\n",
       "      <th>34</th>\n",
       "      <td>95% confidence interval</td>\n",
       "      <td>[2.834, 2.848]</td>\n",
       "    </tr>\n",
       "    <tr>\n",
       "      <th>35</th>\n",
       "      <td>min</td>\n",
       "      <td>2.6986</td>\n",
       "    </tr>\n",
       "    <tr>\n",
       "      <th>36</th>\n",
       "      <td>max</td>\n",
       "      <td>2.9682</td>\n",
       "    </tr>\n",
       "    <tr>\n",
       "      <th rowspan=\"5\" valign=\"top\">GradBoosting</th>\n",
       "      <th>35</th>\n",
       "      <td>mean</td>\n",
       "      <td>2.9687</td>\n",
       "    </tr>\n",
       "    <tr>\n",
       "      <th>36</th>\n",
       "      <td>std</td>\n",
       "      <td>0.0465</td>\n",
       "    </tr>\n",
       "    <tr>\n",
       "      <th>37</th>\n",
       "      <td>95% confidence interval</td>\n",
       "      <td>[2.9641, 2.9733]</td>\n",
       "    </tr>\n",
       "    <tr>\n",
       "      <th>38</th>\n",
       "      <td>min</td>\n",
       "      <td>2.886</td>\n",
       "    </tr>\n",
       "    <tr>\n",
       "      <th>39</th>\n",
       "      <td>max</td>\n",
       "      <td>3.0544</td>\n",
       "    </tr>\n",
       "  </tbody>\n",
       "</table>\n",
       "</div>"
      ],
      "text/plain": [
       "                          stat parameter            values\n",
       "RandomForest 34                     mean            2.9694\n",
       "             35                      std            0.0436\n",
       "             36  95% confidence interval  [2.9651, 2.9737]\n",
       "             37                      min            2.8896\n",
       "             38                      max            3.0422\n",
       "Derivative   25                     mean            2.9403\n",
       "             26                      std            0.1441\n",
       "             27  95% confidence interval  [2.9121, 2.9685]\n",
       "             28                      min            2.7534\n",
       "             29                      max            3.2832\n",
       "LSM          33                     mean            2.9381\n",
       "             34                      std            0.0154\n",
       "             35  95% confidence interval  [2.9366, 2.9396]\n",
       "             36                      min            2.9159\n",
       "             37                      max            2.9787\n",
       "Mesh         32                     mean             2.841\n",
       "             33                      std            0.0711\n",
       "             34  95% confidence interval    [2.834, 2.848]\n",
       "             35                      min            2.6986\n",
       "             36                      max            2.9682\n",
       "GradBoosting 35                     mean            2.9687\n",
       "             36                      std            0.0465\n",
       "             37  95% confidence interval  [2.9641, 2.9733]\n",
       "             38                      min             2.886\n",
       "             39                      max            3.0544"
      ]
     },
     "execution_count": 25,
     "metadata": {},
     "output_type": "execute_result"
    }
   ],
   "source": [
    "dfs_stats"
   ]
  },
  {
   "cell_type": "code",
   "execution_count": 26,
   "metadata": {
    "collapsed": false
   },
   "outputs": [],
   "source": [
    "with open('results_comparison.csv', 'w') as handle: \n",
    "    dfs_stats.to_csv(handle)\n",
    "    params.to_csv(handle)"
   ]
  },
  {
   "cell_type": "code",
   "execution_count": 27,
   "metadata": {
    "collapsed": false
   },
   "outputs": [
    {
     "ename": "IndentationError",
     "evalue": "expected an indented block (<ipython-input-27-9ac3dbcc8ba6>, line 3)",
     "output_type": "error",
     "traceback": [
      "\u001b[0;36m  File \u001b[0;32m\"<ipython-input-27-9ac3dbcc8ba6>\"\u001b[0;36m, line \u001b[0;32m3\u001b[0m\n\u001b[0;31m    \u001b[0m\n\u001b[0m    ^\u001b[0m\n\u001b[0;31mIndentationError\u001b[0m\u001b[0;31m:\u001b[0m expected an indented block\n"
     ]
    }
   ],
   "source": [
    "result_df = pd.DataFrame(['expected', 'mean', 'std', '95% confidence interval'])\n",
    "for key, df in dfs.items(): \n",
    "    "
   ]
  }
 ],
 "metadata": {
  "kernelspec": {
   "display_name": "Python 3",
   "language": "python",
   "name": "python3"
  },
  "language_info": {
   "codemirror_mode": {
    "name": "ipython",
    "version": 3
   },
   "file_extension": ".py",
   "mimetype": "text/x-python",
   "name": "python",
   "nbconvert_exporter": "python",
   "pygments_lexer": "ipython3",
   "version": "3.5.2"
  }
 },
 "nbformat": 4,
 "nbformat_minor": 0
}
