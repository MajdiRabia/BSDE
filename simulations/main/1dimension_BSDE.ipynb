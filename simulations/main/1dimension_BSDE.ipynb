{
 "cells": [
  {
   "cell_type": "code",
   "execution_count": 1,
   "metadata": {
    "collapsed": false
   },
   "outputs": [],
   "source": [
    "from BSDE import *\n",
    "from AmericanOption import *\n",
    "import warnings \n",
    "warnings.filterwarnings(\"ignore\")"
   ]
  },
  {
   "cell_type": "markdown",
   "metadata": {},
   "source": [
    "## 1D european call option with different interest rates\n",
    "\n",
    "Reference Price : 7.15 (Black-Scholes)\n",
    "_____"
   ]
  },
  {
   "cell_type": "markdown",
   "metadata": {},
   "source": [
    "### Using LSM "
   ]
  },
  {
   "cell_type": "code",
   "execution_count": 3,
   "metadata": {
    "collapsed": true
   },
   "outputs": [],
   "source": [
    "T = 0.5\n",
    "m = 12\n",
    "K = 100\n",
    "S0 = 100\n",
    "sigma = 0.2\n",
    "r = 0.04\n",
    "N = 10000\n",
    "mu = 0.06\n",
    "R = 0.06\n",
    "q = 0.\n",
    "RF_n_trees = 200\n",
    "RF_max_leaf_nodes = 100"
   ]
  },
  {
   "cell_type": "code",
   "execution_count": null,
   "metadata": {
    "collapsed": false
   },
   "outputs": [],
   "source": [
    "M_run = 20\n",
    "\n",
    "a = np.zeros(M_run)\n",
    "for i in range (M_run): \n",
    "    test = BSDE(S0, K, T, mu, sigma, q)\n",
    "    a[i] = test.get_price_lsm(R, r, N, m, oType = \"European\", n_picard=20)\n",
    "min_a = min(a)\n",
    "max_a = max(a)\n",
    "mean_a = np.mean(a)\n",
    "std_a = np.std(a)\n",
    "print (\"mean = \" + str(mean_a)) \n",
    "print (\"std = \" + str(std_a)) \n",
    "print (\"min = \" + str(min_a)) \n",
    "print (\"max = \" + str(max_a)) "
   ]
  },
  {
   "cell_type": "markdown",
   "metadata": {},
   "source": [
    "### Using RandomForest"
   ]
  },
  {
   "cell_type": "code",
   "execution_count": null,
   "metadata": {
    "collapsed": false
   },
   "outputs": [],
   "source": [
    "M_run = 20\n",
    "\n",
    "a = np.zeros(M_run)\n",
    "for i in range (M_run): \n",
    "    test = BSDE (S0, K, T, mu, sigma, q)\n",
    "    a[i] = test.get_price_RF(R, r, N, m, oType = 'European',n_picard=20)\n",
    "min_a = min(a)\n",
    "max_a = max(a)\n",
    "mean_a = np.mean(a)\n",
    "std_a = np.std(a)\n",
    "print (\"mean = \" + str(mean_a)) \n",
    "print (\"std = \" + str(std_a)) \n",
    "print (\"min = \" + str(min_a)) \n",
    "print (\"max = \" + str(max_a)) "
   ]
  },
  {
   "cell_type": "markdown",
   "metadata": {},
   "source": [
    "### Mesh Method "
   ]
  },
  {
   "cell_type": "code",
   "execution_count": 6,
   "metadata": {
    "collapsed": false
   },
   "outputs": [
    {
     "name": "stdout",
     "output_type": "stream",
     "text": [
      "mean = 8.05800984585\n",
      "std = 0.323072845753\n",
      "min = 7.24904471274\n",
      "max = 8.47726983768\n"
     ]
    }
   ],
   "source": [
    "N = 1000 #to avoid a burning out of this laptop\n",
    "\n",
    "M_run = 20\n",
    "\n",
    "a = np.zeros(M_run)\n",
    "for i in range (M_run): \n",
    "    test = BSDE (S0, K, T, mu, sigma, q)\n",
    "    a[i] = test.get_price_mesh(N, m , r, R, oType = 'European', mode = 'all')\n",
    "min_a = min(a)\n",
    "max_a = max(a)\n",
    "mean_a = np.mean(a)\n",
    "std_a = np.std(a)\n",
    "print (\"mean = \" + str(mean_a)) \n",
    "print (\"std = \" + str(std_a)) \n",
    "print (\"min = \" + str(min_a)) \n",
    "print (\"max = \" + str(max_a)) "
   ]
  },
  {
   "cell_type": "markdown",
   "metadata": {},
   "source": [
    "### Mesh Nearest Neighbors"
   ]
  },
  {
   "cell_type": "code",
   "execution_count": null,
   "metadata": {
    "collapsed": false
   },
   "outputs": [],
   "source": [
    "N = 1000 #to avoid a burning out of this laptop\n",
    "\n",
    "M_run = 20\n",
    "\n",
    "a = np.zeros(M_run)\n",
    "for i in range (M_run): \n",
    "    test = BSDE (S0, K, T, mu, sigma, q)\n",
    "    a[i] = test.get_price_mesh(N, m , r, R, oType = \"call\", n_picard = 900,mode = 'NN')\n",
    "min_a = min(a)\n",
    "max_a = max(a)\n",
    "mean_a = np.mean(a)\n",
    "std_a = np.std(a)\n",
    "print (\"mean = \" + str(mean_a)) \n",
    "print (\"std = \" + str(std_a)) \n",
    "print (\"min = \" + str(min_a)) \n",
    "print (\"max = \" + str(max_a)) "
   ]
  },
  {
   "cell_type": "markdown",
   "metadata": {},
   "source": [
    "__________\n",
    "\n",
    "## 1D european combined call option with different interest rates\n",
    "\n",
    "Reference Price : 2.95 (Gobet)\n",
    "\n",
    "_____\n"
   ]
  },
  {
   "cell_type": "code",
   "execution_count": 17,
   "metadata": {
    "collapsed": false
   },
   "outputs": [],
   "source": [
    "T = 0.25\n",
    "m = 6\n",
    "K = 100\n",
    "S0 = 100\n",
    "sigma = 0.2\n",
    "r = 0.01\n",
    "N = 10000\n",
    "mu = 0.05\n",
    "R = 0.06\n",
    "q = 0.\n",
    "RF_n_trees = 200\n",
    "RF_max_leaf_nodes = 100"
   ]
  },
  {
   "cell_type": "markdown",
   "metadata": {},
   "source": [
    "### Using LSM "
   ]
  },
  {
   "cell_type": "code",
   "execution_count": null,
   "metadata": {
    "collapsed": false
   },
   "outputs": [],
   "source": [
    "M_run = 20\n",
    "\n",
    "a = np.zeros(M_run)\n",
    "for i in range (M_run): \n",
    "    test = BSDE (S0, K, T, mu, sigma, q)\n",
    "    a[i] = test.get_price_lsm(R, r, N, m, oPayoff = \"call combination\", oType = \"European\", n_picard=8)\n",
    "min_a = min(a)\n",
    "max_a = max(a)\n",
    "mean_a = np.mean(a)\n",
    "std_a = np.std(a)\n",
    "print (\"mean = \" + str(mean_a)) \n",
    "print (\"std = \" + str(std_a)) \n",
    "print (\"min = \" + str(min_a)) \n",
    "print (\"max = \" + str(max_a)) "
   ]
  },
  {
   "cell_type": "markdown",
   "metadata": {},
   "source": [
    "### Using RF "
   ]
  },
  {
   "cell_type": "code",
   "execution_count": null,
   "metadata": {
    "collapsed": false
   },
   "outputs": [],
   "source": [
    "M_run = 20\n",
    "\n",
    "a = np.zeros(M_run)\n",
    "for i in range (M_run): \n",
    "    test = BSDE (S0, K, T, mu, sigma, q)\n",
    "    a[i] = test.get_price_RF(R, r, N, m,oPayoff = \"call combination\", oType = 'European', n_picard=8)\n",
    "min_a = min(a)\n",
    "max_a = max(a)\n",
    "mean_a = np.mean(a)\n",
    "std_a = np.std(a)\n",
    "print (\"mean = \" + str(mean_a)) \n",
    "print (\"std = \" + str(std_a)) \n",
    "print (\"min = \" + str(min_a)) \n",
    "print (\"max = \" + str(max_a)) "
   ]
  },
  {
   "cell_type": "markdown",
   "metadata": {},
   "source": [
    "### Mesh classic"
   ]
  },
  {
   "cell_type": "code",
   "execution_count": 18,
   "metadata": {
    "collapsed": false
   },
   "outputs": [
    {
     "name": "stdout",
     "output_type": "stream",
     "text": [
      "mean = 2.84933981951\n",
      "std = 0.124392388327\n",
      "min = 2.63596298197\n",
      "max = 3.07956710491\n"
     ]
    }
   ],
   "source": [
    "N = 1000 #to avoid a burning out of this laptop\n",
    "\n",
    "M_run = 20\n",
    "\n",
    "a = np.zeros(M_run)\n",
    "for i in range (M_run): \n",
    "    test = BSDE (S0, K, T, mu, sigma, q)\n",
    "    a[i] = test.get_price_mesh(N, m , r, R, oPayoff = \"call combination\", n_picard = 10,mode = 'all')\n",
    "min_a = min(a)\n",
    "max_a = max(a)\n",
    "mean_a = np.mean(a)\n",
    "std_a = np.std(a)\n",
    "print (\"mean = \" + str(mean_a)) \n",
    "print (\"std = \" + str(std_a)) \n",
    "print (\"min = \" + str(min_a)) \n",
    "print (\"max = \" + str(max_a)) "
   ]
  },
  {
   "cell_type": "markdown",
   "metadata": {},
   "source": [
    "### Mesh Nearest Neighbors"
   ]
  },
  {
   "cell_type": "code",
   "execution_count": 13,
   "metadata": {
    "collapsed": false
   },
   "outputs": [
    {
     "name": "stdout",
     "output_type": "stream",
     "text": [
      "mean = 2.60187578633\n",
      "std = 0.0982275195308\n",
      "min = 2.33686073528\n",
      "max = 2.78125184902\n"
     ]
    }
   ],
   "source": [
    "N = 1000 #to avoid a burning out of this laptop\n",
    "\n",
    "M_run = 20\n",
    "\n",
    "a = np.zeros(M_run)\n",
    "for i in range (M_run): \n",
    "    test = BSDE (S0, K, T, mu, sigma, q)\n",
    "    a[i] = test.get_price_mesh(N, m , r, R, oPayoff = \"call combination\", n_picard = 10,mode = 'NN',\n",
    "                              n_neighbors=800)\n",
    "min_a = min(a)\n",
    "max_a = max(a)\n",
    "mean_a = np.mean(a)\n",
    "std_a = np.std(a)\n",
    "print (\"mean = \" + str(mean_a)) \n",
    "print (\"std = \" + str(std_a)) \n",
    "print (\"min = \" + str(min_a)) \n",
    "print (\"max = \" + str(max_a)) "
   ]
  },
  {
   "cell_type": "markdown",
   "metadata": {},
   "source": [
    "## 5 Dimensional max call option \n",
    "\n",
    "Reference Price : 23.052 (Glasserman)"
   ]
  },
  {
   "cell_type": "markdown",
   "metadata": {},
   "source": [
    "### Random Forest"
   ]
  },
  {
   "cell_type": "code",
   "execution_count": 22,
   "metadata": {
    "collapsed": true
   },
   "outputs": [],
   "source": [
    "T = 3\n",
    "m = 8\n",
    "p = 5\n",
    "K = 100.\n",
    "r = 0.05\n",
    "R = 0.05\n",
    "M = np.eye(p)\n",
    "S_init = 100.\n",
    "mu = 0.05\n",
    "sigma = 0.2 \n",
    "N = 4000\n",
    "Q = 0.1\n",
    "RF_n_trees = 200\n",
    "RF_max_leaf_nodes = 100"
   ]
  },
  {
   "cell_type": "code",
   "execution_count": null,
   "metadata": {
    "collapsed": false
   },
   "outputs": [],
   "source": [
    "M_run = 20\n",
    "\n",
    "a = np.zeros(M_run)\n",
    "for i in range (M_run): \n",
    "    test_hd = BsdeHD(T, K, M, mu, Q, sigma, S_init, r, R)\n",
    "    a[i] = test_hd.get_price(N,m, RF_n_trees,RF_max_leaf_nodes,\n",
    "                  option_type = 'call', option_payoff = 'max', oType= 'European', n_picard= 10)\n",
    "    \n",
    "min_a = min(a)\n",
    "max_a = max(a)\n",
    "mean_a = np.mean(a)\n",
    "std_a = np.std(a)\n",
    "print (\"mean = \" + str(mean_a)) \n",
    "print (\"std = \" + str(std_a)) \n",
    "print (\"min = \" + str(min_a)) \n",
    "print (\"max = \" + str(max_a)) "
   ]
  },
  {
   "cell_type": "markdown",
   "metadata": {},
   "source": [
    "### Mesh classic"
   ]
  },
  {
   "cell_type": "code",
   "execution_count": 20,
   "metadata": {
    "collapsed": false
   },
   "outputs": [
    {
     "name": "stdout",
     "output_type": "stream",
     "text": [
      "mean = 23.1754544835\n",
      "std = 0.877731509105\n",
      "min = 21.1206570894\n",
      "max = 24.7894941319\n"
     ]
    }
   ],
   "source": [
    "N = 1000\n",
    "\n",
    "M_run = 20\n",
    "\n",
    "a = np.zeros(M_run)\n",
    "for i in range (M_run): \n",
    "    test_hd = BsdeHD(T, K, M, mu, Q, sigma, S_init, r, R)\n",
    "    a[i] = test_hd.get_price_mesh(N, m, option_type = 'call', option_payoff = 'max',\n",
    "                                  mode='all', n_picard=10)\n",
    "    \n",
    "min_a = min(a)\n",
    "max_a = max(a)\n",
    "mean_a = np.mean(a)\n",
    "std_a = np.std(a)\n",
    "print (\"mean = \" + str(mean_a)) \n",
    "print (\"std = \" + str(std_a)) \n",
    "print (\"min = \" + str(min_a)) \n",
    "print (\"max = \" + str(max_a)) "
   ]
  },
  {
   "cell_type": "markdown",
   "metadata": {},
   "source": [
    "### Mesh Nearest Neighbors"
   ]
  },
  {
   "cell_type": "code",
   "execution_count": 23,
   "metadata": {
    "collapsed": false
   },
   "outputs": [
    {
     "name": "stdout",
     "output_type": "stream",
     "text": [
      "mean = 13.0890777309\n",
      "std = 0.597857113809\n",
      "min = 11.9913819344\n",
      "max = 14.710929378\n"
     ]
    }
   ],
   "source": [
    "N = 1000\n",
    "\n",
    "M_run = 20\n",
    "\n",
    "a = np.zeros(M_run)\n",
    "for i in range (M_run): \n",
    "    test_hd = BsdeHD(T, K, M, mu, Q, sigma, S_init, r, R)\n",
    "    a[i] = test_hd.get_price_mesh(N, m, option_type = 'call', option_payoff = 'max',\n",
    "                                  mode='NN', n_neighbors=900, n_picard=5)\n",
    "    \n",
    "min_a = min(a)\n",
    "max_a = max(a)\n",
    "mean_a = np.mean(a)\n",
    "std_a = np.std(a)\n",
    "print (\"mean = \" + str(mean_a)) \n",
    "print (\"std = \" + str(std_a)) \n",
    "print (\"min = \" + str(min_a)) \n",
    "print (\"max = \" + str(max_a)) "
   ]
  },
  {
   "cell_type": "markdown",
   "metadata": {
    "collapsed": false
   },
   "source": [
    "## 20 dimensionnal geometric option "
   ]
  },
  {
   "cell_type": "code",
   "execution_count": 24,
   "metadata": {
    "collapsed": true
   },
   "outputs": [],
   "source": [
    "T = 0.25\n",
    "m = 4\n",
    "p = 20\n",
    "K = 95.\n",
    "r = 0.06\n",
    "R = 0.06\n",
    "M = np.eye(p)\n",
    "S_init = 100.\n",
    "mu = 0.05\n",
    "sigma = 0.2\n",
    "N = 1000\n",
    "Q = 0\n",
    "RF_n_trees = 100\n",
    "RF_max_leaf_nodes = 50"
   ]
  },
  {
   "cell_type": "markdown",
   "metadata": {},
   "source": [
    "# Black-Scholes "
   ]
  },
  {
   "cell_type": "code",
   "execution_count": 25,
   "metadata": {
    "collapsed": false
   },
   "outputs": [
    {
     "name": "stdout",
     "output_type": "stream",
     "text": [
      "BS-comparison = 5.942417772333471\n"
     ]
    }
   ],
   "source": [
    "test_hd = BsdeHD(T, K, M, mu, Q, sigma, S_init, r, R)\n",
    "print(\"BS-comparison = {}\".format(test_hd.get_comparison_bs(95., p)))"
   ]
  },
  {
   "cell_type": "markdown",
   "metadata": {},
   "source": [
    "### Mesh classic"
   ]
  },
  {
   "cell_type": "code",
   "execution_count": 26,
   "metadata": {
    "collapsed": false
   },
   "outputs": [
    {
     "name": "stdout",
     "output_type": "stream",
     "text": [
      "mean = 5.6916291213\n",
      "std = 0.0788594323231\n",
      "min = 5.54594032398\n",
      "max = 5.85125063427\n"
     ]
    }
   ],
   "source": [
    "M_run = 20\n",
    "\n",
    "a = np.zeros(M_run)\n",
    "for i in range (M_run): \n",
    "    test_hd = BsdeHD(T, K, M, mu, Q, sigma, S_init, r, R)\n",
    "    a[i] = test_hd.get_price_mesh(N, m, option_type = 'call', option_payoff = 'geometric', \n",
    "                                  n_picard=5, mode='all')\n",
    "    \n",
    "min_a = min(a)\n",
    "max_a = max(a)\n",
    "mean_a = np.mean(a)\n",
    "std_a = np.std(a)\n",
    "print (\"mean = \" + str(mean_a)) \n",
    "print (\"std = \" + str(std_a)) \n",
    "print (\"min = \" + str(min_a)) \n",
    "print (\"max = \" + str(max_a)) "
   ]
  },
  {
   "cell_type": "markdown",
   "metadata": {},
   "source": [
    "### Mesh neighbors 900/1000 mesh"
   ]
  },
  {
   "cell_type": "code",
   "execution_count": 27,
   "metadata": {
    "collapsed": false
   },
   "outputs": [
    {
     "name": "stdout",
     "output_type": "stream",
     "text": [
      "mean = 5.53558377673\n",
      "std = 0.0913204879247\n",
      "min = 5.36237317036\n",
      "max = 5.69481945698\n"
     ]
    }
   ],
   "source": [
    "M_run = 20\n",
    "\n",
    "a = np.zeros(M_run)\n",
    "for i in range (M_run): \n",
    "    test_hd = BsdeHD(T, K, M, mu, Q, sigma, S_init, r, R)\n",
    "    a[i] = test_hd.get_price_mesh(N, m, option_type = 'call', option_payoff = 'geometric',\n",
    "                                          n_picard=5, n_neighbors= 900, mode='NN')\n",
    "    \n",
    "min_a = min(a)\n",
    "max_a = max(a)\n",
    "mean_a = np.mean(a)\n",
    "std_a = np.std(a)\n",
    "print (\"mean = \" + str(mean_a)) \n",
    "print (\"std = \" + str(std_a)) \n",
    "print (\"min = \" + str(min_a)) \n",
    "print (\"max = \" + str(max_a)) "
   ]
  },
  {
   "cell_type": "code",
   "execution_count": null,
   "metadata": {
    "collapsed": true
   },
   "outputs": [],
   "source": []
  }
 ],
 "metadata": {
  "kernelspec": {
   "display_name": "Python 3",
   "language": "python",
   "name": "python3"
  },
  "language_info": {
   "codemirror_mode": {
    "name": "ipython",
    "version": 3
   },
   "file_extension": ".py",
   "mimetype": "text/x-python",
   "name": "python",
   "nbconvert_exporter": "python",
   "pygments_lexer": "ipython3",
   "version": "3.5.2"
  }
 },
 "nbformat": 4,
 "nbformat_minor": 0
}
