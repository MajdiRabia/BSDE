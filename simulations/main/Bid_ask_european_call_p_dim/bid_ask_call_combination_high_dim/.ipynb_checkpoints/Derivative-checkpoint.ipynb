{
 "cells": [
  {
   "cell_type": "markdown",
   "metadata": {},
   "source": [
    "# 1) Simulation with fixed parameters"
   ]
  },
  {
   "cell_type": "code",
   "execution_count": 23,
   "metadata": {
    "collapsed": true
   },
   "outputs": [],
   "source": [
    "import os\n",
    "import sys\n",
    "module_path = os.path.abspath(os.path.join('..'))\n",
    "if module_path not in sys.path:\n",
    "    sys.path.append(module_path)"
   ]
  },
  {
   "cell_type": "code",
   "execution_count": 24,
   "metadata": {
    "collapsed": false
   },
   "outputs": [],
   "source": [
    "from BSDE import * \n",
    "import warnings \n",
    "import bokeh\n",
    "from bokeh.layouts import gridplot\n",
    "from bokeh.plotting import figure, output_notebook, show, output_file\n",
    "import time\n",
    "warnings.filterwarnings(\"ignore\")"
   ]
  },
  {
   "cell_type": "code",
   "execution_count": 25,
   "metadata": {
    "collapsed": false
   },
   "outputs": [],
   "source": [
    "T = 0.5\n",
    "K = 100\n",
    "S0 = 100\n",
    "sigma = 0.2\n",
    "r = 0.04\n",
    "mu = 0.06\n",
    "R = 0.06\n",
    "q = 0."
   ]
  },
  {
   "cell_type": "code",
   "execution_count": 26,
   "metadata": {
    "collapsed": true
   },
   "outputs": [],
   "source": [
    "m = 12\n",
    "N = 10000\n",
    "l = 1.\n",
    "deg = 5\n",
    "n_picard = 10\n",
    "n_neighbors = np.floor(0.2 * N)\n",
    "M_run = 20"
   ]
  },
  {
   "cell_type": "code",
   "execution_count": null,
   "metadata": {
    "collapsed": false
   },
   "outputs": [],
   "source": [
    "a = np.zeros(M_run)\n",
    "timing = np.zeros_like(a)\n",
    "for i in range (M_run): \n",
    "    start = time.time()\n",
    "    test = BSDE(S0, K, T, mu, sigma, q)\n",
    "    a[i] = test.get_price_derivative(R, r, N, m, deg=deg, \n",
    "                                     n_picard=n_picard, l=l, n_neighbors=n_neighbors)\n",
    "    elapsed = time.time() - start\n",
    "    timing[i] = round(elapsed, 3)"
   ]
  },
  {
   "cell_type": "code",
   "execution_count": 6,
   "metadata": {
    "collapsed": true
   },
   "outputs": [],
   "source": [
    "import pandas as pd"
   ]
  },
  {
   "cell_type": "code",
   "execution_count": 7,
   "metadata": {
    "collapsed": true
   },
   "outputs": [],
   "source": [
    "param = ['q', 'mu', 'R ', 'r ','sigma', 'T', 'K', 'S0']\n",
    "values = [q, mu, R, r, sigma, T, K, S0]\n",
    "dataset = list(zip(param,values))\n",
    "df_param = pd.DataFrame(data = dataset, columns=['Parameters', 'values'])"
   ]
  },
  {
   "cell_type": "code",
   "execution_count": 11,
   "metadata": {
    "collapsed": false
   },
   "outputs": [
    {
     "data": {
      "text/html": [
       "<div>\n",
       "<table border=\"1\" class=\"dataframe\">\n",
       "  <thead>\n",
       "    <tr style=\"text-align: right;\">\n",
       "      <th></th>\n",
       "      <th>Specific Parameters</th>\n",
       "      <th>values</th>\n",
       "    </tr>\n",
       "  </thead>\n",
       "  <tbody>\n",
       "    <tr>\n",
       "      <th>0</th>\n",
       "      <td>N_particles</td>\n",
       "      <td>10000.0</td>\n",
       "    </tr>\n",
       "    <tr>\n",
       "      <th>1</th>\n",
       "      <td>m_discretization</td>\n",
       "      <td>12.0</td>\n",
       "    </tr>\n",
       "    <tr>\n",
       "      <th>2</th>\n",
       "      <td>N_run</td>\n",
       "      <td>20.0</td>\n",
       "    </tr>\n",
       "    <tr>\n",
       "      <th>3</th>\n",
       "      <td>degree</td>\n",
       "      <td>5.0</td>\n",
       "    </tr>\n",
       "    <tr>\n",
       "      <th>4</th>\n",
       "      <td>nearest neighbors</td>\n",
       "      <td>2000.0</td>\n",
       "    </tr>\n",
       "    <tr>\n",
       "      <th>5</th>\n",
       "      <td>l</td>\n",
       "      <td>1.0</td>\n",
       "    </tr>\n",
       "  </tbody>\n",
       "</table>\n",
       "</div>"
      ],
      "text/plain": [
       "  Specific Parameters   values\n",
       "0         N_particles  10000.0\n",
       "1    m_discretization     12.0\n",
       "2               N_run     20.0\n",
       "3              degree      5.0\n",
       "4   nearest neighbors   2000.0\n",
       "5                   l      1.0"
      ]
     },
     "execution_count": 11,
     "metadata": {},
     "output_type": "execute_result"
    }
   ],
   "source": [
    "sparam = ['N_particles', 'm_discretization', 'N_run', 'n_picard', 'degree', 'nearest neighbors', 'l']\n",
    "svalues = [N, m, M_run, n_picard, deg, n_neighbors, l]\n",
    "sp_dataset = list(zip(sparam,svalues))\n",
    "df_sparam = pd.DataFrame(sp_dataset, columns=['Specific Parameters', 'values'])\n",
    "df_sparam"
   ]
  },
  {
   "cell_type": "code",
   "execution_count": 12,
   "metadata": {
    "collapsed": false
   },
   "outputs": [
    {
     "ename": "NameError",
     "evalue": "name 'a' is not defined",
     "output_type": "error",
     "traceback": [
      "\u001b[1;31m---------------------------------------------------------------------------\u001b[0m",
      "\u001b[1;31mNameError\u001b[0m                                 Traceback (most recent call last)",
      "\u001b[1;32m<ipython-input-12-529361b6f74d>\u001b[0m in \u001b[0;36m<module>\u001b[1;34m()\u001b[0m\n\u001b[0;32m      1\u001b[0m \u001b[0mrun_id\u001b[0m \u001b[1;33m=\u001b[0m \u001b[1;33m[\u001b[0m\u001b[1;34m\"run {}\"\u001b[0m\u001b[1;33m.\u001b[0m\u001b[0mformat\u001b[0m\u001b[1;33m(\u001b[0m\u001b[0mi\u001b[0m\u001b[1;33m)\u001b[0m \u001b[1;32mfor\u001b[0m \u001b[0mi\u001b[0m \u001b[1;32min\u001b[0m \u001b[0mrange\u001b[0m\u001b[1;33m(\u001b[0m\u001b[1;36m1\u001b[0m\u001b[1;33m,\u001b[0m \u001b[0mM_run\u001b[0m\u001b[1;33m+\u001b[0m\u001b[1;36m1\u001b[0m\u001b[1;33m)\u001b[0m\u001b[1;33m]\u001b[0m\u001b[1;33m\u001b[0m\u001b[0m\n\u001b[1;32m----> 2\u001b[1;33m \u001b[0mdf\u001b[0m \u001b[1;33m=\u001b[0m \u001b[0mpd\u001b[0m\u001b[1;33m.\u001b[0m\u001b[0mDataFrame\u001b[0m\u001b[1;33m(\u001b[0m\u001b[0mlist\u001b[0m\u001b[1;33m(\u001b[0m\u001b[0mzip\u001b[0m\u001b[1;33m(\u001b[0m\u001b[0mrun_id\u001b[0m\u001b[1;33m,\u001b[0m\u001b[0ma\u001b[0m\u001b[1;33m)\u001b[0m\u001b[1;33m)\u001b[0m\u001b[1;33m,\u001b[0m \u001b[0mcolumns\u001b[0m \u001b[1;33m=\u001b[0m \u001b[1;33m[\u001b[0m\u001b[1;34m'run'\u001b[0m\u001b[1;33m,\u001b[0m\u001b[1;34m'values'\u001b[0m\u001b[1;33m]\u001b[0m\u001b[1;33m)\u001b[0m\u001b[1;33m\u001b[0m\u001b[0m\n\u001b[0m",
      "\u001b[1;31mNameError\u001b[0m: name 'a' is not defined"
     ]
    }
   ],
   "source": [
    "run_id = [\"run {}\".format(i) for i in range(1, M_run+1)]\n",
    "df = pd.DataFrame(list(zip(run_id, a, timing)), columns = ['run','values', 'time'])"
   ]
  },
  {
   "cell_type": "code",
   "execution_count": null,
   "metadata": {
    "collapsed": true
   },
   "outputs": [],
   "source": [
    "min_a = round(df['values'].min(), 4)\n",
    "max_a = round(df['values'].max(), 4)\n",
    "mean_a = round(df['values'].mean(), 4)\n",
    "std_a = round(df['values'].std(), 4)\n",
    "left = round(mean_a - 1.96 * std_a / M_run, 4)\n",
    "right = round(mean_a + 1.96 * std_a / M_run, 4)"
   ]
  },
  {
   "cell_type": "code",
   "execution_count": null,
   "metadata": {
    "collapsed": true
   },
   "outputs": [],
   "source": [
    "stat_param = ['mean', 'std', '95% confidence interval', 'min', 'max']\n",
    "stat_values = [mean_a, std_a, [left, right], min_a, max_a]\n",
    "stat_data = list(zip(stat_param, stat_values))\n",
    "stat_df = pd.DataFrame(stat_data, columns = ['stat parameter', 'values'])\n",
    "stat_df"
   ]
  },
  {
   "cell_type": "code",
   "execution_count": null,
   "metadata": {
    "collapsed": true
   },
   "outputs": [],
   "source": [
    "df_join = pd.concat([df_param, df_sparam, df, stat_df], axis = 0)\n",
    "df_join.to_csv('output_derivative.csv')"
   ]
  },
  {
   "cell_type": "markdown",
   "metadata": {},
   "source": [
    "# 2) Impact of number of Nearest Neighbors"
   ]
  },
  {
   "cell_type": "code",
   "execution_count": null,
   "metadata": {
    "collapsed": true
   },
   "outputs": [],
   "source": [
    "price_nn = np.zeros(len(list(range(1, 100, 4))))\n",
    "for i, n_neighbors_i in enumerate(list(range(1, N_particles, 50))):\n",
    "    start = time.time()\n",
    "    test = BSDE(S0, K, T, mu, sigma, q)\n",
    "    price_nn[i] = test.get_price_derivative(R, r, N_particles, \n",
    "                                                 m_time_discretization, l=1., n_neighbors=n_neighbors_i,\n",
    "                                                 use_display=False)\n",
    "    elapsed = time.time() - start"
   ]
  },
  {
   "cell_type": "markdown",
   "metadata": {},
   "source": [
    "# 3) Impact of parameter l "
   ]
  },
  {
   "cell_type": "code",
   "execution_count": null,
   "metadata": {
    "collapsed": true
   },
   "outputs": [],
   "source": [
    "price_l = np.zeros(len(list(range(1, 100, 4))))\n",
    "for i, l_i in enumerate(list(range(1, 100, 4))):\n",
    "    test = BSDE(S0, K, T, mu, sigma, q)\n",
    "    price_l[i] = test.get_price_derivative(R, r, N_particles, \n",
    "                                                 m_time_discretization, l=l_i, n_neighbors=n_neighbors,\n",
    "                                                 use_display=False)"
   ]
  },
  {
   "cell_type": "markdown",
   "metadata": {},
   "source": [
    "# 4) Plotting Z against Stocks Input"
   ]
  },
  {
   "cell_type": "code",
   "execution_count": null,
   "metadata": {
    "collapsed": true
   },
   "outputs": [],
   "source": [
    "T = 0.5\n",
    "m_time_discretization = 12\n",
    "plt.rcParams['figure.figsize'] = (7*m_time_discretization,7*2)\n",
    "K = 100\n",
    "S0 = 100\n",
    "sigma = 0.2\n",
    "r = 0.04\n",
    "N_particles = 10000\n",
    "n_neighbors = 999\n",
    "mu = 0.06\n",
    "R = 0.06\n",
    "q = 0.\n",
    "test = BSDE(S0, K, T, mu, sigma, q)\n",
    "price_derivative = test.get_price_derivative(R, r, N_particles, m_time_discretization, l=1., \n",
    "                                             n_neighbors=n_neighbors,use_display=True)\n",
    "\n",
    "print (price_derivative)"
   ]
  }
 ],
 "metadata": {
  "kernelspec": {
   "display_name": "Python 3",
   "language": "python",
   "name": "python3"
  },
  "language_info": {
   "codemirror_mode": {
    "name": "ipython",
    "version": 3
   },
   "file_extension": ".py",
   "mimetype": "text/x-python",
   "name": "python",
   "nbconvert_exporter": "python",
   "pygments_lexer": "ipython3",
   "version": "3.5.2"
  }
 },
 "nbformat": 4,
 "nbformat_minor": 0
}
