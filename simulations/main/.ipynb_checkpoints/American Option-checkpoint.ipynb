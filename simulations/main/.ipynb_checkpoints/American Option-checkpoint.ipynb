{
 "cells": [
  {
   "cell_type": "code",
   "execution_count": 1,
   "metadata": {
    "collapsed": false
   },
   "outputs": [],
   "source": [
    "import AmericanOption\n",
    "from AmericanOption import *"
   ]
  },
  {
   "cell_type": "code",
   "execution_count": null,
   "metadata": {
    "collapsed": false
   },
   "outputs": [],
   "source": [
    "opt1 = AmOption (100., 100., 1., 0.4, 0.05, 0.)"
   ]
  },
  {
   "cell_type": "code",
   "execution_count": null,
   "metadata": {
    "collapsed": false
   },
   "outputs": [],
   "source": [
    "opt1.generate_paths (1000, 12) "
   ]
  },
  {
   "cell_type": "code",
   "execution_count": null,
   "metadata": {
    "collapsed": false
   },
   "outputs": [],
   "source": [
    "opt1.pricing_lsm(100000, 12, 5)"
   ]
  },
  {
   "cell_type": "code",
   "execution_count": null,
   "metadata": {
    "collapsed": false
   },
   "outputs": [],
   "source": [
    "T=1.\n",
    "m=12\n",
    "K=100.\n",
    "S0=100.\n",
    "r=0.1\n",
    "sigma=0.2\n",
    "deg=5\n",
    "N=100000\n",
    "q=0.05\n",
    "\n",
    "opt2 = AmOption(S0, K, T, sigma, r, q)"
   ]
  },
  {
   "cell_type": "code",
   "execution_count": null,
   "metadata": {
    "collapsed": false
   },
   "outputs": [],
   "source": [
    "opt2.pricing_lsm(N,m,deg)"
   ]
  },
  {
   "cell_type": "code",
   "execution_count": null,
   "metadata": {
    "collapsed": false
   },
   "outputs": [],
   "source": [
    "opt2.pricing_RF(N, m , 10, 5)"
   ]
  },
  {
   "cell_type": "code",
   "execution_count": 2,
   "metadata": {
    "collapsed": false
   },
   "outputs": [],
   "source": [
    "T=1.\n",
    "m=10\n",
    "p = 7\n",
    "K = 100.\n",
    "r = 0.03\n",
    "M = np.eye(p)\n",
    "S_init = 100 * np.ones(p)\n",
    "MU = r * np.ones(p)\n",
    "SIGMA = 0.4 * np.ones (p)\n",
    "N=1000\n",
    "Q = 0.05 * np.ones (p)"
   ]
  },
  {
   "cell_type": "code",
   "execution_count": null,
   "metadata": {
    "collapsed": false
   },
   "outputs": [],
   "source": [
    "M"
   ]
  },
  {
   "cell_type": "code",
   "execution_count": null,
   "metadata": {
    "collapsed": true
   },
   "outputs": [],
   "source": [
    "opt1 = HDAmOption(r, T, K, M, MU, Q, SIGMA, S_init)"
   ]
  },
  {
   "cell_type": "code",
   "execution_count": null,
   "metadata": {
    "collapsed": false
   },
   "outputs": [],
   "source": [
    "opt1.get_price(N,m,100,10)"
   ]
  },
  {
   "cell_type": "code",
   "execution_count": null,
   "metadata": {
    "collapsed": false
   },
   "outputs": [],
   "source": [
    "S = opt1.generate_multiple_asset (N,m) "
   ]
  },
  {
   "cell_type": "code",
   "execution_count": 3,
   "metadata": {
    "collapsed": false
   },
   "outputs": [],
   "source": [
    "opt2 = HDAmOption(r, T, K, M, MU, Q, SIGMA, S_init)"
   ]
  },
  {
   "cell_type": "code",
   "execution_count": 5,
   "metadata": {
    "collapsed": false
   },
   "outputs": [
    {
     "data": {
      "text/plain": [
       "60.05247375440004"
      ]
     },
     "execution_count": 5,
     "metadata": {},
     "output_type": "execute_result"
    }
   ],
   "source": [
    "opt2.get_price (N, m, 100, 10, option_type= 'call', option_payoff = 'max')"
   ]
  },
  {
   "cell_type": "code",
   "execution_count": 17,
   "metadata": {
    "collapsed": true
   },
   "outputs": [],
   "source": [
    "T=3.\n",
    "m=10\n",
    "p = 2\n",
    "K = 100.\n",
    "r = 0.05\n",
    "M = np.eye(p)\n",
    "S_init = 100 * np.ones(p)\n",
    "MU = r * np.ones(p)\n",
    "SIGMA = 0.2 * np.ones (p)\n",
    "N=10000\n",
    "Q = np.array ([0.1, 0.1])"
   ]
  },
  {
   "cell_type": "code",
   "execution_count": 18,
   "metadata": {
    "collapsed": true
   },
   "outputs": [],
   "source": [
    "opt3 = HDAmOption(r, T, K, M, MU, Q, SIGMA, S_init)"
   ]
  },
  {
   "cell_type": "code",
   "execution_count": 20,
   "metadata": {
    "collapsed": false
   },
   "outputs": [
    {
     "data": {
      "text/plain": [
       "14.019054665860944"
      ]
     },
     "execution_count": 20,
     "metadata": {},
     "output_type": "execute_result"
    }
   ],
   "source": [
    "opt3.get_price(N, m, 100, 10, option_type= 'call', option_payoff = 'max')"
   ]
  },
  {
   "cell_type": "code",
   "execution_count": 29,
   "metadata": {
    "collapsed": true
   },
   "outputs": [],
   "source": [
    "T=3.\n",
    "m=9\n",
    "p = 1\n",
    "K = 100.\n",
    "r = 0.05\n",
    "M = np.eye(p)\n",
    "S_init = 100 * np.ones(p)\n",
    "MU = r * np.ones(p)\n",
    "SIGMA = 0.2 * np.ones (p)\n",
    "N=10000\n",
    "Q = 0.1 * np.ones (p)"
   ]
  },
  {
   "cell_type": "code",
   "execution_count": 30,
   "metadata": {
    "collapsed": true
   },
   "outputs": [],
   "source": [
    "opt4 = HDAmOption(r, T, K, M, MU, Q, SIGMA, S_init)"
   ]
  },
  {
   "cell_type": "code",
   "execution_count": 31,
   "metadata": {
    "collapsed": false
   },
   "outputs": [
    {
     "data": {
      "text/plain": [
       "8.1213277514762812"
      ]
     },
     "execution_count": 31,
     "metadata": {},
     "output_type": "execute_result"
    }
   ],
   "source": [
    "opt4.get_price(N, m, 100, 10, option_type= 'call', option_payoff = 'max')"
   ]
  },
  {
   "cell_type": "code",
   "execution_count": null,
   "metadata": {
    "collapsed": true
   },
   "outputs": [],
   "source": []
  }
 ],
 "metadata": {
  "celltoolbar": "Slideshow",
  "kernelspec": {
   "display_name": "Python 3",
   "language": "python",
   "name": "python3"
  },
  "language_info": {
   "codemirror_mode": {
    "name": "ipython",
    "version": 3
   },
   "file_extension": ".py",
   "mimetype": "text/x-python",
   "name": "python",
   "nbconvert_exporter": "python",
   "pygments_lexer": "ipython3",
   "version": "3.5.1"
  }
 },
 "nbformat": 4,
 "nbformat_minor": 0
}
