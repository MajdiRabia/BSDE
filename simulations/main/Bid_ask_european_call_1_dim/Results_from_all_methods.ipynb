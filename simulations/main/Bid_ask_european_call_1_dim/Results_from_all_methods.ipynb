{
 "cells": [
  {
   "cell_type": "code",
   "execution_count": 1,
   "metadata": {
    "collapsed": true
   },
   "outputs": [],
   "source": [
    "import os\n",
    "import sys\n",
    "module_path = os.path.abspath(os.path.join('../'))\n",
    "if module_path not in sys.path:\n",
    "    sys.path.append(module_path)"
   ]
  },
  {
   "cell_type": "code",
   "execution_count": 2,
   "metadata": {
    "collapsed": true
   },
   "outputs": [],
   "source": [
    "import pandas as pd"
   ]
  },
  {
   "cell_type": "code",
   "execution_count": 3,
   "metadata": {
    "collapsed": true
   },
   "outputs": [],
   "source": [
    "import os"
   ]
  },
  {
   "cell_type": "code",
   "execution_count": 4,
   "metadata": {
    "collapsed": false
   },
   "outputs": [],
   "source": [
    "folders = os.listdir()"
   ]
  },
  {
   "cell_type": "code",
   "execution_count": 5,
   "metadata": {
    "collapsed": false
   },
   "outputs": [
    {
     "data": {
      "text/plain": [
       "['.ipynb_checkpoints',\n",
       " 'Derivative',\n",
       " 'GradBoosting',\n",
       " 'LSM',\n",
       " 'Mesh',\n",
       " 'RandomForest',\n",
       " 'results_comparison.pdf',\n",
       " 'results_comparison_call_1_dim.csv',\n",
       " 'Results_from_all_methods.ipynb']"
      ]
     },
     "execution_count": 5,
     "metadata": {},
     "output_type": "execute_result"
    }
   ],
   "source": [
    "folders"
   ]
  },
  {
   "cell_type": "code",
   "execution_count": 6,
   "metadata": {
    "collapsed": false
   },
   "outputs": [
    {
     "ename": "ValueError",
     "evalue": "list.remove(x): x not in list",
     "output_type": "error",
     "traceback": [
      "\u001b[1;31m---------------------------------------------------------------------------\u001b[0m",
      "\u001b[1;31mValueError\u001b[0m                                Traceback (most recent call last)",
      "\u001b[1;32m<ipython-input-6-d63688141dae>\u001b[0m in \u001b[0;36m<module>\u001b[1;34m()\u001b[0m\n\u001b[0;32m      1\u001b[0m \u001b[0mfolders\u001b[0m\u001b[1;33m.\u001b[0m\u001b[0mremove\u001b[0m\u001b[1;33m(\u001b[0m\u001b[1;34m'.ipynb_checkpoints'\u001b[0m\u001b[1;33m)\u001b[0m\u001b[1;33m\u001b[0m\u001b[0m\n\u001b[1;32m----> 2\u001b[1;33m \u001b[0mfolders\u001b[0m\u001b[1;33m.\u001b[0m\u001b[0mremove\u001b[0m\u001b[1;33m(\u001b[0m\u001b[1;34m'results_comparison.csv'\u001b[0m\u001b[1;33m)\u001b[0m\u001b[1;33m\u001b[0m\u001b[0m\n\u001b[0m",
      "\u001b[1;31mValueError\u001b[0m: list.remove(x): x not in list"
     ]
    }
   ],
   "source": [
    "folders.remove('.ipynb_checkpoints')"
   ]
  },
  {
   "cell_type": "code",
   "execution_count": 7,
   "metadata": {
    "collapsed": false
   },
   "outputs": [],
   "source": [
    "import glob\n",
    "path = os.getcwd()"
   ]
  },
  {
   "cell_type": "code",
   "execution_count": 8,
   "metadata": {
    "collapsed": false
   },
   "outputs": [
    {
     "data": {
      "text/plain": [
       "'C:\\\\Users\\\\Majdi\\\\Dropbox\\\\MSc thesis\\\\Simulations\\\\Main\\\\Bid_ask_european_call_1_dim'"
      ]
     },
     "execution_count": 8,
     "metadata": {},
     "output_type": "execute_result"
    }
   ],
   "source": [
    "path"
   ]
  },
  {
   "cell_type": "code",
   "execution_count": 9,
   "metadata": {
    "collapsed": false
   },
   "outputs": [],
   "source": [
    "SEP = os.sep.join('/')"
   ]
  },
  {
   "cell_type": "code",
   "execution_count": 10,
   "metadata": {
    "collapsed": false
   },
   "outputs": [
    {
     "name": "stdout",
     "output_type": "stream",
     "text": [
      "C:\\Users\\Majdi\\Dropbox\\MSc thesis\\Simulations\\Main\\Bid_ask_european_call_1_dim/Derivative\\output_derivative.csv\n"
     ]
    },
    {
     "ename": "IndexError",
     "evalue": "list index out of range",
     "output_type": "error",
     "traceback": [
      "\u001b[1;31m---------------------------------------------------------------------------\u001b[0m",
      "\u001b[1;31mIndexError\u001b[0m                                Traceback (most recent call last)",
      "\u001b[1;32m<ipython-input-10-2547f061a052>\u001b[0m in \u001b[0;36m<module>\u001b[1;34m()\u001b[0m\n\u001b[0;32m      1\u001b[0m \u001b[1;32mfor\u001b[0m \u001b[0mfolder\u001b[0m \u001b[1;32min\u001b[0m \u001b[0mfolders\u001b[0m\u001b[1;33m:\u001b[0m\u001b[1;33m\u001b[0m\u001b[0m\n\u001b[0;32m      2\u001b[0m     \u001b[0mfilename\u001b[0m \u001b[1;33m=\u001b[0m \u001b[0mglob\u001b[0m\u001b[1;33m.\u001b[0m\u001b[0mglob\u001b[0m\u001b[1;33m(\u001b[0m\u001b[0mpath\u001b[0m \u001b[1;33m+\u001b[0m \u001b[0mSEP\u001b[0m \u001b[1;33m+\u001b[0m \u001b[0mfolder\u001b[0m \u001b[1;33m+\u001b[0m \u001b[1;34m'/*.csv'\u001b[0m\u001b[1;33m)\u001b[0m\u001b[1;33m\u001b[0m\u001b[0m\n\u001b[1;32m----> 3\u001b[1;33m     \u001b[0mprint\u001b[0m \u001b[1;33m(\u001b[0m\u001b[0mfilename\u001b[0m\u001b[1;33m[\u001b[0m\u001b[1;33m-\u001b[0m\u001b[1;36m1\u001b[0m\u001b[1;33m]\u001b[0m\u001b[1;33m)\u001b[0m\u001b[1;33m\u001b[0m\u001b[0m\n\u001b[0m",
      "\u001b[1;31mIndexError\u001b[0m: list index out of range"
     ]
    }
   ],
   "source": [
    "for folder in folders:\n",
    "    filename = glob.glob(path + SEP + folder + '/*.csv')\n",
    "    print (filename[-1])"
   ]
  },
  {
   "cell_type": "code",
   "execution_count": 11,
   "metadata": {
    "collapsed": false
   },
   "outputs": [
    {
     "name": "stdout",
     "output_type": "stream",
     "text": [
      "['C:\\\\Users\\\\Majdi\\\\Dropbox\\\\MSc thesis\\\\Simulations\\\\Main\\\\Bid_ask_european_call_1_dim/Derivative\\\\output_derivative.csv']\n",
      "[]\n",
      "['C:\\\\Users\\\\Majdi\\\\Dropbox\\\\MSc thesis\\\\Simulations\\\\Main\\\\Bid_ask_european_call_1_dim/LSM\\\\output_lsm.csv']\n",
      "['C:\\\\Users\\\\Majdi\\\\Dropbox\\\\MSc thesis\\\\Simulations\\\\Main\\\\Bid_ask_european_call_1_dim/Mesh\\\\output_mesh.csv']\n",
      "['C:\\\\Users\\\\Majdi\\\\Dropbox\\\\MSc thesis\\\\Simulations\\\\Main\\\\Bid_ask_european_call_1_dim/RandomForest\\\\output_rf.csv']\n",
      "[]\n",
      "[]\n",
      "[]\n"
     ]
    }
   ],
   "source": [
    "dfs = {}\n",
    "\n",
    "for folder in folders:\n",
    "    filename = glob.glob(path + SEP + folder + '\\*.csv')\n",
    "    print (filename)\n",
    "    if len (filename) > 0 : \n",
    "        dfs[folder] = pd.read_csv(filename[0], index_col=False)"
   ]
  },
  {
   "cell_type": "code",
   "execution_count": 12,
   "metadata": {
    "collapsed": false
   },
   "outputs": [
    {
     "data": {
      "text/html": [
       "<div>\n",
       "<table border=\"1\" class=\"dataframe\">\n",
       "  <thead>\n",
       "    <tr style=\"text-align: right;\">\n",
       "      <th></th>\n",
       "      <th>expected</th>\n",
       "      <th>mean</th>\n",
       "      <th>std</th>\n",
       "      <th>95% confidence interval</th>\n",
       "    </tr>\n",
       "  </thead>\n",
       "  <tbody>\n",
       "  </tbody>\n",
       "</table>\n",
       "</div>"
      ],
      "text/plain": [
       "Empty DataFrame\n",
       "Columns: [expected, mean, std, 95% confidence interval]\n",
       "Index: []"
      ]
     },
     "execution_count": 12,
     "metadata": {},
     "output_type": "execute_result"
    }
   ],
   "source": [
    "result_df = pd.DataFrame(columns=['expected', 'mean', 'std', '95% confidence interval'])\n",
    "result_df"
   ]
  },
  {
   "cell_type": "code",
   "execution_count": 13,
   "metadata": {
    "collapsed": false
   },
   "outputs": [],
   "source": [
    "test = dfs['LSM']"
   ]
  },
  {
   "cell_type": "code",
   "execution_count": 14,
   "metadata": {
    "collapsed": false
   },
   "outputs": [],
   "source": [
    "params = test['Parameters'].dropna()"
   ]
  },
  {
   "cell_type": "code",
   "execution_count": 15,
   "metadata": {
    "collapsed": false
   },
   "outputs": [],
   "source": [
    "params = test[['Parameters', 'values']].dropna()"
   ]
  },
  {
   "cell_type": "code",
   "execution_count": 16,
   "metadata": {
    "collapsed": false
   },
   "outputs": [],
   "source": [
    "dfs_stats=[]\n",
    "for key, df in dfs.items(): \n",
    "    df = df[['stat parameter', 'values']].dropna()\n",
    "    dfs_stats.append(pd.DataFrame(data = df))\n",
    "dfs_stats.append(params)\n",
    "dfs_stats = pd.concat(dfs_stats, keys = dfs.keys())"
   ]
  },
  {
   "cell_type": "code",
   "execution_count": 17,
   "metadata": {
    "collapsed": false
   },
   "outputs": [
    {
     "data": {
      "text/html": [
       "<div>\n",
       "<table border=\"1\" class=\"dataframe\">\n",
       "  <thead>\n",
       "    <tr style=\"text-align: right;\">\n",
       "      <th></th>\n",
       "      <th></th>\n",
       "      <th>stat parameter</th>\n",
       "      <th>values</th>\n",
       "    </tr>\n",
       "  </thead>\n",
       "  <tbody>\n",
       "    <tr>\n",
       "      <th rowspan=\"5\" valign=\"top\">Derivative</th>\n",
       "      <th>35</th>\n",
       "      <td>mean</td>\n",
       "      <td>7.1779</td>\n",
       "    </tr>\n",
       "    <tr>\n",
       "      <th>36</th>\n",
       "      <td>std</td>\n",
       "      <td>0.3088</td>\n",
       "    </tr>\n",
       "    <tr>\n",
       "      <th>37</th>\n",
       "      <td>95% confidence interval</td>\n",
       "      <td>[7.1476, 7.2082]</td>\n",
       "    </tr>\n",
       "    <tr>\n",
       "      <th>38</th>\n",
       "      <td>min</td>\n",
       "      <td>6.7418</td>\n",
       "    </tr>\n",
       "    <tr>\n",
       "      <th>39</th>\n",
       "      <td>max</td>\n",
       "      <td>7.7752</td>\n",
       "    </tr>\n",
       "    <tr>\n",
       "      <th rowspan=\"5\" valign=\"top\">RandomForest</th>\n",
       "      <th>34</th>\n",
       "      <td>mean</td>\n",
       "      <td>7.1417</td>\n",
       "    </tr>\n",
       "    <tr>\n",
       "      <th>35</th>\n",
       "      <td>std</td>\n",
       "      <td>0.0815</td>\n",
       "    </tr>\n",
       "    <tr>\n",
       "      <th>36</th>\n",
       "      <td>95% confidence interval</td>\n",
       "      <td>[7.1337, 7.1497]</td>\n",
       "    </tr>\n",
       "    <tr>\n",
       "      <th>37</th>\n",
       "      <td>min</td>\n",
       "      <td>7.0288</td>\n",
       "    </tr>\n",
       "    <tr>\n",
       "      <th>38</th>\n",
       "      <td>max</td>\n",
       "      <td>7.2926</td>\n",
       "    </tr>\n",
       "    <tr>\n",
       "      <th rowspan=\"5\" valign=\"top\">Mesh</th>\n",
       "      <th>32</th>\n",
       "      <td>mean</td>\n",
       "      <td>7.1875</td>\n",
       "    </tr>\n",
       "    <tr>\n",
       "      <th>33</th>\n",
       "      <td>std</td>\n",
       "      <td>0.1387</td>\n",
       "    </tr>\n",
       "    <tr>\n",
       "      <th>34</th>\n",
       "      <td>95% confidence interval</td>\n",
       "      <td>[7.1739, 7.2011]</td>\n",
       "    </tr>\n",
       "    <tr>\n",
       "      <th>35</th>\n",
       "      <td>min</td>\n",
       "      <td>6.9085</td>\n",
       "    </tr>\n",
       "    <tr>\n",
       "      <th>36</th>\n",
       "      <td>max</td>\n",
       "      <td>7.4492</td>\n",
       "    </tr>\n",
       "    <tr>\n",
       "      <th rowspan=\"5\" valign=\"top\">LSM</th>\n",
       "      <th>33</th>\n",
       "      <td>mean</td>\n",
       "      <td>7.1553</td>\n",
       "    </tr>\n",
       "    <tr>\n",
       "      <th>34</th>\n",
       "      <td>std</td>\n",
       "      <td>0.0375</td>\n",
       "    </tr>\n",
       "    <tr>\n",
       "      <th>35</th>\n",
       "      <td>95% confidence interval</td>\n",
       "      <td>[7.1516, 7.159]</td>\n",
       "    </tr>\n",
       "    <tr>\n",
       "      <th>36</th>\n",
       "      <td>min</td>\n",
       "      <td>7.0907</td>\n",
       "    </tr>\n",
       "    <tr>\n",
       "      <th>37</th>\n",
       "      <td>max</td>\n",
       "      <td>7.2242</td>\n",
       "    </tr>\n",
       "  </tbody>\n",
       "</table>\n",
       "</div>"
      ],
      "text/plain": [
       "                          stat parameter            values\n",
       "Derivative   35                     mean            7.1779\n",
       "             36                      std            0.3088\n",
       "             37  95% confidence interval  [7.1476, 7.2082]\n",
       "             38                      min            6.7418\n",
       "             39                      max            7.7752\n",
       "RandomForest 34                     mean            7.1417\n",
       "             35                      std            0.0815\n",
       "             36  95% confidence interval  [7.1337, 7.1497]\n",
       "             37                      min            7.0288\n",
       "             38                      max            7.2926\n",
       "Mesh         32                     mean            7.1875\n",
       "             33                      std            0.1387\n",
       "             34  95% confidence interval  [7.1739, 7.2011]\n",
       "             35                      min            6.9085\n",
       "             36                      max            7.4492\n",
       "LSM          33                     mean            7.1553\n",
       "             34                      std            0.0375\n",
       "             35  95% confidence interval   [7.1516, 7.159]\n",
       "             36                      min            7.0907\n",
       "             37                      max            7.2242"
      ]
     },
     "execution_count": 17,
     "metadata": {},
     "output_type": "execute_result"
    }
   ],
   "source": [
    "dfs_stats"
   ]
  },
  {
   "cell_type": "code",
   "execution_count": 20,
   "metadata": {
    "collapsed": false
   },
   "outputs": [],
   "source": [
    "with open('results_comparison_bid_ask_call_1_dim.csv', 'w') as handle: \n",
    "    dfs_stats.to_csv(handle)\n",
    "    params.to_csv(handle)"
   ]
  },
  {
   "cell_type": "code",
   "execution_count": 4,
   "metadata": {
    "collapsed": true
   },
   "outputs": [],
   "source": [
    "N = 100000\n",
    "m = 6\n",
    "RF_n_trees = 20\n",
    "RF_max_leaf_nodes = 10\n",
    "M_run = 20\n",
    "n_picard = 10"
   ]
  },
  {
   "cell_type": "code",
   "execution_count": 5,
   "metadata": {
    "collapsed": false
   },
   "outputs": [
    {
     "name": "stdout",
     "output_type": "stream",
     "text": [
      "7.23915042094\n"
     ]
    }
   ],
   "source": [
    "start = time.time()\n",
    "a = np.zeros(M_run)\n",
    "for i in range(M_run):\n",
    "    start = time.time()\n",
    "    test = BSDE(S0, K, T, mu, sigma, q)\n",
    "    a[i] = test.get_price_lsm(R, r, N, m, n_picard=n_picard)\n",
    "    elapsed = time.time() - start\n",
    "print(a.mean())"
   ]
  },
  {
   "cell_type": "code",
   "execution_count": null,
   "metadata": {
    "collapsed": true
   },
   "outputs": [],
   "source": []
  }
 ],
 "metadata": {
  "kernelspec": {
   "display_name": "Python 3",
   "language": "python",
   "name": "python3"
  },
  "language_info": {
   "codemirror_mode": {
    "name": "ipython",
    "version": 3
   },
   "file_extension": ".py",
   "mimetype": "text/x-python",
   "name": "python",
   "nbconvert_exporter": "python",
   "pygments_lexer": "ipython3",
   "version": "3.5.2"
  }
 },
 "nbformat": 4,
 "nbformat_minor": 0
}
