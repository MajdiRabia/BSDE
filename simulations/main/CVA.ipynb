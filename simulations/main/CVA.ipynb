{
 "cells": [
  {
   "cell_type": "code",
   "execution_count": null,
   "metadata": {
    "collapsed": true
   },
   "outputs": [],
   "source": [
    "from BSDE import *\n",
    "import warnings \n",
    "warnings.filterwarnings(\"ignore\")"
   ]
  },
  {
   "cell_type": "code",
   "execution_count": null,
   "metadata": {
    "collapsed": false
   },
   "outputs": [],
   "source": [
    "from BSDE import *\n",
    "T = 4\n",
    "m = 6\n",
    "K = 100.\n",
    "r = 0.\n",
    "S_init = 1.\n",
    "mu = 0.\n",
    "sigma = 0.2\n",
    "N = 10000\n",
    "Q = 0.\n",
    "RF_n_trees = 100\n",
    "RF_max_leaf_nodes = 50\n",
    "beta = 0.01\n",
    "#test_hd = BsdeHD(T, K, M, mu, Q, sigma, S_init, r, R)\n",
    "#res = test_hd.labordere(N,m,RF_n_trees, RF_max_leaf_nodes)\n",
    "#print(res)\n",
    "\n",
    "a = np.zeros(10)\n",
    "for i in range (10):\n",
    "    test = BSDE(S_init, K, T, mu, sigma, Q)\n",
    "    a[i] = test.get_cva(N, m, r, RF_n_trees, RF_max_leaf_nodes, beta)\n",
    "\n",
    "min_a = min(a)\n",
    "max_a = max(a)\n",
    "mean_a = np.mean(a)\n",
    "std_a = np.std(a)\n",
    "print (\"mean = \" + str(mean_a))\n",
    "print (\"std = \" + str(std_a))\n",
    "print (\"min = \" + str(min_a))\n",
    "print (\"max = \" + str(max_a))"
   ]
  },
  {
   "cell_type": "code",
   "execution_count": null,
   "metadata": {
    "collapsed": false
   },
   "outputs": [],
   "source": [
    "from BSDE import *\n",
    "T = 2\n",
    "m = 6\n",
    "K = 100.\n",
    "r = 0.\n",
    "S_init = 1.\n",
    "mu = 0.\n",
    "sigma = 0.2\n",
    "N = 10000\n",
    "Q = 0.\n",
    "RF_n_trees = 100\n",
    "RF_max_leaf_nodes = 50\n",
    "beta = 0.01\n",
    "#test_hd = BsdeHD(T, K, M, mu, Q, sigma, S_init, r, R)\n",
    "#res = test_hd.labordere(N,m,RF_n_trees, RF_max_leaf_nodes)\n",
    "#print(res)\n",
    "\n",
    "a = np.zeros(10)\n",
    "for i in range (10):\n",
    "    test = BSDE(S_init, K, T, mu, sigma, Q)\n",
    "    a[i] = test.get_cva(N, m, r, RF_n_trees, RF_max_leaf_nodes, beta)\n",
    "\n",
    "min_a = min(a)\n",
    "max_a = max(a)\n",
    "mean_a = np.mean(a)\n",
    "std_a = np.std(a)\n",
    "print (\"mean = \" + str(mean_a))\n",
    "print (\"std = \" + str(std_a))\n",
    "print (\"min = \" + str(min_a))\n",
    "print (\"max = \" + str(max_a))"
   ]
  },
  {
   "cell_type": "code",
   "execution_count": null,
   "metadata": {
    "collapsed": false
   },
   "outputs": [],
   "source": [
    "from BSDE import *\n",
    "T = 6\n",
    "m = 6\n",
    "K = 100.\n",
    "r = 0.\n",
    "S_init = 1.\n",
    "mu = 0.\n",
    "sigma = 0.2\n",
    "N = 10000\n",
    "Q = 0.\n",
    "RF_n_trees = 100\n",
    "RF_max_leaf_nodes = 50\n",
    "beta = 0.01\n",
    "#test_hd = BsdeHD(T, K, M, mu, Q, sigma, S_init, r, R)\n",
    "#res = test_hd.labordere(N,m,RF_n_trees, RF_max_leaf_nodes)\n",
    "#print(res)\n",
    "\n",
    "a = np.zeros(10)\n",
    "for i in range (10):\n",
    "    test = BSDE(S_init, K, T, mu, sigma, Q)\n",
    "    a[i] = test.get_cva(N, m, r, RF_n_trees, RF_max_leaf_nodes, beta)\n",
    "\n",
    "min_a = min(a)\n",
    "max_a = max(a)\n",
    "mean_a = np.mean(a)\n",
    "std_a = np.std(a)\n",
    "print (\"mean = \" + str(mean_a))\n",
    "print (\"std = \" + str(std_a))\n",
    "print (\"min = \" + str(min_a))\n",
    "print (\"max = \" + str(max_a))"
   ]
  },
  {
   "cell_type": "code",
   "execution_count": null,
   "metadata": {
    "collapsed": false
   },
   "outputs": [],
   "source": [
    "from BSDE import *\n",
    "T = 8\n",
    "m = 6\n",
    "K = 100.\n",
    "r = 0.\n",
    "S_init = 1.\n",
    "mu = 0.\n",
    "sigma = 0.2\n",
    "N = 10000\n",
    "Q = 0.\n",
    "RF_n_trees = 100\n",
    "RF_max_leaf_nodes = 50\n",
    "beta = 0.01\n",
    "#test_hd = BsdeHD(T, K, M, mu, Q, sigma, S_init, r, R)\n",
    "#res = test_hd.labordere(N,m,RF_n_trees, RF_max_leaf_nodes)\n",
    "#print(res)\n",
    "\n",
    "a = np.zeros(10)\n",
    "for i in range (10):\n",
    "    test = BSDE(S_init, K, T, mu, sigma, Q)\n",
    "    a[i] = test.get_cva(N, m, r, RF_n_trees, RF_max_leaf_nodes, beta)\n",
    "\n",
    "min_a = min(a)\n",
    "max_a = max(a)\n",
    "mean_a = np.mean(a)\n",
    "std_a = np.std(a)\n",
    "print (\"mean = \" + str(mean_a))\n",
    "print (\"std = \" + str(std_a))\n",
    "print (\"min = \" + str(min_a))\n",
    "print (\"max = \" + str(max_a))"
   ]
  },
  {
   "cell_type": "code",
   "execution_count": null,
   "metadata": {
    "collapsed": false
   },
   "outputs": [],
   "source": [
    "from BSDE import *\n",
    "T = 10\n",
    "m = 6\n",
    "K = 100.\n",
    "r = 0.\n",
    "S_init = 1.\n",
    "mu = 0.\n",
    "sigma = 0.2\n",
    "N = 10000\n",
    "Q = 0.\n",
    "RF_n_trees = 100\n",
    "RF_max_leaf_nodes = 50\n",
    "beta = 0.01\n",
    "#test_hd = BsdeHD(T, K, M, mu, Q, sigma, S_init, r, R)\n",
    "#res = test_hd.labordere(N,m,RF_n_trees, RF_max_leaf_nodes)\n",
    "#print(res)\n",
    "\n",
    "a = np.zeros(20)\n",
    "for i in range (20):\n",
    "    test = BSDE(S_init, K, T, mu, sigma, Q)\n",
    "    a[i] = test.get_cva(N, m, r, RF_n_trees, RF_max_leaf_nodes, beta)\n",
    "\n",
    "min_a = min(a)\n",
    "max_a = max(a)\n",
    "mean_a = np.mean(a)\n",
    "std_a = np.std(a)\n",
    "print (\"mean = \" + str(mean_a))\n",
    "print (\"std = \" + str(std_a))\n",
    "print (\"min = \" + str(min_a))\n",
    "print (\"max = \" + str(max_a))"
   ]
  },
  {
   "cell_type": "code",
   "execution_count": null,
   "metadata": {
    "collapsed": true
   },
   "outputs": [],
   "source": []
  }
 ],
 "metadata": {
  "kernelspec": {
   "display_name": "Python 3",
   "language": "python",
   "name": "python3"
  },
  "language_info": {
   "codemirror_mode": {
    "name": "ipython",
    "version": 3
   },
   "file_extension": ".py",
   "mimetype": "text/x-python",
   "name": "python",
   "nbconvert_exporter": "python",
   "pygments_lexer": "ipython3",
   "version": "3.5.2"
  }
 },
 "nbformat": 4,
 "nbformat_minor": 0
}
