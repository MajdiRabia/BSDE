{
 "cells": [
  {
   "cell_type": "markdown",
   "metadata": {},
   "source": [
    "# BSDE in 1D : example of an European Option"
   ]
  },
  {
   "cell_type": "code",
   "execution_count": 1,
   "metadata": {
    "collapsed": false
   },
   "outputs": [
    {
     "name": "stdout",
     "output_type": "stream",
     "text": [
      "Populating the interactive namespace from numpy and matplotlib\n"
     ]
    }
   ],
   "source": [
    "%pylab inline --no-import-all\n",
    "import numpy as np\n",
    "import scipy as sp\n",
    "import pylab as pl\n",
    "import matplotlib.pyplot as plt\n",
    "import statistics as st\n",
    "from scipy.stats import norm\n",
    "from sklearn.ensemble import RandomForestRegressor"
   ]
  },
  {
   "cell_type": "code",
   "execution_count": 2,
   "metadata": {
    "collapsed": false
   },
   "outputs": [],
   "source": [
    "def generate_paths(S0, dt , sigma, r, N, m,q):\n",
    "    '''\n",
    "    Parameters\n",
    "    ==========\n",
    "    S0    : float\n",
    "            positive, initial Stock Value\n",
    "    dt    : float\n",
    "            time step discretization\n",
    "    sigma : float \n",
    "            volatility \n",
    "    r     : float\n",
    "            bond return \n",
    "    N     : int \n",
    "            Number of paths generated      \n",
    "    m     : int \n",
    "            number of steps\n",
    "    \n",
    "    Returns\n",
    "    =======\n",
    "    S : matrix\n",
    "        generated paths\n",
    "    '''\n",
    "    S = np.zeros((m + 1, N))\n",
    "    S[0] = S0\n",
    "    for t in range(1, m + 1):\n",
    "        rand = np.random.standard_normal(N)\n",
    "        S[t] = S[t - 1] * np.exp((r -q- sigma ** 2 / 2) * dt + sigma * dt ** 0.5 * rand)\n",
    "    return S"
   ]
  },
  {
   "cell_type": "code",
   "execution_count": 3,
   "metadata": {
    "collapsed": false
   },
   "outputs": [],
   "source": [
    "def exercise_matrix(K,S): \n",
    "    h=np.maximum(K-S,0)\n",
    "    return h"
   ]
  },
  {
   "cell_type": "code",
   "execution_count": 4,
   "metadata": {
    "collapsed": false
   },
   "outputs": [],
   "source": [
    "                                            \"Pricing of the American Option\"\n",
    "\n",
    "\n",
    "\n",
    "def pricing_option(K,r,sigma,N,m,S_0,T, RF_n_estimators,RF_max_leaf_nodes, q):\n",
    "  \n",
    "    #Time-step\n",
    "    dt=T/m    \n",
    "    #Discount factor\n",
    "    df=1/(1+r*dt)\n",
    "    #Creation of a stock path matrix\n",
    "    S = generate_paths(S_0, dt , sigma, r, N, m,q)\n",
    "    #price of the option at time T = Initialization for a put\n",
    "    Y=np.maximum(K-S[-1],0)\n",
    "    #Initialization of the Price by Monte Carlo\n",
    "    Y_opt=0 \n",
    "       \n",
    "    #Iteration over time\"\n",
    "    for t in range (m-1 ,0,-1): \n",
    "        X=S[t]\n",
    "        X=X[:,None]    \n",
    "        rf=RandomForestRegressor(n_estimators=RF_n_estimators,\n",
    "                                max_leaf_nodes=RF_max_leaf_nodes,oob_score=False, n_jobs=-1)\n",
    "        rf.fit(X,Y)\n",
    "        Y=rf.predict(X)*df\n",
    "    \n",
    "    Y_opt= df*sum(Y)/N\n",
    "    return (Y_opt)"
   ]
  },
  {
   "cell_type": "code",
   "execution_count": 5,
   "metadata": {
    "collapsed": true
   },
   "outputs": [],
   "source": [
    "\"\"\"Pricing with BS formula\"\"\"\n",
    "\n",
    "def black_scholes(K,r,sigma, S_0,T): \n",
    "    d1=1/(sigma*np.sqrt(T))*(np.log(S_0/K)+(r+0.5*sigma*sigma)*T)\n",
    "    d2=d1-sigma*np.sqrt(T)\n",
    "    dscnt=np.exp(-r*T)\n",
    "    Put=norm.cdf(-d2)*K*dscnt-norm.cdf(-d1)*S_0\n",
    "    return (Put)"
   ]
  },
  {
   "cell_type": "code",
   "execution_count": 7,
   "metadata": {
    "collapsed": false
   },
   "outputs": [
    {
     "name": "stdout",
     "output_type": "stream",
     "text": [
      "price  11.2471090878\n",
      "price BScholes  11.3732508387\n"
     ]
    }
   ],
   "source": [
    "                                \"\"\"Pricing by Random Forest Regressor\"\"\"\n",
    "\n",
    "\"Parameters\"\n",
    "T=1.\n",
    "m=12\n",
    "K=100.\n",
    "S_0=100.\n",
    "r=0.01\n",
    "sigma=0.3\n",
    "N=10000\n",
    "RF_n_estimators = 100\n",
    "RF_max_leaf_nodes = 50\n",
    "q = 0.\n",
    "\n",
    "price_BSDE=pricing_option(K,r,sigma,N,m,S_0,T, RF_n_estimators,RF_max_leaf_nodes, q)\n",
    "price_BScholes=black_scholes(K,r,sigma, S_0,T)\n",
    "\n",
    "print (\"price \", price_BSDE) \n",
    "print (\"price BScholes \", price_BScholes)"
   ]
  }
 ],
 "metadata": {
  "kernelspec": {
   "display_name": "Python 3",
   "language": "python",
   "name": "python3"
  },
  "language_info": {
   "codemirror_mode": {
    "name": "ipython",
    "version": 3
   },
   "file_extension": ".py",
   "mimetype": "text/x-python",
   "name": "python",
   "nbconvert_exporter": "python",
   "pygments_lexer": "ipython3",
   "version": "3.5.1"
  }
 },
 "nbformat": 4,
 "nbformat_minor": 0
}
