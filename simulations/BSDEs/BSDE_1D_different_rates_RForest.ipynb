{
 "cells": [
  {
   "cell_type": "code",
   "execution_count": 2,
   "metadata": {
    "collapsed": false
   },
   "outputs": [
    {
     "name": "stdout",
     "output_type": "stream",
     "text": [
      "Populating the interactive namespace from numpy and matplotlib\n"
     ]
    }
   ],
   "source": [
    "%pylab inline --no-import-all\n",
    "import numpy as np\n",
    "import scipy as sp\n",
    "import pylab as pl\n",
    "import matplotlib.pyplot as plt\n",
    "import statistics as st\n",
    "import pandas as pd\n",
    "from scipy.stats import norm\n",
    "import time\n",
    "from sklearn.ensemble import RandomForestRegressor\n"
   ]
  },
  {
   "cell_type": "code",
   "execution_count": 3,
   "metadata": {
    "collapsed": false
   },
   "outputs": [],
   "source": [
    "\"Function creating N paths for the Black-Scholes formula\"\n",
    "\n",
    "def stocks_paths(S_0,r,sigma,dt,N,m,mu):  \n",
    "    S = np.zeros((m + 1, N))\n",
    "    dB = np.zeros((m + 1, N))\n",
    "    S[0] = S_0\n",
    "    for t in range(1,m + 1):\n",
    "        X=np.random.standard_normal(size=N)\n",
    "        S[t]=S[t-1]*np.exp((mu-sigma*sigma/2)*dt+sigma*np.sqrt(dt)*X)\n",
    "        dB[t] =  np.sqrt(dt) *X\n",
    "    S_dB={'Stocks' : S,'delta_B': dB}\n",
    "    return S_dB    "
   ]
  },
  {
   "cell_type": "code",
   "execution_count": 5,
   "metadata": {
    "collapsed": false
   },
   "outputs": [],
   "source": [
    "def pricing_option(mu,R,K,r,sigma,N,m,S_0,T,RF_n_trees, RF_max_leaf_nodes):\n",
    "    '''\n",
    "    Function to generte stock paths.\n",
    "    \n",
    "    Parameters\n",
    "    ==========\n",
    "    S_0             : float\n",
    "                      positive, initial Stock Value\n",
    "    mu              : float\n",
    "                      drift\n",
    "    K               : float \n",
    "                      Strike price\n",
    "    T               : float \n",
    "                      Maturity time \n",
    "    sigma           : float \n",
    "                      volatility \n",
    "    r               : float \n",
    "                      lending interest rate \n",
    "    R               : float \n",
    "                      borrowing interest rate \n",
    "    N               : int \n",
    "                      Number of paths generated      \n",
    "    m               : int \n",
    "                      number of steps\n",
    "    d               : int \n",
    "                      polynomial fit degree\n",
    "    \n",
    "    Returns\n",
    "    =======\n",
    "    V_opt : float\n",
    "            Price of the European option\n",
    "    '''  \n",
    "    \n",
    "    dt=T/m                             #Time-step\n",
    "    df=1/(1+r*dt)                      #Discount factor\n",
    "    theta=(r - mu)/sigma\n",
    "    \n",
    "    S_dB=stocks_paths(S_0,r,sigma,dt,N,m,mu)       # Dictionnary with both the delta_B and Stocks generated\n",
    "\n",
    "    S=S_dB['Stocks']\n",
    "    dB=S_dB['delta_B']\n",
    "\n",
    "    Y=np.maximum(S[-1]-K,0)                 #price of the option at time T = Initialization for a call\n",
    "   \n",
    "    for t in range (m-1, 0, -1):            #Iteration over time backwardly \n",
    "        X=S[t]\n",
    "        X = X[:, None]\n",
    "        \"Regression for Z\"\n",
    "        rf=RandomForestRegressor(n_estimators=RF_n_trees,\n",
    "                                     max_leaf_nodes=RF_max_leaf_nodes,\n",
    "                                     oob_score=False, \n",
    "                                     n_jobs=-1)\n",
    "        \n",
    "        rf.fit(X,Y*dB[t])\n",
    "        Z = rf.predict(X) *  (1./ dt)\n",
    "        \n",
    "        \"regression for Y\"\n",
    "        rf.fit(X, Y)\n",
    "        J = rf.predict(X)\n",
    "        #Y = np.polyval(reg,X)-Y*r*dt-theta*Z*dt+np.minimum(Y-(1/sigma)*Z,0)*(R-r)*dt\n",
    "        Y=df*(J-theta*Z*dt+np.minimum(Y-(1./sigma)*Z, 0)*(R-r)*dt)\n",
    "  \n",
    "    Y_opt= df*sum(Y)/N  \n",
    "    return (Y_opt)"
   ]
  },
  {
   "cell_type": "code",
   "execution_count": 6,
   "metadata": {
    "collapsed": true
   },
   "outputs": [],
   "source": [
    "\"\"\"Pricing with BS formula\"\"\"\n",
    "\n",
    "def black_scholes(K,r,sigma, S_0,T): \n",
    "    d1=1/(sigma*np.sqrt(T))*(np.log(S_0/K)+(r+0.5*sigma*sigma)*T)\n",
    "    d2=d1-sigma*np.sqrt(T)\n",
    "    dscnt=np.exp(-r*T)\n",
    "    Call=-norm.cdf(d2)*K*dscnt+norm.cdf(d1)*S_0\n",
    "    return (Call)"
   ]
  },
  {
   "cell_type": "code",
   "execution_count": 11,
   "metadata": {
    "collapsed": false
   },
   "outputs": [
    {
     "name": "stdout",
     "output_type": "stream",
     "text": [
      "price  7.23060994686\n",
      "price BScholes  7.15589605611\n",
      "6.992681503295898 s\n"
     ]
    }
   ],
   "source": [
    "                                \"\"\"Pricing by Random Forest Regressor\"\"\"\n",
    "\n",
    "start = time.time()\n",
    "\n",
    "  \n",
    "    \n",
    "\"Parameters\"\n",
    "T=0.5\n",
    "m=12\n",
    "K=100\n",
    "S_0=100\n",
    "r=0.04\n",
    "sigma=0.2\n",
    "N=10000\n",
    "mu=0.06\n",
    "R=0.06\n",
    "RF_n_trees = 10\n",
    "RF_max_leaf_nodes= 5\n",
    "\n",
    "\"We price\"    \n",
    "\n",
    "price_BSDE=pricing_option(mu,R,K,r,sigma,N,m,S_0,T, RF_n_trees,RF_max_leaf_nodes)\n",
    "price_BScholes=black_scholes(K,R,sigma, S_0,T)\n",
    "print (\"price \", price_BSDE) \n",
    "print (\"price BScholes \", price_BScholes)\n",
    "\n",
    "end = time.time()\n",
    "print(end - start,\"s\") "
   ]
  },
  {
   "cell_type": "code",
   "execution_count": null,
   "metadata": {
    "collapsed": false
   },
   "outputs": [],
   "source": [
    "                                \"\"\"Simulations : m varying\"\"\"\n",
    "\n",
    "    \n",
    "\n",
    "\"Parameters\"\n",
    "T=0.25\n",
    "m=12\n",
    "K1=95\n",
    "K2=105\n",
    "S_0=100\n",
    "r=0.01\n",
    "sigma=0.2\n",
    "mu=0.05\n",
    "R=0.06\n",
    "RF_n_estimators = 100\n",
    "d=5\n",
    "\n",
    "\n",
    "N_range=[100,1000,10000]\n",
    "Prices=[]\n",
    "\n",
    "for N in N_range:\n",
    "    Prices_int=np.zeros(15)\n",
    "    for i in range (15): \n",
    "        Prices_int[i]=pricing_option(mu,R,K1,K2,r,sigma,N,m,S_0,T,d, RF_n_estimators)\n",
    "        \n",
    "    Prices.append(Prices_int)\n",
    "  \n",
    "\n",
    "    \n",
    "df = pd.DataFrame(np.transpose(Prices), columns=['100','1000','10000'])\n",
    "\n",
    "df.plot(kind='box')\n",
    "plt.show()\n",
    "\n",
    "\"We price\"    \n",
    "\n"
   ]
  },
  {
   "cell_type": "code",
   "execution_count": null,
   "metadata": {
    "collapsed": true
   },
   "outputs": [],
   "source": []
  }
 ],
 "metadata": {
  "kernelspec": {
   "display_name": "Python 3",
   "language": "python",
   "name": "python3"
  },
  "language_info": {
   "codemirror_mode": {
    "name": "ipython",
    "version": 3
   },
   "file_extension": ".py",
   "mimetype": "text/x-python",
   "name": "python",
   "nbconvert_exporter": "python",
   "pygments_lexer": "ipython3",
   "version": "3.5.1"
  }
 },
 "nbformat": 4,
 "nbformat_minor": 0
}
