{
 "cells": [
  {
   "cell_type": "markdown",
   "metadata": {},
   "source": [
    "# BSDE application : Pricing of European option with two rates  "
   ]
  },
  {
   "cell_type": "markdown",
   "metadata": {},
   "source": [
    "## Formulation of the Problem "
   ]
  },
  {
   "cell_type": "markdown",
   "metadata": {},
   "source": [
    "Suppose the dynamic of the underlying asset to be : \n",
    "\n",
    "\\begin{equation}\n",
    "\\frac{dS_t}{S_t}=\\mu dt + \\sigma dB_t\n",
    "\\end{equation}\n",
    "\n",
    "and let the agent be able to lend ($r$) and borrow ($R$) money using two market accounts : \n",
    "\n",
    "\\begin{equation}\n",
    "\\left\\{\n",
    "\\begin{aligned}\n",
    "d\\alpha_t &= R \\alpha_t dt\\\\\n",
    "d\\beta_t &= r \\beta_t dt\\\\\n",
    "\\end{aligned}\n",
    "\\right.\n",
    "\\end{equation}\n",
    "\n",
    "\n",
    "Let $Y_t=w(t,S_t)$ be the portfolio value at time $t$. \n",
    "\n",
    "\\begin{equation}\n",
    "-dY_t=f(t,Y_t,Z_t)dt - Z_tdW_t  \n",
    "\\end{equation}\n",
    "\n",
    "where \n",
    "\n",
    "\\begin{equation}\n",
    "\\left\\{\n",
    "\\begin{aligned}\n",
    "\tf(t,Y_t,Z_t) & =\\theta Z_t - rY + (R-r)(Y-\\frac{Z_t}{\\sigma})^-\\\\\n",
    "\t\\theta &= \\frac{r-\\mu}{\\sigma}\\\\\n",
    "    Z_t=\\sigma S\\frac{\\partial Y}{\\partial S}\\\\\n",
    "\\end{aligned}\n",
    "\\right.\n",
    "\\end{equation}"
   ]
  },
  {
   "cell_type": "markdown",
   "metadata": {},
   "source": [
    "________\n",
    "\n",
    "## Discretization"
   ]
  },
  {
   "cell_type": "markdown",
   "metadata": {},
   "source": [
    "<img src=\"../Figures/discretization_bsde.png\">\n",
    "\n",
    "\n",
    "__________"
   ]
  },
  {
   "cell_type": "markdown",
   "metadata": {},
   "source": [
    "## Simulation"
   ]
  },
  {
   "cell_type": "code",
   "execution_count": 2,
   "metadata": {
    "collapsed": false
   },
   "outputs": [
    {
     "name": "stdout",
     "output_type": "stream",
     "text": [
      "Populating the interactive namespace from numpy and matplotlib\n"
     ]
    }
   ],
   "source": [
    "%pylab inline --no-import-all\n",
    "import numpy as np\n",
    "import scipy as sp\n",
    "import pylab as pl\n",
    "import matplotlib.pyplot as plt\n",
    "import statistics as st\n",
    "import pandas as pd\n",
    "from scipy.stats import norm\n",
    "import time\n",
    "import warnings \n"
   ]
  },
  {
   "cell_type": "code",
   "execution_count": 3,
   "metadata": {
    "collapsed": false
   },
   "outputs": [],
   "source": [
    "\"Function creating N paths for the Black-Scholes formula\"\n",
    "\n",
    "def stocks_paths(S_0,r,sigma,dt,N,m,mu):  \n",
    "    S = np.zeros((m + 1, N))\n",
    "    dB = np.zeros((m + 1, N))\n",
    "    S[0] = S_0\n",
    "    for t in range(1,m + 1):\n",
    "        X=np.random.standard_normal(size=N)\n",
    "        S[t]=S[t-1]*np.exp((mu-sigma*sigma/2)*dt+sigma*np.sqrt(dt)*X)\n",
    "        dB[t] =  np.sqrt(dt) *X\n",
    "    S_dB={'Stocks' : S,'delta_B': dB}\n",
    "    return S_dB    "
   ]
  },
  {
   "cell_type": "code",
   "execution_count": 16,
   "metadata": {
    "collapsed": false
   },
   "outputs": [],
   "source": [
    "def pricing_option(mu,R,K,r,sigma,N,m,S_0,T,d):\n",
    "    '''\n",
    "    Function to generte stock paths.\n",
    "    \n",
    "    Parameters\n",
    "    ==========\n",
    "    S_0             : float\n",
    "                      positive, initial Stock Value\n",
    "    mu              : float\n",
    "                      drift\n",
    "    K               : float \n",
    "                      Strike price\n",
    "    T               : float \n",
    "                      Maturity time \n",
    "    sigma           : float \n",
    "                      volatility \n",
    "    r               : float \n",
    "                      lending interest rate \n",
    "    R               : float \n",
    "                      borrowing interest rate \n",
    "    N               : int \n",
    "                      Number of paths generated      \n",
    "    m               : int \n",
    "                      number of steps\n",
    "    d               : int \n",
    "                      polynomial fit degree\n",
    "    \n",
    "    Returns\n",
    "    =======\n",
    "    V_opt : float\n",
    "            Price of the European option\n",
    "    '''  \n",
    "    \n",
    "    dt=T/m                             #Time-step\n",
    "    df=1/(1+r*dt)                      #Discount factor\n",
    "    theta=(r - mu)/sigma\n",
    "    \n",
    "    S_dB=stocks_paths(S_0,r,sigma,dt,N,m,mu)       # Dictionnary with both the delta_B and Stocks generated\n",
    "\n",
    "    S=S_dB['Stocks']\n",
    "    dB=S_dB['delta_B']\n",
    "\n",
    "    Y=np.maximum(S[-1]-K,0)                 #price of the option at time T = Initialization for a call\n",
    "   \n",
    "    for t in range (m-1, 0, -1):            #Iteration over time backwardly \n",
    "        X=S[t]\n",
    "        \n",
    "        \"Regression for Z\"\n",
    "        \n",
    "        reg1=np.polyfit(X,Y*dB[t],d)\n",
    "        Z=np.polyval(reg1,X) *  (1./ dt)\n",
    "        \n",
    "        \"regression for Y\"\n",
    "        reg=np.polyfit(X, Y,d)\n",
    "        J = np.polyval(reg,X)\n",
    "        #Y = np.polyval(reg,X)-Y*r*dt-theta*Z*dt+np.minimum(Y-(1/sigma)*Z,0)*(R-r)*dt\n",
    "        Y=df*(J-theta*Z*dt+np.minimum(Y-(1./sigma)*Z, 0)*(R-r)*dt)\n",
    "  \n",
    "    Y_opt= df*sum(Y)/N  \n",
    "    return (Y_opt)"
   ]
  },
  {
   "cell_type": "code",
   "execution_count": 17,
   "metadata": {
    "collapsed": true
   },
   "outputs": [],
   "source": [
    "\"\"\"Pricing with BS formula\"\"\"\n",
    "\n",
    "def black_scholes(K,r,sigma, S_0,T): \n",
    "    d1=1/(sigma*np.sqrt(T))*(np.log(S_0/K)+(r+0.5*sigma*sigma)*T)\n",
    "    d2=d1-sigma*np.sqrt(T)\n",
    "    dscnt=np.exp(-r*T)\n",
    "    Call=-norm.cdf(d2)*K*dscnt+norm.cdf(d1)*S_0\n",
    "    return (Call)"
   ]
  },
  {
   "cell_type": "markdown",
   "metadata": {},
   "source": [
    "___________\n",
    "\n",
    "## Example : \n",
    "\n"
   ]
  },
  {
   "cell_type": "code",
   "execution_count": 48,
   "metadata": {
    "collapsed": false
   },
   "outputs": [
    {
     "name": "stdout",
     "output_type": "stream",
     "text": [
      "price  7.13737390026\n",
      "price BScholes  7.15589605611\n",
      "2.952974796295166 s\n"
     ]
    }
   ],
   "source": [
    "start = time.time()\n",
    "warnings.simplefilter('ignore', np.RankWarning)\n",
    "  \n",
    "    \n",
    "\"Parameters\"\n",
    "T=0.5\n",
    "m=12\n",
    "K=100.\n",
    "S_0=100.\n",
    "r=0.06\n",
    "sigma=0.2\n",
    "N=100000\n",
    "mu=0.06\n",
    "R=0.06\n",
    "d=5\n",
    "\n",
    "\"We price\"    \n",
    "\n",
    "price_BSDE=pricing_option(mu,R,K,r,sigma,N,m,S_0,T,d)\n",
    "price_BScholes=black_scholes(K,R,sigma, S_0,T)\n",
    "print (\"price \", price_BSDE) \n",
    "print (\"price BScholes \", price_BScholes)\n",
    "\n",
    "end = time.time()\n",
    "print(end - start,\"s\") "
   ]
  },
  {
   "cell_type": "markdown",
   "metadata": {},
   "source": [
    "As expected, when r=R we get the price of a simple European Option"
   ]
  },
  {
   "cell_type": "code",
   "execution_count": 11,
   "metadata": {
    "collapsed": false
   },
   "outputs": [
    {
     "name": "stdout",
     "output_type": "stream",
     "text": [
      "price  6.24794974575\n",
      "price BScholes  7.15589605611\n",
      "0.2572910785675049 s\n"
     ]
    }
   ],
   "source": [
    "start = time.time()\n",
    "warnings.simplefilter('ignore', np.RankWarning)\n",
    "  \n",
    "    \n",
    "\"Parameters\"\n",
    "T=0.5\n",
    "m=12\n",
    "K=100.\n",
    "S_0=100.\n",
    "r=0.04\n",
    "sigma=0.2\n",
    "N=10000\n",
    "mu=0.06\n",
    "R=0.06\n",
    "d=5\n",
    "\n",
    "\"We price\"    \n",
    "\n",
    "price_BSDE=pricing_option(mu,R,K,r,sigma,N,m,S_0,T,d)\n",
    "price_BScholes=black_scholes(K,R,sigma, S_0,T)\n",
    "print (\"price \", price_BSDE) \n",
    "print (\"price BScholes \", price_BScholes)\n",
    "\n",
    "end = time.time()\n",
    "print(end - start,\"s\") "
   ]
  },
  {
   "cell_type": "markdown",
   "metadata": {},
   "source": [
    "Now that $r < R$, the Z has got an mpact on the computation of Y. I have been trying to find he error, as we should get a price of 7.15. \n",
    "\n",
    "* First, as it is working when r=R, I thought I was saving the wrong $\\Delta B_t$. But when I calculate the mean and the variance of the $\\Delta B_t$ generated, I get an expected mean of 0, and a variance of dt (Indeed, $\\Delta B_t \\equiv \\sqrt(dt) \\mathcal{N}(0,1)$).\n",
    "\n",
    "* Then, I thought the regression of Z might have been wrong, but with the Random Forest Regression I get the same problem. \n"
   ]
  },
  {
   "cell_type": "code",
   "execution_count": null,
   "metadata": {
    "collapsed": true
   },
   "outputs": [],
   "source": []
  }
 ],
 "metadata": {
  "kernelspec": {
   "display_name": "Python 2",
   "language": "python",
   "name": "python2"
  },
  "language_info": {
   "codemirror_mode": {
    "name": "ipython",
    "version": 2
   },
   "file_extension": ".py",
   "mimetype": "text/x-python",
   "name": "python",
   "nbconvert_exporter": "python",
   "pygments_lexer": "ipython2",
   "version": "2.7.6"
  }
 },
 "nbformat": 4,
 "nbformat_minor": 0
}
