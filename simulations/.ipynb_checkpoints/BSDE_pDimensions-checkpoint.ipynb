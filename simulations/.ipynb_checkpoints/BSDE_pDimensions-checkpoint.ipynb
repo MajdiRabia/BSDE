{
 "cells": [
  {
   "cell_type": "code",
   "execution_count": 1,
   "metadata": {
    "collapsed": false
   },
   "outputs": [
    {
     "data": {
      "text/plain": [
       "'     Inputs\\n\\n   S_0 - Current Asset price\\n   K  - Strike price of option\\n   r  - risk free interest rate\\n   sigma - Volatility of underltying stock\\n   T  - Maturity of option\\n   m  - Number of timesteps to take\\n   N  - Number of paths to simulate.\\n   N2 - Monte-Carlo integer\\n   \\n'"
      ]
     },
     "execution_count": 1,
     "metadata": {},
     "output_type": "execute_result"
    }
   ],
   "source": [
    "\n",
    "import numpy as np\n",
    "import scipy as sp\n",
    "import pylab as pl\n",
    "import matplotlib.pyplot as plt\n",
    "import statistics as st\n",
    "from scipy.stats import norm\n",
    "from sklearn.ensemble import RandomForestRegressor\n",
    "import pandas as pd\n",
    "\n",
    "\"\"\"     Inputs\n",
    "\n",
    "   S_0 - Current Asset price\n",
    "   K  - Strike price of option\n",
    "   r  - risk free interest rate\n",
    "   sigma - Volatility of underltying stock\n",
    "   T  - Maturity of option\n",
    "   m  - Number of timesteps to take\n",
    "   N  - Number of paths to simulate.\n",
    "   N2 - Monte-Carlo integer\n",
    "   \n",
    "\"\"\""
   ]
  },
  {
   "cell_type": "code",
   "execution_count": 2,
   "metadata": {
    "collapsed": true
   },
   "outputs": [],
   "source": [
    "                                        \"In case we want to add some randomness in Stocks\"\n",
    "\n",
    "def drifts(p): \n",
    "    drifts_vector=np.zeros([p,1])\n",
    "    for  i in range(p): \n",
    "        drifts_vector[i]=np.random.uniform(0.1,0.5)\n",
    "    return drifts_vector"
   ]
  },
  {
   "cell_type": "code",
   "execution_count": 3,
   "metadata": {
    "collapsed": true
   },
   "outputs": [],
   "source": [
    "                                        \"For the case we want correlation\"\n",
    "\n",
    "def corr_matrix(p): \n",
    "    rho=np.zeros([p,p])\n",
    "    for i in range (p): \n",
    "        for j in range (p) :\n",
    "            if (i==j):\n",
    "                rho[i,j]=1\n",
    "            else: \n",
    "                rho[i,j]=np.random.uniform(-1,1)\n",
    "    return rho"
   ]
  },
  {
   "cell_type": "code",
   "execution_count": 6,
   "metadata": {
    "collapsed": false
   },
   "outputs": [],
   "source": [
    "def generate_paths(S0, dt , sigma, r, N, m,q):\n",
    "    '''\n",
    "    Parameters\n",
    "    ==========\n",
    "    S0    : float\n",
    "            positive, initial Stock Value\n",
    "    dt    : float\n",
    "            time step discretization\n",
    "    sigma : float \n",
    "            volatility \n",
    "    r     : float\n",
    "            bond return \n",
    "    N     : int \n",
    "            Number of paths generated      \n",
    "    m     : int \n",
    "            number of steps\n",
    "    \n",
    "    Returns\n",
    "    =======\n",
    "    S : matrix\n",
    "        generated paths\n",
    "    '''\n",
    "    S = np.zeros((m + 1, N))\n",
    "    S[0] = S0\n",
    "    for t in range(1, m + 1):\n",
    "        rand = np.random.standard_normal(N)\n",
    "        S[t] = S[t - 1] * np.exp((r -q- sigma ** 2 / 2) * dt + sigma * dt ** 0.5 * rand)\n",
    "    return S"
   ]
  },
  {
   "cell_type": "code",
   "execution_count": 7,
   "metadata": {
    "collapsed": true
   },
   "outputs": [],
   "source": [
    "def generate_multiple_asset(p, S0, dt , sigma, r, N, m,q):\n",
    "    S = []\n",
    "    #Generate p assets\n",
    "    for __ in range (N): \n",
    "        S_asset=generate_paths(S0, dt , sigma, r, p, m,q)\n",
    "        S.append(S_asset)\n",
    "    return (S)"
   ]
  },
  {
   "cell_type": "code",
   "execution_count": 8,
   "metadata": {
    "collapsed": false
   },
   "outputs": [],
   "source": [
    "def exercise_matrix(S,p,N,K,m): \n",
    "    payoff=np.zeros((m + 1, N))\n",
    "    for j in range (N): \n",
    "        for i in range (m + 1):\n",
    "            pay_int = np.prod(S[j][i,:])**(1/p)\n",
    "            pay=max(pay_int-K,0)\n",
    "            payoff[i,j]=pay\n",
    "    return (payoff)"
   ]
  },
  {
   "cell_type": "code",
   "execution_count": 12,
   "metadata": {
    "collapsed": false
   },
   "outputs": [],
   "source": [
    "                                            \"Pricing of a basket option\"\n",
    "\n",
    "\n",
    "\n",
    "def pricing_option(K,r,sigma,p,m,S_0,T, RF_n_estimators,RF_max_leaf_nodes,N,q):\n",
    "  \n",
    "    \"Time-step\"\n",
    "    dt=T/m\n",
    "    \n",
    "    \"Discount factor\"\n",
    "    df=1/(1+r*dt)\n",
    "    \"N simulations of p underlying assets \"\n",
    "    S = generate_multiple_asset(p, S_0, dt , sigma, r, N, m,q)\n",
    "    \"Matrix of exercise prices\"\n",
    "    h = exercise_matrix(S,p,N,K,m)   \n",
    "    \"price of the option at time T = Initialization for a basket option\"\n",
    "    Y = h[-1]\n",
    "     \n",
    "    \"Iteration over the paths\"\n",
    "    for t in range (m-2,-1,-1): \n",
    "        \n",
    "        \"Creation of the matrix N*p to regress\"\n",
    "        X=np.zeros([N,p])\n",
    "        for i in range (N):\n",
    "            for j in range (p): \n",
    "                X[i,j]=S[i][t , j - 1]\n",
    "        \n",
    "        \n",
    "        \"Random Forest algorithm uses the j'th time of the Stock and the (j+1)'th time of Option Price to fit \"\n",
    "        rf=RandomForestRegressor(n_estimators=RF_n_estimators,\n",
    "                                max_leaf_nodes=RF_max_leaf_nodes,oob_score=False, n_jobs=-1)\n",
    "        rf.fit(X,Y)\n",
    "        Y=rf.predict(X)*df\n",
    "     \n",
    "    Y_opt= df * sum(Y)/N\n",
    "    return (Y_opt)"
   ]
  },
  {
   "cell_type": "code",
   "execution_count": 13,
   "metadata": {
    "collapsed": false
   },
   "outputs": [],
   "source": [
    "\"\"\"Pricing with BS formula\"\"\"\n",
    "\n",
    "def black_scholes(K,r,sigma, S_0,T,p,q): \n",
    "    d=sigma**2*(1-1/p)/2+q\n",
    "    d1=1/(sigma*np.sqrt(T/p))*(np.log(S_0/K)+(r+0.5*sigma*sigma/p-d)*T)\n",
    "    d2=d1-sigma*np.sqrt(T/p)\n",
    "    dscnt=np.exp(-r*T)\n",
    "    call=-norm.cdf(d2)*K*dscnt+norm.cdf(d1)*S_0*np.exp(-d*T)\n",
    "    return (call)"
   ]
  },
  {
   "cell_type": "code",
   "execution_count": 14,
   "metadata": {
    "collapsed": false
   },
   "outputs": [
    {
     "name": "stdout",
     "output_type": "stream",
     "text": [
      "price 15.081939025\n",
      "price  15.4816858746\n"
     ]
    }
   ],
   "source": [
    "       \n",
    "\n",
    "\"\"\"Pricing by Random Forest Regressor\"\"\"\n",
    "\n",
    "\n",
    "\n",
    "\"Parameters\"\n",
    "T=1\n",
    "m=12\n",
    "K=100\n",
    "S_0=100\n",
    "r=0.06\n",
    "sigma=0.4\n",
    "p=1\n",
    "RF_n_estimators = 100\n",
    "RF_max_leaf_nodes = 50\n",
    "N=10000\n",
    "q=0.05\n",
    "\n",
    "\n",
    "\"We price\"    \n",
    "price_BSDE=pricing_option(K,r,sigma,p,m,S_0,T, RF_n_estimators,RF_max_leaf_nodes,N,q)\n",
    "print(\"price\",price_BSDE)\n",
    "\n",
    "price_BS=black_scholes(K,r,sigma, S_0,T,p,q)\n",
    "print (\"price \", price_BS) "
   ]
  },
  {
   "cell_type": "code",
   "execution_count": 47,
   "metadata": {
    "collapsed": false
   },
   "outputs": [
    {
     "data": {
      "image/png": "[encoded data removed]",
      "text/plain": [
       "<matplotlib.figure.Figure at 0xa5fe1d0>"
      ]
     },
     "metadata": {},
     "output_type": "display_data"
    },
    {
     "data": {
      "text/plain": [
       "'We price'"
      ]
     },
     "execution_count": 47,
     "metadata": {},
     "output_type": "execute_result"
    }
   ],
   "source": [
    "                                \"\"\"Simulations : N varying\"\"\"\n",
    "\n",
    "\"Parameters\"\n",
    "T=1\n",
    "m=12\n",
    "K=100\n",
    "S_0=100\n",
    "r=0.03\n",
    "sigma=0.4\n",
    "p=7\n",
    "q=0.05\n",
    "RF_max_leaf_nodes=10\n",
    "N=10000\n",
    "\n",
    "\n",
    "RF_n_estimators_range=[10,20,50,100,200]\n",
    "Prices=[]\n",
    "\n",
    "for RF_n_estimators in RF_n_estimators_range:\n",
    "    Prices_int=np.zeros(20)\n",
    "    for i in range (20): \n",
    "        Prices_int[i]=pricing_option(K,r,sigma,p,m,S_0,T, RF_n_estimators,RF_max_leaf_nodes,N,q)\n",
    "        \n",
    "    Prices.append(Prices_int)\n",
    "  \n",
    "\n",
    "    \n",
    "df = pd.DataFrame(np.transpose(Prices), columns=['10','20','50','100','200'])\n",
    "\n",
    "df.plot(kind='box')\n",
    "plt.show()\n",
    "\n",
    "\"We price\"    \n",
    "\n"
   ]
  },
  {
   "cell_type": "code",
   "execution_count": 44,
   "metadata": {
    "collapsed": false
   },
   "outputs": [
    {
     "data": {
      "image/png": "[encoded data removed]",
      "text/plain": [
       "<matplotlib.figure.Figure at 0xa1fd198>"
      ]
     },
     "metadata": {},
     "output_type": "display_data"
    },
    {
     "data": {
      "text/plain": [
       "'We price'"
      ]
     },
     "execution_count": 44,
     "metadata": {},
     "output_type": "execute_result"
    }
   ],
   "source": [
    "                                \"\"\"Simulations : number of tree varying\"\"\"\n",
    "\n",
    "\"Parameters\"\n",
    "T=1\n",
    "m=12\n",
    "K=100\n",
    "S_0=100\n",
    "r=0.03\n",
    "sigma=0.4\n",
    "p=7\n",
    "q=0.05\n",
    "RF_max_leaf_nodes_range=10\n",
    "N=10000\n",
    "\n",
    "\n",
    "RF_n_estimators_range=[10,20,50,100]\n",
    "Prices=[]\n",
    "\n",
    "for RF_n_estimators in RF_n_estimators_range:\n",
    "    Prices_int=np.zeros(20)\n",
    "    for i in range (20): \n",
    "        Prices_int[i]=pricing_option(K,r,sigma,p,m,S_0,T, RF_n_estimators,RF_max_leaf_nodes,N,q)\n",
    "        \n",
    "    Prices.append(Prices_int)\n",
    "  \n",
    "\n",
    "    \n",
    "df = pd.DataFrame(np.transpose(Prices), columns=['10','20','50','100'])\n",
    "\n",
    "df.plot(kind='box')\n",
    "plt.show()\n",
    "\n",
    "\"We price\"    \n",
    "\n"
   ]
  },
  {
   "cell_type": "code",
   "execution_count": 46,
   "metadata": {
    "collapsed": false
   },
   "outputs": [
    {
     "data": {
      "image/png": "[encoded data removed]",
      "text/plain": [
       "<matplotlib.figure.Figure at 0x9f62ac8>"
      ]
     },
     "metadata": {},
     "output_type": "display_data"
    },
    {
     "data": {
      "text/plain": [
       "'We price'"
      ]
     },
     "execution_count": 46,
     "metadata": {},
     "output_type": "execute_result"
    }
   ],
   "source": [
    "                                \"\"\"Simulations : number of assets varying\"\"\"\n",
    "\n",
    "\"Parameters\"\n",
    "T=1\n",
    "m=12\n",
    "K=100\n",
    "S_0=100\n",
    "r=0.03\n",
    "sigma=0.4\n",
    "q=0.05\n",
    "RF_n_estimators=10\n",
    "RF_max_leaf_nodes=10\n",
    "N=10000\n",
    "\n",
    "\n",
    "p_range=[1,2,3,4,5,6,7,8,9,10]\n",
    "Prices=[]\n",
    "\n",
    "for p in p_range:\n",
    "    Prices_int=np.zeros(20)\n",
    "    for i in range (20): \n",
    "        Prices_int[i]=pricing_option(K,r,sigma,p,m,S_0,T, RF_n_estimators,RF_max_leaf_nodes,N,q)\n",
    "        \n",
    "    Prices.append(Prices_int)\n",
    "  \n",
    "\n",
    "    \n",
    "df = pd.DataFrame(np.transpose(Prices), columns=['1','2','3','4','5','6','7','8','9','10'])\n",
    "\n",
    "df.plot(kind='box')\n",
    "plt.show()\n",
    "\n",
    "\"We price\"    \n",
    "\n"
   ]
  },
  {
   "cell_type": "code",
   "execution_count": 48,
   "metadata": {
    "collapsed": false
   },
   "outputs": [
    {
     "data": {
      "image/png": "[encoded data removed]",
      "text/plain": [
       "<matplotlib.figure.Figure at 0xa3c9940>"
      ]
     },
     "metadata": {},
     "output_type": "display_data"
    },
    {
     "data": {
      "text/plain": [
       "'We price'"
      ]
     },
     "execution_count": 48,
     "metadata": {},
     "output_type": "execute_result"
    }
   ],
   "source": [
    "                                \"\"\"Simulations : m varying\"\"\"\n",
    "\n",
    "\"Parameters\"\n",
    "T=1\n",
    "K=100\n",
    "S_0=100\n",
    "r=0.03\n",
    "sigma=0.4\n",
    "q=0.05\n",
    "RF_n_estimators=10\n",
    "RF_max_leaf_nodes=10\n",
    "N=10000\n",
    "p=7\n",
    "\n",
    "\n",
    "m_range=[6,12,24,50]\n",
    "Prices=[]\n",
    "\n",
    "for m in m_range:\n",
    "    Prices_int=np.zeros(20)\n",
    "    for i in range (20): \n",
    "        Prices_int[i]=pricing_option(K,r,sigma,p,m,S_0,T, RF_n_estimators,RF_max_leaf_nodes,N,q)\n",
    "        \n",
    "    Prices.append(Prices_int)\n",
    "  \n",
    "\n",
    "    \n",
    "df = pd.DataFrame(np.transpose(Prices), columns=['6','12','24','50'])\n",
    "\n",
    "df.plot(kind='box')\n",
    "plt.show()\n",
    "\n",
    "\"We price\"    \n",
    "\n"
   ]
  },
  {
   "cell_type": "code",
   "execution_count": null,
   "metadata": {
    "collapsed": true
   },
   "outputs": [],
   "source": []
  }
 ],
 "metadata": {
  "kernelspec": {
   "display_name": "Python 3",
   "language": "python",
   "name": "python3"
  },
  "language_info": {
   "codemirror_mode": {
    "name": "ipython",
    "version": 3
   },
   "file_extension": ".py",
   "mimetype": "text/x-python",
   "name": "python",
   "nbconvert_exporter": "python",
   "pygments_lexer": "ipython3",
   "version": "3.4.4"
  }
 },
 "nbformat": 4,
 "nbformat_minor": 0
}
