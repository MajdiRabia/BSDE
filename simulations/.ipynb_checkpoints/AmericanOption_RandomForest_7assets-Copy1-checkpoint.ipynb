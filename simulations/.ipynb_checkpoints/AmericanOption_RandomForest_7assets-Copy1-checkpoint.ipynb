{
 "cells": [
  {
   "cell_type": "markdown",
   "metadata": {},
   "source": [
    "#  American Option Pricing for Multiple Underlying assets using Random Forest\n"
   ]
  },
  {
   "cell_type": "markdown",
   "metadata": {
    "collapsed": true
   },
   "source": [
    "let us first import all the packages "
   ]
  },
  {
   "cell_type": "code",
   "execution_count": 1,
   "metadata": {
    "collapsed": false
   },
   "outputs": [
    {
     "name": "stdout",
     "output_type": "stream",
     "text": [
      "Populating the interactive namespace from numpy and matplotlib\n"
     ]
    },
    {
     "name": "stderr",
     "output_type": "stream",
     "text": [
      "C:\\Users\\Majdi\\Anaconda3\\lib\\site-packages\\matplotlib\\__init__.py:872: UserWarning: axes.color_cycle is deprecated and replaced with axes.prop_cycle; please use the latter.\n",
      "  warnings.warn(self.msg_depr % (key, alt_key))\n"
     ]
    },
    {
     "data": {
      "text/plain": [
       "'     Inputs\\n\\n   S_0 - Current Asset price\\n   K  - Strike price of option\\n   r  - risk free interest rate\\n   sigma - Volatility of underltying stock\\n   T  - Maturity of option\\n   m  - Number of timesteps to take\\n   N  - Number of paths to simulate.\\n   N2 - Monte-Carlo integer\\n   \\n'"
      ]
     },
     "execution_count": 1,
     "metadata": {},
     "output_type": "execute_result"
    }
   ],
   "source": [
    "%pylab inline --no-import-all\n",
    "import numpy as np\n",
    "import scipy as sp\n",
    "import pylab as pl\n",
    "import warnings \n",
    "import matplotlib.pyplot as plt\n",
    "import statistics as st\n",
    "from scipy.optimize import leastsq\n",
    "import seaborn as sns\n",
    "import pandas as pd\n",
    "from scipy.stats import norm\n",
    "\n",
    "from sklearn.ensemble import RandomForestClassifier\n",
    "from sklearn.ensemble import RandomForestRegressor\n",
    "\n",
    "\n",
    "\"\"\"     Inputs\n",
    "\n",
    "   S_0 - Current Asset price\n",
    "   K  - Strike price of option\n",
    "   r  - risk free interest rate\n",
    "   sigma - Volatility of underltying stock\n",
    "   T  - Maturity of option\n",
    "   m  - Number of timesteps to take\n",
    "   N  - Number of paths to simulate.\n",
    "   N2 - Monte-Carlo integer\n",
    "   \n",
    "\"\"\""
   ]
  },
  {
   "cell_type": "code",
   "execution_count": 3,
   "metadata": {
    "collapsed": false
   },
   "outputs": [],
   "source": [
    "\"Function creating p underlying assets\"\n",
    "\n",
    "def stocks_paths(S_int,S_0,r,sigma,delta_t,N,m,q):  \n",
    "    drift=(r-q-sigma*sigma/2)\n",
    "    for i in range(0,N): \n",
    "        X=np.random.standard_normal(size=m)\n",
    "        S_int[i,0]=S_0\n",
    "        for j in range(0,m-1):\n",
    "            S_int[i,j+1]=S_int[i,j]*np.exp(drift*delta_t+sigma*np.sqrt(delta_t)*X[j])\n",
    "       \n",
    "    return S_int    "
   ]
  },
  {
   "cell_type": "code",
   "execution_count": 4,
   "metadata": {
    "collapsed": true
   },
   "outputs": [],
   "source": [
    "def product_list(my_liste): \n",
    "    res=1\n",
    "    for i in range (len(my_liste)): \n",
    "        res=res*my_liste[i]\n",
    "    return (res)"
   ]
  },
  {
   "cell_type": "code",
   "execution_count": 5,
   "metadata": {
    "collapsed": true
   },
   "outputs": [],
   "source": [
    "def exercise_matrix(S,p,N,K,m): \n",
    "    payoff=np.zeros((N,m))\n",
    "    for j in range (m): \n",
    "        \n",
    "        for i in range (N): \n",
    "            my_list=np.zeros(p)\n",
    "            for k in range (p):\n",
    "                my_list[k]=(S[i*p+k,j])\n",
    "            pay=max(product_list(my_list)**(1/p)-K,0)\n",
    "            payoff[i,j]=pay\n",
    "    return (payoff)"
   ]
  },
  {
   "cell_type": "code",
   "execution_count": 14,
   "metadata": {
    "collapsed": false
   },
   "outputs": [],
   "source": [
    "                                            \"Pricing of the American Option\"\n",
    "\n",
    "\n",
    "\n",
    "def pricing_option(K,r,sigma,N,m,S_0,T, RF_n_estimators,RF_max_leaf_nodes,p,q):\n",
    "  \n",
    "    \"Time-step\"\n",
    "    delta_t=T/m\n",
    "    \n",
    "    \"Discount factor\"\n",
    "    dscnt=np.exp(-r*delta_t)\n",
    "    \n",
    "    \"Matrix of the N*p Stock Prices simulated (every p lines, we have a new simulation)\"\n",
    "    S=np.zeros((p*N,m))\n",
    "    \n",
    "    \"Matrix of the option values\" \n",
    "    V=np.zeros([N,m]) \n",
    "\n",
    "    \"N simulations of p underlying assets \"\n",
    "    \n",
    "    for k in range (N): \n",
    "        S_int=np.zeros([p,m])\n",
    "        \"Creation of p underlying assets\"\n",
    "        stocks_paths(S_int,S_0,r,sigma,delta_t,p,m,q)\n",
    "        \"We put them in S\"\n",
    "        for i in range (k*p,(k+1)*p): \n",
    "            S[i,:]=S_int[i-k*p,:]\n",
    "    \n",
    "    \n",
    "    \"Matrix of exercise prices\"\n",
    "    h=exercise_matrix(S,p,N,K,m) \n",
    "    \n",
    "    \n",
    "    \"price of the option at time T = Initialization \"\n",
    "    V[:,m-1]=h[:,m-1]\n",
    "    \n",
    "    \n",
    "    \n",
    "    \"Initialization of the Price by Monte Carlo\"\n",
    "    V_opt=0 \n",
    "    \n",
    "    \n",
    "    \"Iteration over the paths\"\n",
    "    for j in range (m-2,0,-1): \n",
    "        \n",
    "        \"Creation of the matrix N*p to regress\"\n",
    "        X=np.zeros([N,p])\n",
    "        for i in range (N):\n",
    "            for k in range (p): \n",
    "                X[i,k]=S[i*p+k,j]\n",
    "        \n",
    "       \n",
    "        \"Random Forest algorithm uses the j'th time of the Stock and the (j+1)'th time of Option Price to fit \"\n",
    "        rf=RandomForestRegressor(n_estimators=RF_n_estimators,\n",
    "                                max_leaf_nodes=RF_max_leaf_nodes,oob_score=False, n_jobs=-1)\n",
    "        rf.fit(X,V[:,j+1])\n",
    "        B=rf.predict(X)\n",
    "        \n",
    "        \n",
    "        \"\"\"\n",
    "        plt.figure()\n",
    "        #plt.plot(x[:,0],y,'.')\n",
    "        plt.plot(X,B,'r.')\n",
    "        #plt.plot( np.sort(x[:,0]),np.sin( np.sort(x[:,0]) ),'-')\n",
    "        plt.show()\n",
    "        \"\"\"\n",
    "        \"No arbitrage implies : \"\n",
    "        V[:,j]=np.where(h[:,j] > B, h[:,j],dscnt*V[:,j+1])\n",
    "    \n",
    "      \n",
    "    \"Monte-Carlo for the option pricing\"\n",
    "    V_opt= dscnt*np.sum(V[:,1])/N\n",
    "    \n",
    "    \n",
    "    return (V_opt)"
   ]
  },
  {
   "cell_type": "markdown",
   "metadata": {},
   "source": [
    "Example of pricing with 7 assets"
   ]
  },
  {
   "cell_type": "code",
   "execution_count": 15,
   "metadata": {
    "collapsed": false
   },
   "outputs": [
    {
     "name": "stdout",
     "output_type": "stream",
     "text": [
      "price 17.1562318742\n"
     ]
    },
    {
     "data": {
      "text/plain": [
       "'\\nPrices_int=np.zeros(20)\\nfor i in range (20): \\n    Prices_int[i]=pricing_option(K,r,sigma,N,m,S_0,T,RF_n_estimators,RF_max_leaf_nodes,p,q)\\n\\n\\nmatplotlib.pyplot.boxplot(x=Prices_int)\\n'"
      ]
     },
     "execution_count": 15,
     "metadata": {},
     "output_type": "execute_result"
    }
   ],
   "source": [
    "\n",
    "\"Parameters\"\n",
    "T=1\n",
    "m=10\n",
    "K=100\n",
    "S_0=100\n",
    "r=0.03\n",
    "q=0.05\n",
    "sigma=0.4\n",
    "N=10000\n",
    "RF_n_estimators=100\n",
    "RF_max_leaf_nodes=100\n",
    "p=1\n",
    "\n",
    "price = pricing_option(K,r,sigma,N,m,S_0,T,RF_n_estimators,RF_max_leaf_nodes,p,q)\n",
    "print (\"price\", price)\n",
    "\n",
    "\"\"\"\n",
    "Prices_int=np.zeros(20)\n",
    "for i in range (20): \n",
    "    Prices_int[i]=pricing_option(K,r,sigma,N,m,S_0,T,RF_n_estimators,RF_max_leaf_nodes,p,q)\n",
    "\n",
    "\n",
    "matplotlib.pyplot.boxplot(x=Prices_int)\n",
    "\"\"\"\n"
   ]
  },
  {
   "cell_type": "code",
   "execution_count": 15,
   "metadata": {
    "collapsed": false
   },
   "outputs": [
    {
     "ename": "SyntaxError",
     "evalue": "invalid syntax (<ipython-input-15-ad05bbf8d134>, line 1)",
     "output_type": "error",
     "traceback": [
      "\u001b[1;36m  File \u001b[1;32m\"<ipython-input-15-ad05bbf8d134>\"\u001b[1;36m, line \u001b[1;32m1\u001b[0m\n\u001b[1;33m    help boxplot\u001b[0m\n\u001b[1;37m               ^\u001b[0m\n\u001b[1;31mSyntaxError\u001b[0m\u001b[1;31m:\u001b[0m invalid syntax\n"
     ]
    }
   ],
   "source": [
    "help boxplot"
   ]
  },
  {
   "cell_type": "code",
   "execution_count": 195,
   "metadata": {
    "collapsed": false
   },
   "outputs": [
    {
     "name": "stdout",
     "output_type": "stream",
     "text": [
      "price =  7.61003507157\n",
      "price =  6.5174245271\n",
      "price =  6.75502608481\n",
      "price =  6.76847141942\n",
      "price =  6.99063286183\n",
      "price =  6.54026550072\n",
      "price =  5.62111539869\n",
      "price =  6.28258413455\n",
      "price =  6.44009460091\n",
      "price =  6.02881339601\n",
      "price =  5.13496504602\n",
      "price =  5.25574329543\n",
      "price =  5.60646437635\n",
      "price =  5.46295860568\n",
      "price =  5.14300234317\n",
      "price =  5.35650983698\n",
      "price =  5.03932684441\n",
      "price =  5.11840972768\n",
      "price =  4.69171415429\n",
      "price =  4.87974712808\n",
      "price =  5.03792760056\n",
      "price =  5.0759502929\n",
      "price =  5.30094173192\n",
      "price =  4.99992275213\n",
      "price =  5.02300995996\n",
      "price =  4.91607726969\n",
      "price =  5.0255662642\n",
      "price =  5.12479274203\n",
      "price =  5.39161733781\n",
      "price =  4.95778393559\n",
      "price =  5.45639160123\n",
      "price =  5.14583204857\n",
      "price =  5.05999990207\n",
      "price =  4.64210073376\n",
      "price =  4.80297906652\n",
      "price =  5.26000225401\n",
      "price =  5.28588347348\n",
      "price =  4.96221195621\n",
      "price =  4.98177890944\n",
      "price =  4.96746353627\n",
      "price  2.41878440914\n"
     ]
    }
   ],
   "source": [
    "                                \"\"\"Pricing by Random Forest Regressor\"\"\"\n",
    "\n",
    "\"Parameters\"\n",
    "T=1\n",
    "m=10\n",
    "K=100\n",
    "S_0=100\n",
    "r=0.03\n",
    "q=0.05\n",
    "sigma=0.4\n",
    "N=1000\n",
    "RF_n_estimators_range=[10,50,100,200,500]\n",
    "RF_max_leaf_nodes_range=[10,20,50,100,150,200,500,1000]\n",
    "p=&\n",
    "\n",
    "\"We price\"    \n",
    "\n",
    "for RF_max_leaf_nodes in RF_max_leaf_nodes_range: \n",
    "    for RF_n_estimators in RF_n_estimators_range: \n",
    "        \n",
    "        price=pricing_option(K,r,sigma,N,m,S_0,T,RF_n_estimators,RF_max_leaf_nodes,p,q)\n",
    "        print ('price = ', price)\n",
    "\n",
    "price_BS=black_scholes(K,r,sigma, S_0,T,p,q)\n",
    "print (\"price \", price_BS) \n"
   ]
  },
  {
   "cell_type": "code",
   "execution_count": 17,
   "metadata": {
    "collapsed": false
   },
   "outputs": [
    {
     "data": {
      "image/png": "[encoded data removed]",
      "text/plain": [
       "<matplotlib.figure.Figure at 0xb1e95f8>"
      ]
     },
     "metadata": {},
     "output_type": "display_data"
    },
    {
     "name": "stdout",
     "output_type": "stream",
     "text": [
      "price =  11.3554469436\n"
     ]
    }
   ],
   "source": [
    "                                \"\"\"Pricing by Random Forest Regressor and varying with max_leaf_nodes\"\"\"\n",
    "\n",
    "\"Parameters\"\n",
    "T=1\n",
    "m=12\n",
    "K=100\n",
    "S_0=100\n",
    "r=0.1\n",
    "sigma=0.4\n",
    "N=10000\n",
    "RF_n_estimators=10\n",
    "\n",
    "\n",
    "RF_max_leaf_nodes_range=[10,20,50,100,150,200,500,1000]\n",
    "Prices=[]\n",
    "\n",
    "for RF_max_leaf_nodes in RF_max_leaf_nodes_range:\n",
    "    Prices_int=np.zeros(20)\n",
    "    for i in range (20): \n",
    "        Prices_int[i]=pricing_option(K,r,sigma,N,m,S_0,T,RF_n_estimators,RF_max_leaf_nodes)\n",
    "        \n",
    "    Prices.append(Prices_int)\n",
    "  \n",
    "\n",
    "    \n",
    "df = pd.DataFrame(np.transpose(Prices), columns=['10','20', '50', '100', '150','200','500','1 000'])\n",
    "\n",
    "df.plot(kind='box')\n",
    "\n",
    "\n",
    "Price_exact=np.zeros(8) \n",
    "for k in range(8): \n",
    "    Price_exact[k]=11.9043\n",
    "plt.plot(RF_max_leaf_nodes_range,Price_exact)\n",
    "plt.show()\n",
    "\n",
    "\"We price\"    \n"
   ]
  },
  {
   "cell_type": "code",
   "execution_count": 18,
   "metadata": {
    "collapsed": false
   },
   "outputs": [
    {
     "data": {
      "image/png": "[encoded data removed]",
      "text/plain": [
       "<matplotlib.figure.Figure at 0xb25c5f8>"
      ]
     },
     "metadata": {},
     "output_type": "display_data"
    }
   ],
   "source": [
    "Price_exact=np.zeros(8) \n",
    "for k in range(8): \n",
    "    Price_exact[k]=11.9043\n",
    "plt.plot(RF_max_leaf_nodes_range,Price_exact)\n",
    "plt.show()"
   ]
  },
  {
   "cell_type": "code",
   "execution_count": 63,
   "metadata": {
    "collapsed": false
   },
   "outputs": [],
   "source": [
    "N = 10**4\n",
    "x=np.sqrt(10)*np.random.standard_normal(size=N)\n",
    "y=np.sin(x)+ np.random.standard_normal(size=N)/2\n",
    "x=x[:,None]\n"
   ]
  },
  {
   "cell_type": "code",
   "execution_count": 64,
   "metadata": {
    "collapsed": false
   },
   "outputs": [],
   "source": [
    "rf=RandomForestRegressor(n_estimators=100,max_leaf_nodes=50,oob_score=False, n_jobs=-1)\n",
    "rf.fit(x,y)\n",
    "z=rf.predict(x)\n"
   ]
  },
  {
   "cell_type": "code",
   "execution_count": 65,
   "metadata": {
    "collapsed": true
   },
   "outputs": [],
   "source": [
    "?RandomForestRegressor"
   ]
  },
  {
   "cell_type": "code",
   "execution_count": 66,
   "metadata": {
    "collapsed": false
   },
   "outputs": [
    {
     "data": {
      "image/png": "[encoded data removed]",
      "text/plain": [
       "<matplotlib.figure.Figure at 0xa5b1208>"
      ]
     },
     "metadata": {},
     "output_type": "display_data"
    }
   ],
   "source": [
    "plt.figure()\n",
    "#plt.plot(x[:,0],y,'.')\n",
    "plt.plot(x[:,0],z,'r.')\n",
    "plt.plot( np.sort(x[:,0]),np.sin( np.sort(x[:,0]) ),'-')\n",
    "plt.show()"
   ]
  },
  {
   "cell_type": "code",
   "execution_count": 6,
   "metadata": {
    "collapsed": false
   },
   "outputs": [
    {
     "name": "stdout",
     "output_type": "stream",
     "text": [
      "[[ 0.  0.]\n",
      " [ 0.  0.]]\n"
     ]
    }
   ],
   "source": [
    "a=np.zeros((2,2))\n",
    "print(a)"
   ]
  },
  {
   "cell_type": "code",
   "execution_count": null,
   "metadata": {
    "collapsed": true
   },
   "outputs": [],
   "source": []
  }
 ],
 "metadata": {
  "kernelspec": {
   "display_name": "Python 3",
   "language": "python",
   "name": "python3"
  },
  "language_info": {
   "codemirror_mode": {
    "name": "ipython",
    "version": 3
   },
   "file_extension": ".py",
   "mimetype": "text/x-python",
   "name": "python",
   "nbconvert_exporter": "python",
   "pygments_lexer": "ipython3",
   "version": "3.4.4"
  }
 },
 "nbformat": 4,
 "nbformat_minor": 0
}
