{
 "cells": [
  {
   "cell_type": "code",
   "execution_count": 1,
   "metadata": {
    "collapsed": false
   },
   "outputs": [
    {
     "name": "stdout",
     "output_type": "stream",
     "text": [
      "Populating the interactive namespace from numpy and matplotlib\n"
     ]
    }
   ],
   "source": [
    "%pylab inline\n",
    "figsize(10,10) # in the global namespace when inline backend is in use."
   ]
  },
  {
   "cell_type": "code",
   "execution_count": 2,
   "metadata": {
    "collapsed": false
   },
   "outputs": [],
   "source": [
    "import numpy as np\n",
    "import scipy as sp\n",
    "import pylab as pl\n",
    "\n",
    "\n",
    "\"\"\"     Inputs\n",
    "\n",
    "   S_0 - Current Asset price\n",
    "   K  - Strike price of option\n",
    "   r  - risk free interest rate\n",
    "   sigma - Volatility of underltying stock\n",
    "   T  - Maturity of option\n",
    "   m  - Number of timesteps to take\n",
    "   N  - Number of paths to simulate.\n",
    "   \n",
    "\"\"\"\n",
    "\n",
    "T=1\n",
    "m=50\n",
    "delta_t=1./50\n",
    "K=85\n",
    "N=10\n",
    "S_0=80\n",
    "r=0.05\n",
    "sigma=0.9\n",
    "\n",
    "\"Matrix of the N Stock Prices simulated\"\n",
    "S=np.zeros([N,m]) \n",
    "\n",
    "\"Matrix of the option values\" \n",
    "V=np.zeros([N,m]) \n",
    "\n",
    "\"Matrix of exercise prices\"\n",
    "h=np.zeros([N,m])  \n",
    "\n",
    "\n"
   ]
  },
  {
   "cell_type": "code",
   "execution_count": 3,
   "metadata": {
    "collapsed": true
   },
   "outputs": [],
   "source": [
    "\"Function creating N paths for the Black-Scholes formula\"\n",
    "\n",
    "def stocks_paths(S_int,S_0,r,sigma,delta_t,N,m):     \n",
    "    for i in range(0,N-1): \n",
    "        X=np.random.standard_normal(size=m)\n",
    "        X=np.cumsum(X)\n",
    "        \"for j in range(1,m-1): \"\n",
    "        S_int[i,1]=S_0\n",
    "        S_int[i,:]=S_int[i,1]*np.exp((r-sigma*sigma/2)*delta_t+sigma*np.sqrt(delta_t)*X)\n",
    "    return S_int    \n",
    "\n",
    "        \n",
    "    \n"
   ]
  },
  {
   "cell_type": "code",
   "execution_count": 120,
   "metadata": {
    "collapsed": false
   },
   "outputs": [],
   "source": [
    "\"matrix of exercise, with  i'th line corresponding to the path, and the j'th column is the time j*delta_t\"\n",
    "\n",
    "def exercise_matrix(h,N,m,K,S): \n",
    "    for i in range (0,N-1): \n",
    "        for j in range (1,m) : \n",
    "            h[i,j]=max(K-S[i,j],0)\n",
    "    return h    "
   ]
  },
  {
   "cell_type": "code",
   "execution_count": 156,
   "metadata": {
    "collapsed": false
   },
   "outputs": [],
   "source": [
    "                                                \"Pricing of the American Option\"\n",
    "\n",
    "def pricing_option(V,h,S,r,sigma,delta_t,N,m,S_0):\n",
    "    \n",
    "    \"Creation of a stock path matrix\"\n",
    "    stocks_paths(S,S_0,r,sigma,delta_t,N,m)\n",
    "    \n",
    "    \"Creation of the exercise price matrix\"\n",
    "    exercise_matrix(h,N,m,K,S)\n",
    "    \n",
    "    \"price of the option at time 1\"\n",
    "    \n",
    "    \n",
    "    V_opt=0 \n",
    "    \n",
    "    \n",
    "    \"Initialise the price at T=m*delta_t for every path\"\n",
    "    \n",
    "    \n",
    "    for i in range (0,N-1): \n",
    "        V[i,m-1]=h[i,m-1]\n",
    "\n",
    "    \"Iteration over the paths\"\n",
    "    for i in range (0,N-1) : \n",
    "        \n",
    "        \"iteration over time backwardly\"\n",
    "        for j in range (m-2,1,-1): \n",
    "            \n",
    "            \"Matrix of order 3 for the regression\"\n",
    "            B1=np.matrix([[1,(1./N)*np.sum(S[:,j-1]),(1./N)*sum(S[:,j-1]*S[:,j-1])],[(1./N)*np.sum(S[:,j-1]), (1./N)*sum(S[:,j-1]*S[:,j-1]),(1./N)*sum(S[:,j-1]*S[:,j-1]*S[:,j-1])],[(1./N)*sum(S[:,j-1]*S[:,j-1]),(1./N)*sum(S[:,j-1]*S[:,j-1]*S[:,j-1]),(1./N)*sum(S[:,j-1]*S[:,j-1]*S[:,j-1]*S[:,j-1])]])\n",
    "            \n",
    "            \"V\"\n",
    "            B2=np.matrix([[(1./N)*sum(V[:,j])],[(1./N)*np.dot(np.transpose(V[:,j]),S[:,j-1])],[(1./N)*sum(V[:,j]*S[:,j-1])]])\n",
    "            \n",
    "            \"Compute of the Regression's coefficients\"\n",
    "            beta=np.dot(np.linalg.inv(B1),B2)\n",
    "            \n",
    "            \"Set the option price to be the bigger of the exercise price and the expected value of the forward option price byt the free arbitrage principle\"\n",
    "            V[i,j-1]=np.amax(h[i,j-1], beta[0]+beta[1]*S[i,j-1]+beta[2]*S[i,j-1]*S[i,j-1])\n",
    "        \n",
    "        \"monte-Carlo for the option pricing\"\n",
    "        V_opt+=V[i,1]\n",
    "    V_opt/=N \n",
    "    return V_opt"
   ]
  },
  {
   "cell_type": "code",
   "execution_count": 157,
   "metadata": {
    "collapsed": false
   },
   "outputs": [
    {
     "data": {
      "text/plain": [
       "matrix([[ 0.],\n",
       "        [ 0.],\n",
       "        [ 0.]])"
      ]
     },
     "execution_count": 157,
     "metadata": {},
     "output_type": "execute_result"
    }
   ],
   "source": [
    "pricing_option(V,h,S,r,sigma,delta_t,N,m,S_0)"
   ]
  },
  {
   "cell_type": "code",
   "execution_count": 127,
   "metadata": {
    "collapsed": false
   },
   "outputs": [
    {
     "data": {
      "text/plain": [
       "array([  8640.15198565,  12263.2586593 ,   4223.45823207,   3724.47623439,\n",
       "         5769.59851439,   7778.51719312,   5964.19619336,   5365.83625848,\n",
       "         7742.5747628 ,      0.        ])"
      ]
     },
     "execution_count": 127,
     "metadata": {},
     "output_type": "execute_result"
    }
   ],
   "source": [
    "stocks_paths(S,S_0,r,sigma,delta_t,N,m)\n",
    "np.sum(S[:,1])\n",
    "S[:,1]*S[:,1]"
   ]
  },
  {
   "cell_type": "code",
   "execution_count": null,
   "metadata": {
    "collapsed": true
   },
   "outputs": [],
   "source": []
  }
 ],
 "metadata": {
  "kernelspec": {
   "display_name": "Python 2",
   "language": "python",
   "name": "python2"
  },
  "language_info": {
   "codemirror_mode": {
    "name": "ipython",
    "version": 2
   },
   "file_extension": ".py",
   "mimetype": "text/x-python",
   "name": "python",
   "nbconvert_exporter": "python",
   "pygments_lexer": "ipython2",
   "version": "2.7.6"
  }
 },
 "nbformat": 4,
 "nbformat_minor": 0
}
