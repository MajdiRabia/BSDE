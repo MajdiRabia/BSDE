{
 "cells": [
  {
   "cell_type": "code",
   "execution_count": 1,
   "metadata": {
    "collapsed": false
   },
   "outputs": [
    {
     "name": "stdout",
     "output_type": "stream",
     "text": [
      "Populating the interactive namespace from numpy and matplotlib\n"
     ]
    },
    {
     "name": "stderr",
     "output_type": "stream",
     "text": [
      "C:\\Users\\Majdi\\Anaconda3\\lib\\site-packages\\matplotlib\\__init__.py:872: UserWarning: axes.color_cycle is deprecated and replaced with axes.prop_cycle; please use the latter.\n",
      "  warnings.warn(self.msg_depr % (key, alt_key))\n"
     ]
    },
    {
     "data": {
      "text/plain": [
       "'     Inputs\\n\\n   S_0 - Current Asset price\\n   K  - Strike price of option\\n   r  - risk free interest rate (lending)\\n   R  - Borrowing interest rate\\n   sigma - Volatility of underltying stock\\n   T  - Maturity of option\\n   m  - Number of timesteps to take\\n   N  - Number of paths to simulate.\\n   d  - polynomial fit degree\\n   \\n'"
      ]
     },
     "execution_count": 1,
     "metadata": {},
     "output_type": "execute_result"
    }
   ],
   "source": [
    "%pylab inline --no-import-all\n",
    "import numpy as np\n",
    "import scipy as sp\n",
    "import pylab as pl\n",
    "import matplotlib.pyplot as plt\n",
    "import statistics as st\n",
    "import seaborn as sns\n",
    "import pandas as pd\n",
    "from scipy.stats import norm\n",
    "import time\n",
    "\n",
    "from sklearn.ensemble import RandomForestClassifier\n",
    "from sklearn.ensemble import RandomForestRegressor\n",
    "\n",
    "\n",
    "\"\"\"     Inputs\n",
    "\n",
    "   S_0 - Current Asset price\n",
    "   K  - Strike price of option\n",
    "   r  - risk free interest rate (lending)\n",
    "   R  - Borrowing interest rate\n",
    "   sigma - Volatility of underltying stock\n",
    "   T  - Maturity of option\n",
    "   m  - Number of timesteps to take\n",
    "   N  - Number of paths to simulate.\n",
    "   d  - polynomial fit degree\n",
    "   \n",
    "\"\"\""
   ]
  },
  {
   "cell_type": "code",
   "execution_count": 2,
   "metadata": {
    "collapsed": false
   },
   "outputs": [],
   "source": [
    "\"Function creating N paths for the Black-Scholes formula\"\n",
    "\n",
    "\n",
    "def stocks_paths(S_0,r,sigma,delta_t,N,m,mu):     \n",
    "    S = np.zeros((m + 1, N))\n",
    "    delta_B = np.zeros((m + 1, N))\n",
    "    S[0] = S_0\n",
    "    for t in range(1,m + 1):\n",
    "        X=np.random.standard_normal(size=N)\n",
    "        S[t]=S[t-1]*np.exp((mu-sigma*sigma/2)*delta_t+sigma*np.sqrt(delta_t)*X)\n",
    "        delta_B[t] = np.sqrt(delta_t) * X\n",
    "    S_delta_B={'Stocks' : S,'delta_B': delta_B}\n",
    "    return S_delta_B      "
   ]
  },
  {
   "cell_type": "code",
   "execution_count": 10,
   "metadata": {
    "collapsed": false
   },
   "outputs": [],
   "source": [
    "                                            \"Pricing of the American Option\"\n",
    "\n",
    "\n",
    "\n",
    "def pricing_option(mu,R,K,r,sigma,N,m,S_0,T,RF_n_estimators,RF_max_leaf_nodes):\n",
    "  \n",
    "    \"Time-step\"\n",
    "    dt=T/m\n",
    "    \"Discount factor\"\n",
    "    df=1/(1+r*dt)\n",
    "    \"theta\"\n",
    "    theta=(mu-r)/sigma\n",
    "    \"Creation of a stock path matrix\"\n",
    "    S_delta_B=stocks_paths(S_0,r,sigma,dt,N,m,mu)\n",
    "    S=S_delta_B['Stocks']\n",
    "    delta_B=S_delta_B['delta_B']\n",
    "    \n",
    "    \"price of the option at time T = Initialization for a call\" \n",
    "    Y=np.maximum(S[-1]-K,0)\n",
    "    \n",
    "    \"Iteration over the paths\"\n",
    "    for t in range (m-2,0,-1): \n",
    "        Z=np.zeros(N)\n",
    "        X=S[t]\n",
    "        X=X[:,None]\n",
    "        \n",
    "        \n",
    "        \"Random Forest algorithm uses the j'th time of the Stock and the (j+1)'th time of Option Price to fit \"\n",
    "        rf=RandomForestRegressor(n_estimators=RF_n_estimators,\n",
    "                                max_leaf_nodes=RF_max_leaf_nodes,oob_score=False, n_jobs=-1)\n",
    "        \n",
    "        \n",
    "        rf.fit(X,Y*delta_B[t])\n",
    "        Z=rf.predict(X)*(1/dt)\n",
    "        \n",
    "        rf.fit(X,Y)\n",
    "        J=rf.predict(X)\n",
    "        Y=J-Y*r*dt-theta*Z*dt+np.minimum(Y-(1/sigma)*Z,0)*(R-r)*dt\n",
    "    \n",
    "    Y_opt= sum(Y)*df/N\n",
    "    return (Y_opt)"
   ]
  },
  {
   "cell_type": "code",
   "execution_count": 11,
   "metadata": {
    "collapsed": true
   },
   "outputs": [],
   "source": [
    "\"\"\"Pricing with BS formula\"\"\"\n",
    "\n",
    "def black_scholes(K,r,sigma, S_0,T): \n",
    "    d1=1/(sigma*np.sqrt(T))*(np.log(S_0/K)+(r+0.5*sigma*sigma)*T)\n",
    "    d2=d1-sigma*np.sqrt(T)\n",
    "    dscnt=np.exp(-r*T)\n",
    "    Call=-norm.cdf(d2)*K*dscnt+norm.cdf(d1)*S_0\n",
    "    return (Call)"
   ]
  },
  {
   "cell_type": "code",
   "execution_count": 16,
   "metadata": {
    "collapsed": false
   },
   "outputs": [
    {
     "name": "stdout",
     "output_type": "stream",
     "text": [
      "price  6.42422463241\n",
      "price BScholes  7.15589605611\n",
      "28.837199926376343 s\n"
     ]
    }
   ],
   "source": [
    "                                \"\"\"Pricing by Random Forest Regressor\"\"\"\n",
    "\n",
    "start = time.time()\n",
    "\n",
    "  \n",
    "    \n",
    "\"Parameters\"\n",
    "T=0.5\n",
    "m=12\n",
    "K=100\n",
    "S_0=100\n",
    "r=0.04\n",
    "sigma=0.2\n",
    "N=100000\n",
    "mu=0.06\n",
    "R=0.06\n",
    "RF_n_estimators = 10\n",
    "RF_max_leaf_nodes= 5\n",
    "\n",
    "\"We price\"    \n",
    "\n",
    "price_BSDE=pricing_option(mu,R,K,r,sigma,N,m,S_0,T, RF_n_estimators,RF_max_leaf_nodes)\n",
    "price_BScholes=black_scholes(K,R,sigma, S_0,T)\n",
    "print (\"price \", price_BSDE) \n",
    "print (\"price BScholes \", price_BScholes)\n",
    "\n",
    "end = time.time()\n",
    "print(end - start,\"s\") "
   ]
  },
  {
   "cell_type": "code",
   "execution_count": null,
   "metadata": {
    "collapsed": false
   },
   "outputs": [],
   "source": [
    "                                \"\"\"Simulations : m varying\"\"\"\n",
    "\n",
    "    \n",
    "\n",
    "\"Parameters\"\n",
    "T=0.25\n",
    "m=12\n",
    "K1=95\n",
    "K2=105\n",
    "S_0=100\n",
    "r=0.01\n",
    "sigma=0.2\n",
    "mu=0.05\n",
    "R=0.06\n",
    "RF_n_estimators = 100\n",
    "d=5\n",
    "\n",
    "\n",
    "N_range=[100,1000,10000]\n",
    "Prices=[]\n",
    "\n",
    "for N in N_range:\n",
    "    Prices_int=np.zeros(15)\n",
    "    for i in range (15): \n",
    "        Prices_int[i]=pricing_option(mu,R,K1,K2,r,sigma,N,m,S_0,T,d, RF_n_estimators)\n",
    "        \n",
    "    Prices.append(Prices_int)\n",
    "  \n",
    "\n",
    "    \n",
    "df = pd.DataFrame(np.transpose(Prices), columns=['100','1000','10000'])\n",
    "\n",
    "df.plot(kind='box')\n",
    "plt.show()\n",
    "\n",
    "\"We price\"    \n",
    "\n"
   ]
  },
  {
   "cell_type": "code",
   "execution_count": null,
   "metadata": {
    "collapsed": true
   },
   "outputs": [],
   "source": []
  }
 ],
 "metadata": {
  "kernelspec": {
   "display_name": "Python 3",
   "language": "python",
   "name": "python3"
  },
  "language_info": {
   "codemirror_mode": {
    "name": "ipython",
    "version": 3
   },
   "file_extension": ".py",
   "mimetype": "text/x-python",
   "name": "python",
   "nbconvert_exporter": "python",
   "pygments_lexer": "ipython3",
   "version": "3.4.4"
  }
 },
 "nbformat": 4,
 "nbformat_minor": 0
}
