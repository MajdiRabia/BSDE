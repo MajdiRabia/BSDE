{
 "cells": [
  {
   "cell_type": "code",
   "execution_count": 1,
   "metadata": {
    "collapsed": false
   },
   "outputs": [
    {
     "name": "stdout",
     "output_type": "stream",
     "text": [
      "Populating the interactive namespace from numpy and matplotlib\n"
     ]
    },
    {
     "name": "stderr",
     "output_type": "stream",
     "text": [
      "C:\\Users\\Majdi\\Anaconda3\\lib\\site-packages\\matplotlib\\__init__.py:872: UserWarning: axes.color_cycle is deprecated and replaced with axes.prop_cycle; please use the latter.\n",
      "  warnings.warn(self.msg_depr % (key, alt_key))\n"
     ]
    },
    {
     "data": {
      "text/plain": [
       "'     Inputs\\n\\n   S_0 - Current Asset price\\n   K  - Strike price of option\\n   r  - risk free interest rate\\n   sigma - Volatility of underltying stock\\n   T  - Maturity of option\\n   m  - Number of timesteps to take\\n   N  - Number of paths to simulate.\\n   N2 - Monte-Carlo integer\\n   \\n'"
      ]
     },
     "execution_count": 1,
     "metadata": {},
     "output_type": "execute_result"
    }
   ],
   "source": [
    "%pylab inline --no-import-all\n",
    "import numpy as np\n",
    "import scipy as sp\n",
    "import pylab as pl\n",
    "import warnings \n",
    "import matplotlib.pyplot as plt\n",
    "import statistics as st\n",
    "from scipy.optimize import leastsq\n",
    "import seaborn as sns\n",
    "import pandas as pd\n",
    "\n",
    "from sklearn.ensemble import RandomForestClassifier\n",
    "from sklearn.ensemble import RandomForestRegressor\n",
    "\n",
    "\n",
    "\"\"\"     Inputs\n",
    "\n",
    "   S_0 - Current Asset price\n",
    "   K  - Strike price of option\n",
    "   r  - risk free interest rate\n",
    "   sigma - Volatility of underltying stock\n",
    "   T  - Maturity of option\n",
    "   m  - Number of timesteps to take\n",
    "   N  - Number of paths to simulate.\n",
    "   N2 - Monte-Carlo integer\n",
    "   \n",
    "\"\"\""
   ]
  },
  {
   "cell_type": "code",
   "execution_count": 2,
   "metadata": {
    "collapsed": false
   },
   "outputs": [],
   "source": [
    "\"Function creating N paths for the Black-Scholes formula\"\n",
    "\n",
    "def stocks_paths(S_int,S_0,r,sigma,delta_t,N,m):     \n",
    "    for i in range(0,N): \n",
    "        X=np.random.standard_normal(size=m)\n",
    "        S_int[i,0]=S_0\n",
    "        for j in range(0,m-1):\n",
    "            S_int[i,j+1]=S_int[i,j]*np.exp((r-sigma*sigma/2)*delta_t+sigma*np.sqrt(delta_t)*X[j])\n",
    "       \n",
    "    return S_int    "
   ]
  },
  {
   "cell_type": "code",
   "execution_count": 3,
   "metadata": {
    "collapsed": false
   },
   "outputs": [],
   "source": [
    "\"matrix of exercise, with  i'th line corresponding to the path, and the j'th column is the time j*delta_t\"\n",
    "\n",
    "def exercise_matrix(h,K,S): \n",
    "    for i in range (0,N): \n",
    "        for j in range (0,m): \n",
    "            h[i,j]=np.maximum(K-S[i,j],0)\n",
    "    return h    "
   ]
  },
  {
   "cell_type": "code",
   "execution_count": 4,
   "metadata": {
    "collapsed": false
   },
   "outputs": [],
   "source": [
    "                                            \"Pricing of the American Option\"\n",
    "\n",
    "\n",
    "\n",
    "def pricing_option(K,r,sigma,N,m,S_0,T, RF_n_estimators=10):\n",
    "  \n",
    "    \"Time-step\"\n",
    "    delta_t=T/m\n",
    "    \n",
    "    \"Discount factor\"\n",
    "    dscnt=np.exp(-r*delta_t)\n",
    "    \n",
    "    \"Matrix of the N Stock Prices simulated\"\n",
    "    S=np.zeros([N,m]) \n",
    "    \n",
    "    \"Matrix of the option values\" \n",
    "    V=np.zeros([N,m]) \n",
    "\n",
    "    \"Matrix of exercise prices\"\n",
    "    h=np.zeros([N,m])  \n",
    "\n",
    "\n",
    "    \"Creation of a stock path matrix\"\n",
    "    stocks_paths(S,S_0,r,sigma,delta_t,N,m)\n",
    "\n",
    "    \"Creation of the exercise price matrix\"\n",
    "    exercise_matrix(h,K,S)\n",
    "    \n",
    "    \n",
    "    \"price of the option at time T = Initialization \"\n",
    "    V[:,m-1]=h[:,m-1]\n",
    "    \n",
    "    \n",
    "    \"Initialization of the Price by Monte Carlo\"\n",
    "    V_opt=0 \n",
    "    \n",
    "    \n",
    "    \"Iteration over the paths\"\n",
    "    for j in range (m-2,0,-1): \n",
    "        X=S[:,j]\n",
    "        X=X[:,None]\n",
    "        \n",
    "        \"Random Forest algorithm uses the j'th time of the Stock and the (j+1)'th time of Option Price to fit \"\n",
    "        rf=RandomForestRegressor(n_estimators=RF_n_estimators,\n",
    "                                max_leaf_nodes=10,oob_score=False, n_jobs=-1)\n",
    "        rf.fit(X,V[:,j+1]*dscnt)\n",
    "        B=rf.predict(X)\n",
    "        \n",
    "        plt.figure()\n",
    "        #plt.plot(x[:,0],y,'.')\n",
    "        plt.plot(X,B,'r.')\n",
    "        #plt.plot( np.sort(x[:,0]),np.sin( np.sort(x[:,0]) ),'-')\n",
    "        plt.show()\n",
    "        \n",
    "        \"No arbitrage implies : \"\n",
    "        V[:,j]=np.where(h[:,j] > B*dscnt, h[:,j],  B*dscnt )\n",
    "    \n",
    "       \n",
    "    \"Monte-Carlo for the option pricing\"\n",
    "    V_opt= dscnt*np.sum(V[:,1])/N\n",
    "    \n",
    "    \n",
    "    return (V_opt)"
   ]
  },
  {
   "cell_type": "code",
   "execution_count": 7,
   "metadata": {
    "collapsed": false
   },
   "outputs": [
    {
     "name": "stdout",
     "output_type": "stream",
     "text": [
      "price  12.1708688279\n",
      "price  12.1192897029\n",
      "price  12.3218764243\n",
      "price  12.5569275885\n",
      "1 loops, best of 3: 17.8 s per loop\n"
     ]
    }
   ],
   "source": [
    "                                \"\"\"Pricing by Random Forest Regressor\"\"\"\n",
    "\n",
    "    \n",
    "\"Parameters\"\n",
    "T=1\n",
    "m=52\n",
    "K=100\n",
    "S_0=100\n",
    "r=0.1\n",
    "sigma=0.4\n",
    "N=1000\n",
    "RF_n_estimators = 100\n",
    "\n",
    "\n",
    "\"We price\"    \n",
    "\n",
    "price=pricing_option(K,r,sigma,N,m,S_0,T, RF_n_estimators)\n",
    "\n",
    "print (\"price \", price) \n"
   ]
  },
  {
   "cell_type": "code",
   "execution_count": null,
   "metadata": {
    "collapsed": false
   },
   "outputs": [],
   "source": [
    "N = 10**4\n",
    "x=np.sqrt(10)*np.random.standard_normal(size=N)\n",
    "y=np.sin(x)+ np.random.standard_normal(size=N)/2\n",
    "x=x[:,None]\n"
   ]
  },
  {
   "cell_type": "code",
   "execution_count": null,
   "metadata": {
    "collapsed": false
   },
   "outputs": [],
   "source": [
    "rf=RandomForestRegressor(n_estimators=100,max_leaf_nodes=50,oob_score=False, n_jobs=-1)\n",
    "rf.fit(x,y)\n",
    "z=rf.predict(x)\n"
   ]
  },
  {
   "cell_type": "code",
   "execution_count": null,
   "metadata": {
    "collapsed": true
   },
   "outputs": [],
   "source": [
    "?RandomForestRegressor"
   ]
  },
  {
   "cell_type": "code",
   "execution_count": null,
   "metadata": {
    "collapsed": false
   },
   "outputs": [],
   "source": [
    "plt.figure()\n",
    "#plt.plot(x[:,0],y,'.')\n",
    "plt.plot(x[:,0],z,'r.')\n",
    "plt.plot( np.sort(x[:,0]),np.sin( np.sort(x[:,0]) ),'-')\n",
    "plt.show()"
   ]
  },
  {
   "cell_type": "code",
   "execution_count": null,
   "metadata": {
    "collapsed": false
   },
   "outputs": [],
   "source": [
    "#x[:,0]-z"
   ]
  }
 ],
 "metadata": {
  "kernelspec": {
   "display_name": "Python 3",
   "language": "python",
   "name": "python3"
  },
  "language_info": {
   "codemirror_mode": {
    "name": "ipython",
    "version": 3
   },
   "file_extension": ".py",
   "mimetype": "text/x-python",
   "name": "python",
   "nbconvert_exporter": "python",
   "pygments_lexer": "ipython3",
   "version": "3.4.4"
  }
 },
 "nbformat": 4,
 "nbformat_minor": 0
}
