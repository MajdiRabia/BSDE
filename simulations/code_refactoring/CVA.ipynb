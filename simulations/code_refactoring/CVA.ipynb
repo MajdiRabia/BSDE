{
 "cells": [
  {
   "cell_type": "code",
   "execution_count": 1,
   "metadata": {
    "collapsed": true
   },
   "outputs": [],
   "source": [
    "from BSDE import *\n",
    "import warnings \n",
    "warnings.filterwarnings(\"ignore\")"
   ]
  },
  {
   "cell_type": "code",
   "execution_count": 2,
   "metadata": {
    "collapsed": false
   },
   "outputs": [
    {
     "name": "stdout",
     "output_type": "stream",
     "text": [
      "mean = 0.168214891559\n",
      "std = 0.00779192026645\n",
      "min = 0.151941350495\n",
      "max = 0.178818855027\n"
     ]
    }
   ],
   "source": [
    "from BSDE import *\n",
    "T = 4\n",
    "m = 6\n",
    "K = 100.\n",
    "r = 0.\n",
    "S_init = 1.\n",
    "mu = 0.\n",
    "sigma = 0.2\n",
    "N = 10000\n",
    "Q = 0.\n",
    "RF_n_trees = 100\n",
    "RF_max_leaf_nodes = 50\n",
    "beta = 0.01\n",
    "#test_hd = BsdeHD(T, K, M, mu, Q, sigma, S_init, r, R)\n",
    "#res = test_hd.labordere(N,m,RF_n_trees, RF_max_leaf_nodes)\n",
    "#print(res)\n",
    "\n",
    "a = np.zeros(10)\n",
    "for i in range (10):\n",
    "    test = BSDE(S_init, K, T, mu, sigma, Q)\n",
    "    a[i] = test.get_cva(N, m, r, RF_n_trees, RF_max_leaf_nodes, beta)\n",
    "\n",
    "min_a = min(a)\n",
    "max_a = max(a)\n",
    "mean_a = np.mean(a)\n",
    "std_a = np.std(a)\n",
    "print (\"mean = \" + str(mean_a))\n",
    "print (\"std = \" + str(std_a))\n",
    "print (\"min = \" + str(min_a))\n",
    "print (\"max = \" + str(max_a))"
   ]
  },
  {
   "cell_type": "code",
   "execution_count": 3,
   "metadata": {
    "collapsed": false
   },
   "outputs": [
    {
     "name": "stdout",
     "output_type": "stream",
     "text": [
      "mean = 0.117524396982\n",
      "std = 0.009664594477\n",
      "min = 0.10467558173\n",
      "max = 0.129895567679\n"
     ]
    }
   ],
   "source": [
    "from BSDE import *\n",
    "T = 2\n",
    "m = 6\n",
    "K = 100.\n",
    "r = 0.\n",
    "S_init = 1.\n",
    "mu = 0.\n",
    "sigma = 0.2\n",
    "N = 10000\n",
    "Q = 0.\n",
    "RF_n_trees = 100\n",
    "RF_max_leaf_nodes = 50\n",
    "beta = 0.01\n",
    "#test_hd = BsdeHD(T, K, M, mu, Q, sigma, S_init, r, R)\n",
    "#res = test_hd.labordere(N,m,RF_n_trees, RF_max_leaf_nodes)\n",
    "#print(res)\n",
    "\n",
    "a = np.zeros(10)\n",
    "for i in range (10):\n",
    "    test = BSDE(S_init, K, T, mu, sigma, Q)\n",
    "    a[i] = test.get_cva(N, m, r, RF_n_trees, RF_max_leaf_nodes, beta)\n",
    "\n",
    "min_a = min(a)\n",
    "max_a = max(a)\n",
    "mean_a = np.mean(a)\n",
    "std_a = np.std(a)\n",
    "print (\"mean = \" + str(mean_a))\n",
    "print (\"std = \" + str(std_a))\n",
    "print (\"min = \" + str(min_a))\n",
    "print (\"max = \" + str(max_a))"
   ]
  },
  {
   "cell_type": "code",
   "execution_count": 4,
   "metadata": {
    "collapsed": false
   },
   "outputs": [
    {
     "name": "stdout",
     "output_type": "stream",
     "text": [
      "mean = 0.202358045936\n",
      "std = 0.00680115259335\n",
      "min = 0.191417668007\n",
      "max = 0.212868488177\n"
     ]
    }
   ],
   "source": [
    "from BSDE import *\n",
    "T = 6\n",
    "m = 6\n",
    "K = 100.\n",
    "r = 0.\n",
    "S_init = 1.\n",
    "mu = 0.\n",
    "sigma = 0.2\n",
    "N = 10000\n",
    "Q = 0.\n",
    "RF_n_trees = 100\n",
    "RF_max_leaf_nodes = 50\n",
    "beta = 0.01\n",
    "#test_hd = BsdeHD(T, K, M, mu, Q, sigma, S_init, r, R)\n",
    "#res = test_hd.labordere(N,m,RF_n_trees, RF_max_leaf_nodes)\n",
    "#print(res)\n",
    "\n",
    "a = np.zeros(10)\n",
    "for i in range (10):\n",
    "    test = BSDE(S_init, K, T, mu, sigma, Q)\n",
    "    a[i] = test.get_cva(N, m, r, RF_n_trees, RF_max_leaf_nodes, beta)\n",
    "\n",
    "min_a = min(a)\n",
    "max_a = max(a)\n",
    "mean_a = np.mean(a)\n",
    "std_a = np.std(a)\n",
    "print (\"mean = \" + str(mean_a))\n",
    "print (\"std = \" + str(std_a))\n",
    "print (\"min = \" + str(min_a))\n",
    "print (\"max = \" + str(max_a))"
   ]
  },
  {
   "cell_type": "code",
   "execution_count": 5,
   "metadata": {
    "collapsed": false
   },
   "outputs": [
    {
     "name": "stdout",
     "output_type": "stream",
     "text": [
      "mean = 0.230072014171\n",
      "std = 0.00813789155033\n",
      "min = 0.21822004754\n",
      "max = 0.247367861044\n"
     ]
    }
   ],
   "source": [
    "from BSDE import *\n",
    "T = 8\n",
    "m = 6\n",
    "K = 100.\n",
    "r = 0.\n",
    "S_init = 1.\n",
    "mu = 0.\n",
    "sigma = 0.2\n",
    "N = 10000\n",
    "Q = 0.\n",
    "RF_n_trees = 100\n",
    "RF_max_leaf_nodes = 50\n",
    "beta = 0.01\n",
    "#test_hd = BsdeHD(T, K, M, mu, Q, sigma, S_init, r, R)\n",
    "#res = test_hd.labordere(N,m,RF_n_trees, RF_max_leaf_nodes)\n",
    "#print(res)\n",
    "\n",
    "a = np.zeros(10)\n",
    "for i in range (10):\n",
    "    test = BSDE(S_init, K, T, mu, sigma, Q)\n",
    "    a[i] = test.get_cva(N, m, r, RF_n_trees, RF_max_leaf_nodes, beta)\n",
    "\n",
    "min_a = min(a)\n",
    "max_a = max(a)\n",
    "mean_a = np.mean(a)\n",
    "std_a = np.std(a)\n",
    "print (\"mean = \" + str(mean_a))\n",
    "print (\"std = \" + str(std_a))\n",
    "print (\"min = \" + str(min_a))\n",
    "print (\"max = \" + str(max_a))"
   ]
  },
  {
   "cell_type": "code",
   "execution_count": 7,
   "metadata": {
    "collapsed": false
   },
   "outputs": [
    {
     "name": "stdout",
     "output_type": "stream",
     "text": [
      "mean = 0.256962996095\n",
      "std = 0.00576221696682\n",
      "min = 0.242112789935\n",
      "max = 0.266113750965\n"
     ]
    }
   ],
   "source": [
    "from BSDE import *\n",
    "T = 10\n",
    "m = 6\n",
    "K = 100.\n",
    "r = 0.\n",
    "S_init = 1.\n",
    "mu = 0.\n",
    "sigma = 0.2\n",
    "N = 10000\n",
    "Q = 0.\n",
    "RF_n_trees = 100\n",
    "RF_max_leaf_nodes = 50\n",
    "beta = 0.01\n",
    "#test_hd = BsdeHD(T, K, M, mu, Q, sigma, S_init, r, R)\n",
    "#res = test_hd.labordere(N,m,RF_n_trees, RF_max_leaf_nodes)\n",
    "#print(res)\n",
    "\n",
    "a = np.zeros(20)\n",
    "for i in range (20):\n",
    "    test = BSDE(S_init, K, T, mu, sigma, Q)\n",
    "    a[i] = test.get_cva(N, m, r, RF_n_trees, RF_max_leaf_nodes, beta)\n",
    "\n",
    "min_a = min(a)\n",
    "max_a = max(a)\n",
    "mean_a = np.mean(a)\n",
    "std_a = np.std(a)\n",
    "print (\"mean = \" + str(mean_a))\n",
    "print (\"std = \" + str(std_a))\n",
    "print (\"min = \" + str(min_a))\n",
    "print (\"max = \" + str(max_a))"
   ]
  },
  {
   "cell_type": "code",
   "execution_count": null,
   "metadata": {
    "collapsed": true
   },
   "outputs": [],
   "source": []
  }
 ],
 "metadata": {
  "kernelspec": {
   "display_name": "Python 3",
   "language": "python",
   "name": "python3"
  },
  "language_info": {
   "codemirror_mode": {
    "name": "ipython",
    "version": 3
   },
   "file_extension": ".py",
   "mimetype": "text/x-python",
   "name": "python",
   "nbconvert_exporter": "python",
   "pygments_lexer": "ipython3",
   "version": "3.5.2"
  }
 },
 "nbformat": 4,
 "nbformat_minor": 0
}
