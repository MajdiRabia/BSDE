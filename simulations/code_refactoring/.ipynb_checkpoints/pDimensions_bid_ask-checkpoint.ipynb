{
 "cells": [
  {
   "cell_type": "markdown",
   "metadata": {},
   "source": [
    "# BSDE"
   ]
  },
  {
   "cell_type": "code",
   "execution_count": 1,
   "metadata": {
    "collapsed": true
   },
   "outputs": [],
   "source": [
    "from BSDE import *\n",
    "from AmericanOption import *"
   ]
  },
  {
   "cell_type": "code",
   "execution_count": null,
   "metadata": {
    "collapsed": true
   },
   "outputs": [],
   "source": [
    "T = 0.5\n",
    "m = 12\n",
    "K = 100\n",
    "S0 = 100\n",
    "sigma = 0.2\n",
    "r = 0.04\n",
    "N = 10000\n",
    "mu = 0.06\n",
    "R = 0.06\n",
    "q = 0.\n",
    "RF_n_trees = 20\n",
    "RF_max_leaf_nodes= 5"
   ]
  },
  {
   "cell_type": "code",
   "execution_count": null,
   "metadata": {
    "collapsed": true
   },
   "outputs": [],
   "source": [
    "test = BSDE (S0, K, T, mu, sigma, q)"
   ]
  },
  {
   "cell_type": "code",
   "execution_count": null,
   "metadata": {
    "collapsed": false
   },
   "outputs": [],
   "source": [
    "a = np.zeros(100) \n",
    "for i in range (100): \n",
    "    a[i] = test.get_price_RF(R, r, N, m, RF_n_tree = 20, RF_max_leaf_nodes = 10, oType = 'European')\n",
    "    print (i, a[i])\n",
    "np.mean(a), np.var(a)"
   ]
  },
  {
   "cell_type": "code",
   "execution_count": null,
   "metadata": {
    "collapsed": false
   },
   "outputs": [],
   "source": [
    "a = np.zeros(100) \n",
    "for i in range (100): \n",
    "    a[i] = test.get_price_lsm(R, r, N, m, oType = \"European\")\n",
    "np.mean(a), np.var(a)"
   ]
  },
  {
   "cell_type": "code",
   "execution_count": null,
   "metadata": {
    "collapsed": true
   },
   "outputs": [],
   "source": [
    "T=0.25\n",
    "m = 6\n",
    "K = 100\n",
    "S0 = 100\n",
    "sigma = 0.2\n",
    "r = 0.02\n",
    "N = 10000\n",
    "mu = 0.05\n",
    "R = 0.04\n",
    "q = 0.\n",
    "RF_n_trees = 100\n",
    "RF_max_leaf_nodes= 50"
   ]
  },
  {
   "cell_type": "code",
   "execution_count": null,
   "metadata": {
    "collapsed": true
   },
   "outputs": [],
   "source": [
    "test = BSDE (S0, K, T, mu, sigma, q)"
   ]
  },
  {
   "cell_type": "code",
   "execution_count": null,
   "metadata": {
    "collapsed": false
   },
   "outputs": [],
   "source": [
    "test.get_price_RF (R, r, N, m, RF_n_trees, RF_max_leaf_nodes, oType = 'European')"
   ]
  },
  {
   "cell_type": "code",
   "execution_count": null,
   "metadata": {
    "collapsed": false
   },
   "outputs": [],
   "source": [
    "test.get_price_lsm(R, r, N, m, oType = \"European\")"
   ]
  },
  {
   "cell_type": "code",
   "execution_count": null,
   "metadata": {
    "collapsed": true
   },
   "outputs": [],
   "source": [
    "T=0.25\n",
    "m=9\n",
    "p = 1\n",
    "K = 100.\n",
    "r = 0.02\n",
    "M = np.eye(p)\n",
    "S_init = 100 * np.ones(p)\n",
    "MU = r * np.ones(p)\n",
    "SIGMA = 0.2 * np.ones (p)\n",
    "N=10000\n",
    "Q = 0. * np.ones (p)"
   ]
  },
  {
   "cell_type": "code",
   "execution_count": null,
   "metadata": {
    "collapsed": true
   },
   "outputs": [],
   "source": [
    "opt4 = HDAmOption(r, T, K, M, MU, Q, SIGMA, S_init)"
   ]
  },
  {
   "cell_type": "code",
   "execution_count": null,
   "metadata": {
    "collapsed": false
   },
   "outputs": [],
   "source": [
    "opt4.get_price(N, m, 100, 15, option_type= 'call', option_payoff = 'geometric')"
   ]
  },
  {
   "cell_type": "code",
   "execution_count": 5,
   "metadata": {
    "collapsed": true
   },
   "outputs": [],
   "source": [
    "T = 0.5\n",
    "m = 8\n",
    "p = 7\n",
    "K = 100.\n",
    "r = 0.04\n",
    "R = 0.06\n",
    "M = np.eye(p)\n",
    "S_init = 100.\n",
    "mu = 0.06\n",
    "sigma = 0.2 \n",
    "N = 4000\n",
    "Q = 0.\n",
    "RF_n_estimators = 50\n",
    "RF_max_leaf_nodes = 30"
   ]
  },
  {
   "cell_type": "code",
   "execution_count": 6,
   "metadata": {
    "collapsed": true
   },
   "outputs": [],
   "source": [
    "test_hd = BsdeHD(T, K, M, mu, Q, sigma, S_init, r, R)"
   ]
  },
  {
   "cell_type": "code",
   "execution_count": 7,
   "metadata": {
    "collapsed": false
   },
   "outputs": [
    {
     "data": {
      "text/plain": [
       "5.2061724999224523"
      ]
     },
     "execution_count": 7,
     "metadata": {},
     "output_type": "execute_result"
    }
   ],
   "source": [
    "test_hd.get_price(N,m, RF_n_estimators,RF_max_leaf_nodes, \n",
    "                   option_type = 'call', option_payoff = 'geometric', oType= 'European')"
   ]
  },
  {
   "cell_type": "code",
   "execution_count": null,
   "metadata": {
    "collapsed": false
   },
   "outputs": [],
   "source": [
    "S, dB = test_hd.generate_multiple_asset(N, m)"
   ]
  },
  {
   "cell_type": "code",
   "execution_count": null,
   "metadata": {
    "collapsed": false
   },
   "outputs": [],
   "source": [
    "h = test_hd.exercise_matrix(S, N, m, 'call', 'max')\n",
    "h[-1]"
   ]
  },
  {
   "cell_type": "code",
   "execution_count": null,
   "metadata": {
    "collapsed": false
   },
   "outputs": [],
   "source": [
    "Y = h [-1]\n",
    "dt = test_hd.T / m\n",
    "#Discount factor\n",
    "df = 1 / (1 + test_hd.r * dt) \n",
    "theta = (test_hd.r - test_hd.mu) / test_hd.sigma"
   ]
  },
  {
   "cell_type": "code",
   "execution_count": null,
   "metadata": {
    "collapsed": false
   },
   "outputs": [],
   "source": [
    "import warnings\n",
    "warnings.filterwarnings(\"ignore\")\n",
    "\n",
    "\n",
    "for t in range (m - 1 , 0, -1):\n",
    "    #Creation of the matrix N*p to regress\"\n",
    "    X = np.zeros([N, test_hd.p])\n",
    "    Z = np.zeros(N)\n",
    "    for i in range (N):\n",
    "        for j in range(test_hd.p):\n",
    "            X[i,j] = S[i][t , j]\n",
    "            \n",
    "    rf = RandomForestRegressor(n_estimators=RF_n_estimators,\n",
    "                                 max_leaf_nodes=RF_max_leaf_nodes,\n",
    "                                 oob_score=False, \n",
    "                                 n_jobs=-1)\n",
    "    #Regression for Z\n",
    "    for k in range (test_hd.p):\n",
    "        dB_k = np.zeros(N)\n",
    "        X_k = np.zeros(N)\n",
    "        for i in range (N):\n",
    "            X_k[i] = S[i][t, k]\n",
    "            dB_k[i] = dB[i][t, k]\n",
    "        X_k = X_k[:,None]\n",
    "        rf.fit(X_k, Y * dB_k )\n",
    "        Z_int = rf.predict(X_k) *  (1./ dt)\n",
    "        Z = Z + Z_int\n",
    "\n",
    "    #regression for Y\n",
    "    rf.fit(X, Y)\n",
    "    J = rf.predict(X)\n",
    "    Y = df * (J - theta * Z * dt + \n",
    "                             np.minimum(Y - (1. / test_hd.sigma) * Z, 0) * \n",
    "                             (test_hd.R - test_hd.r) * dt)\n",
    "Y_opt = df * np.mean(Y)"
   ]
  },
  {
   "cell_type": "code",
   "execution_count": null,
   "metadata": {
    "collapsed": false
   },
   "outputs": [],
   "source": [
    "Y_opt"
   ]
  },
  {
   "cell_type": "code",
   "execution_count": null,
   "metadata": {
    "collapsed": false
   },
   "outputs": [],
   "source": [
    "import scipy.stats as stats\n",
    "K = 100. \n",
    "r = 0.06\n",
    "sigma = 0.2 \n",
    "S_0 = 100. \n",
    "T = 0.5\n",
    "p = 7\n",
    "q = 0.\n",
    "def black_scholes(K,r,sigma, S_0,T,p,q): \n",
    "    d = sigma ** 2 * (1 - 1 / p) / 2 + q\n",
    "    d1 = 1/(sigma*np.sqrt(T/p))*(np.log(S_0/K)+(r+0.5*sigma*sigma/p-d)*T)\n",
    "    d2 = d1-sigma*np.sqrt(T/p)\n",
    "    dscnt=np.exp(-r*T)\n",
    "    call=-stats.norm.cdf(d2) * K * dscnt + stats.norm.cdf(d1) * S_0 * np.exp(-d * T)\n",
    "    return (call)"
   ]
  },
  {
   "cell_type": "code",
   "execution_count": null,
   "metadata": {
    "collapsed": false
   },
   "outputs": [],
   "source": [
    "price_BS=black_scholes(K, r, sigma, S_0, T, p, q)\n",
    "print (\"price Black-Scholes \", price_BS) "
   ]
  },
  {
   "cell_type": "code",
   "execution_count": null,
   "metadata": {
    "collapsed": false
   },
   "outputs": [],
   "source": [
    "np.linalg.cholesky(test_hd.M)"
   ]
  },
  {
   "cell_type": "code",
   "execution_count": null,
   "metadata": {
    "collapsed": true
   },
   "outputs": [],
   "source": [
    "test = BSDE(S_init, K, T, mu, sigma, Q)"
   ]
  }
 ],
 "metadata": {
  "kernelspec": {
   "display_name": "Python 3",
   "language": "python",
   "name": "python3"
  },
  "language_info": {
   "codemirror_mode": {
    "name": "ipython",
    "version": 3
   },
   "file_extension": ".py",
   "mimetype": "text/x-python",
   "name": "python",
   "nbconvert_exporter": "python",
   "pygments_lexer": "ipython3",
   "version": "3.5.1"
  }
 },
 "nbformat": 4,
 "nbformat_minor": 0
}
