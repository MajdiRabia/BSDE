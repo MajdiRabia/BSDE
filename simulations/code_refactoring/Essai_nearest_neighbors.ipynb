{
 "cells": [
  {
   "cell_type": "markdown",
   "metadata": {},
   "source": [
    "# Code from BSDE.py "
   ]
  },
  {
   "cell_type": "code",
   "execution_count": 1,
   "metadata": {
    "collapsed": true
   },
   "outputs": [],
   "source": [
    "from BSDE import *\n",
    "import warnings \n",
    "warnings.filterwarnings(\"ignore\")"
   ]
  },
  {
   "cell_type": "markdown",
   "metadata": {},
   "source": [
    "### Example 1 : 1 dim Bid-Ask (expected price : 7.15)"
   ]
  },
  {
   "cell_type": "code",
   "execution_count": 6,
   "metadata": {
    "collapsed": false
   },
   "outputs": [
    {
     "name": "stdout",
     "output_type": "stream",
     "text": [
      "Mesh Nearest Neighbors = 7.478795391828958\n"
     ]
    }
   ],
   "source": [
    "T = 0.5\n",
    "m_discretization = 10\n",
    "K = 100\n",
    "S0 = 100\n",
    "sigma = 0.2\n",
    "r = 0.04\n",
    "N_particles = 1000\n",
    "mu = 0.06\n",
    "R = 0.06\n",
    "q = 0.\n",
    "\n",
    "test = BSDE (S0, K, T, mu, sigma, q)\n",
    "price_mesh = test.get_price_mesh(N_particles, m_discretization, r, R, n_picard = 0,\n",
    "                                 mode = 'NN', display_plot = False, \n",
    "                                 n_neighbors=999)\n",
    "print(\"Mesh Nearest Neighbors = {}\".format(price_mesh))"
   ]
  },
  {
   "cell_type": "markdown",
   "metadata": {},
   "source": [
    "### Example 2 :  20 dim geometric call option"
   ]
  },
  {
   "cell_type": "code",
   "execution_count": 22,
   "metadata": {
    "collapsed": false
   },
   "outputs": [
    {
     "name": "stdout",
     "output_type": "stream",
     "text": [
      "Mesh Fast = 3.5387908529399144\n",
      "BS-comparison = 5.942417772333471\n"
     ]
    }
   ],
   "source": [
    "T = 0.25\n",
    "m = 4\n",
    "p = 20\n",
    "K = 95.\n",
    "r = 0.06\n",
    "R = 0.06\n",
    "M = np.eye(p)\n",
    "S_init = 100.\n",
    "mu = 0.05\n",
    "sigma = 0.2\n",
    "N = 1000\n",
    "Q = 0.\n",
    "\n",
    "test_hd = BsdeHD(T, K, M, mu, Q, sigma, S_init, r, R)\n",
    "price_mesh_hd_nn = test_hd.get_price_mesh(N, m, option_type = 'call', option_payoff = 'geometric',\n",
    "                                          n_picard=0, n_neighbors= 100, mode='NN')\n",
    "\n",
    "print(\"Mesh Fast = {}\".format(price_mesh_hd_nn))\n",
    "print(\"BS-comparison = {}\".format(test_hd.get_comparison_bs(95., p)))"
   ]
  },
  {
   "cell_type": "code",
   "execution_count": null,
   "metadata": {
    "collapsed": true
   },
   "outputs": [],
   "source": []
  }
 ],
 "metadata": {
  "kernelspec": {
   "display_name": "Python 3",
   "language": "python",
   "name": "python3"
  },
  "language_info": {
   "codemirror_mode": {
    "name": "ipython",
    "version": 3
   },
   "file_extension": ".py",
   "mimetype": "text/x-python",
   "name": "python",
   "nbconvert_exporter": "python",
   "pygments_lexer": "ipython3",
   "version": "3.5.2"
  }
 },
 "nbformat": 4,
 "nbformat_minor": 0
}
