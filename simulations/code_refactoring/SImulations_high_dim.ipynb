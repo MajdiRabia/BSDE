{
 "cells": [
  {
   "cell_type": "markdown",
   "metadata": {},
   "source": [
    "# High Dimension Pricing"
   ]
  },
  {
   "cell_type": "markdown",
   "metadata": {},
   "source": [
    "Let us import both BSDE and AmericanOption classes. The difference is in the algorithm it uses. \n",
    "* In the AmericanOption class, we use a Regression tree algorithm for HD pricing, using a simple model with one rate \n",
    "\n",
    "* BSDE class can be uses to Price American Option too, but its addition relies on the Pricing with two rates R and r\n",
    "\n",
    "We focus here on some comparisons with simulations made previously (Glasserman, ...), and will add a timing to check the efficiency of the algorithm. "
   ]
  },
  {
   "cell_type": "code",
   "execution_count": 1,
   "metadata": {
    "collapsed": false
   },
   "outputs": [],
   "source": [
    "from BSDE import * \n",
    "from AmericanOption import *"
   ]
  },
  {
   "cell_type": "markdown",
   "metadata": {},
   "source": [
    "___________\n",
    "\n",
    "## American Option class "
   ]
  },
  {
   "cell_type": "markdown",
   "metadata": {},
   "source": [
    "<img src= \"NeilPowell_oxford_2.png\">"
   ]
  },
  {
   "cell_type": "code",
   "execution_count": 2,
   "metadata": {
    "collapsed": true
   },
   "outputs": [],
   "source": [
    "#We take the same parameters\n",
    "T = 3.\n",
    "m = 9\n",
    "p = 5\n",
    "K = 100.\n",
    "r = 0.05\n",
    "M = np.eye(p)\n",
    "S_init = 90 * np.ones(p)\n",
    "MU = r * np.ones(p)\n",
    "SIGMA = 0.2 * np.ones (p)\n",
    "N=10000\n",
    "Q = 0.1 * np.ones (p)"
   ]
  },
  {
   "cell_type": "code",
   "execution_count": 3,
   "metadata": {
    "collapsed": true
   },
   "outputs": [],
   "source": [
    "opt4 = HDAmOption(r, T, K, M, MU, Q, SIGMA, S_init)"
   ]
  },
  {
   "cell_type": "code",
   "execution_count": 4,
   "metadata": {
    "collapsed": false
   },
   "outputs": [
    {
     "data": {
      "text/plain": [
       "16.539530270582741"
      ]
     },
     "execution_count": 4,
     "metadata": {},
     "output_type": "execute_result"
    }
   ],
   "source": [
    "a = 0 \n",
    "for __ in range (20): \n",
    "    a = a + opt4.get_price(N, m, 50, 15, option_type= 'call', option_payoff = 'max') / 20\n",
    "a "
   ]
  },
  {
   "cell_type": "code",
   "execution_count": 5,
   "metadata": {
    "collapsed": false
   },
   "outputs": [
    {
     "name": "stdout",
     "output_type": "stream",
     "text": [
      "1 loop, best of 3: 15.2 s per loop\n"
     ]
    }
   ],
   "source": [
    "%%timeit\n",
    "\n",
    "opt4.get_price(N, m, 100, 15, option_type= 'call', option_payoff = 'max')"
   ]
  },
  {
   "cell_type": "markdown",
   "metadata": {},
   "source": [
    "### Dimension = 5 \n",
    "\n",
    "15s to get the pricing of this 5 assets option. We get a mean price (20 run) of 16.61 compared to the $[16.602, 16.655]$ 95% confidence interval obtained by Anderson and Broadie (2005)"
   ]
  },
  {
   "cell_type": "markdown",
   "metadata": {},
   "source": [
    "______\n",
    "## BSDE class "
   ]
  },
  {
   "cell_type": "markdown",
   "metadata": {},
   "source": [
    "### 1 D\n",
    "\n",
    "<img src = \"EO_bid_ask.png\">"
   ]
  },
  {
   "cell_type": "code",
   "execution_count": 6,
   "metadata": {
    "collapsed": true
   },
   "outputs": [],
   "source": [
    "T = 0.5\n",
    "m = 12\n",
    "K = 100\n",
    "S0 = 100\n",
    "r = 0.04\n",
    "sigma = 0.2\n",
    "N = 10000\n",
    "mu = 0.06\n",
    "R = 0.06\n",
    "q = 0.\n",
    "RF_n_trees = 15\n",
    "RF_max_leaf_nodes = 5"
   ]
  },
  {
   "cell_type": "markdown",
   "metadata": {},
   "source": [
    "<img src = \"EO_bid_ask_results.png\">"
   ]
  },
  {
   "cell_type": "code",
   "execution_count": 7,
   "metadata": {
    "collapsed": true
   },
   "outputs": [],
   "source": [
    "test = BSDE (S0, K, T, mu, sigma, q)"
   ]
  },
  {
   "cell_type": "code",
   "execution_count": 20,
   "metadata": {
    "collapsed": false
   },
   "outputs": [
    {
     "data": {
      "text/plain": [
       "7.1784224780792849"
      ]
     },
     "execution_count": 20,
     "metadata": {},
     "output_type": "execute_result"
    }
   ],
   "source": [
    "a = 0 \n",
    "for __ in range (20): \n",
    "    a = a + test.get_price_RF (R, r, N, m, RF_n_trees, RF_max_leaf_nodes, oType = 'European') / 20\n",
    "a "
   ]
  },
  {
   "cell_type": "code",
   "execution_count": 9,
   "metadata": {
    "collapsed": false
   },
   "outputs": [
    {
     "name": "stdout",
     "output_type": "stream",
     "text": [
      "1 loop, best of 3: 4.78 s per loop\n"
     ]
    }
   ],
   "source": [
    "%%timeit\n",
    "\n",
    "test.get_price_RF (R, r, N, m, RF_n_trees, RF_max_leaf_nodes, oType = 'European')"
   ]
  },
  {
   "cell_type": "markdown",
   "metadata": {},
   "source": [
    "For a one dimension bid-ask european option with N = 10 000 paths (We generate 15 trees, with a maximum number of leafs of 5, the result is actually really sensitive to these two parameters) we have a 5s time algorithm. "
   ]
  }
 ],
 "metadata": {
  "kernelspec": {
   "display_name": "Python 3",
   "language": "python",
   "name": "python3"
  },
  "language_info": {
   "codemirror_mode": {
    "name": "ipython",
    "version": 3
   },
   "file_extension": ".py",
   "mimetype": "text/x-python",
   "name": "python",
   "nbconvert_exporter": "python",
   "pygments_lexer": "ipython3",
   "version": "3.5.1"
  }
 },
 "nbformat": 4,
 "nbformat_minor": 0
}
