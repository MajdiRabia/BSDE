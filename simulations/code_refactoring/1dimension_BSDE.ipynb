{
 "cells": [
  {
   "cell_type": "code",
   "execution_count": 7,
   "metadata": {
    "collapsed": false
   },
   "outputs": [],
   "source": [
    "from BSDE import *\n",
    "from AmericanOption import *\n",
    "import warnings \n",
    "warnings.filterwarnings(\"ignore\")"
   ]
  },
  {
   "cell_type": "markdown",
   "metadata": {},
   "source": [
    "## 1D european call option with different interest rates\n",
    "\n",
    "Reference Price : 7.15 (Black-Scholes)\n",
    "_____"
   ]
  },
  {
   "cell_type": "markdown",
   "metadata": {},
   "source": [
    "### Using LSM "
   ]
  },
  {
   "cell_type": "code",
   "execution_count": 18,
   "metadata": {
    "collapsed": true
   },
   "outputs": [],
   "source": [
    "T = 0.5\n",
    "m = 12\n",
    "K = 100\n",
    "S0 = 100\n",
    "sigma = 0.2\n",
    "r = 0.04\n",
    "N = 10000\n",
    "mu = 0.06\n",
    "R = 0.06\n",
    "q = 0.\n",
    "RF_n_trees = 200\n",
    "RF_max_leaf_nodes = 100"
   ]
  },
  {
   "cell_type": "code",
   "execution_count": 19,
   "metadata": {
    "collapsed": false
   },
   "outputs": [
    {
     "name": "stdout",
     "output_type": "stream",
     "text": [
      "mean = 7.25105559572\n",
      "std = 0.101302664701\n",
      "min = 7.05226487828\n",
      "max = 7.39376066643\n"
     ]
    }
   ],
   "source": [
    "M_run = 20\n",
    "\n",
    "a = np.zeros(M_run)\n",
    "for i in range (M_run): \n",
    "    test = BSDE (S0, K, T, mu, sigma, q)\n",
    "    a[i] = test.get_price_lsm(R, r, N, m, oType = \"European\", n_picard=8)\n",
    "min_a = min(a)\n",
    "max_a = max(a)\n",
    "mean_a = np.mean(a)\n",
    "std_a = np.std(a)\n",
    "print (\"mean = \" + str(mean_a)) \n",
    "print (\"std = \" + str(std_a)) \n",
    "print (\"min = \" + str(min_a)) \n",
    "print (\"max = \" + str(max_a)) "
   ]
  },
  {
   "cell_type": "markdown",
   "metadata": {},
   "source": [
    "### Using RandomForest"
   ]
  },
  {
   "cell_type": "code",
   "execution_count": null,
   "metadata": {
    "collapsed": false
   },
   "outputs": [],
   "source": [
    "M_run = 20\n",
    "\n",
    "a = np.zeros(M_run)\n",
    "for i in range (M_run): \n",
    "    test = BSDE (S0, K, T, mu, sigma, q)\n",
    "    a[i] = test.get_price_RF(R, r, N, m, oType = 'European',n_picard=8)\n",
    "min_a = min(a)\n",
    "max_a = max(a)\n",
    "mean_a = np.mean(a)\n",
    "std_a = np.std(a)\n",
    "print (\"mean = \" + str(mean_a)) \n",
    "print (\"std = \" + str(std_a)) \n",
    "print (\"min = \" + str(min_a)) \n",
    "print (\"max = \" + str(max_a)) "
   ]
  },
  {
   "cell_type": "markdown",
   "metadata": {},
   "source": [
    "__________\n",
    "\n",
    "## 1D european combined call option with different interest rates\n",
    "\n",
    "Reference Price : 2.95 (Gobet)\n",
    "\n",
    "_____\n"
   ]
  },
  {
   "cell_type": "code",
   "execution_count": null,
   "metadata": {
    "collapsed": false
   },
   "outputs": [],
   "source": [
    "T = 0.25\n",
    "m = 6\n",
    "K = 100\n",
    "S0 = 100\n",
    "sigma = 0.2\n",
    "r = 0.01\n",
    "N = 10000\n",
    "mu = 0.05\n",
    "R = 0.06\n",
    "q = 0.\n",
    "RF_n_trees = 200\n",
    "RF_max_leaf_nodes = 100"
   ]
  },
  {
   "cell_type": "markdown",
   "metadata": {},
   "source": [
    "### Using LSM "
   ]
  },
  {
   "cell_type": "code",
   "execution_count": null,
   "metadata": {
    "collapsed": false
   },
   "outputs": [],
   "source": [
    "M_run = 20\n",
    "\n",
    "a = np.zeros(M_run)\n",
    "for i in range (M_run): \n",
    "    test = BSDE (S0, K, T, mu, sigma, q)\n",
    "    a[i] = test.get_price_lsm(R, r, N, m, oPayoff = \"call combination\", oType = \"European\", n_picard=8)\n",
    "min_a = min(a)\n",
    "max_a = max(a)\n",
    "mean_a = np.mean(a)\n",
    "std_a = np.std(a)\n",
    "print (\"mean = \" + str(mean_a)) \n",
    "print (\"std = \" + str(std_a)) \n",
    "print (\"min = \" + str(min_a)) \n",
    "print (\"max = \" + str(max_a)) "
   ]
  },
  {
   "cell_type": "markdown",
   "metadata": {},
   "source": [
    "### Using RF "
   ]
  },
  {
   "cell_type": "code",
   "execution_count": null,
   "metadata": {
    "collapsed": false
   },
   "outputs": [],
   "source": [
    "M_run = 20\n",
    "\n",
    "a = np.zeros(M_run)\n",
    "for i in range (M_run): \n",
    "    test = BSDE (S0, K, T, mu, sigma, q)\n",
    "    a[i] = test.get_price_RF(R, r, N, m,oPayoff = \"call combination\", oType = 'European', n_picard=8)\n",
    "min_a = min(a)\n",
    "max_a = max(a)\n",
    "mean_a = np.mean(a)\n",
    "std_a = np.std(a)\n",
    "print (\"mean = \" + str(mean_a)) \n",
    "print (\"std = \" + str(std_a)) \n",
    "print (\"min = \" + str(min_a)) \n",
    "print (\"max = \" + str(max_a)) "
   ]
  },
  {
   "cell_type": "markdown",
   "metadata": {},
   "source": [
    "## p Dimensions max call option \n",
    "\n",
    "Reference Price : 23.052 (Glasserman)"
   ]
  },
  {
   "cell_type": "code",
   "execution_count": null,
   "metadata": {
    "collapsed": true
   },
   "outputs": [],
   "source": [
    "T = 3\n",
    "m = 8\n",
    "p = 5\n",
    "K = 100.\n",
    "r = 0.05\n",
    "R = 0.05\n",
    "M = np.eye(p)\n",
    "S_init = 100.\n",
    "mu = 0.05\n",
    "sigma = 0.2 \n",
    "N = 4000\n",
    "Q = 0.1\n",
    "RF_n_trees = 200\n",
    "RF_max_leaf_nodes = 100"
   ]
  },
  {
   "cell_type": "code",
   "execution_count": null,
   "metadata": {
    "collapsed": false
   },
   "outputs": [],
   "source": [
    "M_run = 20\n",
    "\n",
    "a = np.zeros(M_run)\n",
    "for i in range (M_run): \n",
    "    test_hd = BsdeHD(T, K, M, mu, Q, sigma, S_init, r, R)\n",
    "    a[i] = test_hd.get_price(N,m, RF_n_trees,RF_max_leaf_nodes,\n",
    "                  option_type = 'call', option_payoff = 'max', oType= 'European', n_picard= 10)\n",
    "    \n",
    "min_a = min(a)\n",
    "max_a = max(a)\n",
    "mean_a = np.mean(a)\n",
    "std_a = np.std(a)\n",
    "print (\"mean = \" + str(mean_a)) \n",
    "print (\"std = \" + str(std_a)) \n",
    "print (\"min = \" + str(min_a)) \n",
    "print (\"max = \" + str(max_a)) "
   ]
  },
  {
   "cell_type": "code",
   "execution_count": null,
   "metadata": {
    "collapsed": false
   },
   "outputs": [],
   "source": [
    "dim = [1, 3, 5, 7, 9, 11, 13, 15, 17, 19]\n",
    "times = [45.65540385246277,\n",
    " 148.14249682426453,\n",
    " 245.50810194015503,\n",
    " 358.55625200271606,\n",
    " 486.8665540218353,\n",
    " 620.5746669769287,\n",
    " 790.2213931083679,\n",
    " 956.4056541919708,\n",
    " 1152.262088060379,\n",
    " 1334.2177097797394]\n",
    "plt.plot(dim, times, 'r.')\n",
    "plt.show()"
   ]
  },
  {
   "cell_type": "code",
   "execution_count": 3,
   "metadata": {
    "collapsed": false
   },
   "outputs": [
    {
     "name": "stdout",
     "output_type": "stream",
     "text": [
      "0.273499163699\n"
     ]
    }
   ],
   "source": [
    "T = 1\n",
    "m = 6\n",
    "K = 100.\n",
    "r = 0.\n",
    "R = 0.\n",
    "p = 10\n",
    "M = np.eye(p)\n",
    "S_init = 0.5\n",
    "mu = 0.\n",
    "sigma = 1 / np.sqrt(p)\n",
    "N = 10000\n",
    "Q = 0.\n",
    "RF_n_trees = 100\n",
    "RF_max_leaf_nodes = 50\n",
    "test_hd = BsdeHD(T, K, M, mu, Q, sigma, S_init, r, R)\n",
    "a = test_hd.labordere(N,m,RF_n_trees, RF_max_leaf_nodes)\n",
    "print (a)"
   ]
  },
  {
   "cell_type": "code",
   "execution_count": 5,
   "metadata": {
    "collapsed": false
   },
   "outputs": [
    {
     "name": "stdout",
     "output_type": "stream",
     "text": [
      "-1.06659002654\n",
      "-1.06396897369\n",
      "-1.0614547012\n",
      "-1.06843275249\n",
      "-1.06592272479\n",
      "-1.07154416886\n",
      "-1.07140691806\n",
      "-1.06617185535\n",
      "-1.07141303182\n",
      "-1.06479525514\n",
      "-1.06319923798\n",
      "-1.06789572816\n",
      "-1.07294686998\n",
      "-1.07105996289\n",
      "-1.06291532406\n",
      "-1.06629787839\n",
      "-1.06721350951\n",
      "-1.07041955104\n",
      "-1.0597849101\n",
      "-1.06013197426\n",
      "mean = -1.06667826772\n",
      "std = 0.00388317541673\n",
      "min = -1.07294686998\n",
      "max = -1.0597849101\n"
     ]
    }
   ],
   "source": [
    "T = 1\n",
    "m = 6\n",
    "K = 100.\n",
    "r = 0.\n",
    "R = 0.\n",
    "p = 5\n",
    "M = np.eye(p)\n",
    "S_init = 0.5\n",
    "mu = 0.\n",
    "sigma = 1 / np.sqrt(p)\n",
    "N = 10000\n",
    "Q = 0.\n",
    "RF_n_trees = 100\n",
    "RF_max_leaf_nodes = 50\n",
    "a = np.zeros(20)\n",
    "for i in range (20): \n",
    "    test_hd = BsdeHD(T, K, M, mu, Q, sigma, S_init, r, R)\n",
    "    a[i] = test_hd.labordere(N,m,RF_n_trees, RF_max_leaf_nodes)\n",
    "    print (a[i])\n",
    "min_a = min(a)\n",
    "max_a = max(a)\n",
    "mean_a = np.mean(a)\n",
    "std_a = np.std(a)\n",
    "print (\"mean = \" + str(mean_a)) \n",
    "print (\"std = \" + str(std_a)) \n",
    "print (\"min = \" + str(min_a)) \n",
    "print (\"max = \" + str(max_a)) "
   ]
  },
  {
   "cell_type": "code",
   "execution_count": 6,
   "metadata": {
    "collapsed": false
   },
   "outputs": [
    {
     "name": "stdout",
     "output_type": "stream",
     "text": [
      "0.287365033783\n",
      "0.274260197246\n",
      "0.27929410682\n",
      "0.286102982839\n",
      "0.287834860621\n",
      "0.282164360755\n",
      "0.287578023348\n",
      "0.286862386345\n",
      "0.282084152996\n",
      "0.280064952441\n",
      "0.290561497024\n",
      "0.285776725843\n",
      "0.272327854895\n",
      "0.284798962601\n",
      "0.283988563682\n",
      "0.27581993608\n",
      "0.282300666952\n",
      "0.287032246341\n",
      "0.283425159685\n",
      "0.285468360435\n",
      "mean = 0.283255551536\n",
      "std = 0.00471416520588\n",
      "min = 0.272327854895\n",
      "max = 0.290561497024\n"
     ]
    }
   ],
   "source": [
    "T = 1\n",
    "m = 6\n",
    "K = 100.\n",
    "r = 0.\n",
    "R = 0.\n",
    "p = 10\n",
    "M = np.eye(p)\n",
    "S_init = 0.5\n",
    "mu = 0.\n",
    "sigma = 1 / np.sqrt(p)\n",
    "N = 10000\n",
    "Q = 0.\n",
    "RF_n_trees = 100\n",
    "RF_max_leaf_nodes = 50\n",
    "a = np.zeros(20)\n",
    "for i in range (20): \n",
    "    test_hd = BsdeHD(T, K, M, mu, Q, sigma, S_init, r, R)\n",
    "    a[i] = test_hd.labordere(N,m,RF_n_trees, RF_max_leaf_nodes)\n",
    "    print (a[i])\n",
    "min_a = min(a)\n",
    "max_a = max(a)\n",
    "mean_a = np.mean(a)\n",
    "std_a = np.std(a)\n",
    "print (\"mean = \" + str(mean_a)) \n",
    "print (\"std = \" + str(std_a)) \n",
    "print (\"min = \" + str(min_a)) \n",
    "print (\"max = \" + str(max_a)) "
   ]
  },
  {
   "cell_type": "code",
   "execution_count": null,
   "metadata": {
    "collapsed": true
   },
   "outputs": [],
   "source": []
  }
 ],
 "metadata": {
  "kernelspec": {
   "display_name": "Python 3",
   "language": "python",
   "name": "python3"
  },
  "language_info": {
   "codemirror_mode": {
    "name": "ipython",
    "version": 3
   },
   "file_extension": ".py",
   "mimetype": "text/x-python",
   "name": "python",
   "nbconvert_exporter": "python",
   "pygments_lexer": "ipython3",
   "version": "3.5.2"
  }
 },
 "nbformat": 4,
 "nbformat_minor": 0
}
