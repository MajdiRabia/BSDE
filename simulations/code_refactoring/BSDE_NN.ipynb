{
 "cells": [
  {
   "cell_type": "code",
   "execution_count": 1,
   "metadata": {
    "collapsed": true
   },
   "outputs": [],
   "source": [
    "from BSDE import *\n",
    "import warnings \n",
    "warnings.filterwarnings(\"ignore\")"
   ]
  },
  {
   "cell_type": "code",
   "execution_count": 15,
   "metadata": {
    "collapsed": false
   },
   "outputs": [
    {
     "name": "stdout",
     "output_type": "stream",
     "text": [
      "mean = 6.64882664413\n",
      "std = 0.326598167614\n",
      "min = 6.19211249858\n",
      "max = 7.49424594421\n"
     ]
    }
   ],
   "source": [
    "T = 0.5\n",
    "m = 10\n",
    "K = 100\n",
    "S0 = 100\n",
    "sigma = 0.2\n",
    "r = 0.04\n",
    "N = 1000\n",
    "mu = 0.06\n",
    "R = 0.06\n",
    "q = 0.\n",
    "\n",
    "M_run = 20\n",
    "\n",
    "a = np.zeros(M_run)\n",
    "for i in range (M_run): \n",
    "    test = BSDE (S0, K, T, mu, sigma, q)\n",
    "    a[i] = test.get_price_mesh(N, m, r, R, n_picard = 0,mode = 'NN',\n",
    "                               display_plot = False, n_neighbors=900)\n",
    "min_a = min(a)\n",
    "max_a = max(a)\n",
    "mean_a = np.mean(a)\n",
    "std_a = np.std(a)\n",
    "print (\"mean = \" + str(mean_a)) \n",
    "print (\"std = \" + str(std_a)) \n",
    "print (\"min = \" + str(min_a)) \n",
    "print (\"max = \" + str(max_a)) "
   ]
  },
  {
   "cell_type": "code",
   "execution_count": 16,
   "metadata": {
    "collapsed": true
   },
   "outputs": [],
   "source": [
    "T = 0.25\n",
    "m = 6\n",
    "K = 100\n",
    "S0 = 100\n",
    "sigma = 0.2\n",
    "r = 0.01\n",
    "N = 1000\n",
    "mu = 0.05\n",
    "R = 0.06\n",
    "q = 0."
   ]
  },
  {
   "cell_type": "code",
   "execution_count": 18,
   "metadata": {
    "collapsed": false
   },
   "outputs": [
    {
     "name": "stdout",
     "output_type": "stream",
     "text": [
      "mean = 2.88508729104\n",
      "std = 0.103524736052\n",
      "min = 2.70126598095\n",
      "max = 3.12961979954\n"
     ]
    }
   ],
   "source": [
    "M_run = 20\n",
    "\n",
    "a = np.zeros(M_run)\n",
    "for i in range (M_run): \n",
    "    test = BSDE (S0, K, T, mu, sigma, q)\n",
    "    a[i] = test.get_price_mesh(N, m , r, R, oPayoff = \"call combination\", n_picard = 0,mode = 'NN',\n",
    "                               display_plot = False, n_neighbors=900)\n",
    "min_a = min(a)\n",
    "max_a = max(a)\n",
    "mean_a = np.mean(a)\n",
    "std_a = np.std(a)\n",
    "print (\"mean = \" + str(mean_a)) \n",
    "print (\"std = \" + str(std_a)) \n",
    "print (\"min = \" + str(min_a)) \n",
    "print (\"max = \" + str(max_a)) "
   ]
  },
  {
   "cell_type": "code",
   "execution_count": 19,
   "metadata": {
    "collapsed": true
   },
   "outputs": [],
   "source": [
    "T = 3\n",
    "m = 8\n",
    "p = 5\n",
    "K = 100.\n",
    "r = 0.05\n",
    "R = 0.05\n",
    "M = np.eye(p)\n",
    "S_init = 100.\n",
    "mu = 0.05\n",
    "sigma = 0.2 \n",
    "N = 1000\n",
    "Q = 0.1"
   ]
  },
  {
   "cell_type": "code",
   "execution_count": 20,
   "metadata": {
    "collapsed": false
   },
   "outputs": [
    {
     "name": "stdout",
     "output_type": "stream",
     "text": [
      "mean = 13.2258215555\n",
      "std = 0.531519805013\n",
      "min = 12.4703266504\n",
      "max = 14.1863384336\n"
     ]
    }
   ],
   "source": [
    "M_run = 20\n",
    "\n",
    "a = np.zeros(M_run)\n",
    "for i in range (M_run): \n",
    "    test_hd = BsdeHD(T, K, M, mu, Q, sigma, S_init, r, R)\n",
    "    a[i] = test_hd.get_price_mesh(N, m, option_type = 'call', option_payoff = 'max',\n",
    "                                  mode='NN', n_neighbors=900, n_picard=0)\n",
    "    \n",
    "min_a = min(a)\n",
    "max_a = max(a)\n",
    "mean_a = np.mean(a)\n",
    "std_a = np.std(a)\n",
    "print (\"mean = \" + str(mean_a)) \n",
    "print (\"std = \" + str(std_a)) \n",
    "print (\"min = \" + str(min_a)) \n",
    "print (\"max = \" + str(max_a)) "
   ]
  },
  {
   "cell_type": "code",
   "execution_count": null,
   "metadata": {
    "collapsed": true
   },
   "outputs": [],
   "source": []
  }
 ],
 "metadata": {
  "kernelspec": {
   "display_name": "Python 3",
   "language": "python",
   "name": "python3"
  },
  "language_info": {
   "codemirror_mode": {
    "name": "ipython",
    "version": 3
   },
   "file_extension": ".py",
   "mimetype": "text/x-python",
   "name": "python",
   "nbconvert_exporter": "python",
   "pygments_lexer": "ipython3",
   "version": "3.5.2"
  }
 },
 "nbformat": 4,
 "nbformat_minor": 0
}
