{
 "cells": [
  {
   "cell_type": "code",
   "execution_count": 1,
   "metadata": {
    "collapsed": false
   },
   "outputs": [],
   "source": [
    "import plotly.graph_objs as go\n",
    "from plotly.plotly import iplot\n",
    "import plotly.plotly as py\n",
    "import plotly\n",
    "import pandas as pd"
   ]
  },
  {
   "cell_type": "code",
   "execution_count": 2,
   "metadata": {
    "collapsed": true
   },
   "outputs": [],
   "source": [
    "plotly.tools.set_credentials_file(username='MajdiRabia', api_key='2aDlg90iKqS8ffNRzMuW')\n",
    "py.sign_in('MajdiRabia', '2aDlg90iKqS8ffNRzMuW')"
   ]
  },
  {
   "cell_type": "code",
   "execution_count": 13,
   "metadata": {
    "collapsed": false
   },
   "outputs": [],
   "source": [
    "df = pd.read_csv('timing_samples.csv')"
   ]
  },
  {
   "cell_type": "code",
   "execution_count": 14,
   "metadata": {
    "collapsed": false
   },
   "outputs": [],
   "source": [
    "df = df.loc[:,'10':]"
   ]
  },
  {
   "cell_type": "code",
   "execution_count": 15,
   "metadata": {
    "collapsed": false
   },
   "outputs": [
    {
     "data": {
      "text/plain": [
       "Index(['10', '20', '30', '40', '50', '60', '70', '80', '90', '100',\n",
       "       ...\n",
       "       '1070', '1080', '1090', '1100', '1110', '1120', '1130', '1140', '1150',\n",
       "       '1160'],\n",
       "      dtype='object', length=116)"
      ]
     },
     "execution_count": 15,
     "metadata": {},
     "output_type": "execute_result"
    }
   ],
   "source": [
    "df.columns"
   ]
  },
  {
   "cell_type": "code",
   "execution_count": 16,
   "metadata": {
    "collapsed": false
   },
   "outputs": [],
   "source": [
    "import matplotlib.pyplot as plt\n",
    "plt.plot(df.columns, df.mean())\n",
    "plt.show()"
   ]
  },
  {
   "cell_type": "code",
   "execution_count": 17,
   "metadata": {
    "collapsed": false
   },
   "outputs": [],
   "source": [
    "data = [go.Box(y=df[i], name = '{}'.format(i)) for i in df.columns]"
   ]
  },
  {
   "cell_type": "code",
   "execution_count": 18,
   "metadata": {
    "collapsed": false
   },
   "outputs": [
    {
     "data": {
      "text/html": [
       "<iframe id=\"igraph\" scrolling=\"no\" style=\"border:none;\" seamless=\"seamless\" src=\"https://plot.ly/~MajdiRabia/56.embed\" height=\"525px\" width=\"100%\"></iframe>"
      ],
      "text/plain": [
       "<plotly.tools.PlotlyDisplay object>"
      ]
     },
     "execution_count": 18,
     "metadata": {},
     "output_type": "execute_result"
    }
   ],
   "source": [
    "from plotly.graph_objs import *\n",
    "iplot({'data':data, 'layout': Layout(xaxis=XAxis(title='Maximum Features by Tree'), \n",
    "                                     yaxis=YAxis(title='Time (in seconds)'))},\n",
    "                                     title='Time with max number of Features')"
   ]
  },
  {
   "cell_type": "code",
   "execution_count": 6,
   "metadata": {
    "collapsed": false
   },
   "outputs": [],
   "source": [
    "X_train = all_data[:df_train.shape[0]]\n",
    "X_test = all_data[df_train.shape[0]:]\n",
    "y = np.log(df_train.SalePrice)"
   ]
  },
  {
   "cell_type": "code",
   "execution_count": 7,
   "metadata": {
    "collapsed": true
   },
   "outputs": [],
   "source": [
    "N_features = len(X_train.columns)"
   ]
  },
  {
   "cell_type": "code",
   "execution_count": 8,
   "metadata": {
    "collapsed": false
   },
   "outputs": [
    {
     "name": "stdout",
     "output_type": "stream",
     "text": [
      "0.004439754558726874\n",
      "0.004271370791107379\n",
      "0.004063335875787175\n",
      "0.0037478645565438874\n",
      "0.0037098230382645253\n",
      "0.0033395327005494046\n",
      "0.003453930151749598\n",
      "0.003377101852406113\n",
      "0.00326954744408332\n",
      "0.0031386873528320624\n",
      "0.0031855319392622406\n",
      "0.0030720937834712897\n",
      "0.003116019428796825\n",
      "0.003000862976371683\n",
      "0.002974554889453987\n",
      "0.0030740297869306533\n",
      "0.002997155139673005\n",
      "0.0030080949813844223\n",
      "0.0028422946847218053\n",
      "0.0030566334073492078\n",
      "0.0028643437280169355\n",
      "0.002965466432671577\n",
      "0.002931001159215646\n",
      "0.002820885687479489\n",
      "0.0028403265075122117\n",
      "0.0029129511894547717\n",
      "0.002602922504360149\n",
      "0.00287664465257567\n",
      "0.002617353380581465\n",
      "0.002766530447687747\n",
      "0.0026729190200939575\n",
      "0.002712941453136245\n",
      "0.0026738945113351834\n",
      "0.0027585100357943398\n",
      "0.0027939416234441226\n",
      "0.0028735517355848623\n",
      "0.0027625333438495666\n",
      "0.002783309271787917\n",
      "0.0028174751896653926\n",
      "0.002786058656852132\n",
      "0.0027985937831315356\n",
      "0.0027005396680934352\n",
      "0.0027093485936598915\n",
      "0.002827736644531288\n",
      "0.002594405268667661\n",
      "0.0026782069335020693\n",
      "0.002578558983912771\n",
      "0.002728443886110864\n",
      "0.002770694553978247\n",
      "0.002722244757814838\n",
      "0.002741929698583679\n",
      "0.002734982851871922\n",
      "0.0027230885224442973\n",
      "0.0026830638819732213\n",
      "0.002737891481269587\n",
      "0.002745442148039467\n",
      "0.002579925730717011\n",
      "0.0026685727340092277\n",
      "0.0027176390008117296\n",
      "0.0027180804554650883\n",
      "0.0027449945761245775\n",
      "0.002646637586335776\n",
      "0.0027534367714053282\n",
      "0.0027014958503648857\n",
      "0.002643295302385937\n",
      "0.0027285179565721424\n",
      "0.002563856301534202\n",
      "0.002665840395749189\n",
      "0.002722378703354805\n",
      "0.0026672920415271475\n",
      "0.0026317245751950784\n",
      "0.0026255939750797408\n",
      "0.002775273121598577\n",
      "0.0027212100214105404\n",
      "0.0026157668310968626\n",
      "0.0027604660589714333\n",
      "0.002593638375651469\n",
      "0.00274888156687349\n",
      "0.0026259813862858786\n",
      "0.002591848989560224\n",
      "0.002645663218012355\n",
      "0.0027266666529754623\n",
      "0.0026982475338418643\n",
      "0.0028646190588783793\n",
      "0.002830083602224002\n",
      "0.00261160722284639\n",
      "0.0026633501539629406\n",
      "0.0026897267664500834\n",
      "0.0027332858275545845\n",
      "0.0026831347612648374\n",
      "0.0026107353496345135\n",
      "0.002730591044457536\n",
      "0.002725830460836979\n",
      "0.0026279583057740134\n",
      "0.002619500419042445\n",
      "0.0026003823588329825\n",
      "0.002575877989285006\n",
      "0.0026475430903127447\n",
      "0.002630460564170514\n",
      "0.0027273866140512123\n",
      "0.0026812591759957103\n",
      "0.002594269020843637\n",
      "0.0027123880090405084\n",
      "0.0025888870429605446\n",
      "0.0026224856969065775\n",
      "0.0026223206208525066\n",
      "0.002635144898771471\n",
      "0.002590145431685202\n",
      "0.002829689765525242\n",
      "0.0026175419535329728\n",
      "0.002617644290070665\n",
      "0.002686772302373909\n",
      "0.0027330909569766356\n",
      "0.002580035334493633\n",
      "0.0027092474689435183\n",
      "0.0028452207238661553\n",
      "0.0026078827635943355\n",
      "0.002724041173929876\n",
      "0.0027387197560778597\n",
      "0.0026651078107586736\n",
      "0.002717739311537345\n",
      "0.0027573452424210377\n",
      "0.002899651570479622\n",
      "0.0026744308584011915\n",
      "0.002672685693281376\n",
      "0.0027600520172430362\n",
      "0.0027271272569094284\n",
      "0.002745461469833682\n",
      "0.0025777140232341495\n",
      "0.0027607374966685774\n",
      "0.0027198703983504517\n",
      "0.00267138329140889\n",
      "0.0026201893215845695\n",
      "0.0025994911470736287\n",
      "0.0027403835895468283\n",
      "0.0026253607101346835\n",
      "0.002540081202314383\n",
      "0.0026076549132644775\n",
      "0.0026948118675248736\n",
      "0.0025494195807651806\n",
      "0.002693205696001815\n",
      "0.0026268807881852318\n",
      "0.0027227463420875495\n",
      "0.0028567379539175012\n",
      "0.002798800524521631\n",
      "0.0026637055655761815\n",
      "0.002730163934333537\n",
      "0.002605866538315526\n",
      "0.002674096018633209\n",
      "0.0026880886600458365\n",
      "0.0026494934148586394\n",
      "0.002603121737617981\n",
      "0.00264196451480753\n",
      "0.0026936350075773417\n",
      "0.0026151388487192493\n",
      "0.0026179806903154235\n",
      "0.0027851532294006715\n",
      "0.002700098154499533\n",
      "0.002754522338923687\n",
      "0.0026265336522196653\n",
      "0.0026943880058382086\n",
      "0.0025516212735812492\n",
      "0.0026917345134079254\n",
      "0.0027943841365059134\n",
      "0.002549283884441763\n",
      "0.0025594495285339337\n",
      "0.0025079126217662367\n",
      "0.0025968233834395803\n",
      "0.002647110401691554\n",
      "0.0026314956492135425\n",
      "0.0026952107340770825\n",
      "0.002534410499633529\n",
      "0.002705973228250092\n",
      "0.0027110817007217672\n",
      "0.0025938135375860255\n",
      "0.0025872928535997154\n",
      "0.0026164320943021526\n",
      "0.002699581619303468\n",
      "0.0027286008039693844\n",
      "0.002639905632243505\n",
      "0.0025416710459610146\n",
      "0.002632178689760345\n",
      "0.0026919070113725465\n",
      "0.002728660334572922\n",
      "0.002581255763206862\n"
     ]
    },
    {
     "ename": "KeyboardInterrupt",
     "evalue": "",
     "output_type": "error",
     "traceback": [
      "\u001b[1;31m---------------------------------------------------------------------------\u001b[0m",
      "\u001b[1;31mKeyboardInterrupt\u001b[0m                         Traceback (most recent call last)",
      "\u001b[1;32m<ipython-input-8-62dfd593cd41>\u001b[0m in \u001b[0;36m<module>\u001b[1;34m()\u001b[0m\n\u001b[0;32m     16\u001b[0m                                \u001b[0mverbose\u001b[0m\u001b[1;33m=\u001b[0m\u001b[1;36m0\u001b[0m\u001b[1;33m,\u001b[0m\u001b[1;33m\u001b[0m\u001b[0m\n\u001b[0;32m     17\u001b[0m                                warm_start=False)\n\u001b[1;32m---> 18\u001b[1;33m     \u001b[0mrf\u001b[0m\u001b[1;33m.\u001b[0m\u001b[0mfit\u001b[0m\u001b[1;33m(\u001b[0m\u001b[0mX_train\u001b[0m\u001b[1;33m,\u001b[0m \u001b[0my\u001b[0m\u001b[1;33m)\u001b[0m\u001b[1;33m\u001b[0m\u001b[0m\n\u001b[0m\u001b[0;32m     19\u001b[0m     \u001b[0my_predicted\u001b[0m \u001b[1;33m=\u001b[0m \u001b[0mrf\u001b[0m\u001b[1;33m.\u001b[0m\u001b[0mpredict\u001b[0m\u001b[1;33m(\u001b[0m\u001b[0mX_train\u001b[0m\u001b[1;33m)\u001b[0m\u001b[1;33m\u001b[0m\u001b[0m\n\u001b[0;32m     20\u001b[0m     \u001b[0me\u001b[0m \u001b[1;33m=\u001b[0m \u001b[0mnp\u001b[0m\u001b[1;33m.\u001b[0m\u001b[0mmean\u001b[0m\u001b[1;33m(\u001b[0m\u001b[1;33m(\u001b[0m\u001b[0my_predicted\u001b[0m \u001b[1;33m-\u001b[0m \u001b[0my\u001b[0m\u001b[1;33m)\u001b[0m \u001b[1;33m**\u001b[0m \u001b[1;36m2\u001b[0m\u001b[1;33m)\u001b[0m\u001b[1;33m\u001b[0m\u001b[0m\n",
      "\u001b[1;32mC:\\Users\\Majdi\\Anaconda3\\lib\\site-packages\\sklearn\\ensemble\\forest.py\u001b[0m in \u001b[0;36mfit\u001b[1;34m(self, X, y, sample_weight)\u001b[0m\n\u001b[0;32m    288\u001b[0m                     \u001b[0mt\u001b[0m\u001b[1;33m,\u001b[0m \u001b[0mself\u001b[0m\u001b[1;33m,\u001b[0m \u001b[0mX\u001b[0m\u001b[1;33m,\u001b[0m \u001b[0my\u001b[0m\u001b[1;33m,\u001b[0m \u001b[0msample_weight\u001b[0m\u001b[1;33m,\u001b[0m \u001b[0mi\u001b[0m\u001b[1;33m,\u001b[0m \u001b[0mlen\u001b[0m\u001b[1;33m(\u001b[0m\u001b[0mtrees\u001b[0m\u001b[1;33m)\u001b[0m\u001b[1;33m,\u001b[0m\u001b[1;33m\u001b[0m\u001b[0m\n\u001b[0;32m    289\u001b[0m                     verbose=self.verbose, class_weight=self.class_weight)\n\u001b[1;32m--> 290\u001b[1;33m                 for i, t in enumerate(trees))\n\u001b[0m\u001b[0;32m    291\u001b[0m \u001b[1;33m\u001b[0m\u001b[0m\n\u001b[0;32m    292\u001b[0m             \u001b[1;31m# Collect newly grown trees\u001b[0m\u001b[1;33m\u001b[0m\u001b[1;33m\u001b[0m\u001b[0m\n",
      "\u001b[1;32mC:\\Users\\Majdi\\Anaconda3\\lib\\site-packages\\sklearn\\externals\\joblib\\parallel.py\u001b[0m in \u001b[0;36m__call__\u001b[1;34m(self, iterable)\u001b[0m\n\u001b[0;32m    808\u001b[0m                 \u001b[1;31m# consumption.\u001b[0m\u001b[1;33m\u001b[0m\u001b[1;33m\u001b[0m\u001b[0m\n\u001b[0;32m    809\u001b[0m                 \u001b[0mself\u001b[0m\u001b[1;33m.\u001b[0m\u001b[0m_iterating\u001b[0m \u001b[1;33m=\u001b[0m \u001b[1;32mFalse\u001b[0m\u001b[1;33m\u001b[0m\u001b[0m\n\u001b[1;32m--> 810\u001b[1;33m             \u001b[0mself\u001b[0m\u001b[1;33m.\u001b[0m\u001b[0mretrieve\u001b[0m\u001b[1;33m(\u001b[0m\u001b[1;33m)\u001b[0m\u001b[1;33m\u001b[0m\u001b[0m\n\u001b[0m\u001b[0;32m    811\u001b[0m             \u001b[1;31m# Make sure that we get a last message telling us we are done\u001b[0m\u001b[1;33m\u001b[0m\u001b[1;33m\u001b[0m\u001b[0m\n\u001b[0;32m    812\u001b[0m             \u001b[0melapsed_time\u001b[0m \u001b[1;33m=\u001b[0m \u001b[0mtime\u001b[0m\u001b[1;33m.\u001b[0m\u001b[0mtime\u001b[0m\u001b[1;33m(\u001b[0m\u001b[1;33m)\u001b[0m \u001b[1;33m-\u001b[0m \u001b[0mself\u001b[0m\u001b[1;33m.\u001b[0m\u001b[0m_start_time\u001b[0m\u001b[1;33m\u001b[0m\u001b[0m\n",
      "\u001b[1;32mC:\\Users\\Majdi\\Anaconda3\\lib\\site-packages\\sklearn\\externals\\joblib\\parallel.py\u001b[0m in \u001b[0;36mretrieve\u001b[1;34m(self)\u001b[0m\n\u001b[0;32m    725\u001b[0m                 \u001b[0mjob\u001b[0m \u001b[1;33m=\u001b[0m \u001b[0mself\u001b[0m\u001b[1;33m.\u001b[0m\u001b[0m_jobs\u001b[0m\u001b[1;33m.\u001b[0m\u001b[0mpop\u001b[0m\u001b[1;33m(\u001b[0m\u001b[1;36m0\u001b[0m\u001b[1;33m)\u001b[0m\u001b[1;33m\u001b[0m\u001b[0m\n\u001b[0;32m    726\u001b[0m             \u001b[1;32mtry\u001b[0m\u001b[1;33m:\u001b[0m\u001b[1;33m\u001b[0m\u001b[0m\n\u001b[1;32m--> 727\u001b[1;33m                 \u001b[0mself\u001b[0m\u001b[1;33m.\u001b[0m\u001b[0m_output\u001b[0m\u001b[1;33m.\u001b[0m\u001b[0mextend\u001b[0m\u001b[1;33m(\u001b[0m\u001b[0mjob\u001b[0m\u001b[1;33m.\u001b[0m\u001b[0mget\u001b[0m\u001b[1;33m(\u001b[0m\u001b[1;33m)\u001b[0m\u001b[1;33m)\u001b[0m\u001b[1;33m\u001b[0m\u001b[0m\n\u001b[0m\u001b[0;32m    728\u001b[0m             \u001b[1;32mexcept\u001b[0m \u001b[0mtuple\u001b[0m\u001b[1;33m(\u001b[0m\u001b[0mself\u001b[0m\u001b[1;33m.\u001b[0m\u001b[0mexceptions\u001b[0m\u001b[1;33m)\u001b[0m \u001b[1;32mas\u001b[0m \u001b[0mexception\u001b[0m\u001b[1;33m:\u001b[0m\u001b[1;33m\u001b[0m\u001b[0m\n\u001b[0;32m    729\u001b[0m                 \u001b[1;31m# Stop dispatching any new job in the async callback thread\u001b[0m\u001b[1;33m\u001b[0m\u001b[1;33m\u001b[0m\u001b[0m\n",
      "\u001b[1;32mC:\\Users\\Majdi\\Anaconda3\\lib\\multiprocessing\\pool.py\u001b[0m in \u001b[0;36mget\u001b[1;34m(self, timeout)\u001b[0m\n\u001b[0;32m    600\u001b[0m \u001b[1;33m\u001b[0m\u001b[0m\n\u001b[0;32m    601\u001b[0m     \u001b[1;32mdef\u001b[0m \u001b[0mget\u001b[0m\u001b[1;33m(\u001b[0m\u001b[0mself\u001b[0m\u001b[1;33m,\u001b[0m \u001b[0mtimeout\u001b[0m\u001b[1;33m=\u001b[0m\u001b[1;32mNone\u001b[0m\u001b[1;33m)\u001b[0m\u001b[1;33m:\u001b[0m\u001b[1;33m\u001b[0m\u001b[0m\n\u001b[1;32m--> 602\u001b[1;33m         \u001b[0mself\u001b[0m\u001b[1;33m.\u001b[0m\u001b[0mwait\u001b[0m\u001b[1;33m(\u001b[0m\u001b[0mtimeout\u001b[0m\u001b[1;33m)\u001b[0m\u001b[1;33m\u001b[0m\u001b[0m\n\u001b[0m\u001b[0;32m    603\u001b[0m         \u001b[1;32mif\u001b[0m \u001b[1;32mnot\u001b[0m \u001b[0mself\u001b[0m\u001b[1;33m.\u001b[0m\u001b[0mready\u001b[0m\u001b[1;33m(\u001b[0m\u001b[1;33m)\u001b[0m\u001b[1;33m:\u001b[0m\u001b[1;33m\u001b[0m\u001b[0m\n\u001b[0;32m    604\u001b[0m             \u001b[1;32mraise\u001b[0m \u001b[0mTimeoutError\u001b[0m\u001b[1;33m\u001b[0m\u001b[0m\n",
      "\u001b[1;32mC:\\Users\\Majdi\\Anaconda3\\lib\\multiprocessing\\pool.py\u001b[0m in \u001b[0;36mwait\u001b[1;34m(self, timeout)\u001b[0m\n\u001b[0;32m    597\u001b[0m \u001b[1;33m\u001b[0m\u001b[0m\n\u001b[0;32m    598\u001b[0m     \u001b[1;32mdef\u001b[0m \u001b[0mwait\u001b[0m\u001b[1;33m(\u001b[0m\u001b[0mself\u001b[0m\u001b[1;33m,\u001b[0m \u001b[0mtimeout\u001b[0m\u001b[1;33m=\u001b[0m\u001b[1;32mNone\u001b[0m\u001b[1;33m)\u001b[0m\u001b[1;33m:\u001b[0m\u001b[1;33m\u001b[0m\u001b[0m\n\u001b[1;32m--> 599\u001b[1;33m         \u001b[0mself\u001b[0m\u001b[1;33m.\u001b[0m\u001b[0m_event\u001b[0m\u001b[1;33m.\u001b[0m\u001b[0mwait\u001b[0m\u001b[1;33m(\u001b[0m\u001b[0mtimeout\u001b[0m\u001b[1;33m)\u001b[0m\u001b[1;33m\u001b[0m\u001b[0m\n\u001b[0m\u001b[0;32m    600\u001b[0m \u001b[1;33m\u001b[0m\u001b[0m\n\u001b[0;32m    601\u001b[0m     \u001b[1;32mdef\u001b[0m \u001b[0mget\u001b[0m\u001b[1;33m(\u001b[0m\u001b[0mself\u001b[0m\u001b[1;33m,\u001b[0m \u001b[0mtimeout\u001b[0m\u001b[1;33m=\u001b[0m\u001b[1;32mNone\u001b[0m\u001b[1;33m)\u001b[0m\u001b[1;33m:\u001b[0m\u001b[1;33m\u001b[0m\u001b[0m\n",
      "\u001b[1;32mC:\\Users\\Majdi\\Anaconda3\\lib\\threading.py\u001b[0m in \u001b[0;36mwait\u001b[1;34m(self, timeout)\u001b[0m\n\u001b[0;32m    547\u001b[0m             \u001b[0msignaled\u001b[0m \u001b[1;33m=\u001b[0m \u001b[0mself\u001b[0m\u001b[1;33m.\u001b[0m\u001b[0m_flag\u001b[0m\u001b[1;33m\u001b[0m\u001b[0m\n\u001b[0;32m    548\u001b[0m             \u001b[1;32mif\u001b[0m \u001b[1;32mnot\u001b[0m \u001b[0msignaled\u001b[0m\u001b[1;33m:\u001b[0m\u001b[1;33m\u001b[0m\u001b[0m\n\u001b[1;32m--> 549\u001b[1;33m                 \u001b[0msignaled\u001b[0m \u001b[1;33m=\u001b[0m \u001b[0mself\u001b[0m\u001b[1;33m.\u001b[0m\u001b[0m_cond\u001b[0m\u001b[1;33m.\u001b[0m\u001b[0mwait\u001b[0m\u001b[1;33m(\u001b[0m\u001b[0mtimeout\u001b[0m\u001b[1;33m)\u001b[0m\u001b[1;33m\u001b[0m\u001b[0m\n\u001b[0m\u001b[0;32m    550\u001b[0m             \u001b[1;32mreturn\u001b[0m \u001b[0msignaled\u001b[0m\u001b[1;33m\u001b[0m\u001b[0m\n\u001b[0;32m    551\u001b[0m \u001b[1;33m\u001b[0m\u001b[0m\n",
      "\u001b[1;32mC:\\Users\\Majdi\\Anaconda3\\lib\\threading.py\u001b[0m in \u001b[0;36mwait\u001b[1;34m(self, timeout)\u001b[0m\n\u001b[0;32m    291\u001b[0m         \u001b[1;32mtry\u001b[0m\u001b[1;33m:\u001b[0m    \u001b[1;31m# restore state no matter what (e.g., KeyboardInterrupt)\u001b[0m\u001b[1;33m\u001b[0m\u001b[0m\n\u001b[0;32m    292\u001b[0m             \u001b[1;32mif\u001b[0m \u001b[0mtimeout\u001b[0m \u001b[1;32mis\u001b[0m \u001b[1;32mNone\u001b[0m\u001b[1;33m:\u001b[0m\u001b[1;33m\u001b[0m\u001b[0m\n\u001b[1;32m--> 293\u001b[1;33m                 \u001b[0mwaiter\u001b[0m\u001b[1;33m.\u001b[0m\u001b[0macquire\u001b[0m\u001b[1;33m(\u001b[0m\u001b[1;33m)\u001b[0m\u001b[1;33m\u001b[0m\u001b[0m\n\u001b[0m\u001b[0;32m    294\u001b[0m                 \u001b[0mgotit\u001b[0m \u001b[1;33m=\u001b[0m \u001b[1;32mTrue\u001b[0m\u001b[1;33m\u001b[0m\u001b[0m\n\u001b[0;32m    295\u001b[0m             \u001b[1;32melse\u001b[0m\u001b[1;33m:\u001b[0m\u001b[1;33m\u001b[0m\u001b[0m\n",
      "\u001b[1;31mKeyboardInterrupt\u001b[0m: "
     ]
    }
   ],
   "source": [
    "e_features = []\n",
    "n_features = list(range(1, N_features + 1))\n",
    "for n_feature in n_features:\n",
    "    rf = RandomForestRegressor(n_estimators=100, \n",
    "                               criterion='mse',\n",
    "                               max_depth=None,\n",
    "                               min_samples_split=2,\n",
    "                               min_samples_leaf=1,\n",
    "                               min_weight_fraction_leaf=0.0,\n",
    "                               max_features=n_feature,\n",
    "                               max_leaf_nodes=None,\n",
    "                               bootstrap=True,\n",
    "                               oob_score=False,\n",
    "                               n_jobs=-1,\n",
    "                               random_state=None,\n",
    "                               verbose=0,\n",
    "                               warm_start=False)\n",
    "    rf.fit(X_train, y)\n",
    "    y_predicted = rf.predict(X_train)\n",
    "    e = np.mean((y_predicted - y) ** 2)\n",
    "    e_features.append(e)\n",
    "    print (e)"
   ]
  },
  {
   "cell_type": "code",
   "execution_count": 32,
   "metadata": {
    "collapsed": false
   },
   "outputs": [
    {
     "data": {
      "text/plain": [
       "0.002741542399573534"
      ]
     },
     "execution_count": 32,
     "metadata": {},
     "output_type": "execute_result"
    }
   ],
   "source": [
    "np.mean((y_predicted - y) ** 2)"
   ]
  },
  {
   "cell_type": "code",
   "execution_count": 39,
   "metadata": {
    "collapsed": true
   },
   "outputs": [],
   "source": [
    "names = ['LotArea',\n",
    " 'HouseStyle',\n",
    " 'Neighborhood',\n",
    " 'MasVnrArea',\n",
    " 'Alley',\n",
    " 'Utilities',\n",
    " 'Condition1',\n",
    " 'ExterQual',\n",
    " 'LotFrontage',\n",
    " 'LotShape']"
   ]
  },
  {
   "cell_type": "code",
   "execution_count": 40,
   "metadata": {
    "collapsed": true
   },
   "outputs": [],
   "source": [
    "values = np.array([ 0.531931,  0.149824,  0.040342,  0.032352,  0.023969,  0.022555,\n",
    "        0.021459,  0.018942,  0.013304,  0.010592])"
   ]
  },
  {
   "cell_type": "code",
   "execution_count": 47,
   "metadata": {
    "collapsed": false
   },
   "outputs": [],
   "source": [
    "data = [go.Bar(x = values, y=names, orientation = 'h')]"
   ]
  },
  {
   "cell_type": "code",
   "execution_count": 48,
   "metadata": {
    "collapsed": false
   },
   "outputs": [
    {
     "data": {
      "text/html": [
       "<iframe id=\"igraph\" scrolling=\"no\" style=\"border:none;\" seamless=\"seamless\" src=\"https://plot.ly/~MajdiRabia/46.embed\" height=\"525px\" width=\"100%\"></iframe>"
      ],
      "text/plain": [
       "<plotly.tools.PlotlyDisplay object>"
      ]
     },
     "execution_count": 48,
     "metadata": {},
     "output_type": "execute_result"
    }
   ],
   "source": [
    "iplot(data, filename='Variable Importance Bar')"
   ]
  },
  {
   "cell_type": "code",
   "execution_count": null,
   "metadata": {
    "collapsed": true
   },
   "outputs": [],
   "source": []
  }
 ],
 "metadata": {
  "kernelspec": {
   "display_name": "Python 3",
   "language": "python",
   "name": "python3"
  },
  "language_info": {
   "codemirror_mode": {
    "name": "ipython",
    "version": 3
   },
   "file_extension": ".py",
   "mimetype": "text/x-python",
   "name": "python",
   "nbconvert_exporter": "python",
   "pygments_lexer": "ipython3",
   "version": "3.5.2"
  }
 },
 "nbformat": 4,
 "nbformat_minor": 0
}
