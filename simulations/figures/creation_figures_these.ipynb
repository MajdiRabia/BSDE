{
 "cells": [
  {
   "cell_type": "code",
   "execution_count": 1,
   "metadata": {
    "collapsed": false
   },
   "outputs": [],
   "source": [
    "import bokeh\n",
    "from bokeh.plotting import figure, output_file, show, output_notebook\n",
    "import numpy as np\n",
    "import matplotlib.pyplot as plt\n",
    "from sklearn.ensemble import RandomForestRegressor\n",
    "plt.figure(figsize=(8, 8))\n",
    "plt.subplots_adjust(bottom=.05, top=.9, left=.05, right=.95)"
   ]
  },
  {
   "cell_type": "code",
   "execution_count": 2,
   "metadata": {
    "collapsed": false
   },
   "outputs": [
    {
     "data": {
      "text/html": [
       "\n",
       "    <div class=\"bk-root\">\n",
       "        <a href=\"http://bokeh.pydata.org\" target=\"_blank\" class=\"bk-logo bk-logo-small bk-logo-notebook\"></a>\n",
       "        <span id=\"9768caa7-48b5-4e9e-a085-1fe7a52aa0ff\">Loading BokehJS ...</span>\n",
       "    </div>"
      ]
     },
     "metadata": {},
     "output_type": "display_data"
    },
    {
     "data": {
      "application/javascript": [
       "\n",
       "(function(global) {\n",
       "  function now() {\n",
       "    return new Date();\n",
       "  }\n",
       "\n",
       "  var force = \"1\";\n",
       "\n",
       "  if (typeof (window._bokeh_onload_callbacks) === \"undefined\" || force !== \"\") {\n",
       "    window._bokeh_onload_callbacks = [];\n",
       "    window._bokeh_is_loading = undefined;\n",
       "  }\n",
       "\n",
       "\n",
       "  \n",
       "  if (typeof (window._bokeh_timeout) === \"undefined\" || force !== \"\") {\n",
       "    window._bokeh_timeout = Date.now() + 5000;\n",
       "    window._bokeh_failed_load = false;\n",
       "  }\n",
       "\n",
       "  var NB_LOAD_WARNING = {'data': {'text/html':\n",
       "     \"<div style='background-color: #fdd'>\\n\"+\n",
       "     \"<p>\\n\"+\n",
       "     \"BokehJS does not appear to have successfully loaded. If loading BokehJS from CDN, this \\n\"+\n",
       "     \"may be due to a slow or bad network connection. Possible fixes:\\n\"+\n",
       "     \"</p>\\n\"+\n",
       "     \"<ul>\\n\"+\n",
       "     \"<li>re-rerun `output_notebook()` to attempt to load from CDN again, or</li>\\n\"+\n",
       "     \"<li>use INLINE resources instead, as so:</li>\\n\"+\n",
       "     \"</ul>\\n\"+\n",
       "     \"<code>\\n\"+\n",
       "     \"from bokeh.resources import INLINE\\n\"+\n",
       "     \"output_notebook(resources=INLINE)\\n\"+\n",
       "     \"</code>\\n\"+\n",
       "     \"</div>\"}};\n",
       "\n",
       "  function display_loaded() {\n",
       "    if (window.Bokeh !== undefined) {\n",
       "      Bokeh.$(\"#9768caa7-48b5-4e9e-a085-1fe7a52aa0ff\").text(\"BokehJS successfully loaded.\");\n",
       "    } else if (Date.now() < window._bokeh_timeout) {\n",
       "      setTimeout(display_loaded, 100)\n",
       "    }\n",
       "  }\n",
       "\n",
       "  function run_callbacks() {\n",
       "    window._bokeh_onload_callbacks.forEach(function(callback) { callback() });\n",
       "    delete window._bokeh_onload_callbacks\n",
       "    console.info(\"Bokeh: all callbacks have finished\");\n",
       "  }\n",
       "\n",
       "  function load_libs(js_urls, callback) {\n",
       "    window._bokeh_onload_callbacks.push(callback);\n",
       "    if (window._bokeh_is_loading > 0) {\n",
       "      console.log(\"Bokeh: BokehJS is being loaded, scheduling callback at\", now());\n",
       "      return null;\n",
       "    }\n",
       "    if (js_urls == null || js_urls.length === 0) {\n",
       "      run_callbacks();\n",
       "      return null;\n",
       "    }\n",
       "    console.log(\"Bokeh: BokehJS not loaded, scheduling load and callback at\", now());\n",
       "    window._bokeh_is_loading = js_urls.length;\n",
       "    for (var i = 0; i < js_urls.length; i++) {\n",
       "      var url = js_urls[i];\n",
       "      var s = document.createElement('script');\n",
       "      s.src = url;\n",
       "      s.async = false;\n",
       "      s.onreadystatechange = s.onload = function() {\n",
       "        window._bokeh_is_loading--;\n",
       "        if (window._bokeh_is_loading === 0) {\n",
       "          console.log(\"Bokeh: all BokehJS libraries loaded\");\n",
       "          run_callbacks()\n",
       "        }\n",
       "      };\n",
       "      s.onerror = function() {\n",
       "        console.warn(\"failed to load library \" + url);\n",
       "      };\n",
       "      console.log(\"Bokeh: injecting script tag for BokehJS library: \", url);\n",
       "      document.getElementsByTagName(\"head\")[0].appendChild(s);\n",
       "    }\n",
       "  };var element = document.getElementById(\"9768caa7-48b5-4e9e-a085-1fe7a52aa0ff\");\n",
       "  if (element == null) {\n",
       "    console.log(\"Bokeh: ERROR: autoload.js configured with elementid '9768caa7-48b5-4e9e-a085-1fe7a52aa0ff' but no matching script tag was found. \")\n",
       "    return false;\n",
       "  }\n",
       "\n",
       "  var js_urls = ['https://cdn.pydata.org/bokeh/release/bokeh-0.12.3.min.js', 'https://cdn.pydata.org/bokeh/release/bokeh-widgets-0.12.3.min.js'];\n",
       "\n",
       "  var inline_js = [\n",
       "    function(Bokeh) {\n",
       "      Bokeh.set_log_level(\"info\");\n",
       "    },\n",
       "    \n",
       "    function(Bokeh) {\n",
       "      \n",
       "      Bokeh.$(\"#9768caa7-48b5-4e9e-a085-1fe7a52aa0ff\").text(\"BokehJS is loading...\");\n",
       "    },\n",
       "    function(Bokeh) {\n",
       "      console.log(\"Bokeh: injecting CSS: https://cdn.pydata.org/bokeh/release/bokeh-0.12.3.min.css\");\n",
       "      Bokeh.embed.inject_css(\"https://cdn.pydata.org/bokeh/release/bokeh-0.12.3.min.css\");\n",
       "      console.log(\"Bokeh: injecting CSS: https://cdn.pydata.org/bokeh/release/bokeh-widgets-0.12.3.min.css\");\n",
       "      Bokeh.embed.inject_css(\"https://cdn.pydata.org/bokeh/release/bokeh-widgets-0.12.3.min.css\");\n",
       "    }\n",
       "  ];\n",
       "\n",
       "  function run_inline_js() {\n",
       "    \n",
       "    if ((window.Bokeh !== undefined) || (force === \"1\")) {\n",
       "      for (var i = 0; i < inline_js.length; i++) {\n",
       "        inline_js[i](window.Bokeh);\n",
       "      }if (force === \"1\") {\n",
       "        display_loaded();\n",
       "      }} else if (Date.now() < window._bokeh_timeout) {\n",
       "      setTimeout(run_inline_js, 100);\n",
       "    } else if (!window._bokeh_failed_load) {\n",
       "      console.log(\"Bokeh: BokehJS failed to load within specified timeout.\");\n",
       "      window._bokeh_failed_load = true;\n",
       "    } else if (!force) {\n",
       "      var cell = $(\"#9768caa7-48b5-4e9e-a085-1fe7a52aa0ff\").parents('.cell').data().cell;\n",
       "      cell.output_area.append_execute_result(NB_LOAD_WARNING)\n",
       "    }\n",
       "\n",
       "  }\n",
       "\n",
       "  if (window._bokeh_is_loading === 0) {\n",
       "    console.log(\"Bokeh: BokehJS loaded, going straight to plotting\");\n",
       "    run_inline_js();\n",
       "  } else {\n",
       "    load_libs(js_urls, function() {\n",
       "      console.log(\"Bokeh: BokehJS plotting callback run at\", now());\n",
       "      run_inline_js();\n",
       "    });\n",
       "  }\n",
       "}(this));"
      ]
     },
     "metadata": {},
     "output_type": "display_data"
    }
   ],
   "source": [
    "output_notebook()"
   ]
  },
  {
   "cell_type": "code",
   "execution_count": 3,
   "metadata": {
    "collapsed": true
   },
   "outputs": [],
   "source": [
    "import pandas as pd"
   ]
  },
  {
   "cell_type": "code",
   "execution_count": 4,
   "metadata": {
    "collapsed": false
   },
   "outputs": [],
   "source": []
  },
  {
   "cell_type": "code",
   "execution_count": 5,
   "metadata": {
    "collapsed": false
   },
   "outputs": [],
   "source": [
    "COLUMNS = matrix.columns"
   ]
  },
  {
   "cell_type": "code",
   "execution_count": 6,
   "metadata": {
    "collapsed": false
   },
   "outputs": [
    {
     "data": {
      "text/plain": [
       "Index(['100', '1000', '10000', '50000'], dtype='object')"
      ]
     },
     "execution_count": 6,
     "metadata": {},
     "output_type": "execute_result"
    }
   ],
   "source": [
    "COLUMNS[1:5]"
   ]
  },
  {
   "cell_type": "code",
   "execution_count": 9,
   "metadata": {
    "collapsed": true
   },
   "outputs": [],
   "source": [
    "N = [10**i for i in range(2, 5)]\n",
    "N.append(50000)\n",
    "RF_max_leaf_nodes = [0.05 * i for i in range(1, 21)]"
   ]
  },
  {
   "cell_type": "code",
   "execution_count": 35,
   "metadata": {
    "collapsed": true
   },
   "outputs": [],
   "source": [
    "matrix = pd.read_csv('leafs.csv')"
   ]
  },
  {
   "cell_type": "code",
   "execution_count": 36,
   "metadata": {
    "collapsed": false
   },
   "outputs": [],
   "source": [
    "for i in COLUMNS[1:5]:\n",
    "    matrix[i] = (matrix[i] - 7.15) ** 2"
   ]
  },
  {
   "cell_type": "code",
   "execution_count": 37,
   "metadata": {
    "collapsed": false
   },
   "outputs": [],
   "source": [
    "for i in COLUMNS[1:5]:\n",
    "    poly = np.polyfit(RF_max_leaf_nodes, matrix[i], 3)\n",
    "    matrix[i] = np.polyval(poly, RF_max_leaf_nodes)"
   ]
  },
  {
   "cell_type": "code",
   "execution_count": 28,
   "metadata": {
    "collapsed": true
   },
   "outputs": [],
   "source": [
    "matrix_ns = pd.read_csv('leafs.csv')"
   ]
  },
  {
   "cell_type": "code",
   "execution_count": 29,
   "metadata": {
    "collapsed": true
   },
   "outputs": [],
   "source": [
    "for i in COLUMNS[1:5]:\n",
    "    matrix_ns[i] = (matrix_ns[i] - 7.15) ** 2"
   ]
  },
  {
   "cell_type": "code",
   "execution_count": 31,
   "metadata": {
    "collapsed": false
   },
   "outputs": [],
   "source": [
    "rf = RandomForestRegressor()\n",
    "RF_max_leaf_nodes_ = np.array(RF_max_leaf_nodes)[:, None]\n",
    "for i in COLUMNS[1:5]: \n",
    "    rf.fit(RF_max_leaf_nodes_, matrix_ns[i])\n",
    "    matrix_ns[i] = rf.predict(RF_max_leaf_nodes_)"
   ]
  },
  {
   "cell_type": "code",
   "execution_count": 32,
   "metadata": {
    "collapsed": false
   },
   "outputs": [
    {
     "data": {
      "text/html": [
       "<div style=\"display: table;\"><div style=\"display: table-row;\"><div style=\"display: table-cell;\"><b title=\"bokeh.models.renderers.GlyphRenderer\">GlyphRenderer</b>(</div><div style=\"display: table-cell;\">id&nbsp;=&nbsp;'4e425cd5-80ee-411e-b794-963c64362e76', <span id=\"263240d9-1d4d-416d-a279-4bf53dbce19e\" style=\"cursor: pointer;\">&hellip;)</span></div></div><div class=\"1bf7b08f-f34d-4bb3-a420-5eaea0dc57f8\" style=\"display: none;\"><div style=\"display: table-cell;\"></div><div style=\"display: table-cell;\">data_source&nbsp;=&nbsp;ColumnDataSource(id='a2169b4a-75cc-4018-abaa-64218facb4b0', ...),</div></div><div class=\"1bf7b08f-f34d-4bb3-a420-5eaea0dc57f8\" style=\"display: none;\"><div style=\"display: table-cell;\"></div><div style=\"display: table-cell;\">glyph&nbsp;=&nbsp;Line(id='4096e22f-85a3-4f6a-b66b-4ab3486a603c', ...),</div></div><div class=\"1bf7b08f-f34d-4bb3-a420-5eaea0dc57f8\" style=\"display: none;\"><div style=\"display: table-cell;\"></div><div style=\"display: table-cell;\">hover_glyph&nbsp;=&nbsp;None,</div></div><div class=\"1bf7b08f-f34d-4bb3-a420-5eaea0dc57f8\" style=\"display: none;\"><div style=\"display: table-cell;\"></div><div style=\"display: table-cell;\">level&nbsp;=&nbsp;'glyph',</div></div><div class=\"1bf7b08f-f34d-4bb3-a420-5eaea0dc57f8\" style=\"display: none;\"><div style=\"display: table-cell;\"></div><div style=\"display: table-cell;\">name&nbsp;=&nbsp;None,</div></div><div class=\"1bf7b08f-f34d-4bb3-a420-5eaea0dc57f8\" style=\"display: none;\"><div style=\"display: table-cell;\"></div><div style=\"display: table-cell;\">nonselection_glyph&nbsp;=&nbsp;Line(id='31e62a29-f932-45cc-ba09-ec0daaa11101', ...),</div></div><div class=\"1bf7b08f-f34d-4bb3-a420-5eaea0dc57f8\" style=\"display: none;\"><div style=\"display: table-cell;\"></div><div style=\"display: table-cell;\">selection_glyph&nbsp;=&nbsp;None,</div></div><div class=\"1bf7b08f-f34d-4bb3-a420-5eaea0dc57f8\" style=\"display: none;\"><div style=\"display: table-cell;\"></div><div style=\"display: table-cell;\">tags&nbsp;=&nbsp;[],</div></div><div class=\"1bf7b08f-f34d-4bb3-a420-5eaea0dc57f8\" style=\"display: none;\"><div style=\"display: table-cell;\"></div><div style=\"display: table-cell;\">visible&nbsp;=&nbsp;True,</div></div><div class=\"1bf7b08f-f34d-4bb3-a420-5eaea0dc57f8\" style=\"display: none;\"><div style=\"display: table-cell;\"></div><div style=\"display: table-cell;\">x_range_name&nbsp;=&nbsp;'default',</div></div><div class=\"1bf7b08f-f34d-4bb3-a420-5eaea0dc57f8\" style=\"display: none;\"><div style=\"display: table-cell;\"></div><div style=\"display: table-cell;\">y_range_name&nbsp;=&nbsp;'default')</div></div></div>\n",
       "<script>\n",
       "(function() {\n",
       "  var expanded = false;\n",
       "  var ellipsis = document.getElementById(\"263240d9-1d4d-416d-a279-4bf53dbce19e\");\n",
       "  ellipsis.addEventListener(\"click\", function() {\n",
       "    var rows = document.getElementsByClassName(\"1bf7b08f-f34d-4bb3-a420-5eaea0dc57f8\");\n",
       "    for (var i = 0; i < rows.length; i++) {\n",
       "      var el = rows[i];\n",
       "      el.style.display = expanded ? \"none\" : \"table-row\";\n",
       "    }\n",
       "    ellipsis.innerHTML = expanded ? \"&hellip;)\" : \"&lsaquo;&lsaquo;&lsaquo;\";\n",
       "    expanded = !expanded;\n",
       "  });\n",
       "})();\n",
       "</script>\n"
      ],
      "text/plain": [
       "GlyphRenderer(id='4e425cd5-80ee-411e-b794-963c64362e76', ...)"
      ]
     },
     "execution_count": 32,
     "metadata": {},
     "output_type": "execute_result"
    }
   ],
   "source": [
    "ms_n_100 = figure()\n",
    "ms_n_100.line(RF_max_leaf_nodes, matrix_ns['100'], line_color='red')\n",
    "ms_n_1000 = figure()\n",
    "ms_n_1000.line(RF_max_leaf_nodes, matrix_ns['1000'], line_color = 'blue')\n",
    "ms_n_10000 = figure()\n",
    "ms_n_10000.line(RF_max_leaf_nodes, matrix_ns['1000'], line_color = 'green')\n",
    "ms_n_50000 = figure()\n",
    "ms_n_50000.line(RF_max_leaf_nodes, matrix_ns['1000'], line_color = 'navy')"
   ]
  },
  {
   "cell_type": "code",
   "execution_count": 33,
   "metadata": {
    "collapsed": true
   },
   "outputs": [],
   "source": [
    "layout_ns = row(ms_n_100, ms_n_1000, ms_n_10000, ms_n_50000)"
   ]
  },
  {
   "cell_type": "code",
   "execution_count": 34,
   "metadata": {
    "collapsed": false
   },
   "outputs": [
    {
     "data": {
      "text/html": [
       "\n",
       "\n",
       "    <div class=\"bk-root\">\n",
       "        <div class=\"plotdiv\" id=\"e1a5ffcc-508a-4d24-ae91-a63e610a454d\"></div>\n",
       "    </div>\n",
       "<script type=\"text/javascript\">\n",
       "  \n",
       "  (function(global) {\n",
       "    function now() {\n",
       "      return new Date();\n",
       "    }\n",
       "  \n",
       "    var force = \"\";\n",
       "  \n",
       "    if (typeof (window._bokeh_onload_callbacks) === \"undefined\" || force !== \"\") {\n",
       "      window._bokeh_onload_callbacks = [];\n",
       "      window._bokeh_is_loading = undefined;\n",
       "    }\n",
       "  \n",
       "  \n",
       "    \n",
       "    if (typeof (window._bokeh_timeout) === \"undefined\" || force !== \"\") {\n",
       "      window._bokeh_timeout = Date.now() + 0;\n",
       "      window._bokeh_failed_load = false;\n",
       "    }\n",
       "  \n",
       "    var NB_LOAD_WARNING = {'data': {'text/html':\n",
       "       \"<div style='background-color: #fdd'>\\n\"+\n",
       "       \"<p>\\n\"+\n",
       "       \"BokehJS does not appear to have successfully loaded. If loading BokehJS from CDN, this \\n\"+\n",
       "       \"may be due to a slow or bad network connection. Possible fixes:\\n\"+\n",
       "       \"</p>\\n\"+\n",
       "       \"<ul>\\n\"+\n",
       "       \"<li>re-rerun `output_notebook()` to attempt to load from CDN again, or</li>\\n\"+\n",
       "       \"<li>use INLINE resources instead, as so:</li>\\n\"+\n",
       "       \"</ul>\\n\"+\n",
       "       \"<code>\\n\"+\n",
       "       \"from bokeh.resources import INLINE\\n\"+\n",
       "       \"output_notebook(resources=INLINE)\\n\"+\n",
       "       \"</code>\\n\"+\n",
       "       \"</div>\"}};\n",
       "  \n",
       "    function display_loaded() {\n",
       "      if (window.Bokeh !== undefined) {\n",
       "        Bokeh.$(\"#e1a5ffcc-508a-4d24-ae91-a63e610a454d\").text(\"BokehJS successfully loaded.\");\n",
       "      } else if (Date.now() < window._bokeh_timeout) {\n",
       "        setTimeout(display_loaded, 100)\n",
       "      }\n",
       "    }\n",
       "  \n",
       "    function run_callbacks() {\n",
       "      window._bokeh_onload_callbacks.forEach(function(callback) { callback() });\n",
       "      delete window._bokeh_onload_callbacks\n",
       "      console.info(\"Bokeh: all callbacks have finished\");\n",
       "    }\n",
       "  \n",
       "    function load_libs(js_urls, callback) {\n",
       "      window._bokeh_onload_callbacks.push(callback);\n",
       "      if (window._bokeh_is_loading > 0) {\n",
       "        console.log(\"Bokeh: BokehJS is being loaded, scheduling callback at\", now());\n",
       "        return null;\n",
       "      }\n",
       "      if (js_urls == null || js_urls.length === 0) {\n",
       "        run_callbacks();\n",
       "        return null;\n",
       "      }\n",
       "      console.log(\"Bokeh: BokehJS not loaded, scheduling load and callback at\", now());\n",
       "      window._bokeh_is_loading = js_urls.length;\n",
       "      for (var i = 0; i < js_urls.length; i++) {\n",
       "        var url = js_urls[i];\n",
       "        var s = document.createElement('script');\n",
       "        s.src = url;\n",
       "        s.async = false;\n",
       "        s.onreadystatechange = s.onload = function() {\n",
       "          window._bokeh_is_loading--;\n",
       "          if (window._bokeh_is_loading === 0) {\n",
       "            console.log(\"Bokeh: all BokehJS libraries loaded\");\n",
       "            run_callbacks()\n",
       "          }\n",
       "        };\n",
       "        s.onerror = function() {\n",
       "          console.warn(\"failed to load library \" + url);\n",
       "        };\n",
       "        console.log(\"Bokeh: injecting script tag for BokehJS library: \", url);\n",
       "        document.getElementsByTagName(\"head\")[0].appendChild(s);\n",
       "      }\n",
       "    };var element = document.getElementById(\"e1a5ffcc-508a-4d24-ae91-a63e610a454d\");\n",
       "    if (element == null) {\n",
       "      console.log(\"Bokeh: ERROR: autoload.js configured with elementid 'e1a5ffcc-508a-4d24-ae91-a63e610a454d' but no matching script tag was found. \")\n",
       "      return false;\n",
       "    }\n",
       "  \n",
       "    var js_urls = [];\n",
       "  \n",
       "    var inline_js = [\n",
       "      function(Bokeh) {\n",
       "        Bokeh.$(function() {\n",
       "            var docs_json = {\"73b58a5e-8830-41c9-8b59-0e7585f4c802\":{\"roots\":{\"references\":[{\"attributes\":{\"plot\":{\"id\":\"2cd37d6e-4fc1-46de-a54d-b3bea13ba4fd\",\"subtype\":\"Figure\",\"type\":\"Plot\"}},\"id\":\"8e08dfbc-9286-4e51-a1c7-d02b4d890a56\",\"type\":\"PanTool\"},{\"attributes\":{\"line_alpha\":{\"value\":0.1},\"line_color\":{\"value\":\"#1f77b4\"},\"x\":{\"field\":\"x\"},\"y\":{\"field\":\"y\"}},\"id\":\"df430ba1-e4a7-4012-b2cb-db7ba721edd5\",\"type\":\"Line\"},{\"attributes\":{\"children\":[{\"id\":\"cf907eb8-86cf-4273-9014-6969ed6ce353\",\"subtype\":\"Figure\",\"type\":\"Plot\"},{\"id\":\"fc8443e8-b0d7-479f-86c9-4a467d3f2b71\",\"subtype\":\"Figure\",\"type\":\"Plot\"},{\"id\":\"2cd37d6e-4fc1-46de-a54d-b3bea13ba4fd\",\"subtype\":\"Figure\",\"type\":\"Plot\"},{\"id\":\"eb08dd68-409f-47d1-a97d-7cef492c9545\",\"subtype\":\"Figure\",\"type\":\"Plot\"}]},\"id\":\"7d0a714c-7f03-44eb-bead-e6ab43fb01aa\",\"type\":\"Row\"},{\"attributes\":{},\"id\":\"c786b39c-8e4a-4acb-b62f-b25db015b540\",\"type\":\"BasicTicker\"},{\"attributes\":{},\"id\":\"714ed531-3845-4162-a750-684677f43ff4\",\"type\":\"BasicTicker\"},{\"attributes\":{\"data_source\":{\"id\":\"a2169b4a-75cc-4018-abaa-64218facb4b0\",\"type\":\"ColumnDataSource\"},\"glyph\":{\"id\":\"4096e22f-85a3-4f6a-b66b-4ab3486a603c\",\"type\":\"Line\"},\"hover_glyph\":null,\"nonselection_glyph\":{\"id\":\"31e62a29-f932-45cc-ba09-ec0daaa11101\",\"type\":\"Line\"},\"selection_glyph\":null},\"id\":\"4e425cd5-80ee-411e-b794-963c64362e76\",\"type\":\"GlyphRenderer\"},{\"attributes\":{\"active_drag\":\"auto\",\"active_scroll\":\"auto\",\"active_tap\":\"auto\",\"tools\":[{\"id\":\"ae988cc7-19d4-4d95-af02-e6d1c79d41c1\",\"type\":\"PanTool\"},{\"id\":\"5af22430-6c57-47eb-8513-a7f5a0629edf\",\"type\":\"WheelZoomTool\"},{\"id\":\"99f92074-67a4-4e35-95d3-d83c6e13da5b\",\"type\":\"BoxZoomTool\"},{\"id\":\"a491f532-0f61-46d2-8fcb-80f8578c4dc4\",\"type\":\"SaveTool\"},{\"id\":\"4995db26-4198-48ea-8b7b-569e57208ef1\",\"type\":\"ResetTool\"},{\"id\":\"1fbe6ea5-3d19-4e2a-8a97-08de574c6406\",\"type\":\"HelpTool\"}]},\"id\":\"e5316d39-f89e-4d8b-91f1-91c7904e2dec\",\"type\":\"Toolbar\"},{\"attributes\":{},\"id\":\"3b1941ff-b95e-4dc5-8dc6-09b12072f5cc\",\"type\":\"BasicTicker\"},{\"attributes\":{\"bottom_units\":\"screen\",\"fill_alpha\":{\"value\":0.5},\"fill_color\":{\"value\":\"lightgrey\"},\"left_units\":\"screen\",\"level\":\"overlay\",\"line_alpha\":{\"value\":1.0},\"line_color\":{\"value\":\"black\"},\"line_dash\":[4,4],\"line_width\":{\"value\":2},\"plot\":null,\"render_mode\":\"css\",\"right_units\":\"screen\",\"top_units\":\"screen\"},\"id\":\"426aaa4a-82e7-4f68-b992-7e3b08911823\",\"type\":\"BoxAnnotation\"},{\"attributes\":{},\"id\":\"e9f20e23-06dc-4d64-8571-5fd7f91c0544\",\"type\":\"BasicTickFormatter\"},{\"attributes\":{\"overlay\":{\"id\":\"e68398da-551f-44c5-b7cd-55b62ab88a08\",\"type\":\"BoxAnnotation\"},\"plot\":{\"id\":\"2cd37d6e-4fc1-46de-a54d-b3bea13ba4fd\",\"subtype\":\"Figure\",\"type\":\"Plot\"}},\"id\":\"7045b4ce-8e41-4f87-8d4a-5d632474d3f3\",\"type\":\"BoxZoomTool\"},{\"attributes\":{\"overlay\":{\"id\":\"426aaa4a-82e7-4f68-b992-7e3b08911823\",\"type\":\"BoxAnnotation\"},\"plot\":{\"id\":\"fc8443e8-b0d7-479f-86c9-4a467d3f2b71\",\"subtype\":\"Figure\",\"type\":\"Plot\"}},\"id\":\"99f92074-67a4-4e35-95d3-d83c6e13da5b\",\"type\":\"BoxZoomTool\"},{\"attributes\":{\"formatter\":{\"id\":\"865fc036-3bc4-4a01-87a8-a8a7c5d9e5a4\",\"type\":\"BasicTickFormatter\"},\"plot\":{\"id\":\"cf907eb8-86cf-4273-9014-6969ed6ce353\",\"subtype\":\"Figure\",\"type\":\"Plot\"},\"ticker\":{\"id\":\"3b9f8329-e54f-488f-b6cd-22100de43ac2\",\"type\":\"BasicTicker\"}},\"id\":\"46fca31d-f4c0-4d3a-81e3-e5e02a6270fa\",\"type\":\"LinearAxis\"},{\"attributes\":{},\"id\":\"d811f2a6-a8ce-4d24-b0b9-4f6c49b8962a\",\"type\":\"BasicTicker\"},{\"attributes\":{\"bottom_units\":\"screen\",\"fill_alpha\":{\"value\":0.5},\"fill_color\":{\"value\":\"lightgrey\"},\"left_units\":\"screen\",\"level\":\"overlay\",\"line_alpha\":{\"value\":1.0},\"line_color\":{\"value\":\"black\"},\"line_dash\":[4,4],\"line_width\":{\"value\":2},\"plot\":null,\"render_mode\":\"css\",\"right_units\":\"screen\",\"top_units\":\"screen\"},\"id\":\"b2439602-a227-4e7b-84d4-effbcbfc626f\",\"type\":\"BoxAnnotation\"},{\"attributes\":{\"plot\":{\"id\":\"fc8443e8-b0d7-479f-86c9-4a467d3f2b71\",\"subtype\":\"Figure\",\"type\":\"Plot\"}},\"id\":\"ae988cc7-19d4-4d95-af02-e6d1c79d41c1\",\"type\":\"PanTool\"},{\"attributes\":{\"plot\":{\"id\":\"cf907eb8-86cf-4273-9014-6969ed6ce353\",\"subtype\":\"Figure\",\"type\":\"Plot\"},\"ticker\":{\"id\":\"8a0708bd-8cd1-4505-9198-4e42bdc1c7bb\",\"type\":\"BasicTicker\"}},\"id\":\"da960e58-f5d5-4aea-8263-ebef6f9ffd5d\",\"type\":\"Grid\"},{\"attributes\":{\"plot\":{\"id\":\"eb08dd68-409f-47d1-a97d-7cef492c9545\",\"subtype\":\"Figure\",\"type\":\"Plot\"}},\"id\":\"17d8d2f5-5977-4a74-8339-2c9dbe71f93e\",\"type\":\"HelpTool\"},{\"attributes\":{\"plot\":{\"id\":\"cf907eb8-86cf-4273-9014-6969ed6ce353\",\"subtype\":\"Figure\",\"type\":\"Plot\"}},\"id\":\"ec1321bd-cb69-4304-9c5d-783c0415d72d\",\"type\":\"PanTool\"},{\"attributes\":{\"line_color\":{\"value\":\"red\"},\"x\":{\"field\":\"x\"},\"y\":{\"field\":\"y\"}},\"id\":\"e2f0da57-f0b5-42c1-90a4-34e9a6601602\",\"type\":\"Line\"},{\"attributes\":{\"plot\":{\"id\":\"cf907eb8-86cf-4273-9014-6969ed6ce353\",\"subtype\":\"Figure\",\"type\":\"Plot\"}},\"id\":\"690ed1b7-6ad3-4daf-b590-25ee82adebad\",\"type\":\"HelpTool\"},{\"attributes\":{},\"id\":\"3b9f8329-e54f-488f-b6cd-22100de43ac2\",\"type\":\"BasicTicker\"},{\"attributes\":{\"active_drag\":\"auto\",\"active_scroll\":\"auto\",\"active_tap\":\"auto\",\"tools\":[{\"id\":\"584ea51f-0df6-4f08-bb82-580e57c13fa4\",\"type\":\"PanTool\"},{\"id\":\"7657bc07-40c4-42fe-b9f0-e5e7fec7ae21\",\"type\":\"WheelZoomTool\"},{\"id\":\"18f0bf4d-b5d4-42b7-885d-076574f2d2f2\",\"type\":\"BoxZoomTool\"},{\"id\":\"0312d3ee-8234-43a1-abeb-208dfbb87f90\",\"type\":\"SaveTool\"},{\"id\":\"b90e31bf-d795-4bed-a41c-4096fe58486a\",\"type\":\"ResetTool\"},{\"id\":\"17d8d2f5-5977-4a74-8339-2c9dbe71f93e\",\"type\":\"HelpTool\"}]},\"id\":\"1f4d71c2-0673-4544-a804-b3eb03831843\",\"type\":\"Toolbar\"},{\"attributes\":{},\"id\":\"a9820457-44ea-4996-8d63-2777066043e7\",\"type\":\"BasicTickFormatter\"},{\"attributes\":{\"below\":[{\"id\":\"4490fae5-cf02-417e-8722-771c4ca5bfd3\",\"type\":\"LinearAxis\"}],\"left\":[{\"id\":\"a4af0e9a-141b-419a-8f56-6c48890dfc55\",\"type\":\"LinearAxis\"}],\"renderers\":[{\"id\":\"4490fae5-cf02-417e-8722-771c4ca5bfd3\",\"type\":\"LinearAxis\"},{\"id\":\"f5483590-b3b4-4657-aa61-5c1e4e62a2b3\",\"type\":\"Grid\"},{\"id\":\"a4af0e9a-141b-419a-8f56-6c48890dfc55\",\"type\":\"LinearAxis\"},{\"id\":\"863cd179-e16b-40ce-b9b4-f558275dcfa8\",\"type\":\"Grid\"},{\"id\":\"e68398da-551f-44c5-b7cd-55b62ab88a08\",\"type\":\"BoxAnnotation\"},{\"id\":\"af865459-b415-4d32-ab72-88dcd37ab936\",\"type\":\"GlyphRenderer\"}],\"title\":{\"id\":\"66e4adfa-da87-4684-9b13-17bec132b010\",\"type\":\"Title\"},\"tool_events\":{\"id\":\"de6fc06f-798d-4d8a-b221-f742794aaa58\",\"type\":\"ToolEvents\"},\"toolbar\":{\"id\":\"3fbe6733-33b5-477a-9017-3d6c700cd23f\",\"type\":\"Toolbar\"},\"x_range\":{\"id\":\"1cc576f8-d6b9-414b-ba7a-64bc521c9892\",\"type\":\"DataRange1d\"},\"y_range\":{\"id\":\"0c95908d-4c35-417e-9c04-b74550efb86c\",\"type\":\"DataRange1d\"}},\"id\":\"2cd37d6e-4fc1-46de-a54d-b3bea13ba4fd\",\"subtype\":\"Figure\",\"type\":\"Plot\"},{\"attributes\":{\"callback\":null,\"column_names\":[\"x\",\"y\"],\"data\":{\"x\":[0.05,0.1,0.15000000000000002,0.2,0.25,0.30000000000000004,0.35000000000000003,0.4,0.45,0.5,0.55,0.6000000000000001,0.65,0.7000000000000001,0.75,0.8,0.8500000000000001,0.9,0.9500000000000001,1.0],\"y\":[0.03539370000000001,0.1285256999999999,0.1412985,0.11278690000000002,0.051983999999999905,0.16527680000000028,0.10873270000000017,0.021105999999999993,0.021503500000000075,0.020888500000000088,0.042040800000000184,0.00910440000000003,0.009669900000000047,0.007136200000000012,0.015876700000000018,0.03806900000000006,0.06830490000000052,0.04452100000000013,0.022741000000000084,0.07889950000000036]}},\"id\":\"52ab0e45-af57-4103-94c4-afd0697fb49e\",\"type\":\"ColumnDataSource\"},{\"attributes\":{\"overlay\":{\"id\":\"b2439602-a227-4e7b-84d4-effbcbfc626f\",\"type\":\"BoxAnnotation\"},\"plot\":{\"id\":\"cf907eb8-86cf-4273-9014-6969ed6ce353\",\"subtype\":\"Figure\",\"type\":\"Plot\"}},\"id\":\"b2a59f99-a8e7-4f21-ab34-6d3603f51474\",\"type\":\"BoxZoomTool\"},{\"attributes\":{\"line_color\":{\"value\":\"green\"},\"x\":{\"field\":\"x\"},\"y\":{\"field\":\"y\"}},\"id\":\"a8631994-1c44-4f65-b70c-62193217cf5f\",\"type\":\"Line\"},{\"attributes\":{\"dimension\":1,\"plot\":{\"id\":\"2cd37d6e-4fc1-46de-a54d-b3bea13ba4fd\",\"subtype\":\"Figure\",\"type\":\"Plot\"},\"ticker\":{\"id\":\"3b1941ff-b95e-4dc5-8dc6-09b12072f5cc\",\"type\":\"BasicTicker\"}},\"id\":\"863cd179-e16b-40ce-b9b4-f558275dcfa8\",\"type\":\"Grid\"},{\"attributes\":{},\"id\":\"de6fc06f-798d-4d8a-b221-f742794aaa58\",\"type\":\"ToolEvents\"},{\"attributes\":{},\"id\":\"b435f878-b8f8-4e04-910d-1a01a1bd24e0\",\"type\":\"BasicTickFormatter\"},{\"attributes\":{\"data_source\":{\"id\":\"108a9249-786b-4c89-af26-ea4448cdc0ba\",\"type\":\"ColumnDataSource\"},\"glyph\":{\"id\":\"a8631994-1c44-4f65-b70c-62193217cf5f\",\"type\":\"Line\"},\"hover_glyph\":null,\"nonselection_glyph\":{\"id\":\"1c4c7ed8-a63b-4ef9-acfc-065c4af6ae5f\",\"type\":\"Line\"},\"selection_glyph\":null},\"id\":\"af865459-b415-4d32-ab72-88dcd37ab936\",\"type\":\"GlyphRenderer\"},{\"attributes\":{\"callback\":null},\"id\":\"2ae0118e-e6b8-4fe6-88e1-d6abb6c059b3\",\"type\":\"DataRange1d\"},{\"attributes\":{\"plot\":{\"id\":\"eb08dd68-409f-47d1-a97d-7cef492c9545\",\"subtype\":\"Figure\",\"type\":\"Plot\"},\"ticker\":{\"id\":\"d811f2a6-a8ce-4d24-b0b9-4f6c49b8962a\",\"type\":\"BasicTicker\"}},\"id\":\"4f9f22f1-9a54-42ee-8506-80120c0672a6\",\"type\":\"Grid\"},{\"attributes\":{\"line_color\":{\"value\":\"navy\"},\"x\":{\"field\":\"x\"},\"y\":{\"field\":\"y\"}},\"id\":\"4096e22f-85a3-4f6a-b66b-4ab3486a603c\",\"type\":\"Line\"},{\"attributes\":{\"formatter\":{\"id\":\"b435f878-b8f8-4e04-910d-1a01a1bd24e0\",\"type\":\"BasicTickFormatter\"},\"plot\":{\"id\":\"fc8443e8-b0d7-479f-86c9-4a467d3f2b71\",\"subtype\":\"Figure\",\"type\":\"Plot\"},\"ticker\":{\"id\":\"d6c4ecf8-4b57-4aaa-bcae-4cb95f4c98e7\",\"type\":\"BasicTicker\"}},\"id\":\"4f534a2f-adea-446d-a973-2ee93355d0d5\",\"type\":\"LinearAxis\"},{\"attributes\":{},\"id\":\"26b23cbd-9cfa-437d-b03d-7c127c1a34d0\",\"type\":\"ToolEvents\"},{\"attributes\":{\"plot\":{\"id\":\"fc8443e8-b0d7-479f-86c9-4a467d3f2b71\",\"subtype\":\"Figure\",\"type\":\"Plot\"},\"ticker\":{\"id\":\"d6c4ecf8-4b57-4aaa-bcae-4cb95f4c98e7\",\"type\":\"BasicTicker\"}},\"id\":\"e8c80397-644a-465a-a527-5a4536afcec6\",\"type\":\"Grid\"},{\"attributes\":{\"plot\":{\"id\":\"fc8443e8-b0d7-479f-86c9-4a467d3f2b71\",\"subtype\":\"Figure\",\"type\":\"Plot\"}},\"id\":\"4995db26-4198-48ea-8b7b-569e57208ef1\",\"type\":\"ResetTool\"},{\"attributes\":{\"formatter\":{\"id\":\"ac5c38ed-fd98-4e2c-9a11-28e851baad32\",\"type\":\"BasicTickFormatter\"},\"plot\":{\"id\":\"eb08dd68-409f-47d1-a97d-7cef492c9545\",\"subtype\":\"Figure\",\"type\":\"Plot\"},\"ticker\":{\"id\":\"3aaa1586-857b-44e3-80a8-3cf1401b0f47\",\"type\":\"BasicTicker\"}},\"id\":\"6d7d2c51-0a8b-44ab-8cab-b762e83c8cc4\",\"type\":\"LinearAxis\"},{\"attributes\":{},\"id\":\"865fc036-3bc4-4a01-87a8-a8a7c5d9e5a4\",\"type\":\"BasicTickFormatter\"},{\"attributes\":{\"formatter\":{\"id\":\"ee33562b-2aa8-4b24-a539-54b553535382\",\"type\":\"BasicTickFormatter\"},\"plot\":{\"id\":\"2cd37d6e-4fc1-46de-a54d-b3bea13ba4fd\",\"subtype\":\"Figure\",\"type\":\"Plot\"},\"ticker\":{\"id\":\"714ed531-3845-4162-a750-684677f43ff4\",\"type\":\"BasicTicker\"}},\"id\":\"4490fae5-cf02-417e-8722-771c4ca5bfd3\",\"type\":\"LinearAxis\"},{\"attributes\":{\"callback\":null},\"id\":\"fcc91452-45cc-4029-b05d-4cc7fbd1b69c\",\"type\":\"DataRange1d\"},{\"attributes\":{\"below\":[{\"id\":\"c3346120-9393-43a1-881c-c426b5b79877\",\"type\":\"LinearAxis\"}],\"left\":[{\"id\":\"46fca31d-f4c0-4d3a-81e3-e5e02a6270fa\",\"type\":\"LinearAxis\"}],\"renderers\":[{\"id\":\"c3346120-9393-43a1-881c-c426b5b79877\",\"type\":\"LinearAxis\"},{\"id\":\"da960e58-f5d5-4aea-8263-ebef6f9ffd5d\",\"type\":\"Grid\"},{\"id\":\"46fca31d-f4c0-4d3a-81e3-e5e02a6270fa\",\"type\":\"LinearAxis\"},{\"id\":\"8ea9f644-62b1-4b51-a897-93800caa2b4f\",\"type\":\"Grid\"},{\"id\":\"b2439602-a227-4e7b-84d4-effbcbfc626f\",\"type\":\"BoxAnnotation\"},{\"id\":\"2d5abab9-e968-4986-a6b4-983b77c566c7\",\"type\":\"GlyphRenderer\"}],\"title\":{\"id\":\"8440c8b7-50d4-467a-a782-22d59d50c914\",\"type\":\"Title\"},\"tool_events\":{\"id\":\"348e3af2-b1e1-4964-bc2d-1765dd7a0339\",\"type\":\"ToolEvents\"},\"toolbar\":{\"id\":\"f67ac267-73bc-43a9-b1ff-63f3ad566a20\",\"type\":\"Toolbar\"},\"x_range\":{\"id\":\"2ae0118e-e6b8-4fe6-88e1-d6abb6c059b3\",\"type\":\"DataRange1d\"},\"y_range\":{\"id\":\"8dd394d7-2fd9-413b-a553-89ce669d8b71\",\"type\":\"DataRange1d\"}},\"id\":\"cf907eb8-86cf-4273-9014-6969ed6ce353\",\"subtype\":\"Figure\",\"type\":\"Plot\"},{\"attributes\":{\"active_drag\":\"auto\",\"active_scroll\":\"auto\",\"active_tap\":\"auto\",\"tools\":[{\"id\":\"8e08dfbc-9286-4e51-a1c7-d02b4d890a56\",\"type\":\"PanTool\"},{\"id\":\"33f7e057-90a2-4387-bbf4-38a52d3340a0\",\"type\":\"WheelZoomTool\"},{\"id\":\"7045b4ce-8e41-4f87-8d4a-5d632474d3f3\",\"type\":\"BoxZoomTool\"},{\"id\":\"f954c0bc-1108-4c19-9e7b-050984844cdc\",\"type\":\"SaveTool\"},{\"id\":\"72662eab-dc97-4afc-b5c9-ecb5c90642b6\",\"type\":\"ResetTool\"},{\"id\":\"959ece8b-2193-4062-b6be-926389623e07\",\"type\":\"HelpTool\"}]},\"id\":\"3fbe6733-33b5-477a-9017-3d6c700cd23f\",\"type\":\"Toolbar\"},{\"attributes\":{\"callback\":null,\"column_names\":[\"x\",\"y\"],\"data\":{\"x\":[0.05,0.1,0.15000000000000002,0.2,0.25,0.30000000000000004,0.35000000000000003,0.4,0.45,0.5,0.55,0.6000000000000001,0.65,0.7000000000000001,0.75,0.8,0.8500000000000001,0.9,0.9500000000000001,1.0],\"y\":[0.015685000000000084,0.016185000000000144,0.016909000000000087,0.0029353000000000304,0.002259199999999992,0.0009010133333333234,0.0003882133333333252,0.0024992299999999747,0.004724449999999942,0.007193949999999935,0.008242849999999951,0.0060924500000000634,0.006447999999999991,0.004669974999999977,0.0054459749999999935,0.016397350000000026,0.01888020000000011,0.013333699999999999,0.0052968999999999595,0.0033515999999999524]}},\"id\":\"108a9249-786b-4c89-af26-ea4448cdc0ba\",\"type\":\"ColumnDataSource\"},{\"attributes\":{\"formatter\":{\"id\":\"c8bb03e4-a4df-4e9c-a459-991fef03d7c7\",\"type\":\"BasicTickFormatter\"},\"plot\":{\"id\":\"2cd37d6e-4fc1-46de-a54d-b3bea13ba4fd\",\"subtype\":\"Figure\",\"type\":\"Plot\"},\"ticker\":{\"id\":\"3b1941ff-b95e-4dc5-8dc6-09b12072f5cc\",\"type\":\"BasicTicker\"}},\"id\":\"a4af0e9a-141b-419a-8f56-6c48890dfc55\",\"type\":\"LinearAxis\"},{\"attributes\":{},\"id\":\"a2f898b8-9b95-4d31-9ef8-7dfd7eeb1da0\",\"type\":\"BasicTickFormatter\"},{\"attributes\":{\"plot\":{\"id\":\"2cd37d6e-4fc1-46de-a54d-b3bea13ba4fd\",\"subtype\":\"Figure\",\"type\":\"Plot\"},\"ticker\":{\"id\":\"714ed531-3845-4162-a750-684677f43ff4\",\"type\":\"BasicTicker\"}},\"id\":\"f5483590-b3b4-4657-aa61-5c1e4e62a2b3\",\"type\":\"Grid\"},{\"attributes\":{\"callback\":null},\"id\":\"1cc576f8-d6b9-414b-ba7a-64bc521c9892\",\"type\":\"DataRange1d\"},{\"attributes\":{},\"id\":\"348e3af2-b1e1-4964-bc2d-1765dd7a0339\",\"type\":\"ToolEvents\"},{\"attributes\":{\"plot\":{\"id\":\"eb08dd68-409f-47d1-a97d-7cef492c9545\",\"subtype\":\"Figure\",\"type\":\"Plot\"}},\"id\":\"0312d3ee-8234-43a1-abeb-208dfbb87f90\",\"type\":\"SaveTool\"},{\"attributes\":{},\"id\":\"ee33562b-2aa8-4b24-a539-54b553535382\",\"type\":\"BasicTickFormatter\"},{\"attributes\":{\"plot\":{\"id\":\"2cd37d6e-4fc1-46de-a54d-b3bea13ba4fd\",\"subtype\":\"Figure\",\"type\":\"Plot\"}},\"id\":\"33f7e057-90a2-4387-bbf4-38a52d3340a0\",\"type\":\"WheelZoomTool\"},{\"attributes\":{},\"id\":\"8a0708bd-8cd1-4505-9198-4e42bdc1c7bb\",\"type\":\"BasicTicker\"},{\"attributes\":{\"plot\":{\"id\":\"fc8443e8-b0d7-479f-86c9-4a467d3f2b71\",\"subtype\":\"Figure\",\"type\":\"Plot\"}},\"id\":\"5af22430-6c57-47eb-8513-a7f5a0629edf\",\"type\":\"WheelZoomTool\"},{\"attributes\":{\"bottom_units\":\"screen\",\"fill_alpha\":{\"value\":0.5},\"fill_color\":{\"value\":\"lightgrey\"},\"left_units\":\"screen\",\"level\":\"overlay\",\"line_alpha\":{\"value\":1.0},\"line_color\":{\"value\":\"black\"},\"line_dash\":[4,4],\"line_width\":{\"value\":2},\"plot\":null,\"render_mode\":\"css\",\"right_units\":\"screen\",\"top_units\":\"screen\"},\"id\":\"e68398da-551f-44c5-b7cd-55b62ab88a08\",\"type\":\"BoxAnnotation\"},{\"attributes\":{},\"id\":\"ac5c38ed-fd98-4e2c-9a11-28e851baad32\",\"type\":\"BasicTickFormatter\"},{\"attributes\":{\"callback\":null,\"column_names\":[\"x\",\"y\"],\"data\":{\"x\":[0.05,0.1,0.15000000000000002,0.2,0.25,0.30000000000000004,0.35000000000000003,0.4,0.45,0.5,0.55,0.6000000000000001,0.65,0.7000000000000001,0.75,0.8,0.8500000000000001,0.9,0.9500000000000001,1.0],\"y\":[0.015685000000000084,0.016185000000000144,0.016909000000000087,0.0029353000000000304,0.002259199999999992,0.0009010133333333234,0.0003882133333333252,0.0024992299999999747,0.004724449999999942,0.007193949999999935,0.008242849999999951,0.0060924500000000634,0.006447999999999991,0.004669974999999977,0.0054459749999999935,0.016397350000000026,0.01888020000000011,0.013333699999999999,0.0052968999999999595,0.0033515999999999524]}},\"id\":\"eea71c78-7638-41f7-86c9-ab8dcf6c4f7a\",\"type\":\"ColumnDataSource\"},{\"attributes\":{\"callback\":null},\"id\":\"8dd394d7-2fd9-413b-a553-89ce669d8b71\",\"type\":\"DataRange1d\"},{\"attributes\":{\"plot\":{\"id\":\"eb08dd68-409f-47d1-a97d-7cef492c9545\",\"subtype\":\"Figure\",\"type\":\"Plot\"}},\"id\":\"7657bc07-40c4-42fe-b9f0-e5e7fec7ae21\",\"type\":\"WheelZoomTool\"},{\"attributes\":{\"below\":[{\"id\":\"6c3024aa-9982-4215-9e15-24d0ed593a12\",\"type\":\"LinearAxis\"}],\"left\":[{\"id\":\"6d7d2c51-0a8b-44ab-8cab-b762e83c8cc4\",\"type\":\"LinearAxis\"}],\"renderers\":[{\"id\":\"6c3024aa-9982-4215-9e15-24d0ed593a12\",\"type\":\"LinearAxis\"},{\"id\":\"4f9f22f1-9a54-42ee-8506-80120c0672a6\",\"type\":\"Grid\"},{\"id\":\"6d7d2c51-0a8b-44ab-8cab-b762e83c8cc4\",\"type\":\"LinearAxis\"},{\"id\":\"f02165b5-b87c-43b2-abab-219f5ca01e03\",\"type\":\"Grid\"},{\"id\":\"4b20cf93-78c5-4bab-8929-fcc589f3e6f8\",\"type\":\"BoxAnnotation\"},{\"id\":\"4e425cd5-80ee-411e-b794-963c64362e76\",\"type\":\"GlyphRenderer\"}],\"title\":{\"id\":\"05b6d8a7-fb52-4d82-9c77-d5e0e5eabde3\",\"type\":\"Title\"},\"tool_events\":{\"id\":\"d9fedc53-1496-4bc7-8981-4c06ecaffdc1\",\"type\":\"ToolEvents\"},\"toolbar\":{\"id\":\"1f4d71c2-0673-4544-a804-b3eb03831843\",\"type\":\"Toolbar\"},\"x_range\":{\"id\":\"8e017854-d44a-4c01-b5ef-0bf4cb0b23c8\",\"type\":\"DataRange1d\"},\"y_range\":{\"id\":\"ab43ffe6-648c-4b65-98c2-177aa96736db\",\"type\":\"DataRange1d\"}},\"id\":\"eb08dd68-409f-47d1-a97d-7cef492c9545\",\"subtype\":\"Figure\",\"type\":\"Plot\"},{\"attributes\":{\"overlay\":{\"id\":\"4b20cf93-78c5-4bab-8929-fcc589f3e6f8\",\"type\":\"BoxAnnotation\"},\"plot\":{\"id\":\"eb08dd68-409f-47d1-a97d-7cef492c9545\",\"subtype\":\"Figure\",\"type\":\"Plot\"}},\"id\":\"18f0bf4d-b5d4-42b7-885d-076574f2d2f2\",\"type\":\"BoxZoomTool\"},{\"attributes\":{},\"id\":\"d9fedc53-1496-4bc7-8981-4c06ecaffdc1\",\"type\":\"ToolEvents\"},{\"attributes\":{\"data_source\":{\"id\":\"eea71c78-7638-41f7-86c9-ab8dcf6c4f7a\",\"type\":\"ColumnDataSource\"},\"glyph\":{\"id\":\"05df0071-0f29-4b17-9cf1-6bd2d95e1d41\",\"type\":\"Line\"},\"hover_glyph\":null,\"nonselection_glyph\":{\"id\":\"370bbc79-efe0-41b6-94ca-9dbe05fb24d7\",\"type\":\"Line\"},\"selection_glyph\":null},\"id\":\"6e90b5e9-224a-49e1-8bc2-2204c2239247\",\"type\":\"GlyphRenderer\"},{\"attributes\":{\"callback\":null},\"id\":\"ab43ffe6-648c-4b65-98c2-177aa96736db\",\"type\":\"DataRange1d\"},{\"attributes\":{\"callback\":null},\"id\":\"0c95908d-4c35-417e-9c04-b74550efb86c\",\"type\":\"DataRange1d\"},{\"attributes\":{\"callback\":null,\"column_names\":[\"x\",\"y\"],\"data\":{\"x\":[0.05,0.1,0.15000000000000002,0.2,0.25,0.30000000000000004,0.35000000000000003,0.4,0.45,0.5,0.55,0.6000000000000001,0.65,0.7000000000000001,0.75,0.8,0.8500000000000001,0.9,0.9500000000000001,1.0],\"y\":[0.015685000000000084,0.016185000000000144,0.016909000000000087,0.0029353000000000304,0.002259199999999992,0.0009010133333333234,0.0003882133333333252,0.0024992299999999747,0.004724449999999942,0.007193949999999935,0.008242849999999951,0.0060924500000000634,0.006447999999999991,0.004669974999999977,0.0054459749999999935,0.016397350000000026,0.01888020000000011,0.013333699999999999,0.0052968999999999595,0.0033515999999999524]}},\"id\":\"a2169b4a-75cc-4018-abaa-64218facb4b0\",\"type\":\"ColumnDataSource\"},{\"attributes\":{\"bottom_units\":\"screen\",\"fill_alpha\":{\"value\":0.5},\"fill_color\":{\"value\":\"lightgrey\"},\"left_units\":\"screen\",\"level\":\"overlay\",\"line_alpha\":{\"value\":1.0},\"line_color\":{\"value\":\"black\"},\"line_dash\":[4,4],\"line_width\":{\"value\":2},\"plot\":null,\"render_mode\":\"css\",\"right_units\":\"screen\",\"top_units\":\"screen\"},\"id\":\"4b20cf93-78c5-4bab-8929-fcc589f3e6f8\",\"type\":\"BoxAnnotation\"},{\"attributes\":{\"plot\":{\"id\":\"cf907eb8-86cf-4273-9014-6969ed6ce353\",\"subtype\":\"Figure\",\"type\":\"Plot\"}},\"id\":\"57e253c4-8b3e-4f60-b305-7ae44cf184c0\",\"type\":\"WheelZoomTool\"},{\"attributes\":{\"data_source\":{\"id\":\"52ab0e45-af57-4103-94c4-afd0697fb49e\",\"type\":\"ColumnDataSource\"},\"glyph\":{\"id\":\"e2f0da57-f0b5-42c1-90a4-34e9a6601602\",\"type\":\"Line\"},\"hover_glyph\":null,\"nonselection_glyph\":{\"id\":\"df430ba1-e4a7-4012-b2cb-db7ba721edd5\",\"type\":\"Line\"},\"selection_glyph\":null},\"id\":\"2d5abab9-e968-4986-a6b4-983b77c566c7\",\"type\":\"GlyphRenderer\"},{\"attributes\":{\"dimension\":1,\"plot\":{\"id\":\"eb08dd68-409f-47d1-a97d-7cef492c9545\",\"subtype\":\"Figure\",\"type\":\"Plot\"},\"ticker\":{\"id\":\"3aaa1586-857b-44e3-80a8-3cf1401b0f47\",\"type\":\"BasicTicker\"}},\"id\":\"f02165b5-b87c-43b2-abab-219f5ca01e03\",\"type\":\"Grid\"},{\"attributes\":{\"callback\":null},\"id\":\"c78428dd-de34-4eed-91b0-c2cd068bafb6\",\"type\":\"DataRange1d\"},{\"attributes\":{\"plot\":{\"id\":\"2cd37d6e-4fc1-46de-a54d-b3bea13ba4fd\",\"subtype\":\"Figure\",\"type\":\"Plot\"}},\"id\":\"959ece8b-2193-4062-b6be-926389623e07\",\"type\":\"HelpTool\"},{\"attributes\":{\"plot\":null,\"text\":null},\"id\":\"66e4adfa-da87-4684-9b13-17bec132b010\",\"type\":\"Title\"},{\"attributes\":{\"dimension\":1,\"plot\":{\"id\":\"cf907eb8-86cf-4273-9014-6969ed6ce353\",\"subtype\":\"Figure\",\"type\":\"Plot\"},\"ticker\":{\"id\":\"3b9f8329-e54f-488f-b6cd-22100de43ac2\",\"type\":\"BasicTicker\"}},\"id\":\"8ea9f644-62b1-4b51-a897-93800caa2b4f\",\"type\":\"Grid\"},{\"attributes\":{\"plot\":null,\"text\":null},\"id\":\"3b413c4f-d298-436b-abf6-dafc41f0dddb\",\"type\":\"Title\"},{\"attributes\":{\"formatter\":{\"id\":\"a2f898b8-9b95-4d31-9ef8-7dfd7eeb1da0\",\"type\":\"BasicTickFormatter\"},\"plot\":{\"id\":\"cf907eb8-86cf-4273-9014-6969ed6ce353\",\"subtype\":\"Figure\",\"type\":\"Plot\"},\"ticker\":{\"id\":\"8a0708bd-8cd1-4505-9198-4e42bdc1c7bb\",\"type\":\"BasicTicker\"}},\"id\":\"c3346120-9393-43a1-881c-c426b5b79877\",\"type\":\"LinearAxis\"},{\"attributes\":{\"plot\":{\"id\":\"cf907eb8-86cf-4273-9014-6969ed6ce353\",\"subtype\":\"Figure\",\"type\":\"Plot\"}},\"id\":\"3b9332b3-39d6-4d4f-abb1-e49c24213c20\",\"type\":\"SaveTool\"},{\"attributes\":{},\"id\":\"3aaa1586-857b-44e3-80a8-3cf1401b0f47\",\"type\":\"BasicTicker\"},{\"attributes\":{\"plot\":null,\"text\":null},\"id\":\"05b6d8a7-fb52-4d82-9c77-d5e0e5eabde3\",\"type\":\"Title\"},{\"attributes\":{\"line_alpha\":{\"value\":0.1},\"line_color\":{\"value\":\"#1f77b4\"},\"x\":{\"field\":\"x\"},\"y\":{\"field\":\"y\"}},\"id\":\"370bbc79-efe0-41b6-94ca-9dbe05fb24d7\",\"type\":\"Line\"},{\"attributes\":{\"line_color\":{\"value\":\"blue\"},\"x\":{\"field\":\"x\"},\"y\":{\"field\":\"y\"}},\"id\":\"05df0071-0f29-4b17-9cf1-6bd2d95e1d41\",\"type\":\"Line\"},{\"attributes\":{\"formatter\":{\"id\":\"e9f20e23-06dc-4d64-8571-5fd7f91c0544\",\"type\":\"BasicTickFormatter\"},\"plot\":{\"id\":\"eb08dd68-409f-47d1-a97d-7cef492c9545\",\"subtype\":\"Figure\",\"type\":\"Plot\"},\"ticker\":{\"id\":\"d811f2a6-a8ce-4d24-b0b9-4f6c49b8962a\",\"type\":\"BasicTicker\"}},\"id\":\"6c3024aa-9982-4215-9e15-24d0ed593a12\",\"type\":\"LinearAxis\"},{\"attributes\":{\"plot\":{\"id\":\"eb08dd68-409f-47d1-a97d-7cef492c9545\",\"subtype\":\"Figure\",\"type\":\"Plot\"}},\"id\":\"584ea51f-0df6-4f08-bb82-580e57c13fa4\",\"type\":\"PanTool\"},{\"attributes\":{\"callback\":null},\"id\":\"8e017854-d44a-4c01-b5ef-0bf4cb0b23c8\",\"type\":\"DataRange1d\"},{\"attributes\":{\"plot\":{\"id\":\"fc8443e8-b0d7-479f-86c9-4a467d3f2b71\",\"subtype\":\"Figure\",\"type\":\"Plot\"}},\"id\":\"1fbe6ea5-3d19-4e2a-8a97-08de574c6406\",\"type\":\"HelpTool\"},{\"attributes\":{},\"id\":\"d6c4ecf8-4b57-4aaa-bcae-4cb95f4c98e7\",\"type\":\"BasicTicker\"},{\"attributes\":{\"below\":[{\"id\":\"4f534a2f-adea-446d-a973-2ee93355d0d5\",\"type\":\"LinearAxis\"}],\"left\":[{\"id\":\"28a573c4-5a3f-47d7-90da-9f06b40f8f9b\",\"type\":\"LinearAxis\"}],\"renderers\":[{\"id\":\"4f534a2f-adea-446d-a973-2ee93355d0d5\",\"type\":\"LinearAxis\"},{\"id\":\"e8c80397-644a-465a-a527-5a4536afcec6\",\"type\":\"Grid\"},{\"id\":\"28a573c4-5a3f-47d7-90da-9f06b40f8f9b\",\"type\":\"LinearAxis\"},{\"id\":\"b19d872c-7a44-4f34-9d09-755f42446ef0\",\"type\":\"Grid\"},{\"id\":\"426aaa4a-82e7-4f68-b992-7e3b08911823\",\"type\":\"BoxAnnotation\"},{\"id\":\"6e90b5e9-224a-49e1-8bc2-2204c2239247\",\"type\":\"GlyphRenderer\"}],\"title\":{\"id\":\"3b413c4f-d298-436b-abf6-dafc41f0dddb\",\"type\":\"Title\"},\"tool_events\":{\"id\":\"26b23cbd-9cfa-437d-b03d-7c127c1a34d0\",\"type\":\"ToolEvents\"},\"toolbar\":{\"id\":\"e5316d39-f89e-4d8b-91f1-91c7904e2dec\",\"type\":\"Toolbar\"},\"x_range\":{\"id\":\"fcc91452-45cc-4029-b05d-4cc7fbd1b69c\",\"type\":\"DataRange1d\"},\"y_range\":{\"id\":\"c78428dd-de34-4eed-91b0-c2cd068bafb6\",\"type\":\"DataRange1d\"}},\"id\":\"fc8443e8-b0d7-479f-86c9-4a467d3f2b71\",\"subtype\":\"Figure\",\"type\":\"Plot\"},{\"attributes\":{\"plot\":{\"id\":\"eb08dd68-409f-47d1-a97d-7cef492c9545\",\"subtype\":\"Figure\",\"type\":\"Plot\"}},\"id\":\"b90e31bf-d795-4bed-a41c-4096fe58486a\",\"type\":\"ResetTool\"},{\"attributes\":{\"plot\":{\"id\":\"fc8443e8-b0d7-479f-86c9-4a467d3f2b71\",\"subtype\":\"Figure\",\"type\":\"Plot\"}},\"id\":\"a491f532-0f61-46d2-8fcb-80f8578c4dc4\",\"type\":\"SaveTool\"},{\"attributes\":{\"formatter\":{\"id\":\"a9820457-44ea-4996-8d63-2777066043e7\",\"type\":\"BasicTickFormatter\"},\"plot\":{\"id\":\"fc8443e8-b0d7-479f-86c9-4a467d3f2b71\",\"subtype\":\"Figure\",\"type\":\"Plot\"},\"ticker\":{\"id\":\"c786b39c-8e4a-4acb-b62f-b25db015b540\",\"type\":\"BasicTicker\"}},\"id\":\"28a573c4-5a3f-47d7-90da-9f06b40f8f9b\",\"type\":\"LinearAxis\"},{\"attributes\":{\"line_alpha\":{\"value\":0.1},\"line_color\":{\"value\":\"#1f77b4\"},\"x\":{\"field\":\"x\"},\"y\":{\"field\":\"y\"}},\"id\":\"31e62a29-f932-45cc-ba09-ec0daaa11101\",\"type\":\"Line\"},{\"attributes\":{},\"id\":\"c8bb03e4-a4df-4e9c-a459-991fef03d7c7\",\"type\":\"BasicTickFormatter\"},{\"attributes\":{\"line_alpha\":{\"value\":0.1},\"line_color\":{\"value\":\"#1f77b4\"},\"x\":{\"field\":\"x\"},\"y\":{\"field\":\"y\"}},\"id\":\"1c4c7ed8-a63b-4ef9-acfc-065c4af6ae5f\",\"type\":\"Line\"},{\"attributes\":{\"plot\":null,\"text\":null},\"id\":\"8440c8b7-50d4-467a-a782-22d59d50c914\",\"type\":\"Title\"},{\"attributes\":{\"plot\":{\"id\":\"cf907eb8-86cf-4273-9014-6969ed6ce353\",\"subtype\":\"Figure\",\"type\":\"Plot\"}},\"id\":\"1159489b-3001-4543-aa6b-c770bd51fa6d\",\"type\":\"ResetTool\"},{\"attributes\":{\"dimension\":1,\"plot\":{\"id\":\"fc8443e8-b0d7-479f-86c9-4a467d3f2b71\",\"subtype\":\"Figure\",\"type\":\"Plot\"},\"ticker\":{\"id\":\"c786b39c-8e4a-4acb-b62f-b25db015b540\",\"type\":\"BasicTicker\"}},\"id\":\"b19d872c-7a44-4f34-9d09-755f42446ef0\",\"type\":\"Grid\"},{\"attributes\":{\"plot\":{\"id\":\"2cd37d6e-4fc1-46de-a54d-b3bea13ba4fd\",\"subtype\":\"Figure\",\"type\":\"Plot\"}},\"id\":\"f954c0bc-1108-4c19-9e7b-050984844cdc\",\"type\":\"SaveTool\"},{\"attributes\":{\"plot\":{\"id\":\"2cd37d6e-4fc1-46de-a54d-b3bea13ba4fd\",\"subtype\":\"Figure\",\"type\":\"Plot\"}},\"id\":\"72662eab-dc97-4afc-b5c9-ecb5c90642b6\",\"type\":\"ResetTool\"},{\"attributes\":{\"active_drag\":\"auto\",\"active_scroll\":\"auto\",\"active_tap\":\"auto\",\"tools\":[{\"id\":\"ec1321bd-cb69-4304-9c5d-783c0415d72d\",\"type\":\"PanTool\"},{\"id\":\"57e253c4-8b3e-4f60-b305-7ae44cf184c0\",\"type\":\"WheelZoomTool\"},{\"id\":\"b2a59f99-a8e7-4f21-ab34-6d3603f51474\",\"type\":\"BoxZoomTool\"},{\"id\":\"3b9332b3-39d6-4d4f-abb1-e49c24213c20\",\"type\":\"SaveTool\"},{\"id\":\"1159489b-3001-4543-aa6b-c770bd51fa6d\",\"type\":\"ResetTool\"},{\"id\":\"690ed1b7-6ad3-4daf-b590-25ee82adebad\",\"type\":\"HelpTool\"}]},\"id\":\"f67ac267-73bc-43a9-b1ff-63f3ad566a20\",\"type\":\"Toolbar\"}],\"root_ids\":[\"7d0a714c-7f03-44eb-bead-e6ab43fb01aa\"]},\"title\":\"Bokeh Application\",\"version\":\"0.12.3\"}};\n",
       "            var render_items = [{\"docid\":\"73b58a5e-8830-41c9-8b59-0e7585f4c802\",\"elementid\":\"e1a5ffcc-508a-4d24-ae91-a63e610a454d\",\"modelid\":\"7d0a714c-7f03-44eb-bead-e6ab43fb01aa\"}];\n",
       "            \n",
       "            Bokeh.embed.embed_items(docs_json, render_items);\n",
       "        });\n",
       "      },\n",
       "      function(Bokeh) {\n",
       "      }\n",
       "    ];\n",
       "  \n",
       "    function run_inline_js() {\n",
       "      \n",
       "      if ((window.Bokeh !== undefined) || (force === \"1\")) {\n",
       "        for (var i = 0; i < inline_js.length; i++) {\n",
       "          inline_js[i](window.Bokeh);\n",
       "        }if (force === \"1\") {\n",
       "          display_loaded();\n",
       "        }} else if (Date.now() < window._bokeh_timeout) {\n",
       "        setTimeout(run_inline_js, 100);\n",
       "      } else if (!window._bokeh_failed_load) {\n",
       "        console.log(\"Bokeh: BokehJS failed to load within specified timeout.\");\n",
       "        window._bokeh_failed_load = true;\n",
       "      } else if (!force) {\n",
       "        var cell = $(\"#e1a5ffcc-508a-4d24-ae91-a63e610a454d\").parents('.cell').data().cell;\n",
       "        cell.output_area.append_execute_result(NB_LOAD_WARNING)\n",
       "      }\n",
       "  \n",
       "    }\n",
       "  \n",
       "    if (window._bokeh_is_loading === 0) {\n",
       "      console.log(\"Bokeh: BokehJS loaded, going straight to plotting\");\n",
       "      run_inline_js();\n",
       "    } else {\n",
       "      load_libs(js_urls, function() {\n",
       "        console.log(\"Bokeh: BokehJS plotting callback run at\", now());\n",
       "        run_inline_js();\n",
       "      });\n",
       "    }\n",
       "  }(this));\n",
       "</script>"
      ]
     },
     "metadata": {},
     "output_type": "display_data"
    }
   ],
   "source": [
    "show(layout_ns)"
   ]
  },
  {
   "cell_type": "code",
   "execution_count": 38,
   "metadata": {
    "collapsed": false
   },
   "outputs": [
    {
     "data": {
      "text/html": [
       "<div style=\"display: table;\"><div style=\"display: table-row;\"><div style=\"display: table-cell;\"><b title=\"bokeh.models.renderers.GlyphRenderer\">GlyphRenderer</b>(</div><div style=\"display: table-cell;\">id&nbsp;=&nbsp;'e80f9924-4321-448c-8442-f855a278c158', <span id=\"92a5967f-a9d4-4deb-b890-cf1660461d0e\" style=\"cursor: pointer;\">&hellip;)</span></div></div><div class=\"28410dc6-c30f-4b33-9841-e8e2b7a20d00\" style=\"display: none;\"><div style=\"display: table-cell;\"></div><div style=\"display: table-cell;\">data_source&nbsp;=&nbsp;ColumnDataSource(id='7fd68bb1-a71a-48c7-9d15-6bd2bf12cc8b', ...),</div></div><div class=\"28410dc6-c30f-4b33-9841-e8e2b7a20d00\" style=\"display: none;\"><div style=\"display: table-cell;\"></div><div style=\"display: table-cell;\">glyph&nbsp;=&nbsp;Line(id='b9b8aa32-8ef5-48e6-aab2-0fe6203d0b73', ...),</div></div><div class=\"28410dc6-c30f-4b33-9841-e8e2b7a20d00\" style=\"display: none;\"><div style=\"display: table-cell;\"></div><div style=\"display: table-cell;\">hover_glyph&nbsp;=&nbsp;None,</div></div><div class=\"28410dc6-c30f-4b33-9841-e8e2b7a20d00\" style=\"display: none;\"><div style=\"display: table-cell;\"></div><div style=\"display: table-cell;\">level&nbsp;=&nbsp;'glyph',</div></div><div class=\"28410dc6-c30f-4b33-9841-e8e2b7a20d00\" style=\"display: none;\"><div style=\"display: table-cell;\"></div><div style=\"display: table-cell;\">name&nbsp;=&nbsp;None,</div></div><div class=\"28410dc6-c30f-4b33-9841-e8e2b7a20d00\" style=\"display: none;\"><div style=\"display: table-cell;\"></div><div style=\"display: table-cell;\">nonselection_glyph&nbsp;=&nbsp;Line(id='b9c46067-f124-48ef-951b-59ff5c314d57', ...),</div></div><div class=\"28410dc6-c30f-4b33-9841-e8e2b7a20d00\" style=\"display: none;\"><div style=\"display: table-cell;\"></div><div style=\"display: table-cell;\">selection_glyph&nbsp;=&nbsp;None,</div></div><div class=\"28410dc6-c30f-4b33-9841-e8e2b7a20d00\" style=\"display: none;\"><div style=\"display: table-cell;\"></div><div style=\"display: table-cell;\">tags&nbsp;=&nbsp;[],</div></div><div class=\"28410dc6-c30f-4b33-9841-e8e2b7a20d00\" style=\"display: none;\"><div style=\"display: table-cell;\"></div><div style=\"display: table-cell;\">visible&nbsp;=&nbsp;True,</div></div><div class=\"28410dc6-c30f-4b33-9841-e8e2b7a20d00\" style=\"display: none;\"><div style=\"display: table-cell;\"></div><div style=\"display: table-cell;\">x_range_name&nbsp;=&nbsp;'default',</div></div><div class=\"28410dc6-c30f-4b33-9841-e8e2b7a20d00\" style=\"display: none;\"><div style=\"display: table-cell;\"></div><div style=\"display: table-cell;\">y_range_name&nbsp;=&nbsp;'default')</div></div></div>\n",
       "<script>\n",
       "(function() {\n",
       "  var expanded = false;\n",
       "  var ellipsis = document.getElementById(\"92a5967f-a9d4-4deb-b890-cf1660461d0e\");\n",
       "  ellipsis.addEventListener(\"click\", function() {\n",
       "    var rows = document.getElementsByClassName(\"28410dc6-c30f-4b33-9841-e8e2b7a20d00\");\n",
       "    for (var i = 0; i < rows.length; i++) {\n",
       "      var el = rows[i];\n",
       "      el.style.display = expanded ? \"none\" : \"table-row\";\n",
       "    }\n",
       "    ellipsis.innerHTML = expanded ? \"&hellip;)\" : \"&lsaquo;&lsaquo;&lsaquo;\";\n",
       "    expanded = !expanded;\n",
       "  });\n",
       "})();\n",
       "</script>\n"
      ],
      "text/plain": [
       "GlyphRenderer(id='e80f9924-4321-448c-8442-f855a278c158', ...)"
      ]
     },
     "execution_count": 38,
     "metadata": {},
     "output_type": "execute_result"
    }
   ],
   "source": [
    "n_100 = figure()\n",
    "n_100.line(RF_max_leaf_nodes, matrix['100'], line_color='red')\n",
    "n_1000 = figure()\n",
    "n_1000.line(RF_max_leaf_nodes, matrix['1000'], line_color = 'blue')\n",
    "n_10000 = figure()\n",
    "n_10000.line(RF_max_leaf_nodes, matrix['1000'], line_color = 'green')\n",
    "n_50000 = figure()\n",
    "n_50000.line(RF_max_leaf_nodes, matrix['1000'], line_color = 'navy')"
   ]
  },
  {
   "cell_type": "code",
   "execution_count": 39,
   "metadata": {
    "collapsed": true
   },
   "outputs": [],
   "source": [
    "row_fig = [n_100, n_1000, n_10000, n_50000]"
   ]
  },
  {
   "cell_type": "code",
   "execution_count": 13,
   "metadata": {
    "collapsed": false
   },
   "outputs": [],
   "source": [
    "from bokeh.layouts import row"
   ]
  },
  {
   "cell_type": "code",
   "execution_count": 40,
   "metadata": {
    "collapsed": true
   },
   "outputs": [],
   "source": [
    "layout = row(n_100, n_1000, n_10000, n_50000)"
   ]
  },
  {
   "cell_type": "code",
   "execution_count": 41,
   "metadata": {
    "collapsed": false
   },
   "outputs": [
    {
     "data": {
      "text/html": [
       "\n",
       "    <div class=\"bk-root\">\n",
       "        <a href=\"http://bokeh.pydata.org\" target=\"_blank\" class=\"bk-logo bk-logo-small bk-logo-notebook\"></a>\n",
       "        <span id=\"2a13de5c-ad88-48cf-815d-e238a240a2be\">Loading BokehJS ...</span>\n",
       "    </div>"
      ]
     },
     "metadata": {},
     "output_type": "display_data"
    },
    {
     "data": {
      "application/javascript": [
       "\n",
       "(function(global) {\n",
       "  function now() {\n",
       "    return new Date();\n",
       "  }\n",
       "\n",
       "  var force = \"1\";\n",
       "\n",
       "  if (typeof (window._bokeh_onload_callbacks) === \"undefined\" || force !== \"\") {\n",
       "    window._bokeh_onload_callbacks = [];\n",
       "    window._bokeh_is_loading = undefined;\n",
       "  }\n",
       "\n",
       "\n",
       "  \n",
       "  if (typeof (window._bokeh_timeout) === \"undefined\" || force !== \"\") {\n",
       "    window._bokeh_timeout = Date.now() + 5000;\n",
       "    window._bokeh_failed_load = false;\n",
       "  }\n",
       "\n",
       "  var NB_LOAD_WARNING = {'data': {'text/html':\n",
       "     \"<div style='background-color: #fdd'>\\n\"+\n",
       "     \"<p>\\n\"+\n",
       "     \"BokehJS does not appear to have successfully loaded. If loading BokehJS from CDN, this \\n\"+\n",
       "     \"may be due to a slow or bad network connection. Possible fixes:\\n\"+\n",
       "     \"</p>\\n\"+\n",
       "     \"<ul>\\n\"+\n",
       "     \"<li>re-rerun `output_notebook()` to attempt to load from CDN again, or</li>\\n\"+\n",
       "     \"<li>use INLINE resources instead, as so:</li>\\n\"+\n",
       "     \"</ul>\\n\"+\n",
       "     \"<code>\\n\"+\n",
       "     \"from bokeh.resources import INLINE\\n\"+\n",
       "     \"output_notebook(resources=INLINE)\\n\"+\n",
       "     \"</code>\\n\"+\n",
       "     \"</div>\"}};\n",
       "\n",
       "  function display_loaded() {\n",
       "    if (window.Bokeh !== undefined) {\n",
       "      Bokeh.$(\"#2a13de5c-ad88-48cf-815d-e238a240a2be\").text(\"BokehJS successfully loaded.\");\n",
       "    } else if (Date.now() < window._bokeh_timeout) {\n",
       "      setTimeout(display_loaded, 100)\n",
       "    }\n",
       "  }\n",
       "\n",
       "  function run_callbacks() {\n",
       "    window._bokeh_onload_callbacks.forEach(function(callback) { callback() });\n",
       "    delete window._bokeh_onload_callbacks\n",
       "    console.info(\"Bokeh: all callbacks have finished\");\n",
       "  }\n",
       "\n",
       "  function load_libs(js_urls, callback) {\n",
       "    window._bokeh_onload_callbacks.push(callback);\n",
       "    if (window._bokeh_is_loading > 0) {\n",
       "      console.log(\"Bokeh: BokehJS is being loaded, scheduling callback at\", now());\n",
       "      return null;\n",
       "    }\n",
       "    if (js_urls == null || js_urls.length === 0) {\n",
       "      run_callbacks();\n",
       "      return null;\n",
       "    }\n",
       "    console.log(\"Bokeh: BokehJS not loaded, scheduling load and callback at\", now());\n",
       "    window._bokeh_is_loading = js_urls.length;\n",
       "    for (var i = 0; i < js_urls.length; i++) {\n",
       "      var url = js_urls[i];\n",
       "      var s = document.createElement('script');\n",
       "      s.src = url;\n",
       "      s.async = false;\n",
       "      s.onreadystatechange = s.onload = function() {\n",
       "        window._bokeh_is_loading--;\n",
       "        if (window._bokeh_is_loading === 0) {\n",
       "          console.log(\"Bokeh: all BokehJS libraries loaded\");\n",
       "          run_callbacks()\n",
       "        }\n",
       "      };\n",
       "      s.onerror = function() {\n",
       "        console.warn(\"failed to load library \" + url);\n",
       "      };\n",
       "      console.log(\"Bokeh: injecting script tag for BokehJS library: \", url);\n",
       "      document.getElementsByTagName(\"head\")[0].appendChild(s);\n",
       "    }\n",
       "  };var element = document.getElementById(\"2a13de5c-ad88-48cf-815d-e238a240a2be\");\n",
       "  if (element == null) {\n",
       "    console.log(\"Bokeh: ERROR: autoload.js configured with elementid '2a13de5c-ad88-48cf-815d-e238a240a2be' but no matching script tag was found. \")\n",
       "    return false;\n",
       "  }\n",
       "\n",
       "  var js_urls = ['https://cdn.pydata.org/bokeh/release/bokeh-0.12.3.min.js', 'https://cdn.pydata.org/bokeh/release/bokeh-widgets-0.12.3.min.js'];\n",
       "\n",
       "  var inline_js = [\n",
       "    function(Bokeh) {\n",
       "      Bokeh.set_log_level(\"info\");\n",
       "    },\n",
       "    \n",
       "    function(Bokeh) {\n",
       "      \n",
       "      Bokeh.$(\"#2a13de5c-ad88-48cf-815d-e238a240a2be\").text(\"BokehJS is loading...\");\n",
       "    },\n",
       "    function(Bokeh) {\n",
       "      console.log(\"Bokeh: injecting CSS: https://cdn.pydata.org/bokeh/release/bokeh-0.12.3.min.css\");\n",
       "      Bokeh.embed.inject_css(\"https://cdn.pydata.org/bokeh/release/bokeh-0.12.3.min.css\");\n",
       "      console.log(\"Bokeh: injecting CSS: https://cdn.pydata.org/bokeh/release/bokeh-widgets-0.12.3.min.css\");\n",
       "      Bokeh.embed.inject_css(\"https://cdn.pydata.org/bokeh/release/bokeh-widgets-0.12.3.min.css\");\n",
       "    }\n",
       "  ];\n",
       "\n",
       "  function run_inline_js() {\n",
       "    \n",
       "    if ((window.Bokeh !== undefined) || (force === \"1\")) {\n",
       "      for (var i = 0; i < inline_js.length; i++) {\n",
       "        inline_js[i](window.Bokeh);\n",
       "      }if (force === \"1\") {\n",
       "        display_loaded();\n",
       "      }} else if (Date.now() < window._bokeh_timeout) {\n",
       "      setTimeout(run_inline_js, 100);\n",
       "    } else if (!window._bokeh_failed_load) {\n",
       "      console.log(\"Bokeh: BokehJS failed to load within specified timeout.\");\n",
       "      window._bokeh_failed_load = true;\n",
       "    } else if (!force) {\n",
       "      var cell = $(\"#2a13de5c-ad88-48cf-815d-e238a240a2be\").parents('.cell').data().cell;\n",
       "      cell.output_area.append_execute_result(NB_LOAD_WARNING)\n",
       "    }\n",
       "\n",
       "  }\n",
       "\n",
       "  if (window._bokeh_is_loading === 0) {\n",
       "    console.log(\"Bokeh: BokehJS loaded, going straight to plotting\");\n",
       "    run_inline_js();\n",
       "  } else {\n",
       "    load_libs(js_urls, function() {\n",
       "      console.log(\"Bokeh: BokehJS plotting callback run at\", now());\n",
       "      run_inline_js();\n",
       "    });\n",
       "  }\n",
       "}(this));"
      ]
     },
     "metadata": {},
     "output_type": "display_data"
    },
    {
     "data": {
      "text/html": [
       "\n",
       "\n",
       "    <div class=\"bk-root\">\n",
       "        <div class=\"plotdiv\" id=\"109ba034-1b7d-45a1-a7cf-43ee6c1d5a72\"></div>\n",
       "    </div>\n",
       "<script type=\"text/javascript\">\n",
       "  \n",
       "  (function(global) {\n",
       "    function now() {\n",
       "      return new Date();\n",
       "    }\n",
       "  \n",
       "    var force = \"\";\n",
       "  \n",
       "    if (typeof (window._bokeh_onload_callbacks) === \"undefined\" || force !== \"\") {\n",
       "      window._bokeh_onload_callbacks = [];\n",
       "      window._bokeh_is_loading = undefined;\n",
       "    }\n",
       "  \n",
       "  \n",
       "    \n",
       "    if (typeof (window._bokeh_timeout) === \"undefined\" || force !== \"\") {\n",
       "      window._bokeh_timeout = Date.now() + 0;\n",
       "      window._bokeh_failed_load = false;\n",
       "    }\n",
       "  \n",
       "    var NB_LOAD_WARNING = {'data': {'text/html':\n",
       "       \"<div style='background-color: #fdd'>\\n\"+\n",
       "       \"<p>\\n\"+\n",
       "       \"BokehJS does not appear to have successfully loaded. If loading BokehJS from CDN, this \\n\"+\n",
       "       \"may be due to a slow or bad network connection. Possible fixes:\\n\"+\n",
       "       \"</p>\\n\"+\n",
       "       \"<ul>\\n\"+\n",
       "       \"<li>re-rerun `output_notebook()` to attempt to load from CDN again, or</li>\\n\"+\n",
       "       \"<li>use INLINE resources instead, as so:</li>\\n\"+\n",
       "       \"</ul>\\n\"+\n",
       "       \"<code>\\n\"+\n",
       "       \"from bokeh.resources import INLINE\\n\"+\n",
       "       \"output_notebook(resources=INLINE)\\n\"+\n",
       "       \"</code>\\n\"+\n",
       "       \"</div>\"}};\n",
       "  \n",
       "    function display_loaded() {\n",
       "      if (window.Bokeh !== undefined) {\n",
       "        Bokeh.$(\"#109ba034-1b7d-45a1-a7cf-43ee6c1d5a72\").text(\"BokehJS successfully loaded.\");\n",
       "      } else if (Date.now() < window._bokeh_timeout) {\n",
       "        setTimeout(display_loaded, 100)\n",
       "      }\n",
       "    }\n",
       "  \n",
       "    function run_callbacks() {\n",
       "      window._bokeh_onload_callbacks.forEach(function(callback) { callback() });\n",
       "      delete window._bokeh_onload_callbacks\n",
       "      console.info(\"Bokeh: all callbacks have finished\");\n",
       "    }\n",
       "  \n",
       "    function load_libs(js_urls, callback) {\n",
       "      window._bokeh_onload_callbacks.push(callback);\n",
       "      if (window._bokeh_is_loading > 0) {\n",
       "        console.log(\"Bokeh: BokehJS is being loaded, scheduling callback at\", now());\n",
       "        return null;\n",
       "      }\n",
       "      if (js_urls == null || js_urls.length === 0) {\n",
       "        run_callbacks();\n",
       "        return null;\n",
       "      }\n",
       "      console.log(\"Bokeh: BokehJS not loaded, scheduling load and callback at\", now());\n",
       "      window._bokeh_is_loading = js_urls.length;\n",
       "      for (var i = 0; i < js_urls.length; i++) {\n",
       "        var url = js_urls[i];\n",
       "        var s = document.createElement('script');\n",
       "        s.src = url;\n",
       "        s.async = false;\n",
       "        s.onreadystatechange = s.onload = function() {\n",
       "          window._bokeh_is_loading--;\n",
       "          if (window._bokeh_is_loading === 0) {\n",
       "            console.log(\"Bokeh: all BokehJS libraries loaded\");\n",
       "            run_callbacks()\n",
       "          }\n",
       "        };\n",
       "        s.onerror = function() {\n",
       "          console.warn(\"failed to load library \" + url);\n",
       "        };\n",
       "        console.log(\"Bokeh: injecting script tag for BokehJS library: \", url);\n",
       "        document.getElementsByTagName(\"head\")[0].appendChild(s);\n",
       "      }\n",
       "    };var element = document.getElementById(\"109ba034-1b7d-45a1-a7cf-43ee6c1d5a72\");\n",
       "    if (element == null) {\n",
       "      console.log(\"Bokeh: ERROR: autoload.js configured with elementid '109ba034-1b7d-45a1-a7cf-43ee6c1d5a72' but no matching script tag was found. \")\n",
       "      return false;\n",
       "    }\n",
       "  \n",
       "    var js_urls = [];\n",
       "  \n",
       "    var inline_js = [\n",
       "      function(Bokeh) {\n",
       "        Bokeh.$(function() {\n",
       "            var docs_json = {\"259c0bf8-e608-4c6d-a09a-c7ab12396f8a\":{\"roots\":{\"references\":[{\"attributes\":{\"bottom_units\":\"screen\",\"fill_alpha\":{\"value\":0.5},\"fill_color\":{\"value\":\"lightgrey\"},\"left_units\":\"screen\",\"level\":\"overlay\",\"line_alpha\":{\"value\":1.0},\"line_color\":{\"value\":\"black\"},\"line_dash\":[4,4],\"line_width\":{\"value\":2},\"plot\":null,\"render_mode\":\"css\",\"right_units\":\"screen\",\"top_units\":\"screen\"},\"id\":\"3d1cf173-293c-4867-a826-dc2213aaf770\",\"type\":\"BoxAnnotation\"},{\"attributes\":{\"data_source\":{\"id\":\"68ca5878-bee3-4c82-81f3-7e5ebce29af6\",\"type\":\"ColumnDataSource\"},\"glyph\":{\"id\":\"054118c1-40f3-48bc-8bf9-e53c625c00aa\",\"type\":\"Line\"},\"hover_glyph\":null,\"nonselection_glyph\":{\"id\":\"4ff6e508-7a58-4b48-849e-301019d1d5c3\",\"type\":\"Line\"},\"selection_glyph\":null},\"id\":\"3a07c36f-254e-475e-8edf-9d41efce0bb0\",\"type\":\"GlyphRenderer\"},{\"attributes\":{\"line_alpha\":{\"value\":0.1},\"line_color\":{\"value\":\"#1f77b4\"},\"x\":{\"field\":\"x\"},\"y\":{\"field\":\"y\"}},\"id\":\"b9c46067-f124-48ef-951b-59ff5c314d57\",\"type\":\"Line\"},{\"attributes\":{\"plot\":null,\"text\":null},\"id\":\"5a5e1295-2454-4d37-ae23-72da5cab2986\",\"type\":\"Title\"},{\"attributes\":{\"plot\":{\"id\":\"0064d143-09bd-475f-bab8-97fd03be8cdd\",\"subtype\":\"Figure\",\"type\":\"Plot\"}},\"id\":\"ea09bcfa-ca3e-447b-bc39-6682f7be80a7\",\"type\":\"ResetTool\"},{\"attributes\":{\"dimension\":1,\"plot\":{\"id\":\"0064d143-09bd-475f-bab8-97fd03be8cdd\",\"subtype\":\"Figure\",\"type\":\"Plot\"},\"ticker\":{\"id\":\"f753183f-8f75-4b47-bf0e-d23c81a48409\",\"type\":\"BasicTicker\"}},\"id\":\"a330207e-5d03-44f4-96e6-5af07e4e1ef3\",\"type\":\"Grid\"},{\"attributes\":{\"callback\":null,\"column_names\":[\"x\",\"y\"],\"data\":{\"x\":[0.05,0.1,0.15000000000000002,0.2,0.25,0.30000000000000004,0.35000000000000003,0.4,0.45,0.5,0.55,0.6000000000000001,0.65,0.7000000000000001,0.75,0.8,0.8500000000000001,0.9,0.9500000000000001,1.0],\"y\":[0.019651221682665296,0.013593572034830258,0.008996585110998916,0.00570471612150587,0.0035624202766857196,0.0024141527868730694,0.002104368862402513,0.0024775237136086536,0.0033780725508260993,0.00465047058438944,0.00613917302463329,0.007688635081892242,0.009143311966500877,0.010347658888793822,0.011146131059105672,0.011383183687771015,0.010903271985124481,0.009550851161500649,0.007170376427234091,0.0036063029926594846]}},\"id\":\"68ca5878-bee3-4c82-81f3-7e5ebce29af6\",\"type\":\"ColumnDataSource\"},{\"attributes\":{\"callback\":null},\"id\":\"69bf5715-3f1d-44b5-84fa-7ea5069e1b6f\",\"type\":\"DataRange1d\"},{\"attributes\":{},\"id\":\"5d9cc9a5-1189-4665-a7ce-0068a58cef19\",\"type\":\"BasicTicker\"},{\"attributes\":{\"plot\":{\"id\":\"e04dbc70-32e3-4bed-a79c-dddee18096a1\",\"subtype\":\"Figure\",\"type\":\"Plot\"}},\"id\":\"1cb1b04b-ae28-4335-b680-c0d5acf22e20\",\"type\":\"SaveTool\"},{\"attributes\":{\"formatter\":{\"id\":\"924bddf9-148a-492f-b983-e9d8dd2dcd49\",\"type\":\"BasicTickFormatter\"},\"plot\":{\"id\":\"e04dbc70-32e3-4bed-a79c-dddee18096a1\",\"subtype\":\"Figure\",\"type\":\"Plot\"},\"ticker\":{\"id\":\"67f22af6-c6ed-4e3c-9bb9-158f652ec5cf\",\"type\":\"BasicTicker\"}},\"id\":\"9fe7dd80-cac8-4ff4-8131-50ee598b77a8\",\"type\":\"LinearAxis\"},{\"attributes\":{\"plot\":{\"id\":\"32309d8c-2276-4892-b5fc-c4306a86c9b6\",\"subtype\":\"Figure\",\"type\":\"Plot\"},\"ticker\":{\"id\":\"00d8a008-acc5-46e4-ae4c-7bdc65c42544\",\"type\":\"BasicTicker\"}},\"id\":\"648447a4-394c-4f36-a680-c9707b8a0837\",\"type\":\"Grid\"},{\"attributes\":{\"line_color\":{\"value\":\"navy\"},\"x\":{\"field\":\"x\"},\"y\":{\"field\":\"y\"}},\"id\":\"b9b8aa32-8ef5-48e6-aab2-0fe6203d0b73\",\"type\":\"Line\"},{\"attributes\":{\"plot\":{\"id\":\"5fc95bf2-7573-472e-99ec-43bc6266c432\",\"subtype\":\"Figure\",\"type\":\"Plot\"}},\"id\":\"4628631d-46dd-47c3-9012-28a50e16df40\",\"type\":\"PanTool\"},{\"attributes\":{},\"id\":\"fe65f5fe-0f9e-4706-abc3-d37784f87a50\",\"type\":\"BasicTickFormatter\"},{\"attributes\":{\"line_alpha\":{\"value\":0.1},\"line_color\":{\"value\":\"#1f77b4\"},\"x\":{\"field\":\"x\"},\"y\":{\"field\":\"y\"}},\"id\":\"2638148a-e37a-4e32-9993-947029e570ef\",\"type\":\"Line\"},{\"attributes\":{\"below\":[{\"id\":\"9fe7dd80-cac8-4ff4-8131-50ee598b77a8\",\"type\":\"LinearAxis\"}],\"left\":[{\"id\":\"088056b1-d5e9-481c-935a-2d83de9460a6\",\"type\":\"LinearAxis\"}],\"renderers\":[{\"id\":\"9fe7dd80-cac8-4ff4-8131-50ee598b77a8\",\"type\":\"LinearAxis\"},{\"id\":\"1e426233-5184-4604-84b5-f74fcc2649c5\",\"type\":\"Grid\"},{\"id\":\"088056b1-d5e9-481c-935a-2d83de9460a6\",\"type\":\"LinearAxis\"},{\"id\":\"5ae829d7-6699-45de-aba8-56293b3f13ec\",\"type\":\"Grid\"},{\"id\":\"3a3206d6-e180-4021-b139-ff1ec9578518\",\"type\":\"BoxAnnotation\"},{\"id\":\"c895a3a9-7fed-4625-ac27-d872cf226eba\",\"type\":\"GlyphRenderer\"}],\"title\":{\"id\":\"92674386-0223-4e06-8c37-2f8eebbd3b7b\",\"type\":\"Title\"},\"tool_events\":{\"id\":\"49eaef5f-2e8c-40d7-87df-12bef99db1e5\",\"type\":\"ToolEvents\"},\"toolbar\":{\"id\":\"4e2d3451-6886-41d5-ba2b-17b0c34c7d74\",\"type\":\"Toolbar\"},\"x_range\":{\"id\":\"c7192ad9-08c6-4a66-ae5b-54c128313582\",\"type\":\"DataRange1d\"},\"y_range\":{\"id\":\"15e72201-4dcc-4d27-aa51-dbaccb6c45cf\",\"type\":\"DataRange1d\"}},\"id\":\"e04dbc70-32e3-4bed-a79c-dddee18096a1\",\"subtype\":\"Figure\",\"type\":\"Plot\"},{\"attributes\":{},\"id\":\"adc66a23-1e16-4cce-b935-e583418b9861\",\"type\":\"BasicTicker\"},{\"attributes\":{\"overlay\":{\"id\":\"3e9f2c4a-860c-422e-8280-bab90f37ab59\",\"type\":\"BoxAnnotation\"},\"plot\":{\"id\":\"32309d8c-2276-4892-b5fc-c4306a86c9b6\",\"subtype\":\"Figure\",\"type\":\"Plot\"}},\"id\":\"797bac0b-771d-4900-9b11-f602fe10cffc\",\"type\":\"BoxZoomTool\"},{\"attributes\":{\"active_drag\":\"auto\",\"active_scroll\":\"auto\",\"active_tap\":\"auto\",\"tools\":[{\"id\":\"b2cad777-2723-4740-aa05-b9860d39f699\",\"type\":\"PanTool\"},{\"id\":\"fc65fb12-acd0-446f-9fcc-af07e6b97283\",\"type\":\"WheelZoomTool\"},{\"id\":\"6aa8f958-08c1-40b9-8a9e-3e63760e8619\",\"type\":\"BoxZoomTool\"},{\"id\":\"9c52c9ed-0a52-4022-a74f-2a92480383ab\",\"type\":\"SaveTool\"},{\"id\":\"ea09bcfa-ca3e-447b-bc39-6682f7be80a7\",\"type\":\"ResetTool\"},{\"id\":\"c15f022e-2b9b-44f2-a380-263bc1247a7c\",\"type\":\"HelpTool\"}]},\"id\":\"afcd5bc6-698b-41e8-9a5b-1867ae57eb43\",\"type\":\"Toolbar\"},{\"attributes\":{\"line_color\":{\"value\":\"red\"},\"x\":{\"field\":\"x\"},\"y\":{\"field\":\"y\"}},\"id\":\"82e308a7-ec57-41c0-b60b-84852c13fc78\",\"type\":\"Line\"},{\"attributes\":{\"plot\":{\"id\":\"0064d143-09bd-475f-bab8-97fd03be8cdd\",\"subtype\":\"Figure\",\"type\":\"Plot\"}},\"id\":\"b2cad777-2723-4740-aa05-b9860d39f699\",\"type\":\"PanTool\"},{\"attributes\":{},\"id\":\"98dadf2d-13d0-4caf-947f-1b96f22038f6\",\"type\":\"ToolEvents\"},{\"attributes\":{},\"id\":\"42f2e354-2906-4d21-86a4-af1136503de7\",\"type\":\"BasicTickFormatter\"},{\"attributes\":{\"callback\":null,\"column_names\":[\"x\",\"y\"],\"data\":{\"x\":[0.05,0.1,0.15000000000000002,0.2,0.25,0.30000000000000004,0.35000000000000003,0.4,0.45,0.5,0.55,0.6000000000000001,0.65,0.7000000000000001,0.75,0.8,0.8500000000000001,0.9,0.9500000000000001,1.0],\"y\":[0.019651221682665296,0.013593572034830258,0.008996585110998916,0.00570471612150587,0.0035624202766857196,0.0024141527868730694,0.002104368862402513,0.0024775237136086536,0.0033780725508260993,0.00465047058438944,0.00613917302463329,0.007688635081892242,0.009143311966500877,0.010347658888793822,0.011146131059105672,0.011383183687771015,0.010903271985124481,0.009550851161500649,0.007170376427234091,0.0036063029926594846]}},\"id\":\"30ee8ba7-a024-488d-9479-cc467644c0fd\",\"type\":\"ColumnDataSource\"},{\"attributes\":{\"callback\":null},\"id\":\"15e72201-4dcc-4d27-aa51-dbaccb6c45cf\",\"type\":\"DataRange1d\"},{\"attributes\":{\"plot\":{\"id\":\"32309d8c-2276-4892-b5fc-c4306a86c9b6\",\"subtype\":\"Figure\",\"type\":\"Plot\"}},\"id\":\"ebe50bec-6979-47b6-8973-4967b012f797\",\"type\":\"ResetTool\"},{\"attributes\":{\"data_source\":{\"id\":\"f7c121ea-d58b-477a-a2c4-7286e5aeb10c\",\"type\":\"ColumnDataSource\"},\"glyph\":{\"id\":\"82e308a7-ec57-41c0-b60b-84852c13fc78\",\"type\":\"Line\"},\"hover_glyph\":null,\"nonselection_glyph\":{\"id\":\"0e499562-894f-4321-9952-a1e05ba13e9f\",\"type\":\"Line\"},\"selection_glyph\":null},\"id\":\"c895a3a9-7fed-4625-ac27-d872cf226eba\",\"type\":\"GlyphRenderer\"},{\"attributes\":{\"callback\":null},\"id\":\"c7192ad9-08c6-4a66-ae5b-54c128313582\",\"type\":\"DataRange1d\"},{\"attributes\":{\"below\":[{\"id\":\"57adf7d5-9de0-4a14-892e-98ac54c0f7fd\",\"type\":\"LinearAxis\"}],\"left\":[{\"id\":\"e2f15f56-9066-41ab-99b9-5a69a6c08fef\",\"type\":\"LinearAxis\"}],\"renderers\":[{\"id\":\"57adf7d5-9de0-4a14-892e-98ac54c0f7fd\",\"type\":\"LinearAxis\"},{\"id\":\"07e118c3-c835-4e5f-b674-07517e1845e8\",\"type\":\"Grid\"},{\"id\":\"e2f15f56-9066-41ab-99b9-5a69a6c08fef\",\"type\":\"LinearAxis\"},{\"id\":\"a330207e-5d03-44f4-96e6-5af07e4e1ef3\",\"type\":\"Grid\"},{\"id\":\"3d1cf173-293c-4867-a826-dc2213aaf770\",\"type\":\"BoxAnnotation\"},{\"id\":\"3a07c36f-254e-475e-8edf-9d41efce0bb0\",\"type\":\"GlyphRenderer\"}],\"title\":{\"id\":\"9ebad43c-a30f-4bc5-9e6e-238907554619\",\"type\":\"Title\"},\"tool_events\":{\"id\":\"30dcfbfb-04b9-413a-b28f-d2f745a87462\",\"type\":\"ToolEvents\"},\"toolbar\":{\"id\":\"afcd5bc6-698b-41e8-9a5b-1867ae57eb43\",\"type\":\"Toolbar\"},\"x_range\":{\"id\":\"8b574ace-caf4-45f5-8b85-9d76af482f0d\",\"type\":\"DataRange1d\"},\"y_range\":{\"id\":\"69bf5715-3f1d-44b5-84fa-7ea5069e1b6f\",\"type\":\"DataRange1d\"}},\"id\":\"0064d143-09bd-475f-bab8-97fd03be8cdd\",\"subtype\":\"Figure\",\"type\":\"Plot\"},{\"attributes\":{\"data_source\":{\"id\":\"30ee8ba7-a024-488d-9479-cc467644c0fd\",\"type\":\"ColumnDataSource\"},\"glyph\":{\"id\":\"c5420f2b-6448-4fdd-842f-63886e03b664\",\"type\":\"Line\"},\"hover_glyph\":null,\"nonselection_glyph\":{\"id\":\"2638148a-e37a-4e32-9993-947029e570ef\",\"type\":\"Line\"},\"selection_glyph\":null},\"id\":\"cc578ce6-e0e3-43a0-ae6d-5f76c40bfdf1\",\"type\":\"GlyphRenderer\"},{\"attributes\":{},\"id\":\"2d318189-4e74-4846-980d-332f2ce1ab1a\",\"type\":\"BasicTicker\"},{\"attributes\":{\"active_drag\":\"auto\",\"active_scroll\":\"auto\",\"active_tap\":\"auto\",\"tools\":[{\"id\":\"d5979dc1-fd4a-474a-abf1-17eb06492c0c\",\"type\":\"PanTool\"},{\"id\":\"2d88855a-f0a4-4737-840e-9a486ee4c75c\",\"type\":\"WheelZoomTool\"},{\"id\":\"84690a2b-c19b-4bb9-ba55-a626286b2d18\",\"type\":\"BoxZoomTool\"},{\"id\":\"1cb1b04b-ae28-4335-b680-c0d5acf22e20\",\"type\":\"SaveTool\"},{\"id\":\"7791f23f-0404-4f85-8988-9fac1f1aedd4\",\"type\":\"ResetTool\"},{\"id\":\"6b589223-0f88-492b-87c4-ff6c9e41ce9e\",\"type\":\"HelpTool\"}]},\"id\":\"4e2d3451-6886-41d5-ba2b-17b0c34c7d74\",\"type\":\"Toolbar\"},{\"attributes\":{},\"id\":\"49eaef5f-2e8c-40d7-87df-12bef99db1e5\",\"type\":\"ToolEvents\"},{\"attributes\":{\"plot\":{\"id\":\"e04dbc70-32e3-4bed-a79c-dddee18096a1\",\"subtype\":\"Figure\",\"type\":\"Plot\"}},\"id\":\"d5979dc1-fd4a-474a-abf1-17eb06492c0c\",\"type\":\"PanTool\"},{\"attributes\":{},\"id\":\"f753183f-8f75-4b47-bf0e-d23c81a48409\",\"type\":\"BasicTicker\"},{\"attributes\":{\"formatter\":{\"id\":\"752b63b7-8432-417e-82e7-f28704898747\",\"type\":\"BasicTickFormatter\"},\"plot\":{\"id\":\"5fc95bf2-7573-472e-99ec-43bc6266c432\",\"subtype\":\"Figure\",\"type\":\"Plot\"},\"ticker\":{\"id\":\"49410ddf-f1c0-471d-9e84-16e488f3b535\",\"type\":\"BasicTicker\"}},\"id\":\"129150dd-a004-4336-956f-57adba3f0e90\",\"type\":\"LinearAxis\"},{\"attributes\":{\"plot\":{\"id\":\"0064d143-09bd-475f-bab8-97fd03be8cdd\",\"subtype\":\"Figure\",\"type\":\"Plot\"}},\"id\":\"9c52c9ed-0a52-4022-a74f-2a92480383ab\",\"type\":\"SaveTool\"},{\"attributes\":{},\"id\":\"49410ddf-f1c0-471d-9e84-16e488f3b535\",\"type\":\"BasicTicker\"},{\"attributes\":{\"plot\":null,\"text\":null},\"id\":\"538830d9-ae8e-4b7c-b65b-34c55c4a445d\",\"type\":\"Title\"},{\"attributes\":{\"plot\":{\"id\":\"32309d8c-2276-4892-b5fc-c4306a86c9b6\",\"subtype\":\"Figure\",\"type\":\"Plot\"}},\"id\":\"49c34409-e317-4d1a-89a4-300a260f7d44\",\"type\":\"PanTool\"},{\"attributes\":{\"plot\":{\"id\":\"5fc95bf2-7573-472e-99ec-43bc6266c432\",\"subtype\":\"Figure\",\"type\":\"Plot\"}},\"id\":\"36f2202c-5ea1-458d-abbc-0949ea6bb967\",\"type\":\"HelpTool\"},{\"attributes\":{\"active_drag\":\"auto\",\"active_scroll\":\"auto\",\"active_tap\":\"auto\",\"tools\":[{\"id\":\"49c34409-e317-4d1a-89a4-300a260f7d44\",\"type\":\"PanTool\"},{\"id\":\"3c50ca31-bd28-45f0-a0dc-702aafd7d701\",\"type\":\"WheelZoomTool\"},{\"id\":\"797bac0b-771d-4900-9b11-f602fe10cffc\",\"type\":\"BoxZoomTool\"},{\"id\":\"539f8568-167d-4881-b0bf-cd33c03714ae\",\"type\":\"SaveTool\"},{\"id\":\"ebe50bec-6979-47b6-8973-4967b012f797\",\"type\":\"ResetTool\"},{\"id\":\"3eda9fab-dcda-4768-8f17-0dad3c0dd47e\",\"type\":\"HelpTool\"}]},\"id\":\"84e5fb8d-0e6e-4c62-a49f-c3e4ec9af4d4\",\"type\":\"Toolbar\"},{\"attributes\":{\"formatter\":{\"id\":\"fe65f5fe-0f9e-4706-abc3-d37784f87a50\",\"type\":\"BasicTickFormatter\"},\"plot\":{\"id\":\"32309d8c-2276-4892-b5fc-c4306a86c9b6\",\"subtype\":\"Figure\",\"type\":\"Plot\"},\"ticker\":{\"id\":\"adc66a23-1e16-4cce-b935-e583418b9861\",\"type\":\"BasicTicker\"}},\"id\":\"32eed091-50c5-4309-9085-a4880c760f0d\",\"type\":\"LinearAxis\"},{\"attributes\":{\"plot\":{\"id\":\"5fc95bf2-7573-472e-99ec-43bc6266c432\",\"subtype\":\"Figure\",\"type\":\"Plot\"},\"ticker\":{\"id\":\"49410ddf-f1c0-471d-9e84-16e488f3b535\",\"type\":\"BasicTicker\"}},\"id\":\"58c3561f-75ce-4ad4-9171-2d0f398b1e21\",\"type\":\"Grid\"},{\"attributes\":{\"callback\":null},\"id\":\"f206ec41-bf2b-43b4-9528-48fc5b46112d\",\"type\":\"DataRange1d\"},{\"attributes\":{\"overlay\":{\"id\":\"3d1cf173-293c-4867-a826-dc2213aaf770\",\"type\":\"BoxAnnotation\"},\"plot\":{\"id\":\"0064d143-09bd-475f-bab8-97fd03be8cdd\",\"subtype\":\"Figure\",\"type\":\"Plot\"}},\"id\":\"6aa8f958-08c1-40b9-8a9e-3e63760e8619\",\"type\":\"BoxZoomTool\"},{\"attributes\":{\"formatter\":{\"id\":\"b61366c5-01b1-4ae8-a5a7-19f5e5e7265c\",\"type\":\"BasicTickFormatter\"},\"plot\":{\"id\":\"0064d143-09bd-475f-bab8-97fd03be8cdd\",\"subtype\":\"Figure\",\"type\":\"Plot\"},\"ticker\":{\"id\":\"f753183f-8f75-4b47-bf0e-d23c81a48409\",\"type\":\"BasicTicker\"}},\"id\":\"e2f15f56-9066-41ab-99b9-5a69a6c08fef\",\"type\":\"LinearAxis\"},{\"attributes\":{\"callback\":null,\"column_names\":[\"x\",\"y\"],\"data\":{\"x\":[0.05,0.1,0.15000000000000002,0.2,0.25,0.30000000000000004,0.35000000000000003,0.4,0.45,0.5,0.55,0.6000000000000001,0.65,0.7000000000000001,0.75,0.8,0.8500000000000001,0.9,0.9500000000000001,1.0],\"y\":[0.019651221682665296,0.013593572034830258,0.008996585110998916,0.00570471612150587,0.0035624202766857196,0.0024141527868730694,0.002104368862402513,0.0024775237136086536,0.0033780725508260993,0.00465047058438944,0.00613917302463329,0.007688635081892242,0.009143311966500877,0.010347658888793822,0.011146131059105672,0.011383183687771015,0.010903271985124481,0.009550851161500649,0.007170376427234091,0.0036063029926594846]}},\"id\":\"7fd68bb1-a71a-48c7-9d15-6bd2bf12cc8b\",\"type\":\"ColumnDataSource\"},{\"attributes\":{\"callback\":null},\"id\":\"16f17eca-c10a-49aa-8540-f2ac57c95f17\",\"type\":\"DataRange1d\"},{\"attributes\":{\"dimension\":1,\"plot\":{\"id\":\"e04dbc70-32e3-4bed-a79c-dddee18096a1\",\"subtype\":\"Figure\",\"type\":\"Plot\"},\"ticker\":{\"id\":\"2d318189-4e74-4846-980d-332f2ce1ab1a\",\"type\":\"BasicTicker\"}},\"id\":\"5ae829d7-6699-45de-aba8-56293b3f13ec\",\"type\":\"Grid\"},{\"attributes\":{\"plot\":{\"id\":\"e04dbc70-32e3-4bed-a79c-dddee18096a1\",\"subtype\":\"Figure\",\"type\":\"Plot\"}},\"id\":\"7791f23f-0404-4f85-8988-9fac1f1aedd4\",\"type\":\"ResetTool\"},{\"attributes\":{\"line_alpha\":{\"value\":0.1},\"line_color\":{\"value\":\"#1f77b4\"},\"x\":{\"field\":\"x\"},\"y\":{\"field\":\"y\"}},\"id\":\"4ff6e508-7a58-4b48-849e-301019d1d5c3\",\"type\":\"Line\"},{\"attributes\":{\"formatter\":{\"id\":\"42f2e354-2906-4d21-86a4-af1136503de7\",\"type\":\"BasicTickFormatter\"},\"plot\":{\"id\":\"5fc95bf2-7573-472e-99ec-43bc6266c432\",\"subtype\":\"Figure\",\"type\":\"Plot\"},\"ticker\":{\"id\":\"8570ba77-ff20-48e6-ba3b-e6a66d606e30\",\"type\":\"BasicTicker\"}},\"id\":\"0a9e456b-ba17-400b-93de-64378136a809\",\"type\":\"LinearAxis\"},{\"attributes\":{\"plot\":{\"id\":\"e04dbc70-32e3-4bed-a79c-dddee18096a1\",\"subtype\":\"Figure\",\"type\":\"Plot\"},\"ticker\":{\"id\":\"67f22af6-c6ed-4e3c-9bb9-158f652ec5cf\",\"type\":\"BasicTicker\"}},\"id\":\"1e426233-5184-4604-84b5-f74fcc2649c5\",\"type\":\"Grid\"},{\"attributes\":{\"below\":[{\"id\":\"f5d95162-1541-4694-af26-a7527907029e\",\"type\":\"LinearAxis\"}],\"left\":[{\"id\":\"32eed091-50c5-4309-9085-a4880c760f0d\",\"type\":\"LinearAxis\"}],\"renderers\":[{\"id\":\"f5d95162-1541-4694-af26-a7527907029e\",\"type\":\"LinearAxis\"},{\"id\":\"648447a4-394c-4f36-a680-c9707b8a0837\",\"type\":\"Grid\"},{\"id\":\"32eed091-50c5-4309-9085-a4880c760f0d\",\"type\":\"LinearAxis\"},{\"id\":\"8c52cdd3-fbd8-4f69-8fd0-d3e66009f1c8\",\"type\":\"Grid\"},{\"id\":\"3e9f2c4a-860c-422e-8280-bab90f37ab59\",\"type\":\"BoxAnnotation\"},{\"id\":\"cc578ce6-e0e3-43a0-ae6d-5f76c40bfdf1\",\"type\":\"GlyphRenderer\"}],\"title\":{\"id\":\"538830d9-ae8e-4b7c-b65b-34c55c4a445d\",\"type\":\"Title\"},\"tool_events\":{\"id\":\"c44d39b1-40bd-4794-8fd3-25c0cffebf5a\",\"type\":\"ToolEvents\"},\"toolbar\":{\"id\":\"84e5fb8d-0e6e-4c62-a49f-c3e4ec9af4d4\",\"type\":\"Toolbar\"},\"x_range\":{\"id\":\"f206ec41-bf2b-43b4-9528-48fc5b46112d\",\"type\":\"DataRange1d\"},\"y_range\":{\"id\":\"dd7c1a93-18d6-4d9e-a163-dffa0a0bea3d\",\"type\":\"DataRange1d\"}},\"id\":\"32309d8c-2276-4892-b5fc-c4306a86c9b6\",\"subtype\":\"Figure\",\"type\":\"Plot\"},{\"attributes\":{\"bottom_units\":\"screen\",\"fill_alpha\":{\"value\":0.5},\"fill_color\":{\"value\":\"lightgrey\"},\"left_units\":\"screen\",\"level\":\"overlay\",\"line_alpha\":{\"value\":1.0},\"line_color\":{\"value\":\"black\"},\"line_dash\":[4,4],\"line_width\":{\"value\":2},\"plot\":null,\"render_mode\":\"css\",\"right_units\":\"screen\",\"top_units\":\"screen\"},\"id\":\"e621f8e3-cb94-4e35-a3f1-7d00198ec6c0\",\"type\":\"BoxAnnotation\"},{\"attributes\":{\"bottom_units\":\"screen\",\"fill_alpha\":{\"value\":0.5},\"fill_color\":{\"value\":\"lightgrey\"},\"left_units\":\"screen\",\"level\":\"overlay\",\"line_alpha\":{\"value\":1.0},\"line_color\":{\"value\":\"black\"},\"line_dash\":[4,4],\"line_width\":{\"value\":2},\"plot\":null,\"render_mode\":\"css\",\"right_units\":\"screen\",\"top_units\":\"screen\"},\"id\":\"3e9f2c4a-860c-422e-8280-bab90f37ab59\",\"type\":\"BoxAnnotation\"},{\"attributes\":{},\"id\":\"bc747379-9ff6-4b33-95f2-edae59c669b9\",\"type\":\"BasicTickFormatter\"},{\"attributes\":{\"children\":[{\"id\":\"e04dbc70-32e3-4bed-a79c-dddee18096a1\",\"subtype\":\"Figure\",\"type\":\"Plot\"},{\"id\":\"32309d8c-2276-4892-b5fc-c4306a86c9b6\",\"subtype\":\"Figure\",\"type\":\"Plot\"},{\"id\":\"0064d143-09bd-475f-bab8-97fd03be8cdd\",\"subtype\":\"Figure\",\"type\":\"Plot\"},{\"id\":\"5fc95bf2-7573-472e-99ec-43bc6266c432\",\"subtype\":\"Figure\",\"type\":\"Plot\"}]},\"id\":\"59e0a31d-3b76-4dad-9272-1a974de9638f\",\"type\":\"Row\"},{\"attributes\":{\"plot\":{\"id\":\"0064d143-09bd-475f-bab8-97fd03be8cdd\",\"subtype\":\"Figure\",\"type\":\"Plot\"}},\"id\":\"c15f022e-2b9b-44f2-a380-263bc1247a7c\",\"type\":\"HelpTool\"},{\"attributes\":{\"data_source\":{\"id\":\"7fd68bb1-a71a-48c7-9d15-6bd2bf12cc8b\",\"type\":\"ColumnDataSource\"},\"glyph\":{\"id\":\"b9b8aa32-8ef5-48e6-aab2-0fe6203d0b73\",\"type\":\"Line\"},\"hover_glyph\":null,\"nonselection_glyph\":{\"id\":\"b9c46067-f124-48ef-951b-59ff5c314d57\",\"type\":\"Line\"},\"selection_glyph\":null},\"id\":\"e80f9924-4321-448c-8442-f855a278c158\",\"type\":\"GlyphRenderer\"},{\"attributes\":{},\"id\":\"924bddf9-148a-492f-b983-e9d8dd2dcd49\",\"type\":\"BasicTickFormatter\"},{\"attributes\":{\"plot\":{\"id\":\"e04dbc70-32e3-4bed-a79c-dddee18096a1\",\"subtype\":\"Figure\",\"type\":\"Plot\"}},\"id\":\"6b589223-0f88-492b-87c4-ff6c9e41ce9e\",\"type\":\"HelpTool\"},{\"attributes\":{\"plot\":{\"id\":\"32309d8c-2276-4892-b5fc-c4306a86c9b6\",\"subtype\":\"Figure\",\"type\":\"Plot\"}},\"id\":\"3c50ca31-bd28-45f0-a0dc-702aafd7d701\",\"type\":\"WheelZoomTool\"},{\"attributes\":{\"plot\":{\"id\":\"5fc95bf2-7573-472e-99ec-43bc6266c432\",\"subtype\":\"Figure\",\"type\":\"Plot\"}},\"id\":\"17af7434-ef9e-42a8-be35-b3284d3efb0d\",\"type\":\"SaveTool\"},{\"attributes\":{\"plot\":{\"id\":\"e04dbc70-32e3-4bed-a79c-dddee18096a1\",\"subtype\":\"Figure\",\"type\":\"Plot\"}},\"id\":\"2d88855a-f0a4-4737-840e-9a486ee4c75c\",\"type\":\"WheelZoomTool\"},{\"attributes\":{\"active_drag\":\"auto\",\"active_scroll\":\"auto\",\"active_tap\":\"auto\",\"tools\":[{\"id\":\"4628631d-46dd-47c3-9012-28a50e16df40\",\"type\":\"PanTool\"},{\"id\":\"b76f74a1-bacf-4b59-a477-bb261d07f430\",\"type\":\"WheelZoomTool\"},{\"id\":\"9431edb3-08dc-4151-8ee9-2021b00de962\",\"type\":\"BoxZoomTool\"},{\"id\":\"17af7434-ef9e-42a8-be35-b3284d3efb0d\",\"type\":\"SaveTool\"},{\"id\":\"a132dfae-323f-4338-9e7e-740a2d3113fb\",\"type\":\"ResetTool\"},{\"id\":\"36f2202c-5ea1-458d-abbc-0949ea6bb967\",\"type\":\"HelpTool\"}]},\"id\":\"8a6a1838-10b0-4595-b243-49a2c2ef5f0d\",\"type\":\"Toolbar\"},{\"attributes\":{\"dimension\":1,\"plot\":{\"id\":\"32309d8c-2276-4892-b5fc-c4306a86c9b6\",\"subtype\":\"Figure\",\"type\":\"Plot\"},\"ticker\":{\"id\":\"adc66a23-1e16-4cce-b935-e583418b9861\",\"type\":\"BasicTicker\"}},\"id\":\"8c52cdd3-fbd8-4f69-8fd0-d3e66009f1c8\",\"type\":\"Grid\"},{\"attributes\":{\"callback\":null},\"id\":\"945406f0-e73a-45cb-a7bc-fce78e3178d7\",\"type\":\"DataRange1d\"},{\"attributes\":{\"plot\":{\"id\":\"0064d143-09bd-475f-bab8-97fd03be8cdd\",\"subtype\":\"Figure\",\"type\":\"Plot\"},\"ticker\":{\"id\":\"5d9cc9a5-1189-4665-a7ce-0068a58cef19\",\"type\":\"BasicTicker\"}},\"id\":\"07e118c3-c835-4e5f-b674-07517e1845e8\",\"type\":\"Grid\"},{\"attributes\":{\"plot\":null,\"text\":null},\"id\":\"9ebad43c-a30f-4bc5-9e6e-238907554619\",\"type\":\"Title\"},{\"attributes\":{\"plot\":{\"id\":\"5fc95bf2-7573-472e-99ec-43bc6266c432\",\"subtype\":\"Figure\",\"type\":\"Plot\"}},\"id\":\"b76f74a1-bacf-4b59-a477-bb261d07f430\",\"type\":\"WheelZoomTool\"},{\"attributes\":{},\"id\":\"752b63b7-8432-417e-82e7-f28704898747\",\"type\":\"BasicTickFormatter\"},{\"attributes\":{\"plot\":{\"id\":\"5fc95bf2-7573-472e-99ec-43bc6266c432\",\"subtype\":\"Figure\",\"type\":\"Plot\"}},\"id\":\"a132dfae-323f-4338-9e7e-740a2d3113fb\",\"type\":\"ResetTool\"},{\"attributes\":{},\"id\":\"67f22af6-c6ed-4e3c-9bb9-158f652ec5cf\",\"type\":\"BasicTicker\"},{\"attributes\":{\"plot\":null,\"text\":null},\"id\":\"92674386-0223-4e06-8c37-2f8eebbd3b7b\",\"type\":\"Title\"},{\"attributes\":{\"plot\":{\"id\":\"0064d143-09bd-475f-bab8-97fd03be8cdd\",\"subtype\":\"Figure\",\"type\":\"Plot\"}},\"id\":\"fc65fb12-acd0-446f-9fcc-af07e6b97283\",\"type\":\"WheelZoomTool\"},{\"attributes\":{},\"id\":\"4869af0e-85ab-4f63-ae48-2838a6e248e5\",\"type\":\"BasicTickFormatter\"},{\"attributes\":{},\"id\":\"c44d39b1-40bd-4794-8fd3-25c0cffebf5a\",\"type\":\"ToolEvents\"},{\"attributes\":{\"formatter\":{\"id\":\"bc747379-9ff6-4b33-95f2-edae59c669b9\",\"type\":\"BasicTickFormatter\"},\"plot\":{\"id\":\"32309d8c-2276-4892-b5fc-c4306a86c9b6\",\"subtype\":\"Figure\",\"type\":\"Plot\"},\"ticker\":{\"id\":\"00d8a008-acc5-46e4-ae4c-7bdc65c42544\",\"type\":\"BasicTicker\"}},\"id\":\"f5d95162-1541-4694-af26-a7527907029e\",\"type\":\"LinearAxis\"},{\"attributes\":{\"callback\":null,\"column_names\":[\"x\",\"y\"],\"data\":{\"x\":[0.05,0.1,0.15000000000000002,0.2,0.25,0.30000000000000004,0.35000000000000003,0.4,0.45,0.5,0.55,0.6000000000000001,0.65,0.7000000000000001,0.75,0.8,0.8500000000000001,0.9,0.9500000000000001,1.0],\"y\":[0.09286359333709762,0.10435774573389989,0.1095868880759209,0.10943373277602267,0.1047809922470671,0.09651137890191622,0.08550760515343193,0.07265238341447629,0.058828426097911196,0.04491844561659861,0.031805154383400425,0.020371264811178763,0.011499489312795555,0.006072540301112733,0.004973130188992203,0.009083971389296092,0.019287776314886096,0.036467257378624364,0.06150512699337307,0.09528409757199366]}},\"id\":\"f7c121ea-d58b-477a-a2c4-7286e5aeb10c\",\"type\":\"ColumnDataSource\"},{\"attributes\":{\"bottom_units\":\"screen\",\"fill_alpha\":{\"value\":0.5},\"fill_color\":{\"value\":\"lightgrey\"},\"left_units\":\"screen\",\"level\":\"overlay\",\"line_alpha\":{\"value\":1.0},\"line_color\":{\"value\":\"black\"},\"line_dash\":[4,4],\"line_width\":{\"value\":2},\"plot\":null,\"render_mode\":\"css\",\"right_units\":\"screen\",\"top_units\":\"screen\"},\"id\":\"3a3206d6-e180-4021-b139-ff1ec9578518\",\"type\":\"BoxAnnotation\"},{\"attributes\":{},\"id\":\"00d8a008-acc5-46e4-ae4c-7bdc65c42544\",\"type\":\"BasicTicker\"},{\"attributes\":{\"line_alpha\":{\"value\":0.1},\"line_color\":{\"value\":\"#1f77b4\"},\"x\":{\"field\":\"x\"},\"y\":{\"field\":\"y\"}},\"id\":\"0e499562-894f-4321-9952-a1e05ba13e9f\",\"type\":\"Line\"},{\"attributes\":{\"line_color\":{\"value\":\"blue\"},\"x\":{\"field\":\"x\"},\"y\":{\"field\":\"y\"}},\"id\":\"c5420f2b-6448-4fdd-842f-63886e03b664\",\"type\":\"Line\"},{\"attributes\":{},\"id\":\"8570ba77-ff20-48e6-ba3b-e6a66d606e30\",\"type\":\"BasicTicker\"},{\"attributes\":{\"overlay\":{\"id\":\"e621f8e3-cb94-4e35-a3f1-7d00198ec6c0\",\"type\":\"BoxAnnotation\"},\"plot\":{\"id\":\"5fc95bf2-7573-472e-99ec-43bc6266c432\",\"subtype\":\"Figure\",\"type\":\"Plot\"}},\"id\":\"9431edb3-08dc-4151-8ee9-2021b00de962\",\"type\":\"BoxZoomTool\"},{\"attributes\":{\"below\":[{\"id\":\"129150dd-a004-4336-956f-57adba3f0e90\",\"type\":\"LinearAxis\"}],\"left\":[{\"id\":\"0a9e456b-ba17-400b-93de-64378136a809\",\"type\":\"LinearAxis\"}],\"renderers\":[{\"id\":\"129150dd-a004-4336-956f-57adba3f0e90\",\"type\":\"LinearAxis\"},{\"id\":\"58c3561f-75ce-4ad4-9171-2d0f398b1e21\",\"type\":\"Grid\"},{\"id\":\"0a9e456b-ba17-400b-93de-64378136a809\",\"type\":\"LinearAxis\"},{\"id\":\"07cfdd3b-ed85-4ea9-91de-d7b6ab7f7d2d\",\"type\":\"Grid\"},{\"id\":\"e621f8e3-cb94-4e35-a3f1-7d00198ec6c0\",\"type\":\"BoxAnnotation\"},{\"id\":\"e80f9924-4321-448c-8442-f855a278c158\",\"type\":\"GlyphRenderer\"}],\"title\":{\"id\":\"5a5e1295-2454-4d37-ae23-72da5cab2986\",\"type\":\"Title\"},\"tool_events\":{\"id\":\"98dadf2d-13d0-4caf-947f-1b96f22038f6\",\"type\":\"ToolEvents\"},\"toolbar\":{\"id\":\"8a6a1838-10b0-4595-b243-49a2c2ef5f0d\",\"type\":\"Toolbar\"},\"x_range\":{\"id\":\"16f17eca-c10a-49aa-8540-f2ac57c95f17\",\"type\":\"DataRange1d\"},\"y_range\":{\"id\":\"945406f0-e73a-45cb-a7bc-fce78e3178d7\",\"type\":\"DataRange1d\"}},\"id\":\"5fc95bf2-7573-472e-99ec-43bc6266c432\",\"subtype\":\"Figure\",\"type\":\"Plot\"},{\"attributes\":{\"plot\":{\"id\":\"32309d8c-2276-4892-b5fc-c4306a86c9b6\",\"subtype\":\"Figure\",\"type\":\"Plot\"}},\"id\":\"3eda9fab-dcda-4768-8f17-0dad3c0dd47e\",\"type\":\"HelpTool\"},{\"attributes\":{},\"id\":\"7bb962fc-dc64-4fe2-b947-ade282e73af2\",\"type\":\"BasicTickFormatter\"},{\"attributes\":{\"line_color\":{\"value\":\"green\"},\"x\":{\"field\":\"x\"},\"y\":{\"field\":\"y\"}},\"id\":\"054118c1-40f3-48bc-8bf9-e53c625c00aa\",\"type\":\"Line\"},{\"attributes\":{\"callback\":null},\"id\":\"8b574ace-caf4-45f5-8b85-9d76af482f0d\",\"type\":\"DataRange1d\"},{\"attributes\":{},\"id\":\"30dcfbfb-04b9-413a-b28f-d2f745a87462\",\"type\":\"ToolEvents\"},{\"attributes\":{\"overlay\":{\"id\":\"3a3206d6-e180-4021-b139-ff1ec9578518\",\"type\":\"BoxAnnotation\"},\"plot\":{\"id\":\"e04dbc70-32e3-4bed-a79c-dddee18096a1\",\"subtype\":\"Figure\",\"type\":\"Plot\"}},\"id\":\"84690a2b-c19b-4bb9-ba55-a626286b2d18\",\"type\":\"BoxZoomTool\"},{\"attributes\":{\"dimension\":1,\"plot\":{\"id\":\"5fc95bf2-7573-472e-99ec-43bc6266c432\",\"subtype\":\"Figure\",\"type\":\"Plot\"},\"ticker\":{\"id\":\"8570ba77-ff20-48e6-ba3b-e6a66d606e30\",\"type\":\"BasicTicker\"}},\"id\":\"07cfdd3b-ed85-4ea9-91de-d7b6ab7f7d2d\",\"type\":\"Grid\"},{\"attributes\":{},\"id\":\"b61366c5-01b1-4ae8-a5a7-19f5e5e7265c\",\"type\":\"BasicTickFormatter\"},{\"attributes\":{\"formatter\":{\"id\":\"4869af0e-85ab-4f63-ae48-2838a6e248e5\",\"type\":\"BasicTickFormatter\"},\"plot\":{\"id\":\"0064d143-09bd-475f-bab8-97fd03be8cdd\",\"subtype\":\"Figure\",\"type\":\"Plot\"},\"ticker\":{\"id\":\"5d9cc9a5-1189-4665-a7ce-0068a58cef19\",\"type\":\"BasicTicker\"}},\"id\":\"57adf7d5-9de0-4a14-892e-98ac54c0f7fd\",\"type\":\"LinearAxis\"},{\"attributes\":{\"plot\":{\"id\":\"32309d8c-2276-4892-b5fc-c4306a86c9b6\",\"subtype\":\"Figure\",\"type\":\"Plot\"}},\"id\":\"539f8568-167d-4881-b0bf-cd33c03714ae\",\"type\":\"SaveTool\"},{\"attributes\":{\"formatter\":{\"id\":\"7bb962fc-dc64-4fe2-b947-ade282e73af2\",\"type\":\"BasicTickFormatter\"},\"plot\":{\"id\":\"e04dbc70-32e3-4bed-a79c-dddee18096a1\",\"subtype\":\"Figure\",\"type\":\"Plot\"},\"ticker\":{\"id\":\"2d318189-4e74-4846-980d-332f2ce1ab1a\",\"type\":\"BasicTicker\"}},\"id\":\"088056b1-d5e9-481c-935a-2d83de9460a6\",\"type\":\"LinearAxis\"},{\"attributes\":{\"callback\":null},\"id\":\"dd7c1a93-18d6-4d9e-a163-dffa0a0bea3d\",\"type\":\"DataRange1d\"}],\"root_ids\":[\"59e0a31d-3b76-4dad-9272-1a974de9638f\"]},\"title\":\"Bokeh Application\",\"version\":\"0.12.3\"}};\n",
       "            var render_items = [{\"docid\":\"259c0bf8-e608-4c6d-a09a-c7ab12396f8a\",\"elementid\":\"109ba034-1b7d-45a1-a7cf-43ee6c1d5a72\",\"modelid\":\"59e0a31d-3b76-4dad-9272-1a974de9638f\"}];\n",
       "            \n",
       "            Bokeh.embed.embed_items(docs_json, render_items);\n",
       "        });\n",
       "      },\n",
       "      function(Bokeh) {\n",
       "      }\n",
       "    ];\n",
       "  \n",
       "    function run_inline_js() {\n",
       "      \n",
       "      if ((window.Bokeh !== undefined) || (force === \"1\")) {\n",
       "        for (var i = 0; i < inline_js.length; i++) {\n",
       "          inline_js[i](window.Bokeh);\n",
       "        }if (force === \"1\") {\n",
       "          display_loaded();\n",
       "        }} else if (Date.now() < window._bokeh_timeout) {\n",
       "        setTimeout(run_inline_js, 100);\n",
       "      } else if (!window._bokeh_failed_load) {\n",
       "        console.log(\"Bokeh: BokehJS failed to load within specified timeout.\");\n",
       "        window._bokeh_failed_load = true;\n",
       "      } else if (!force) {\n",
       "        var cell = $(\"#109ba034-1b7d-45a1-a7cf-43ee6c1d5a72\").parents('.cell').data().cell;\n",
       "        cell.output_area.append_execute_result(NB_LOAD_WARNING)\n",
       "      }\n",
       "  \n",
       "    }\n",
       "  \n",
       "    if (window._bokeh_is_loading === 0) {\n",
       "      console.log(\"Bokeh: BokehJS loaded, going straight to plotting\");\n",
       "      run_inline_js();\n",
       "    } else {\n",
       "      load_libs(js_urls, function() {\n",
       "        console.log(\"Bokeh: BokehJS plotting callback run at\", now());\n",
       "        run_inline_js();\n",
       "      });\n",
       "    }\n",
       "  }(this));\n",
       "</script>"
      ]
     },
     "metadata": {},
     "output_type": "display_data"
    }
   ],
   "source": [
    "output_notebook()\n",
    "show(layout)"
   ]
  },
  {
   "cell_type": "code",
   "execution_count": null,
   "metadata": {
    "collapsed": false
   },
   "outputs": [],
   "source": [
    "f = lambda x: np.sum(x)"
   ]
  },
  {
   "cell_type": "code",
   "execution_count": null,
   "metadata": {
    "collapsed": true
   },
   "outputs": [],
   "source": [
    "N = 10^4\n",
    "X_0 = np.random.standard_normal(N)\n",
    "X_1 = X_0 + np.random.standard_normal(N)\n",
    "X_2 = X_0 + np.random.standard_normal(N)\n",
    "X_3 = X_0 + np.random.standard_normal(N)\n",
    "X_4 = X_0 + np.random.standard_normal(N)\n",
    "X_5 = X_0 + np.random.standard_normal(N)\n",
    "X = np.array([X_1, X_2, X_3, X_4, X_5]).T\n",
    "Y = np.sum(X, axis=1)"
   ]
  },
  {
   "cell_type": "code",
   "execution_count": null,
   "metadata": {
    "collapsed": false
   },
   "outputs": [],
   "source": [
    "len(X), len(Y)"
   ]
  },
  {
   "cell_type": "code",
   "execution_count": null,
   "metadata": {
    "collapsed": true
   },
   "outputs": [],
   "source": [
    "rf = RandomForestRegressor(n_estimators=20, \n",
    "                           criterion='mse',\n",
    "                           max_depth=None,\n",
    "                           min_samples_split=2,\n",
    "                           min_samples_leaf=1,\n",
    "                           min_weight_fraction_leaf=0.0,\n",
    "                           max_features='auto',\n",
    "                           max_leaf_nodes=None,\n",
    "                           bootstrap=True,\n",
    "                           oob_score=False,\n",
    "                           n_jobs=-1,\n",
    "                           random_state=None,\n",
    "                           verbose=0,\n",
    "                           warm_start=False)"
   ]
  },
  {
   "cell_type": "code",
   "execution_count": null,
   "metadata": {
    "collapsed": false
   },
   "outputs": [],
   "source": [
    "rf.fit(X, Y)"
   ]
  },
  {
   "cell_type": "code",
   "execution_count": null,
   "metadata": {
    "collapsed": false
   },
   "outputs": [],
   "source": [
    "import plotly.graph_objs as go\n",
    "from plotly.plotly import iplot\n",
    "import plotly.plotly as py\n",
    "import plotly\n",
    "import pandas as pd\n",
    "plotly.tools.set_credentials_file(username='MajdiRabia', api_key='2aDlg90iKqS8ffNRzMuW')\n",
    "py.sign_in('MajdiRabia', '2aDlg90iKqS8ffNRzMuW')"
   ]
  },
  {
   "cell_type": "code",
   "execution_count": null,
   "metadata": {
    "collapsed": false
   },
   "outputs": [],
   "source": [
    "values = rf.feature_importances_"
   ]
  },
  {
   "cell_type": "code",
   "execution_count": null,
   "metadata": {
    "collapsed": false
   },
   "outputs": [],
   "source": [
    "[round(values[4-i], 4) for i in range(len(values))]"
   ]
  },
  {
   "cell_type": "code",
   "execution_count": null,
   "metadata": {
    "collapsed": true
   },
   "outputs": [],
   "source": [
    "names = ['X_{}'.format(i) for i in range(5, 0, -1)]"
   ]
  },
  {
   "cell_type": "code",
   "execution_count": null,
   "metadata": {
    "collapsed": false
   },
   "outputs": [],
   "source": [
    "names"
   ]
  },
  {
   "cell_type": "code",
   "execution_count": null,
   "metadata": {
    "collapsed": false
   },
   "outputs": [],
   "source": [
    "data = [go.Bar(x = values, y=names, orientation = 'h')]"
   ]
  },
  {
   "cell_type": "code",
   "execution_count": null,
   "metadata": {
    "collapsed": false
   },
   "outputs": [],
   "source": [
    "iplot(data, filename='Variable Importance Bar')"
   ]
  },
  {
   "cell_type": "code",
   "execution_count": null,
   "metadata": {
    "collapsed": false
   },
   "outputs": [],
   "source": [
    "from sklearn.datasets import make_classification, make_blobs"
   ]
  },
  {
   "cell_type": "code",
   "execution_count": null,
   "metadata": {
    "collapsed": false
   },
   "outputs": [],
   "source": [
    "X1, Y1 = make_blobs(n_samples=10000, n_features=2, centers=3)\n",
    "colors = np.array([x for x in 'bgrcmykbgrcmykbgrcmykbgrcmyk'])\n",
    "plt.scatter(X1[:, 0], X1[:, 1], marker='o', c=Y1, edgecolors=colors[Y1].tolist())\n",
    "plt.show()\n",
    "# X, y = datasets.make_circles(n_samples=100, factor=.5,\n",
    "#                                       noise=.05)\n",
    "# colors = np.array([x for x in 'bgrcmykbgrcmykbgrcmykbgrcmyk'])\n",
    "# colors = np.hstack([colors] * 20)\n",
    "# plt.scatter(X[:, 0], X[:, 1], color=colors[y].tolist(), s=10)\n",
    "# plt.show()"
   ]
  },
  {
   "cell_type": "code",
   "execution_count": null,
   "metadata": {
    "collapsed": false
   },
   "outputs": [],
   "source": [
    "y"
   ]
  },
  {
   "cell_type": "code",
   "execution_count": null,
   "metadata": {
    "collapsed": true
   },
   "outputs": [],
   "source": [
    "import pandas as pd"
   ]
  },
  {
   "cell_type": "code",
   "execution_count": null,
   "metadata": {
    "collapsed": true
   },
   "outputs": [],
   "source": [
    "credit = pd.DataFrame.from_csv('german_credit.csv')"
   ]
  },
  {
   "cell_type": "code",
   "execution_count": null,
   "metadata": {
    "collapsed": false
   },
   "outputs": [],
   "source": [
    "credit.head(10)"
   ]
  },
  {
   "cell_type": "code",
   "execution_count": null,
   "metadata": {
    "collapsed": true
   },
   "outputs": [],
   "source": [
    "train_set = pd.DataFrame.from_csv('Training50.csv')"
   ]
  },
  {
   "cell_type": "code",
   "execution_count": null,
   "metadata": {
    "collapsed": false
   },
   "outputs": [],
   "source": [
    "headers = train_set.columns.values"
   ]
  },
  {
   "cell_type": "code",
   "execution_count": null,
   "metadata": {
    "collapsed": false
   },
   "outputs": [],
   "source": [
    "headers"
   ]
  },
  {
   "cell_type": "code",
   "execution_count": null,
   "metadata": {
    "collapsed": true
   },
   "outputs": [],
   "source": [
    "y_train = train_set[headers[0]]\n",
    "x_train = train_set[headers[1:]]"
   ]
  },
  {
   "cell_type": "code",
   "execution_count": null,
   "metadata": {
    "collapsed": false
   },
   "outputs": [],
   "source": [
    "x_train.head(10)"
   ]
  },
  {
   "cell_type": "code",
   "execution_count": null,
   "metadata": {
    "collapsed": false
   },
   "outputs": [],
   "source": [
    "y_train.head(10)"
   ]
  },
  {
   "cell_type": "code",
   "execution_count": null,
   "metadata": {
    "collapsed": true
   },
   "outputs": [],
   "source": [
    "rf = RandomForestRegressor(n_estimators=10, \n",
    "                           criterion='mse',\n",
    "                           max_depth=None,\n",
    "                           min_samples_split=2,\n",
    "                           min_samples_leaf=1,\n",
    "                           min_weight_fraction_leaf=0.0,\n",
    "                           max_features='auto',\n",
    "                           max_leaf_nodes=None,\n",
    "                           bootstrap=True,\n",
    "                           oob_score=False,\n",
    "                           n_jobs=1,\n",
    "                           random_state=None,\n",
    "                           verbose=0,\n",
    "                           warm_start=False)"
   ]
  },
  {
   "cell_type": "code",
   "execution_count": null,
   "metadata": {
    "collapsed": false
   },
   "outputs": [],
   "source": [
    "rf.fit(x_train, y_train)"
   ]
  },
  {
   "cell_type": "code",
   "execution_count": null,
   "metadata": {
    "collapsed": true
   },
   "outputs": [],
   "source": [
    "test_set = pd.DataFrame.from_csv('Test50.csv')"
   ]
  },
  {
   "cell_type": "code",
   "execution_count": null,
   "metadata": {
    "collapsed": false
   },
   "outputs": [],
   "source": [
    "test_set.head(10)"
   ]
  },
  {
   "cell_type": "code",
   "execution_count": null,
   "metadata": {
    "collapsed": true
   },
   "outputs": [],
   "source": [
    "y_test = train_set[headers[0]]\n",
    "x_test = train_set[headers[1:]]"
   ]
  },
  {
   "cell_type": "code",
   "execution_count": null,
   "metadata": {
    "collapsed": true
   },
   "outputs": [],
   "source": [
    "y_predicted = rf.predict(x_test)"
   ]
  },
  {
   "cell_type": "code",
   "execution_count": null,
   "metadata": {
    "collapsed": true
   },
   "outputs": [],
   "source": [
    "def mse(u, v): \n",
    "    return (np.mean(np.square(u-v)))"
   ]
  },
  {
   "cell_type": "code",
   "execution_count": null,
   "metadata": {
    "collapsed": false
   },
   "outputs": [],
   "source": [
    "mse(y_test, y_predicted)"
   ]
  },
  {
   "cell_type": "code",
   "execution_count": null,
   "metadata": {
    "collapsed": false
   },
   "outputs": [],
   "source": [
    "y_test.head(10)"
   ]
  },
  {
   "cell_type": "code",
   "execution_count": null,
   "metadata": {
    "collapsed": false
   },
   "outputs": [],
   "source": [
    "y_predicted[0:11]"
   ]
  },
  {
   "cell_type": "code",
   "execution_count": null,
   "metadata": {
    "collapsed": false
   },
   "outputs": [],
   "source": [
    "rf.feature_importances_"
   ]
  },
  {
   "cell_type": "code",
   "execution_count": null,
   "metadata": {
    "collapsed": true
   },
   "outputs": [],
   "source": [
    "mse_with_trees = []\n",
    "n_trees = [10 + 10*i for i in range(100)]"
   ]
  },
  {
   "cell_type": "code",
   "execution_count": null,
   "metadata": {
    "collapsed": false
   },
   "outputs": [],
   "source": [
    "for n_tree in n_trees:\n",
    "    rf = RandomForestClassifier(n_estimators=n_tree, \n",
    "                               criterion='gini',\n",
    "                               max_depth=None,\n",
    "                               min_samples_split=2,\n",
    "                               min_samples_leaf=1,\n",
    "                               min_weight_fraction_leaf=0.0,\n",
    "                               max_features='auto',\n",
    "                               max_leaf_nodes=None,\n",
    "                               bootstrap=True,\n",
    "                               oob_score=False,\n",
    "                               n_jobs=-1,\n",
    "                               random_state=None,\n",
    "                               verbose=0,\n",
    "                               warm_start=False)\n",
    "    rf.fit(x_train, y_train)\n",
    "    y_predicted = rf.predict(x_test)\n",
    "    MSE = mse(y_predicted, y_test)\n",
    "    print (y_predicted - y_test)\n",
    "    mse_with_trees.append(MSE)"
   ]
  },
  {
   "cell_type": "code",
   "execution_count": null,
   "metadata": {
    "collapsed": false
   },
   "outputs": [],
   "source": [
    "len(y_test)"
   ]
  },
  {
   "cell_type": "code",
   "execution_count": null,
   "metadata": {
    "collapsed": false
   },
   "outputs": [],
   "source": [
    "rf = RandomForestClassifier(n_estimators=10, \n",
    "                               criterion='gini',\n",
    "                               max_depth=None,\n",
    "                               min_samples_split=2,\n",
    "                               min_samples_leaf=1,\n",
    "                               min_weight_fraction_leaf=0.0,\n",
    "                               max_features='auto',\n",
    "                               max_leaf_nodes=None,\n",
    "                               bootstrap=True,\n",
    "                               oob_score=False,\n",
    "                               n_jobs=-1,\n",
    "                               random_state=None,\n",
    "                               verbose=0,\n",
    "                               warm_start=False)\n",
    "rf.fit(x_train, y_train)\n",
    "y_predicted = rf.predict(x_test)\n",
    "MSE = mse(y_predicted, y_test)\n",
    "print (MSE)\n",
    "mse_with_trees.append(MSE)"
   ]
  },
  {
   "cell_type": "code",
   "execution_count": null,
   "metadata": {
    "collapsed": false
   },
   "outputs": [],
   "source": [
    "test = pd.DataFrame.from_csv('training.csv')"
   ]
  },
  {
   "cell_type": "code",
   "execution_count": null,
   "metadata": {
    "collapsed": false
   },
   "outputs": [],
   "source": [
    "test.head(10)"
   ]
  },
  {
   "cell_type": "code",
   "execution_count": null,
   "metadata": {
    "collapsed": true
   },
   "outputs": [],
   "source": [
    "hap_train = pd.DataFrame.from_csv('world-happiness/2015.csv')"
   ]
  },
  {
   "cell_type": "code",
   "execution_count": null,
   "metadata": {
    "collapsed": true
   },
   "outputs": [],
   "source": [
    "ind = hap_train.columns"
   ]
  },
  {
   "cell_type": "code",
   "execution_count": null,
   "metadata": {
    "collapsed": false
   },
   "outputs": [],
   "source": [
    "ind"
   ]
  },
  {
   "cell_type": "code",
   "execution_count": null,
   "metadata": {
    "collapsed": true
   },
   "outputs": [],
   "source": [
    "x_col = ['Economy (GDP per Capita)', 'Family', 'Health (Life Expectancy)',\n",
    "       'Freedom', 'Trust (Government Corruption)', 'Generosity',\n",
    "       'Dystopia Residual']"
   ]
  },
  {
   "cell_type": "code",
   "execution_count": null,
   "metadata": {
    "collapsed": true
   },
   "outputs": [],
   "source": [
    "x_train = hap_train[x_col]"
   ]
  },
  {
   "cell_type": "code",
   "execution_count": null,
   "metadata": {
    "collapsed": false
   },
   "outputs": [],
   "source": [
    "y_col = 'Happiness Score'\n",
    "y_train = hap_train[y_col]"
   ]
  },
  {
   "cell_type": "code",
   "execution_count": null,
   "metadata": {
    "collapsed": false
   },
   "outputs": [],
   "source": [
    "def train_predict(rf, x_train, y_train, x_test): \n",
    "    rf.fit(x_train, y_train)\n",
    "    y_predicted = rf.predict(x_test)\n",
    "    return y_predicted"
   ]
  },
  {
   "cell_type": "code",
   "execution_count": null,
   "metadata": {
    "collapsed": true
   },
   "outputs": [],
   "source": [
    "hap_tests = pd.DataFrame.from_csv('world-happiness/2016.csv')\n"
   ]
  },
  {
   "cell_type": "code",
   "execution_count": null,
   "metadata": {
    "collapsed": false
   },
   "outputs": [],
   "source": []
  },
  {
   "cell_type": "code",
   "execution_count": null,
   "metadata": {
    "collapsed": false
   },
   "outputs": [],
   "source": [
    "hap_train = hap_train.sort_index()\n",
    "hap_tests = hap_tests.sort_index()"
   ]
  },
  {
   "cell_type": "code",
   "execution_count": null,
   "metadata": {
    "collapsed": false
   },
   "outputs": [],
   "source": [
    "x_train = hap_train[x_col]\n",
    "x_test = hap_tests[x_col]\n",
    "y_train = 10 * hap_train[y_col]\n",
    "y_test = 10 * hap_tests[y_col]"
   ]
  },
  {
   "cell_type": "code",
   "execution_count": null,
   "metadata": {
    "collapsed": true
   },
   "outputs": [],
   "source": [
    "y = train_predict(rf, x_train.values, y_train.values, x_test.values)"
   ]
  },
  {
   "cell_type": "code",
   "execution_count": null,
   "metadata": {
    "collapsed": true
   },
   "outputs": [],
   "source": [
    "def error(x, y): \n",
    "    return np.sum((x-y) ** 2)"
   ]
  },
  {
   "cell_type": "code",
   "execution_count": null,
   "metadata": {
    "collapsed": false
   },
   "outputs": [],
   "source": [
    "n_trees = list(range(1, 1001))\n",
    "mse_with_trees=[]\n",
    "for n_tree in n_trees:\n",
    "    rf = RandomForestRegressor(n_estimators=n_tree, \n",
    "                               criterion='mse',\n",
    "                               max_depth=None,\n",
    "                               min_samples_split=2,\n",
    "                               min_samples_leaf=1,\n",
    "                               min_weight_fraction_leaf=0.0,\n",
    "                               max_features='auto',\n",
    "                               max_leaf_nodes=None,\n",
    "                               bootstrap=True,\n",
    "                               oob_score=False,\n",
    "                               n_jobs=-1,\n",
    "                               random_state=None,\n",
    "                               verbose=0,\n",
    "                               warm_start=False)\n",
    "    y_predicted = train_predict(rf, x_train.values, y_train.values, x_test.values)\n",
    "    MSE = error(y_predicted, y_test)\n",
    "    print (MSE)\n",
    "    mse_with_trees.append(MSE)"
   ]
  },
  {
   "cell_type": "code",
   "execution_count": null,
   "metadata": {
    "collapsed": false
   },
   "outputs": [],
   "source": [
    "rf = RandomForestRegressor(n_estimators=100, \n",
    "                               criterion='mse',\n",
    "                               max_depth=None,\n",
    "                               min_samples_split=2,\n",
    "                               min_samples_leaf=1,\n",
    "                               min_weight_fraction_leaf=0.0,\n",
    "                               max_features='auto',\n",
    "                               max_leaf_nodes=None,\n",
    "                               bootstrap=True,\n",
    "                               oob_score=True,\n",
    "                               n_jobs=-1,\n",
    "                               random_state=None,\n",
    "                               verbose=0,\n",
    "                               warm_start=False)\n",
    "y_predicted = train_predict(rf, x_train.values, y_train.values, x_test.values)\n",
    "MSE = mse(y_predicted, y_test)\n",
    "print (MSE)"
   ]
  },
  {
   "cell_type": "code",
   "execution_count": null,
   "metadata": {
    "collapsed": false
   },
   "outputs": [],
   "source": [
    "rank_train = hap_train.reset_index()"
   ]
  },
  {
   "cell_type": "code",
   "execution_count": null,
   "metadata": {
    "collapsed": false
   },
   "outputs": [],
   "source": [
    "rank_train = rank_train[['Country', 'Happiness Score']]"
   ]
  },
  {
   "cell_type": "code",
   "execution_count": null,
   "metadata": {
    "collapsed": false
   },
   "outputs": [],
   "source": [
    "rank_test = hap_tests.reset_index()\n",
    "rank_test = rank_test[['Country', 'Happiness Score']]"
   ]
  },
  {
   "cell_type": "code",
   "execution_count": null,
   "metadata": {
    "collapsed": false
   },
   "outputs": [],
   "source": [
    "rank_test.head(5)"
   ]
  },
  {
   "cell_type": "code",
   "execution_count": null,
   "metadata": {
    "collapsed": false
   },
   "outputs": [],
   "source": [
    "rank_train.head(5)"
   ]
  },
  {
   "cell_type": "code",
   "execution_count": null,
   "metadata": {
    "collapsed": true
   },
   "outputs": [],
   "source": [
    "rank_pred = pd.DataFrame(columns=['Country', 'Happiness Score'])"
   ]
  },
  {
   "cell_type": "code",
   "execution_count": null,
   "metadata": {
    "collapsed": true
   },
   "outputs": [],
   "source": [
    "rank_pred['Country'] = rank_test['Country']"
   ]
  },
  {
   "cell_type": "code",
   "execution_count": null,
   "metadata": {
    "collapsed": true
   },
   "outputs": [],
   "source": [
    "rank_pred['Happiness Score'] = y_predicted"
   ]
  },
  {
   "cell_type": "code",
   "execution_count": null,
   "metadata": {
    "collapsed": false
   },
   "outputs": [],
   "source": [
    "rank_pred.head(5)"
   ]
  },
  {
   "cell_type": "code",
   "execution_count": null,
   "metadata": {
    "collapsed": false
   },
   "outputs": [],
   "source": [
    "len(mse_with_trees)"
   ]
  },
  {
   "cell_type": "code",
   "execution_count": null,
   "metadata": {
    "collapsed": false
   },
   "outputs": [],
   "source": [
    "plt.plot(n_trees, mse_with_trees)\n",
    "plt.show()"
   ]
  },
  {
   "cell_type": "markdown",
   "metadata": {},
   "source": [
    "## max_features"
   ]
  },
  {
   "cell_type": "code",
   "execution_count": null,
   "metadata": {
    "collapsed": true
   },
   "outputs": [],
   "source": [
    "max_features = len(y_train)"
   ]
  },
  {
   "cell_type": "code",
   "execution_count": null,
   "metadata": {
    "collapsed": false
   },
   "outputs": [],
   "source": [
    "max_features = list(range(1, 8))"
   ]
  },
  {
   "cell_type": "code",
   "execution_count": null,
   "metadata": {
    "collapsed": false
   },
   "outputs": [],
   "source": [
    "max_features"
   ]
  },
  {
   "cell_type": "code",
   "execution_count": null,
   "metadata": {
    "collapsed": false
   },
   "outputs": [],
   "source": [
    "e_features = []\n",
    "for max_feature in max_features: \n",
    "    for _ in range(10):\n",
    "        rf = RandomForestRegressor(n_estimators=100, \n",
    "                               criterion='mse',\n",
    "                               max_depth=None,\n",
    "                               min_samples_split=2,\n",
    "                               min_samples_leaf=1,\n",
    "                               min_weight_fraction_leaf=0.0,\n",
    "                               max_features=max_feature,\n",
    "                               max_leaf_nodes=None,\n",
    "                               bootstrap=True,\n",
    "                               oob_score=True,\n",
    "                               n_jobs=-1,\n",
    "                               random_state=None,\n",
    "                               verbose=0,\n",
    "                               warm_start=False)\n",
    "        y_predicted = y_predicted + train_predict(rf, x_train.values, y_train.values, x_test.values)\n",
    "    y_predicted = y_predicted / 10\n",
    "    e = mse(y_predicted, y_test)\n",
    "    print (e)\n",
    "    e_features.append(e)"
   ]
  },
  {
   "cell_type": "code",
   "execution_count": null,
   "metadata": {
    "collapsed": false
   },
   "outputs": [],
   "source": [
    "e_features"
   ]
  },
  {
   "cell_type": "code",
   "execution_count": null,
   "metadata": {
    "collapsed": false
   },
   "outputs": [],
   "source": [
    "plt.plot(max_features, e_features)\n",
    "plt.show()"
   ]
  },
  {
   "cell_type": "code",
   "execution_count": null,
   "metadata": {
    "collapsed": true
   },
   "outputs": [],
   "source": [
    "import pandas as pd\n",
    "import matplotlib.pyplot as plt\n",
    "import seaborn as sns\n",
    "import numpy as np\n",
    "from scipy.stats import norm\n",
    "from sklearn.preprocessing import StandardScaler\n",
    "from scipy import stats\n",
    "import warnings\n",
    "warnings.filterwarnings('ignore')\n",
    "%matplotlib inline"
   ]
  },
  {
   "cell_type": "code",
   "execution_count": null,
   "metadata": {
    "collapsed": true
   },
   "outputs": [],
   "source": [
    "g = lambda x: x**2"
   ]
  },
  {
   "cell_type": "code",
   "execution_count": null,
   "metadata": {
    "collapsed": true
   },
   "outputs": [],
   "source": [
    "import scipy\n",
    "opt = scipy.optimize.minimize_scalar(g, (-1, 1))"
   ]
  },
  {
   "cell_type": "code",
   "execution_count": null,
   "metadata": {
    "collapsed": false
   },
   "outputs": [],
   "source": [
    "opt.fun"
   ]
  },
  {
   "cell_type": "code",
   "execution_count": null,
   "metadata": {
    "collapsed": true
   },
   "outputs": [],
   "source": []
  }
 ],
 "metadata": {
  "kernelspec": {
   "display_name": "Python 3",
   "language": "python",
   "name": "python3"
  },
  "language_info": {
   "codemirror_mode": {
    "name": "ipython",
    "version": 3
   },
   "file_extension": ".py",
   "mimetype": "text/x-python",
   "name": "python",
   "nbconvert_exporter": "python",
   "pygments_lexer": "ipython3",
   "version": "3.5.2"
  }
 },
 "nbformat": 4,
 "nbformat_minor": 0
}
