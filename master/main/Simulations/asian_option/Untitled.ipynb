{
 "cells": [
  {
   "cell_type": "code",
   "execution_count": 10,
   "metadata": {
    "collapsed": true
   },
   "outputs": [],
   "source": [
    "import os\n",
    "import sys\n",
    "module_path = os.path.abspath(os.path.join('../'))\n",
    "if module_path not in sys.path:\n",
    "    sys.path.append(module_path)"
   ]
  },
  {
   "cell_type": "code",
   "execution_count": 11,
   "metadata": {
    "collapsed": false
   },
   "outputs": [],
   "source": [
    "from BSDE import * \n",
    "import warnings \n",
    "import bokeh\n",
    "from bokeh.layouts import gridplot\n",
    "from bokeh.plotting import figure, output_notebook, show, output_file\n",
    "import time\n",
    "warnings.filterwarnings(\"ignore\")"
   ]
  },
  {
   "cell_type": "code",
   "execution_count": 13,
   "metadata": {
    "collapsed": false
   },
   "outputs": [
    {
     "name": "stdout",
     "output_type": "stream",
     "text": [
      "4.62469136139\n",
      "6.0799636869\n",
      "5.66777650874\n",
      "4.99223136727\n"
     ]
    }
   ],
   "source": [
    "T = 1.\n",
    "K = 100\n",
    "S0 = 100\n",
    "sigma = 0.2\n",
    "r = 0.01\n",
    "mu = 0.06\n",
    "R = 0.01\n",
    "q = 0.\n",
    "m = 10\n",
    "N = 1000\n",
    "l = 1.\n",
    "deg = 5\n",
    "n_picard = 1\n",
    "n_neighbors = 100\n",
    "test = BSDE(S0, K, T, mu, sigma, q)\n",
    "print (test.get_price_lsm(R, r, N, m, deg=deg,\n",
    "                          n_picard=n_picard, oPayoff = \"call average\"))\n",
    "print (test.get_price_RF(R, r, N, m, n_picard=n_picard, oPayoff = \"call average\"))\n",
    "\n",
    "print (test.get_price_mesh(R, r, N, m, mode='all',n_picard=n_picard, oPayoff = \"call average\"))\n",
    "\n",
    "print(test.get_price_derivative(R, r, N, m, deg=5, oPayoff='call average', oType='European', n_picard=n_picard, l=l, \n",
    "                                n_neighbors=n_neighbors))"
   ]
  },
  {
   "cell_type": "code",
   "execution_count": null,
   "metadata": {
    "collapsed": true
   },
   "outputs": [],
   "source": []
  }
 ],
 "metadata": {
  "kernelspec": {
   "display_name": "Python 3",
   "language": "python",
   "name": "python3"
  },
  "language_info": {
   "codemirror_mode": {
    "name": "ipython",
    "version": 3
   },
   "file_extension": ".py",
   "mimetype": "text/x-python",
   "name": "python",
   "nbconvert_exporter": "python",
   "pygments_lexer": "ipython3",
   "version": "3.5.2"
  }
 },
 "nbformat": 4,
 "nbformat_minor": 0
}
