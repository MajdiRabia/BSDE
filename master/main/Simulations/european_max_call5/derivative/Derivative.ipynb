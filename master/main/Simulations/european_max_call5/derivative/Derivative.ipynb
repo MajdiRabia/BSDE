{
 "cells": [
  {
   "cell_type": "markdown",
   "metadata": {},
   "source": [
    "# 1) Simulation with fixed parameters"
   ]
  },
  {
   "cell_type": "code",
   "execution_count": 1,
   "metadata": {
    "collapsed": true
   },
   "outputs": [],
   "source": [
    "import os\n",
    "import sys\n",
    "module_path = os.path.abspath(os.path.join('../../..'))\n",
    "if module_path not in sys.path:\n",
    "    sys.path.append(module_path)"
   ]
  },
  {
   "cell_type": "code",
   "execution_count": 2,
   "metadata": {
    "collapsed": false
   },
   "outputs": [],
   "source": [
    "from BSDE import * \n",
    "import warnings \n",
    "import bokeh\n",
    "from bokeh.layouts import gridplot\n",
    "from bokeh.plotting import figure, output_notebook, show, output_file\n",
    "import time\n",
    "warnings.filterwarnings(\"ignore\")"
   ]
  },
  {
   "cell_type": "code",
   "execution_count": 3,
   "metadata": {
    "collapsed": false
   },
   "outputs": [],
   "source": [
    "T = 3.\n",
    "K = 100.\n",
    "S0 = 100.\n",
    "sigma = 0.2\n",
    "p = 5\n",
    "M = np.eye(p)\n",
    "r = 0.05\n",
    "mu = 0.05\n",
    "R = 0.05\n",
    "Q = 0.1"
   ]
  },
  {
   "cell_type": "code",
   "execution_count": 4,
   "metadata": {
    "collapsed": true
   },
   "outputs": [],
   "source": [
    "m = 8\n",
    "N = 1000\n",
    "l = 1.\n",
    "p = 5\n",
    "n_picard = 3\n",
    "n_neighbors = np.floor(0.1 * N)\n",
    "M_run = 20"
   ]
  },
  {
   "cell_type": "code",
   "execution_count": null,
   "metadata": {
    "collapsed": false
   },
   "outputs": [
    {
     "name": "stdout",
     "output_type": "stream",
     "text": [
      "(22.923500000000001, 14.442)\n",
      "(23.916899999999998, 14.27)\n",
      "(22.686, 15.119999999999999)\n",
      "(22.087599999999998, 14.554)\n",
      "(22.324100000000001, 14.548)\n"
     ]
    }
   ],
   "source": [
    "a = np.zeros(M_run)\n",
    "timing = np.zeros_like(a)\n",
    "for i in range (M_run):\n",
    "    start = time.time()\n",
    "    test_hd = BsdeHD(T, K, M, mu, Q, sigma, S0, r, R)\n",
    "    a[i] = test_hd.get_price_derivative(R, r, N, m,\n",
    "                                             option_type='call', option_payoff='max',\n",
    "                                             oType='European', n_picard=n_picard, n_neighbors=n_neighbors, l=l)\n",
    "    a[i] = round(a[i], 4)\n",
    "    elapsed = time.time() - start\n",
    "    timing[i] = round(elapsed, 3)\n",
    "    print (a[i], timing[i])"
   ]
  },
  {
   "cell_type": "code",
   "execution_count": 8,
   "metadata": {
    "collapsed": false
   },
   "outputs": [
    {
     "data": {
      "text/plain": [
       "22.913074999999999"
      ]
     },
     "execution_count": 8,
     "metadata": {},
     "output_type": "execute_result"
    }
   ],
   "source": [
    "a.mean()"
   ]
  },
  {
   "cell_type": "code",
   "execution_count": 9,
   "metadata": {
    "collapsed": true
   },
   "outputs": [],
   "source": [
    "import pandas as pd"
   ]
  },
  {
   "cell_type": "code",
   "execution_count": 11,
   "metadata": {
    "collapsed": false
   },
   "outputs": [],
   "source": [
    "param = ['q', 'mu', 'R ', 'r ','sigma', 'T', 'K', 'S0']\n",
    "values = [Q, mu, R, r, sigma, T, K, S0]\n",
    "dataset = list(zip(param,values))\n",
    "df_param = pd.DataFrame(data = dataset, columns=['Parameters', 'values'])"
   ]
  },
  {
   "cell_type": "code",
   "execution_count": 12,
   "metadata": {
    "collapsed": false
   },
   "outputs": [
    {
     "data": {
      "text/html": [
       "<div>\n",
       "<table border=\"1\" class=\"dataframe\">\n",
       "  <thead>\n",
       "    <tr style=\"text-align: right;\">\n",
       "      <th></th>\n",
       "      <th>Specific Parameters</th>\n",
       "      <th>values</th>\n",
       "    </tr>\n",
       "  </thead>\n",
       "  <tbody>\n",
       "    <tr>\n",
       "      <th>0</th>\n",
       "      <td>N_particles</td>\n",
       "      <td>1000.0</td>\n",
       "    </tr>\n",
       "    <tr>\n",
       "      <th>1</th>\n",
       "      <td>m_discretization</td>\n",
       "      <td>8.0</td>\n",
       "    </tr>\n",
       "    <tr>\n",
       "      <th>2</th>\n",
       "      <td>N_run</td>\n",
       "      <td>20.0</td>\n",
       "    </tr>\n",
       "    <tr>\n",
       "      <th>3</th>\n",
       "      <td>n_picard</td>\n",
       "      <td>3.0</td>\n",
       "    </tr>\n",
       "    <tr>\n",
       "      <th>4</th>\n",
       "      <td>nearest neighbors</td>\n",
       "      <td>100.0</td>\n",
       "    </tr>\n",
       "    <tr>\n",
       "      <th>5</th>\n",
       "      <td>l</td>\n",
       "      <td>1.0</td>\n",
       "    </tr>\n",
       "  </tbody>\n",
       "</table>\n",
       "</div>"
      ],
      "text/plain": [
       "  Specific Parameters  values\n",
       "0         N_particles  1000.0\n",
       "1    m_discretization     8.0\n",
       "2               N_run    20.0\n",
       "3            n_picard     3.0\n",
       "4   nearest neighbors   100.0\n",
       "5                   l     1.0"
      ]
     },
     "execution_count": 12,
     "metadata": {},
     "output_type": "execute_result"
    }
   ],
   "source": [
    "sparam = ['N_particles', 'm_discretization', 'N_run', 'n_picard', 'nearest neighbors', 'l']\n",
    "svalues = [N, m, M_run, n_picard, n_neighbors, l]\n",
    "sp_dataset = list(zip(sparam,svalues))\n",
    "df_sparam = pd.DataFrame(sp_dataset, columns=['Specific Parameters', 'values'])\n",
    "df_sparam"
   ]
  },
  {
   "cell_type": "code",
   "execution_count": 13,
   "metadata": {
    "collapsed": false
   },
   "outputs": [],
   "source": [
    "run_id = [\"run {}\".format(i) for i in range(1, M_run+1)]\n",
    "df = pd.DataFrame(list(zip(run_id, a, timing)), columns = ['run','values', 'time'])"
   ]
  },
  {
   "cell_type": "code",
   "execution_count": 14,
   "metadata": {
    "collapsed": true
   },
   "outputs": [],
   "source": [
    "min_a = round(df['values'].min(), 4)\n",
    "max_a = round(df['values'].max(), 4)\n",
    "mean_a = round(df['values'].mean(), 4)\n",
    "std_a = round(df['values'].std(), 4)\n",
    "left = round(mean_a - 1.96 * std_a / M_run, 4)\n",
    "right = round(mean_a + 1.96 * std_a / M_run, 4)"
   ]
  },
  {
   "cell_type": "code",
   "execution_count": 15,
   "metadata": {
    "collapsed": false
   },
   "outputs": [
    {
     "data": {
      "text/html": [
       "<div>\n",
       "<table border=\"1\" class=\"dataframe\">\n",
       "  <thead>\n",
       "    <tr style=\"text-align: right;\">\n",
       "      <th></th>\n",
       "      <th>stat parameter</th>\n",
       "      <th>values</th>\n",
       "    </tr>\n",
       "  </thead>\n",
       "  <tbody>\n",
       "    <tr>\n",
       "      <th>0</th>\n",
       "      <td>mean</td>\n",
       "      <td>22.9131</td>\n",
       "    </tr>\n",
       "    <tr>\n",
       "      <th>1</th>\n",
       "      <td>std</td>\n",
       "      <td>0.6985</td>\n",
       "    </tr>\n",
       "    <tr>\n",
       "      <th>2</th>\n",
       "      <td>95% confidence interval</td>\n",
       "      <td>[22.8446, 22.9816]</td>\n",
       "    </tr>\n",
       "    <tr>\n",
       "      <th>3</th>\n",
       "      <td>min</td>\n",
       "      <td>21.6485</td>\n",
       "    </tr>\n",
       "    <tr>\n",
       "      <th>4</th>\n",
       "      <td>max</td>\n",
       "      <td>23.9269</td>\n",
       "    </tr>\n",
       "  </tbody>\n",
       "</table>\n",
       "</div>"
      ],
      "text/plain": [
       "            stat parameter              values\n",
       "0                     mean             22.9131\n",
       "1                      std              0.6985\n",
       "2  95% confidence interval  [22.8446, 22.9816]\n",
       "3                      min             21.6485\n",
       "4                      max             23.9269"
      ]
     },
     "execution_count": 15,
     "metadata": {},
     "output_type": "execute_result"
    }
   ],
   "source": [
    "stat_param = ['mean', 'std', '95% confidence interval', 'min', 'max']\n",
    "stat_values = [mean_a, std_a, [left, right], min_a, max_a]\n",
    "stat_data = list(zip(stat_param, stat_values))\n",
    "stat_df = pd.DataFrame(stat_data, columns = ['stat parameter', 'values'])\n",
    "stat_df"
   ]
  },
  {
   "cell_type": "code",
   "execution_count": 16,
   "metadata": {
    "collapsed": false
   },
   "outputs": [],
   "source": [
    "df_join = pd.concat([df_param, df_sparam, df, stat_df], axis = 0)\n",
    "df_join.to_csv('output_derivative.csv')"
   ]
  },
  {
   "cell_type": "markdown",
   "metadata": {},
   "source": [
    "# 2) Impact of number of Nearest Neighbors"
   ]
  },
  {
   "cell_type": "code",
   "execution_count": 27,
   "metadata": {
    "collapsed": false
   },
   "outputs": [],
   "source": [
    "price_nn = np.zeros(len(list(range(1, 100, 4))))\n",
    "for i, n_neighbors_i in enumerate(list(range(1, N, 50))):\n",
    "    start = time.time()\n",
    "    test_hd = BsdeHD(T, K, M, mu, Q, sigma, S_init, r, R)\n",
    "    price_nn[i] = test_hd.get_price_derivative(R, r, N, m,\n",
    "                                             option_type='call', option_payoff='geometric',\n",
    "                                             oType='European', n_picard=n_picard, n_neighbors=n_neighbors_i, l=l)\n",
    "    elapsed = time.time() - start"
   ]
  },
  {
   "cell_type": "code",
   "execution_count": 26,
   "metadata": {
    "collapsed": false
   },
   "outputs": [
    {
     "data": {
      "text/plain": [
       "array([ 3.28901841,  3.3528699 ,  3.12673611,  3.51069225,  3.46740176,\n",
       "        3.39355354,  3.41896417,  3.42097469,  3.28905515,  3.49631721,\n",
       "        3.64160256,  3.292018  ,  3.35311572,  3.56578109,  3.46102741,\n",
       "        3.13836857,  3.25451344,  3.45003669,  3.35606931,  3.55291106,\n",
       "        0.        ,  0.        ,  0.        ,  0.        ,  0.        ])"
      ]
     },
     "execution_count": 26,
     "metadata": {},
     "output_type": "execute_result"
    }
   ],
   "source": [
    "price_nn"
   ]
  },
  {
   "cell_type": "markdown",
   "metadata": {},
   "source": [
    "# 3) Impact of parameter l "
   ]
  },
  {
   "cell_type": "code",
   "execution_count": 28,
   "metadata": {
    "collapsed": false
   },
   "outputs": [],
   "source": [
    "price_l = np.zeros(len(list(range(1, 100, 4))))\n",
    "for i, l_i in enumerate(list(range(1, 100, 4))):\n",
    "    test = BsdeHD(T, K, M, mu, Q, sigma, S_init, r, R)\n",
    "    price_l[i] = test_hd.get_price_derivative(R, r, N, m,\n",
    "                                             option_type='call', option_payoff='geometric',\n",
    "                                             oType='European', n_picard=n_picard, n_neighbors=n_neighbors, l=l_i)"
   ]
  },
  {
   "cell_type": "markdown",
   "metadata": {},
   "source": [
    "# 4) Plotting Z against Stocks Input"
   ]
  },
  {
   "cell_type": "code",
   "execution_count": null,
   "metadata": {
    "collapsed": true
   },
   "outputs": [],
   "source": [
    "T = 0.5\n",
    "m_time_discretization = 12\n",
    "plt.rcParams['figure.figsize'] = (7*m_time_discretization,7*2)\n",
    "K = 100\n",
    "S0 = 100\n",
    "sigma = 0.2\n",
    "r = 0.04\n",
    "N_particles = 10000\n",
    "n_neighbors = 999\n",
    "mu = 0.06\n",
    "R = 0.06\n",
    "q = 0.\n",
    "test = BSDE(S0, K, T, mu, sigma, q)\n",
    "price_derivative = test.get_price_derivative(R, r, N_particles, m_time_discretization, l=1., \n",
    "                                             n_neighbors=n_neighbors,use_display=True)\n",
    "\n",
    "print (price_derivative)"
   ]
  },
  {
   "cell_type": "code",
   "execution_count": 29,
   "metadata": {
    "collapsed": false
   },
   "outputs": [
    {
     "data": {
      "text/plain": [
       "345.38776394910684"
      ]
     },
     "execution_count": 29,
     "metadata": {},
     "output_type": "execute_result"
    }
   ],
   "source": [
    "1000 * np.log(1000) * 0.05"
   ]
  },
  {
   "cell_type": "code",
   "execution_count": null,
   "metadata": {
    "collapsed": true
   },
   "outputs": [],
   "source": []
  }
 ],
 "metadata": {
  "kernelspec": {
   "display_name": "Python 2",
   "language": "python",
   "name": "python2"
  },
  "language_info": {
   "codemirror_mode": {
    "name": "ipython",
    "version": 2
   },
   "file_extension": ".py",
   "mimetype": "text/x-python",
   "name": "python",
   "nbconvert_exporter": "python",
   "pygments_lexer": "ipython2",
   "version": "2.7.5"
  }
 },
 "nbformat": 4,
 "nbformat_minor": 0
}
