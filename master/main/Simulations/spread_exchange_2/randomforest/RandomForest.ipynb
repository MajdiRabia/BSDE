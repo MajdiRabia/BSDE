{
 "cells": [
  {
   "cell_type": "code",
   "execution_count": null,
   "metadata": {
    "collapsed": true
   },
   "outputs": [],
   "source": [
    "import os\n",
    "import sys\n",
    "module_path = os.path.abspath(os.path.join('../../..'))\n",
    "if module_path not in sys.path:\n",
    "    sys.path.append(module_path)"
   ]
  },
  {
   "cell_type": "code",
   "execution_count": null,
   "metadata": {
    "collapsed": false
   },
   "outputs": [],
   "source": [
    "from BSDE import *\n",
    "import warnings \n",
    "import bokeh\n",
    "from bokeh.layouts import gridplot\n",
    "from bokeh.plotting import figure, output_notebook, show, output_file\n",
    "import time\n",
    "warnings.filterwarnings(\"ignore\")"
   ]
  },
  {
   "cell_type": "code",
   "execution_count": null,
   "metadata": {
    "collapsed": false
   },
   "outputs": [],
   "source": [
    "T = 1.\n",
    "K = 100.\n",
    "r = 0.02\n",
    "R = 0.06\n",
    "p = 8\n",
    "M = 0.7 * np.eye(p) + 0.3\n",
    "S_init = 100.\n",
    "mu = 0.06\n",
    "sigma = 0.2\n",
    "Q = 0"
   ]
  },
  {
   "cell_type": "code",
   "execution_count": null,
   "metadata": {
    "collapsed": true
   },
   "outputs": [],
   "source": [
    "N = 100\n",
    "m = 6\n",
    "RF_n_trees = 200\n",
    "RF_max_leaf_nodes = 1000\n",
    "M_run = 20\n",
    "n_picard = 3"
   ]
  },
  {
   "cell_type": "code",
   "execution_count": null,
   "metadata": {
    "collapsed": false
   },
   "outputs": [],
   "source": [
    "a = np.zeros(M_run)\n",
    "timing = np.zeros_like(a)\n",
    "for i in range (M_run): \n",
    "    start = time.time()\n",
    "    test = BsdeHD(T, K, M, mu, Q, sigma, S_init, r, R)\n",
    "    a[i] = test.get_price(N, m, option_type='put', option_payoff='average',\n",
    "                          oType='European',n_picard=n_picard, \n",
    "                          RF_n_estimators = RF_n_trees, \n",
    "                          RF_min_samples_leaf=0.1,\n",
    "                          RF_max_leaf_nodes=RF_max_leaf_nodes)\n",
    "    elapsed = time.time() - start\n",
    "    timing[i] = round(elapsed, 3)\n",
    "    print(a[i])"
   ]
  },
  {
   "cell_type": "code",
   "execution_count": 1,
   "metadata": {
    "collapsed": false
   },
   "outputs": [
    {
     "ename": "NameError",
     "evalue": "name 'a' is not defined",
     "output_type": "error",
     "traceback": [
      "\u001b[0;31m\u001b[0m",
      "\u001b[0;31mNameError\u001b[0mTraceback (most recent call last)",
      "\u001b[0;32m<ipython-input-1-dc887f7a7bfb>\u001b[0m in \u001b[0;36m<module>\u001b[0;34m()\u001b[0m\n\u001b[0;32m----> 1\u001b[0;31m \u001b[0ma\u001b[0m\u001b[0;34m.\u001b[0m\u001b[0mmean\u001b[0m\u001b[0;34m(\u001b[0m\u001b[0;34m)\u001b[0m\u001b[0;34m\u001b[0m\u001b[0m\n\u001b[0m",
      "\u001b[0;31mNameError\u001b[0m: name 'a' is not defined"
     ]
    }
   ],
   "source": [
    "a.mean()"
   ]
  },
  {
   "cell_type": "code",
   "execution_count": null,
   "metadata": {
    "collapsed": false
   },
   "outputs": [],
   "source": [
    "plt.plot(list(range(50, 10000, 50)), u)\n",
    "plt.show()"
   ]
  },
  {
   "cell_type": "code",
   "execution_count": null,
   "metadata": {
    "collapsed": false
   },
   "outputs": [],
   "source": [
    "import pandas as pd"
   ]
  },
  {
   "cell_type": "code",
   "execution_count": null,
   "metadata": {
    "collapsed": false
   },
   "outputs": [],
   "source": [
    "param = ['q', 'mu', 'R ', 'r ','sigma', 'T', 'K', 'S0']\n",
    "values = [Q, mu, R, r, sigma, T, K, S_init]\n",
    "dataset = list(zip(param,values))\n",
    "df_param = pd.DataFrame(data = dataset, columns=['Parameters', 'values'])"
   ]
  },
  {
   "cell_type": "code",
   "execution_count": null,
   "metadata": {
    "collapsed": false
   },
   "outputs": [],
   "source": [
    "sparam = ['N_particles', 'm_discretization', 'N_run', 'n_picard','Number of trees', 'Max Leaf nodes']\n",
    "svalues = [N, m, M_run, n_picard, RF_n_trees, RF_max_leaf_nodes]\n",
    "sp_dataset = list(zip(sparam,svalues))\n",
    "df_sparam = pd.DataFrame(sp_dataset, columns=['Specific Parameters', 'values'])\n",
    "df_sparam"
   ]
  },
  {
   "cell_type": "code",
   "execution_count": null,
   "metadata": {
    "collapsed": true
   },
   "outputs": [],
   "source": [
    "run_id = [\"run {}\".format(i) for i in range(1, M_run+1)]\n",
    "df = pd.DataFrame(list(zip(run_id, a, timing)), columns = ['run','values', 'time'])"
   ]
  },
  {
   "cell_type": "code",
   "execution_count": null,
   "metadata": {
    "collapsed": true
   },
   "outputs": [],
   "source": [
    "min_a = round(df['values'].min(), 4)\n",
    "max_a = round(df['values'].max(), 4)\n",
    "mean_a = round(df['values'].mean(), 4)\n",
    "std_a = round(df['values'].std(), 4)\n",
    "left = round(mean_a - 1.96 * std_a / M_run, 4)\n",
    "right = round(mean_a + 1.96 * std_a / M_run, 4)"
   ]
  },
  {
   "cell_type": "code",
   "execution_count": null,
   "metadata": {
    "collapsed": false
   },
   "outputs": [],
   "source": [
    "stat_param = ['mean', 'std', '95% confidence interval', 'min', 'max']\n",
    "stat_values = [mean_a, std_a, [left, right], min_a, max_a]\n",
    "stat_data = list(zip(stat_param, stat_values))\n",
    "stat_df = pd.DataFrame(stat_data, columns = ['stat parameter', 'values'])\n",
    "stat_df"
   ]
  },
  {
   "cell_type": "code",
   "execution_count": null,
   "metadata": {
    "collapsed": true
   },
   "outputs": [],
   "source": [
    "df_join = pd.concat([df_param, df_sparam, df, stat_df], axis = 0)\n",
    "df_join.to_csv('output_rf.csv')"
   ]
  },
  {
   "cell_type": "code",
   "execution_count": null,
   "metadata": {
    "collapsed": false
   },
   "outputs": [],
   "source": [
    "columns = [\"run {}\".format(i + 1) for i in range(10)]"
   ]
  },
  {
   "cell_type": "code",
   "execution_count": null,
   "metadata": {
    "collapsed": true
   },
   "outputs": [],
   "source": [
    "index = [\"max_leaf_nodes = {}\".format(j) for j in list(range(50, 10000, 50))] "
   ]
  },
  {
   "cell_type": "code",
   "execution_count": null,
   "metadata": {
    "collapsed": false
   },
   "outputs": [],
   "source": [
    "matrix = pd.DataFrame(data=a, columns=columns, index=index)"
   ]
  },
  {
   "cell_type": "code",
   "execution_count": null,
   "metadata": {
    "collapsed": false
   },
   "outputs": [],
   "source": [
    "matrix[\"mean\"]= matrix.mean(axis=1)"
   ]
  },
  {
   "cell_type": "code",
   "execution_count": null,
   "metadata": {
    "collapsed": false
   },
   "outputs": [],
   "source": [
    "matrix[\"std\"] = matrix.std(axis=1)"
   ]
  },
  {
   "cell_type": "code",
   "execution_count": null,
   "metadata": {
    "collapsed": false
   },
   "outputs": [],
   "source": [
    "left = matrix[\"mean\"].values - 1.96 * matrix[\"std\"].values / 10\n",
    "right = matrix[\"mean\"].values + 1.96 * matrix[\"std\"].values / 10"
   ]
  },
  {
   "cell_type": "code",
   "execution_count": null,
   "metadata": {
    "collapsed": false
   },
   "outputs": [],
   "source": [
    "matrix[\"95% confidence interval\"] = [\"[{},{} ]\".format(round(left[i], 3), round(right[i], 3)) for i in range(len(matrix))]"
   ]
  },
  {
   "cell_type": "code",
   "execution_count": null,
   "metadata": {
    "collapsed": false
   },
   "outputs": [],
   "source": [
    "matrix.head(10)"
   ]
  },
  {
   "cell_type": "code",
   "execution_count": null,
   "metadata": {
    "collapsed": true
   },
   "outputs": [],
   "source": [
    "matrix.to_csv(\"price_againt_leafs.csv\")"
   ]
  },
  {
   "cell_type": "code",
   "execution_count": null,
   "metadata": {
    "collapsed": true
   },
   "outputs": [],
   "source": [
    "from bokeh.charts import BoxPlot"
   ]
  },
  {
   "cell_type": "code",
   "execution_count": null,
   "metadata": {
    "collapsed": true
   },
   "outputs": [],
   "source": [
    "from bokeh.sampledata.autompg import autompg as df"
   ]
  },
  {
   "cell_type": "code",
   "execution_count": null,
   "metadata": {
    "collapsed": false
   },
   "outputs": [],
   "source": [
    "df.head(2)"
   ]
  },
  {
   "cell_type": "code",
   "execution_count": null,
   "metadata": {
    "collapsed": false
   },
   "outputs": [],
   "source": [
    "transposed.head(5)"
   ]
  },
  {
   "cell_type": "code",
   "execution_count": null,
   "metadata": {
    "collapsed": false
   },
   "outputs": [],
   "source": [
    "transposed= pd.DataFrame(a, columns=columns, index=index).transpose()\n",
    "p = []\n",
    "for colname in columns: \n",
    "    p = p + [BoxPlot(transposed, columns=colname)] "
   ]
  },
  {
   "cell_type": "code",
   "execution_count": null,
   "metadata": {
    "collapsed": false
   },
   "outputs": [],
   "source": [
    "type(transposed)"
   ]
  },
  {
   "cell_type": "code",
   "execution_count": null,
   "metadata": {
    "collapsed": true
   },
   "outputs": [],
   "source": [
    "param = ['q', 'mu', 'R ', 'r ','sigma', 'T', 'K', 'S0']\n",
    "values = [Q, mu, R, r, sigma, T, K, S0]\n",
    "dataset = list(zip(param,values))\n",
    "df_param = pd.DataFrame(data = dataset, columns=['Parameters', 'values'])"
   ]
  },
  {
   "cell_type": "code",
   "execution_count": null,
   "metadata": {
    "collapsed": false
   },
   "outputs": [],
   "source": [
    "sparam = ['N_particles', 'm_discretization', 'N_run', 'n_picard','Number of trees', 'Max Leaf nodes']\n",
    "svalues = [N, m, M_run, n_picard, RF_n_trees, RF_max_leaf_nodes]\n",
    "sp_dataset = list(zip(sparam,svalues))\n",
    "df_sparam = pd.DataFrame(sp_dataset, columns=['Specific Parameters', 'values'])\n",
    "df_sparam"
   ]
  },
  {
   "cell_type": "code",
   "execution_count": null,
   "metadata": {
    "collapsed": true
   },
   "outputs": [],
   "source": [
    "run_id = [\"run {}\".format(i) for i in range(1, M_run+1)]\n",
    "df = pd.DataFrame(list(zip(run_id, a, timing)), columns = ['run','values', 'time'])"
   ]
  },
  {
   "cell_type": "code",
   "execution_count": null,
   "metadata": {
    "collapsed": true
   },
   "outputs": [],
   "source": [
    "min_a = round(df['values'].min(), 4)\n",
    "max_a = round(df['values'].max(), 4)\n",
    "mean_a = round(df['values'].mean(), 4)\n",
    "std_a = round(df['values'].std(), 4)\n",
    "left = round(mean_a - 1.96 * std_a / M_run, 4)\n",
    "right = round(mean_a + 1.96 * std_a / M_run, 4)"
   ]
  },
  {
   "cell_type": "code",
   "execution_count": null,
   "metadata": {
    "collapsed": false
   },
   "outputs": [],
   "source": [
    "stat_param = ['mean', 'std', '95% confidence interval', 'min', 'max']\n",
    "stat_values = [mean_a, std_a, [left, right], min_a, max_a]\n",
    "stat_data = list(zip(stat_param, stat_values))\n",
    "stat_df = pd.DataFrame(stat_data, columns = ['stat parameter', 'values'])\n",
    "stat_df"
   ]
  },
  {
   "cell_type": "code",
   "execution_count": null,
   "metadata": {
    "collapsed": false
   },
   "outputs": [],
   "source": [
    "df_join = pd.concat([df_param, df_sparam, df, stat_df], axis = 0)\n",
    "df_join.to_csv('output_rf.csv')"
   ]
  },
  {
   "cell_type": "code",
   "execution_count": null,
   "metadata": {
    "collapsed": true
   },
   "outputs": [],
   "source": [
    "N = 10000\n",
    "m = 6\n",
    "RF_max_leaf_nodes = 1000\n",
    "RF_n_trees = 200\n",
    "M_run = 5\n",
    "n_picard = 3"
   ]
  },
  {
   "cell_type": "code",
   "execution_count": null,
   "metadata": {
    "collapsed": true
   },
   "outputs": [],
   "source": [
    "def func((RF_min_samples_leaf, \n",
    "         RF_max_depth)): \n",
    "    pricing = 0\n",
    "    for __ in range(M_run): \n",
    "        test = BsdeHD(T, K, M, mu, Q, sigma, S0, r, R)\n",
    "        price = test.get_price(N, m, option_payoff='geometric',\n",
    "                                                   RF_max_leaf_nodes=int(RF_max_leaf_nodes),\n",
    "                                                   RF_min_samples_leaf=RF_min_samples_leaf,\n",
    "                                                   oType='European',\n",
    "                                                   n_picard=n_picard, \n",
    "                                                   RF_warm_start = False, \n",
    "                                                   RF_max_depth=RF_max_depth)\n",
    "        pricing = pricing + 1. / M_run * price\n",
    "    print (pricing)\n",
    "    return (pricing - test.get_comparison_bs(100., 7)) ** 2"
   ]
  },
  {
   "cell_type": "code",
   "execution_count": null,
   "metadata": {
    "collapsed": true
   },
   "outputs": [],
   "source": [
    "rranges = (slice(0.05, 0.95, 0.05), slice(10, N, 10))"
   ]
  },
  {
   "cell_type": "code",
   "execution_count": null,
   "metadata": {
    "collapsed": true
   },
   "outputs": [],
   "source": [
    "res = scipy.optimize.brute(func, rranges)"
   ]
  },
  {
   "cell_type": "code",
   "execution_count": null,
   "metadata": {
    "collapsed": true
   },
   "outputs": [],
   "source": [
    "res"
   ]
  },
  {
   "cell_type": "code",
   "execution_count": null,
   "metadata": {
    "collapsed": true
   },
   "outputs": [],
   "source": []
  }
 ],
 "metadata": {
  "kernelspec": {
   "display_name": "Python 2",
   "language": "python",
   "name": "python2"
  },
  "language_info": {
   "codemirror_mode": {
    "name": "ipython",
    "version": 2
   },
   "file_extension": ".py",
   "mimetype": "text/x-python",
   "name": "python",
   "nbconvert_exporter": "python",
   "pygments_lexer": "ipython2",
   "version": "2.7.5"
  }
 },
 "nbformat": 4,
 "nbformat_minor": 0
}
