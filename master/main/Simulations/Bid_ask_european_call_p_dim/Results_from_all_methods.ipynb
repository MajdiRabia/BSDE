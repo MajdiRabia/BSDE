{
 "cells": [
  {
   "cell_type": "code",
   "execution_count": 1,
   "metadata": {
    "collapsed": true
   },
   "outputs": [],
   "source": [
    "import os\n",
    "import sys\n",
    "module_path = os.path.abspath(os.path.join('../'))\n",
    "if module_path not in sys.path:\n",
    "    sys.path.append(module_path)"
   ]
  },
  {
   "cell_type": "code",
   "execution_count": 2,
   "metadata": {
    "collapsed": true
   },
   "outputs": [],
   "source": [
    "import pandas as pd"
   ]
  },
  {
   "cell_type": "code",
   "execution_count": 3,
   "metadata": {
    "collapsed": true
   },
   "outputs": [],
   "source": [
    "import os"
   ]
  },
  {
   "cell_type": "code",
   "execution_count": 4,
   "metadata": {
    "collapsed": false
   },
   "outputs": [
    {
     "data": {
      "text/plain": [
       "'C:\\\\Users\\\\Majdi\\\\Dropbox\\\\MSc thesis\\\\Simulations\\\\Main'"
      ]
     },
     "execution_count": 4,
     "metadata": {},
     "output_type": "execute_result"
    }
   ],
   "source": [
    "module_path"
   ]
  },
  {
   "cell_type": "code",
   "execution_count": 5,
   "metadata": {
    "collapsed": false
   },
   "outputs": [],
   "source": [
    "folders = os.listdir(os.getcwd())"
   ]
  },
  {
   "cell_type": "code",
   "execution_count": 6,
   "metadata": {
    "collapsed": false
   },
   "outputs": [
    {
     "data": {
      "text/plain": [
       "['.ipynb_checkpoints',\n",
       " 'bid_ask_call_combination_high_dim',\n",
       " 'Derivative',\n",
       " 'GradBoosting',\n",
       " 'Mesh',\n",
       " 'RandomForest',\n",
       " 'results_comparison.csv',\n",
       " 'results_comparison.pdf',\n",
       " 'Results_from_all_methods.ipynb']"
      ]
     },
     "execution_count": 6,
     "metadata": {},
     "output_type": "execute_result"
    }
   ],
   "source": [
    "folders"
   ]
  },
  {
   "cell_type": "code",
   "execution_count": 7,
   "metadata": {
    "collapsed": false
   },
   "outputs": [],
   "source": [
    "folders.remove('Results_from_all_methods.ipynb')\n",
    "folders.remove('.ipynb_checkpoints')\n",
    "folders.remove('results_comparison.pdf')"
   ]
  },
  {
   "cell_type": "code",
   "execution_count": 8,
   "metadata": {
    "collapsed": false
   },
   "outputs": [],
   "source": [
    "import glob\n",
    "path = os.getcwd()"
   ]
  },
  {
   "cell_type": "code",
   "execution_count": 9,
   "metadata": {
    "collapsed": false
   },
   "outputs": [
    {
     "data": {
      "text/plain": [
       "'C:\\\\Users\\\\Majdi\\\\Dropbox\\\\MSc thesis\\\\Simulations\\\\Main\\\\Bid_ask_european_call_p_dim'"
      ]
     },
     "execution_count": 9,
     "metadata": {},
     "output_type": "execute_result"
    }
   ],
   "source": [
    "path"
   ]
  },
  {
   "cell_type": "code",
   "execution_count": 10,
   "metadata": {
    "collapsed": false
   },
   "outputs": [
    {
     "data": {
      "text/plain": [
       "'/'"
      ]
     },
     "execution_count": 10,
     "metadata": {},
     "output_type": "execute_result"
    }
   ],
   "source": [
    "SEP = os.sep.join('/')\n",
    "SEP"
   ]
  },
  {
   "cell_type": "code",
   "execution_count": 11,
   "metadata": {
    "collapsed": true
   },
   "outputs": [],
   "source": [
    "folders.remove('bid_ask_call_combination_high_dim')"
   ]
  },
  {
   "cell_type": "code",
   "execution_count": 12,
   "metadata": {
    "collapsed": false
   },
   "outputs": [
    {
     "name": "stdout",
     "output_type": "stream",
     "text": [
      "['C:\\\\Users\\\\Majdi\\\\Dropbox\\\\MSc thesis\\\\Simulations\\\\Main\\\\Bid_ask_european_call_p_dim/Derivative\\\\output_derivative.csv']\n",
      "['C:\\\\Users\\\\Majdi\\\\Dropbox\\\\MSc thesis\\\\Simulations\\\\Main\\\\Bid_ask_european_call_p_dim/GradBoosting\\\\output_GradBoost.csv']\n",
      "['C:\\\\Users\\\\Majdi\\\\Dropbox\\\\MSc thesis\\\\Simulations\\\\Main\\\\Bid_ask_european_call_p_dim/Mesh\\\\output_mesh.csv']\n",
      "['C:\\\\Users\\\\Majdi\\\\Dropbox\\\\MSc thesis\\\\Simulations\\\\Main\\\\Bid_ask_european_call_p_dim/RandomForest\\\\output_rf.csv']\n",
      "[]\n"
     ]
    }
   ],
   "source": [
    "dfs = {}\n",
    "\n",
    "for folder in folders:\n",
    "    filename = glob.glob(path + SEP + folder + '/*.csv')\n",
    "    print (filename)\n",
    "    if len (filename) > 0 : \n",
    "        dfs[folder] = pd.read_csv(filename[0], index_col=False)"
   ]
  },
  {
   "cell_type": "code",
   "execution_count": 13,
   "metadata": {
    "collapsed": false
   },
   "outputs": [],
   "source": [
    "dfs_stats=[]\n",
    "for key, df in dfs.items(): \n",
    "    df = df[['stat parameter', 'values']].dropna()\n",
    "    dfs_stats.append(pd.DataFrame(data = df))\n",
    "dfs_stats = pd.concat(dfs_stats, keys = dfs.keys())"
   ]
  },
  {
   "cell_type": "code",
   "execution_count": 17,
   "metadata": {
    "collapsed": true
   },
   "outputs": [],
   "source": [
    "test = dfs['RandomForest']\n",
    "params = test[['Parameters', 'values']].dropna()"
   ]
  },
  {
   "cell_type": "code",
   "execution_count": 20,
   "metadata": {
    "collapsed": false
   },
   "outputs": [
    {
     "data": {
      "text/plain": [
       "{'Derivative':     Unnamed: 0 Parameters Specific Parameters    run           stat parameter  \\\n",
       " 0            0          q                 NaN    NaN                      NaN   \n",
       " 1            1         mu                 NaN    NaN                      NaN   \n",
       " 2            2         R                  NaN    NaN                      NaN   \n",
       " 3            3         r                  NaN    NaN                      NaN   \n",
       " 4            4      sigma                 NaN    NaN                      NaN   \n",
       " 5            5          T                 NaN    NaN                      NaN   \n",
       " 6            6          K                 NaN    NaN                      NaN   \n",
       " 7            7         S0                 NaN    NaN                      NaN   \n",
       " 8            0        NaN         N_particles    NaN                      NaN   \n",
       " 9            1        NaN    m_discretization    NaN                      NaN   \n",
       " 10           2        NaN               N_run    NaN                      NaN   \n",
       " 11           3        NaN            n_picard    NaN                      NaN   \n",
       " 12           4        NaN   nearest neighbors    NaN                      NaN   \n",
       " 13           5        NaN                   l    NaN                      NaN   \n",
       " 14           0        NaN                 NaN  run 1                      NaN   \n",
       " 15           1        NaN                 NaN  run 2                      NaN   \n",
       " 16           2        NaN                 NaN  run 3                      NaN   \n",
       " 17           3        NaN                 NaN  run 4                      NaN   \n",
       " 18           4        NaN                 NaN  run 5                      NaN   \n",
       " 19           0        NaN                 NaN    NaN                     mean   \n",
       " 20           1        NaN                 NaN    NaN                      std   \n",
       " 21           2        NaN                 NaN    NaN  95% confidence interval   \n",
       " 22           3        NaN                 NaN    NaN                      min   \n",
       " 23           4        NaN                 NaN    NaN                      max   \n",
       " \n",
       "       time           values  \n",
       " 0      NaN              0.0  \n",
       " 1      NaN             0.06  \n",
       " 2      NaN             0.06  \n",
       " 3      NaN             0.04  \n",
       " 4      NaN              0.2  \n",
       " 5      NaN              0.5  \n",
       " 6      NaN            100.0  \n",
       " 7      NaN            100.0  \n",
       " 8      NaN           1000.0  \n",
       " 9      NaN              8.0  \n",
       " 10     NaN              5.0  \n",
       " 11     NaN              3.0  \n",
       " 12     NaN            100.0  \n",
       " 13     NaN              1.0  \n",
       " 14  39.392           3.4118  \n",
       " 15  43.434           3.3354  \n",
       " 16  45.075           3.0466  \n",
       " 17  42.669           3.3244  \n",
       " 18  44.554           3.5348  \n",
       " 19     NaN           3.3306  \n",
       " 20     NaN           0.1796  \n",
       " 21     NaN  [3.2602, 3.401]  \n",
       " 22     NaN           3.0466  \n",
       " 23     NaN           3.5348  ,\n",
       " 'GradBoosting':     Unnamed: 0 Parameters Specific Parameters     run  \\\n",
       " 0            0          q                 NaN     NaN   \n",
       " 1            1         mu                 NaN     NaN   \n",
       " 2            2         R                  NaN     NaN   \n",
       " 3            3         r                  NaN     NaN   \n",
       " 4            4      sigma                 NaN     NaN   \n",
       " 5            5          T                 NaN     NaN   \n",
       " 6            6          K                 NaN     NaN   \n",
       " 7            7         S0                 NaN     NaN   \n",
       " 8            0        NaN         N_particles     NaN   \n",
       " 9            1        NaN    m_discretization     NaN   \n",
       " 10           2        NaN               N_run     NaN   \n",
       " 11           3        NaN            n_picard     NaN   \n",
       " 12           4        NaN     Number of trees     NaN   \n",
       " 13           5        NaN       Learning rate     NaN   \n",
       " 14           6        NaN           max_depth     NaN   \n",
       " 15           0        NaN                 NaN   run 1   \n",
       " 16           1        NaN                 NaN   run 2   \n",
       " 17           2        NaN                 NaN   run 3   \n",
       " 18           3        NaN                 NaN   run 4   \n",
       " 19           4        NaN                 NaN   run 5   \n",
       " 20           5        NaN                 NaN   run 6   \n",
       " 21           6        NaN                 NaN   run 7   \n",
       " 22           7        NaN                 NaN   run 8   \n",
       " 23           8        NaN                 NaN   run 9   \n",
       " 24           9        NaN                 NaN  run 10   \n",
       " 25          10        NaN                 NaN  run 11   \n",
       " 26          11        NaN                 NaN  run 12   \n",
       " 27          12        NaN                 NaN  run 13   \n",
       " 28          13        NaN                 NaN  run 14   \n",
       " 29          14        NaN                 NaN  run 15   \n",
       " 30          15        NaN                 NaN  run 16   \n",
       " 31          16        NaN                 NaN  run 17   \n",
       " 32          17        NaN                 NaN  run 18   \n",
       " 33          18        NaN                 NaN  run 19   \n",
       " 34          19        NaN                 NaN  run 20   \n",
       " 35           0        NaN                 NaN     NaN   \n",
       " 36           1        NaN                 NaN     NaN   \n",
       " 37           2        NaN                 NaN     NaN   \n",
       " 38           3        NaN                 NaN     NaN   \n",
       " 39           4        NaN                 NaN     NaN   \n",
       " \n",
       "              stat parameter    time              values  \n",
       " 0                       NaN     NaN                 0.0  \n",
       " 1                       NaN     NaN                0.06  \n",
       " 2                       NaN     NaN                0.06  \n",
       " 3                       NaN     NaN                0.04  \n",
       " 4                       NaN     NaN                 0.2  \n",
       " 5                       NaN     NaN                 0.5  \n",
       " 6                       NaN     NaN               100.0  \n",
       " 7                       NaN     NaN               100.0  \n",
       " 8                       NaN     NaN             10000.0  \n",
       " 9                       NaN     NaN                 8.0  \n",
       " 10                      NaN     NaN                20.0  \n",
       " 11                      NaN     NaN                 3.0  \n",
       " 12                      NaN     NaN               100.0  \n",
       " 13                      NaN     NaN                 0.1  \n",
       " 14                      NaN     NaN                 1.0  \n",
       " 15                      NaN  44.523   3.368666887551459  \n",
       " 16                      NaN  43.749  3.3735354580535177  \n",
       " 17                      NaN  44.221  3.3440358767602985  \n",
       " 18                      NaN  44.479  3.3615347762569665  \n",
       " 19                      NaN  43.920   3.384605314330788  \n",
       " 20                      NaN  44.511   3.371361011279391  \n",
       " 21                      NaN  44.481  3.3295113716103595  \n",
       " 22                      NaN  43.716   3.386770980919367  \n",
       " 23                      NaN  44.484  3.3794591510360226  \n",
       " 24                      NaN  43.959  3.2936443987917063  \n",
       " 25                      NaN  43.496   3.378580234291414  \n",
       " 26                      NaN  42.750  3.2596614516958446  \n",
       " 27                      NaN  42.709   3.373601800256435  \n",
       " 28                      NaN  43.206  3.2336327528945663  \n",
       " 29                      NaN  42.977   3.321593441774847  \n",
       " 30                      NaN  43.028   3.311304197707977  \n",
       " 31                      NaN  42.875  3.3696610434994247  \n",
       " 32                      NaN  43.070  3.2999417155685733  \n",
       " 33                      NaN  42.885  3.3509628783878025  \n",
       " 34                      NaN  42.887  3.3259424648640765  \n",
       " 35                     mean     NaN              3.3409  \n",
       " 36                      std     NaN              0.0434  \n",
       " 37  95% confidence interval     NaN    [3.3366, 3.3452]  \n",
       " 38                      min     NaN              3.2336  \n",
       " 39                      max     NaN              3.3868  ,\n",
       " 'Mesh':     Unnamed: 0 Parameters Specific Parameters     run  \\\n",
       " 0            0          q                 NaN     NaN   \n",
       " 1            1         mu                 NaN     NaN   \n",
       " 2            2         R                  NaN     NaN   \n",
       " 3            3         r                  NaN     NaN   \n",
       " 4            4      sigma                 NaN     NaN   \n",
       " 5            5          T                 NaN     NaN   \n",
       " 6            6          K                 NaN     NaN   \n",
       " 7            7         S0                 NaN     NaN   \n",
       " 8            0        NaN         N_particles     NaN   \n",
       " 9            1        NaN    m_discretization     NaN   \n",
       " 10           2        NaN               N_run     NaN   \n",
       " 11           3        NaN            n_picard     NaN   \n",
       " 12           0        NaN                 NaN   run 1   \n",
       " 13           1        NaN                 NaN   run 2   \n",
       " 14           2        NaN                 NaN   run 3   \n",
       " 15           3        NaN                 NaN   run 4   \n",
       " 16           4        NaN                 NaN   run 5   \n",
       " 17           5        NaN                 NaN   run 6   \n",
       " 18           6        NaN                 NaN   run 7   \n",
       " 19           7        NaN                 NaN   run 8   \n",
       " 20           8        NaN                 NaN   run 9   \n",
       " 21           9        NaN                 NaN  run 10   \n",
       " 22          10        NaN                 NaN  run 11   \n",
       " 23          11        NaN                 NaN  run 12   \n",
       " 24          12        NaN                 NaN  run 13   \n",
       " 25          13        NaN                 NaN  run 14   \n",
       " 26          14        NaN                 NaN  run 15   \n",
       " 27          15        NaN                 NaN  run 16   \n",
       " 28          16        NaN                 NaN  run 17   \n",
       " 29          17        NaN                 NaN  run 18   \n",
       " 30          18        NaN                 NaN  run 19   \n",
       " 31          19        NaN                 NaN  run 20   \n",
       " 32           0        NaN                 NaN     NaN   \n",
       " 33           1        NaN                 NaN     NaN   \n",
       " 34           2        NaN                 NaN     NaN   \n",
       " 35           3        NaN                 NaN     NaN   \n",
       " 36           4        NaN                 NaN     NaN   \n",
       " \n",
       "              stat parameter     time              values  \n",
       " 0                       NaN      NaN                 0.0  \n",
       " 1                       NaN      NaN                0.06  \n",
       " 2                       NaN      NaN                0.06  \n",
       " 3                       NaN      NaN                0.04  \n",
       " 4                       NaN      NaN                 0.2  \n",
       " 5                       NaN      NaN                 0.5  \n",
       " 6                       NaN      NaN               100.0  \n",
       " 7                       NaN      NaN               100.0  \n",
       " 8                       NaN      NaN                3000  \n",
       " 9                       NaN      NaN                   8  \n",
       " 10                      NaN      NaN                  20  \n",
       " 11                      NaN      NaN                   3  \n",
       " 12                      NaN  124.347   3.487208927281437  \n",
       " 13                      NaN  144.917  3.3371043253462678  \n",
       " 14                      NaN  131.808   3.356781075891654  \n",
       " 15                      NaN  125.538  3.3674714213109724  \n",
       " 16                      NaN  127.692   3.299175927917823  \n",
       " 17                      NaN  119.647   3.320728400014531  \n",
       " 18                      NaN  121.353   3.233994811061451  \n",
       " 19                      NaN  124.467   3.427377215555071  \n",
       " 20                      NaN  121.442  3.2631113185044898  \n",
       " 21                      NaN  140.078  3.1292531398028935  \n",
       " 22                      NaN  135.658  3.3602387627363908  \n",
       " 23                      NaN  138.154  3.3975902003846876  \n",
       " 24                      NaN  132.257  3.4007034690110576  \n",
       " 25                      NaN  129.239  3.2520004592821774  \n",
       " 26                      NaN  129.151  3.2572488882700075  \n",
       " 27                      NaN  134.584   3.345211364677522  \n",
       " 28                      NaN  132.932  3.2052191964234558  \n",
       " 29                      NaN  139.604   3.294525470041823  \n",
       " 30                      NaN  140.156     3.3574595231794  \n",
       " 31                      NaN  129.792  3.2788848596252835  \n",
       " 32                     mean      NaN              3.3186  \n",
       " 33                      std      NaN              0.0831  \n",
       " 34  95% confidence interval      NaN    [3.3105, 3.3267]  \n",
       " 35                      min      NaN              3.1293  \n",
       " 36                      max      NaN              3.4872  ,\n",
       " 'RandomForest':     Unnamed: 0 Parameters Specific Parameters     run  \\\n",
       " 0            0          q                 NaN     NaN   \n",
       " 1            1         mu                 NaN     NaN   \n",
       " 2            2         R                  NaN     NaN   \n",
       " 3            3         r                  NaN     NaN   \n",
       " 4            4      sigma                 NaN     NaN   \n",
       " 5            5          T                 NaN     NaN   \n",
       " 6            6          K                 NaN     NaN   \n",
       " 7            7         S0                 NaN     NaN   \n",
       " 8            0        NaN         N_particles     NaN   \n",
       " 9            1        NaN    m_discretization     NaN   \n",
       " 10           2        NaN           dimension     NaN   \n",
       " 11           3        NaN               N_run     NaN   \n",
       " 12           4        NaN            n_picard     NaN   \n",
       " 13           5        NaN     Number of trees     NaN   \n",
       " 14           6        NaN      Max Leaf nodes     NaN   \n",
       " 15           7        NaN    Min_samples_leaf     NaN   \n",
       " 16           0        NaN                 NaN   run 1   \n",
       " 17           1        NaN                 NaN   run 2   \n",
       " 18           2        NaN                 NaN   run 3   \n",
       " 19           3        NaN                 NaN   run 4   \n",
       " 20           4        NaN                 NaN   run 5   \n",
       " 21           5        NaN                 NaN   run 6   \n",
       " 22           6        NaN                 NaN   run 7   \n",
       " 23           7        NaN                 NaN   run 8   \n",
       " 24           8        NaN                 NaN   run 9   \n",
       " 25           9        NaN                 NaN  run 10   \n",
       " 26          10        NaN                 NaN  run 11   \n",
       " 27          11        NaN                 NaN  run 12   \n",
       " 28          12        NaN                 NaN  run 13   \n",
       " 29          13        NaN                 NaN  run 14   \n",
       " 30          14        NaN                 NaN  run 15   \n",
       " 31          15        NaN                 NaN  run 16   \n",
       " 32          16        NaN                 NaN  run 17   \n",
       " 33          17        NaN                 NaN  run 18   \n",
       " 34          18        NaN                 NaN  run 19   \n",
       " 35          19        NaN                 NaN  run 20   \n",
       " 36           0        NaN                 NaN     NaN   \n",
       " 37           1        NaN                 NaN     NaN   \n",
       " 38           2        NaN                 NaN     NaN   \n",
       " 39           3        NaN                 NaN     NaN   \n",
       " 40           4        NaN                 NaN     NaN   \n",
       " \n",
       "              stat parameter    time              values  \n",
       " 0                       NaN     NaN                 0.0  \n",
       " 1                       NaN     NaN                0.06  \n",
       " 2                       NaN     NaN                0.06  \n",
       " 3                       NaN     NaN                0.04  \n",
       " 4                       NaN     NaN                 0.2  \n",
       " 5                       NaN     NaN                 0.5  \n",
       " 6                       NaN     NaN               100.0  \n",
       " 7                       NaN     NaN               100.0  \n",
       " 8                       NaN     NaN               10000  \n",
       " 9                       NaN     NaN                   6  \n",
       " 10                      NaN     NaN                   7  \n",
       " 11                      NaN     NaN                  20  \n",
       " 12                      NaN     NaN                   3  \n",
       " 13                      NaN     NaN                 200  \n",
       " 14                      NaN     NaN                1000  \n",
       " 15                      NaN     NaN                  40  \n",
       " 16                      NaN  70.680   3.289222198921153  \n",
       " 17                      NaN  69.106   3.288841569382564  \n",
       " 18                      NaN  68.011  3.2965071559199743  \n",
       " 19                      NaN  69.219  3.2630655233019534  \n",
       " 20                      NaN  66.066  3.3377932192719038  \n",
       " 21                      NaN  69.095    3.32675959753663  \n",
       " 22                      NaN  66.003   3.247199142746353  \n",
       " 23                      NaN  73.680  3.3580618379623637  \n",
       " 24                      NaN  66.659   3.327004284170942  \n",
       " 25                      NaN  68.155  3.2543103719509068  \n",
       " 26                      NaN  92.592  3.3182010343387973  \n",
       " 27                      NaN  92.849  3.4149989867061836  \n",
       " 28                      NaN  92.292  3.3893078231353866  \n",
       " 29                      NaN  92.981   3.360116697310076  \n",
       " 30                      NaN  93.622  3.2400051129764584  \n",
       " 31                      NaN  92.786  3.3154481350692717  \n",
       " 32                      NaN  93.945   3.336577985568742  \n",
       " 33                      NaN  94.991  3.3050353727085375  \n",
       " 34                      NaN  94.914  3.3019709472724306  \n",
       " 35                      NaN  91.812  3.3005199296700978  \n",
       " 36                     mean     NaN              3.3135  \n",
       " 37                      std     NaN              0.0455  \n",
       " 38  95% confidence interval     NaN      [3.309, 3.318]  \n",
       " 39                      min     NaN                3.24  \n",
       " 40                      max     NaN               3.415  }"
      ]
     },
     "execution_count": 20,
     "metadata": {},
     "output_type": "execute_result"
    }
   ],
   "source": [
    "dfs"
   ]
  },
  {
   "cell_type": "code",
   "execution_count": 19,
   "metadata": {
    "collapsed": false
   },
   "outputs": [],
   "source": [
    "with open('results_comparison.csv', 'w') as handle: \n",
    "    dfs_stats.to_csv(handle)\n",
    "    params.to_csv(handle)"
   ]
  },
  {
   "cell_type": "code",
   "execution_count": 27,
   "metadata": {
    "collapsed": false
   },
   "outputs": [
    {
     "ename": "IndentationError",
     "evalue": "expected an indented block (<ipython-input-27-9ac3dbcc8ba6>, line 3)",
     "output_type": "error",
     "traceback": [
      "\u001b[0;36m  File \u001b[0;32m\"<ipython-input-27-9ac3dbcc8ba6>\"\u001b[0;36m, line \u001b[0;32m3\u001b[0m\n\u001b[0;31m    \u001b[0m\n\u001b[0m    ^\u001b[0m\n\u001b[0;31mIndentationError\u001b[0m\u001b[0;31m:\u001b[0m expected an indented block\n"
     ]
    }
   ],
   "source": [
    "result_df = pd.DataFrame(['expected', 'mean', 'std', '95% confidence interval'])\n",
    "for key, df in dfs.items(): \n",
    "    "
   ]
  },
  {
   "cell_type": "code",
   "execution_count": 28,
   "metadata": {
    "collapsed": true
   },
   "outputs": [],
   "source": [
    "l = [[1, 1, 1], [2, 2, 2], [3, 3, 3]]"
   ]
  },
  {
   "cell_type": "code",
   "execution_count": 30,
   "metadata": {
    "collapsed": false
   },
   "outputs": [],
   "source": [
    "import numpy as np\n",
    "l = np.array(l)"
   ]
  },
  {
   "cell_type": "code",
   "execution_count": 31,
   "metadata": {
    "collapsed": false
   },
   "outputs": [
    {
     "data": {
      "text/plain": [
       "array([[1, 1, 1],\n",
       "       [2, 2, 2],\n",
       "       [3, 3, 3]])"
      ]
     },
     "execution_count": 31,
     "metadata": {},
     "output_type": "execute_result"
    }
   ],
   "source": [
    "l"
   ]
  },
  {
   "cell_type": "code",
   "execution_count": null,
   "metadata": {
    "collapsed": true
   },
   "outputs": [],
   "source": []
  }
 ],
 "metadata": {
  "kernelspec": {
   "display_name": "Python 3",
   "language": "python",
   "name": "python3"
  },
  "language_info": {
   "codemirror_mode": {
    "name": "ipython",
    "version": 3
   },
   "file_extension": ".py",
   "mimetype": "text/x-python",
   "name": "python",
   "nbconvert_exporter": "python",
   "pygments_lexer": "ipython3",
   "version": "3.5.2"
  }
 },
 "nbformat": 4,
 "nbformat_minor": 0
}
